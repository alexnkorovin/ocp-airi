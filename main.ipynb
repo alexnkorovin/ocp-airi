{
 "cells": [
  {
   "cell_type": "raw",
   "id": "7b5f1f0b-32b2-4791-a7fb-b84be28c0202",
   "metadata": {},
   "source": [
    "To train a SchNet model for the IS2RE task on the 10k split, run:"
   ]
  },
  {
   "cell_type": "code",
   "execution_count": null,
   "id": "6d4b5c2d-a033-40f0-8b12-94d6f81a36e8",
   "metadata": {},
   "outputs": [],
   "source": [
    "!python main.py --mode train --config-yml configs/is2re/10k/schnet/schnet.yml"
   ]
  },
  {
   "cell_type": "raw",
   "id": "55ece0df-663a-487c-81cc-a178a50b1733",
   "metadata": {},
   "source": [
    "Training logs are stored in `logs/tensorboard/[TIMESTAMP]` where `[TIMESTAMP]` is\n",
    "the starting time-stamp of the run. You can monitor the training process by running:"
   ]
  },
  {
   "cell_type": "code",
   "execution_count": null,
   "id": "4d7d5b0f-ee23-49cb-9cf0-aafce6126627",
   "metadata": {},
   "outputs": [],
   "source": [
    "!tensorboard --logdir logs/tensorboard/[TIMESTAMP]"
   ]
  },
  {
   "cell_type": "raw",
   "id": "b176c047-d435-4a05-a359-a50c39439865",
   "metadata": {},
   "source": [
    "Next, run this model on the test data:"
   ]
  },
  {
   "cell_type": "code",
   "execution_count": null,
   "id": "f8aca0c0-e83e-4490-a903-4d4e58b16036",
   "metadata": {},
   "outputs": [],
   "source": [
    "!python (main.py --mode predict --config-yml configs/is2re/10k/schnet/schnet.yml\n",
    "        --checkpoint checkpoints/[TIMESTAMP]/checkpoint.pt)"
   ]
  },
  {
   "cell_type": "raw",
   "id": "441079b6-ffd1-458a-93ab-917d7c92eb7e",
   "metadata": {},
   "source": [
    "The predictions are stored in `[RESULTS_DIR]/is2re_predictions.npz` and later used to create a submission file to be uploaded to EvalAI."
   ]
  },
  {
   "cell_type": "code",
   "execution_count": null,
   "id": "8828ca6d-b978-4a4f-8b51-451a1985842a",
   "metadata": {},
   "outputs": [],
   "source": [
    "import pandas as pd"
   ]
  },
  {
   "cell_type": "code",
   "execution_count": null,
   "id": "b4978acf-9712-4d5e-a916-979359c7e9f5",
   "metadata": {},
   "outputs": [],
   "source": [
    "df = pd.read_pickle(\"../ocp_datasets/test_structure.pkl\")"
   ]
  },
  {
   "cell_type": "code",
   "execution_count": null,
   "id": "25e18dee-fe5f-4400-8ecd-4bca6a67035b",
   "metadata": {},
   "outputs": [],
   "source": [
    "df"
   ]
  },
  {
   "cell_type": "code",
   "execution_count": 6,
   "id": "c58fb42a-6364-4b15-98de-11c53377004e",
   "metadata": {},
   "outputs": [],
   "source": [
    "import torch\n",
    "import math"
   ]
  },
  {
   "cell_type": "code",
   "execution_count": 9,
   "id": "07f7fbfd-d927-420d-b6fa-cdabacf5b2b1",
   "metadata": {},
   "outputs": [
    {
     "name": "stdout",
     "output_type": "stream",
     "text": [
      "0.6931471824645996\n"
     ]
    }
   ],
   "source": [
    "shift = torch.log(torch.tensor(2.0)).item()\n",
    "print(shift)"
   ]
  },
  {
   "cell_type": "code",
   "execution_count": 10,
   "id": "c4832762-ebf2-4b4b-a167-55eed65774d1",
   "metadata": {},
   "outputs": [],
   "source": [
    "shift1 = math.log(2)"
   ]
  },
  {
   "cell_type": "code",
   "execution_count": 11,
   "id": "c2e41b34-2fb2-405c-90e1-09f7435176f4",
   "metadata": {},
   "outputs": [
    {
     "name": "stdout",
     "output_type": "stream",
     "text": [
      "0.6931471805599453\n"
     ]
    }
   ],
   "source": [
    "print(shift1)"
   ]
  },
  {
   "cell_type": "code",
   "execution_count": null,
   "id": "62c733c5-0e4b-4970-b4f2-d50862b30009",
   "metadata": {},
   "outputs": [],
   "source": []
  }
 ],
 "metadata": {
  "kernelspec": {
   "display_name": "ocp_models",
   "language": "python",
   "name": "ocp_models"
  },
  "language_info": {
   "codemirror_mode": {
    "name": "ipython",
    "version": 3
   },
   "file_extension": ".py",
   "mimetype": "text/x-python",
   "name": "python",
   "nbconvert_exporter": "python",
   "pygments_lexer": "ipython3",
   "version": "3.8.10"
  }
 },
 "nbformat": 4,
 "nbformat_minor": 5
}
