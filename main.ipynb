{
 "cells": [
  {
   "cell_type": "raw",
   "id": "7b5f1f0b-32b2-4791-a7fb-b84be28c0202",
   "metadata": {},
   "source": [
    "To train a SchNet model for the IS2RE task on the 10k split, run:"
   ]
  },
  {
   "cell_type": "code",
   "execution_count": 2,
   "id": "6d4b5c2d-a033-40f0-8b12-94d6f81a36e8",
   "metadata": {},
   "outputs": [
    {
     "name": "stdout",
     "output_type": "stream",
     "text": [
      "amp: false\n",
      "cmd:\n",
      "  checkpoint_dir: ./checkpoints/2021-08-11-21-31-28\n",
      "  commit: '3546713'\n",
      "  identifier: ''\n",
      "  logs_dir: ./logs/tensorboard/2021-08-11-21-31-28\n",
      "  print_every: 10\n",
      "  results_dir: ./results/2021-08-11-21-31-28\n",
      "  seed: 0\n",
      "  timestamp: 2021-08-11-21-31-28\n",
      "dataset:\n",
      "  normalize_labels: true\n",
      "  src: data/is2re/10k/train/data.lmdb\n",
      "  target_mean: -1.525913953781128\n",
      "  target_std: 2.279365062713623\n",
      "gpus: 0\n",
      "logger: tensorboard\n",
      "model: schnet\n",
      "model_attributes:\n",
      "  cutoff: 6.0\n",
      "  hidden_channels: 256\n",
      "  num_filters: 128\n",
      "  num_gaussians: 100\n",
      "  num_interactions: 3\n",
      "  regress_forces: false\n",
      "  use_pbc: true\n",
      "optim:\n",
      "  batch_size: 64\n",
      "  eval_batch_size: 64\n",
      "  lr_gamma: 0.1\n",
      "  lr_initial: 0.005\n",
      "  lr_milestones:\n",
      "  - 1562\n",
      "  - 2343\n",
      "  - 3125\n",
      "  max_epochs: 30\n",
      "  num_workers: 8\n",
      "  warmup_factor: 0.2\n",
      "  warmup_steps: 468\n",
      "task:\n",
      "  dataset: single_point_lmdb\n",
      "  description: Relaxed state energy prediction from initial structure.\n",
      "  labels:\n",
      "  - relaxed energy\n",
      "  metric: mae\n",
      "  type: regression\n",
      "val_dataset:\n",
      "  src: data/is2re/all/val_id/data.lmdb\n",
      "\n",
      "### Loading dataset: single_point_lmdb\n",
      "### Loading model: schnet\n",
      "### Loaded SchNet with 541697 parameters.\n",
      "NOTE: model gradient logging to tensorboard not yet supported.\n",
      "Traceback (most recent call last):\n",
      "  File \"main.py\", line 144, in <module>\n",
      "    Runner()(config)\n",
      "  File \"main.py\", line 69, in __call__\n",
      "    trainer.train()\n",
      "  File \"/Users/korovin/Documents/GitHub/ocp/ocpmodels/trainers/energy_trainer.py\", line 251, in train\n",
      "    train_loader_iter = iter(self.train_loader)\n",
      "  File \"/usr/local/Caskroom/miniforge/base/envs/ocp-models/lib/python3.8/site-packages/torch/utils/data/dataloader.py\", line 355, in __iter__\n",
      "    return self._get_iterator()\n",
      "  File \"/usr/local/Caskroom/miniforge/base/envs/ocp-models/lib/python3.8/site-packages/torch/utils/data/dataloader.py\", line 301, in _get_iterator\n",
      "    return _MultiProcessingDataLoaderIter(self)\n",
      "  File \"/usr/local/Caskroom/miniforge/base/envs/ocp-models/lib/python3.8/site-packages/torch/utils/data/dataloader.py\", line 914, in __init__\n",
      "    w.start()\n",
      "  File \"/usr/local/Caskroom/miniforge/base/envs/ocp-models/lib/python3.8/multiprocessing/process.py\", line 121, in start\n",
      "    self._popen = self._Popen(self)\n",
      "  File \"/usr/local/Caskroom/miniforge/base/envs/ocp-models/lib/python3.8/multiprocessing/context.py\", line 224, in _Popen\n",
      "    return _default_context.get_context().Process._Popen(process_obj)\n",
      "  File \"/usr/local/Caskroom/miniforge/base/envs/ocp-models/lib/python3.8/multiprocessing/context.py\", line 284, in _Popen\n",
      "    return Popen(process_obj)\n",
      "  File \"/usr/local/Caskroom/miniforge/base/envs/ocp-models/lib/python3.8/multiprocessing/popen_spawn_posix.py\", line 32, in __init__\n",
      "    super().__init__(process_obj)\n",
      "  File \"/usr/local/Caskroom/miniforge/base/envs/ocp-models/lib/python3.8/multiprocessing/popen_fork.py\", line 19, in __init__\n",
      "    self._launch(process_obj)\n",
      "  File \"/usr/local/Caskroom/miniforge/base/envs/ocp-models/lib/python3.8/multiprocessing/popen_spawn_posix.py\", line 47, in _launch\n",
      "    reduction.dump(process_obj, fp)\n",
      "  File \"/usr/local/Caskroom/miniforge/base/envs/ocp-models/lib/python3.8/multiprocessing/reduction.py\", line 60, in dump\n",
      "    ForkingPickler(file, protocol).dump(obj)\n",
      "TypeError: cannot pickle 'Environment' object\n"
     ]
    }
   ],
   "source": [
    "!python main.py --mode train --config-yml configs/is2re/10k/schnet/schnet.yml"
   ]
  },
  {
   "cell_type": "raw",
   "id": "55ece0df-663a-487c-81cc-a178a50b1733",
   "metadata": {},
   "source": [
    "Training logs are stored in `logs/tensorboard/[TIMESTAMP]` where `[TIMESTAMP]` is\n",
    "the starting time-stamp of the run. You can monitor the training process by running:"
   ]
  },
  {
   "cell_type": "code",
   "execution_count": 1,
   "id": "4d7d5b0f-ee23-49cb-9cf0-aafce6126627",
   "metadata": {},
   "outputs": [
    {
     "ename": "SyntaxError",
     "evalue": "invalid syntax (962240984.py, line 1)",
     "output_type": "error",
     "traceback": [
      "\u001b[0;36m  File \u001b[0;32m\"/var/folders/r0/sh_xx3ms6_j0__w1_7f87p540000gq/T/ipykernel_76710/962240984.py\"\u001b[0;36m, line \u001b[0;32m1\u001b[0m\n\u001b[0;31m    tensorboard --logdir logs/tensorboard/[TIMESTAMP]\u001b[0m\n\u001b[0m                         ^\u001b[0m\n\u001b[0;31mSyntaxError\u001b[0m\u001b[0;31m:\u001b[0m invalid syntax\n"
     ]
    }
   ],
   "source": [
    "!tensorboard --logdir logs/tensorboard/[TIMESTAMP]"
   ]
  },
  {
   "cell_type": "raw",
   "id": "b176c047-d435-4a05-a359-a50c39439865",
   "metadata": {},
   "source": [
    "Next, run this model on the test data:"
   ]
  },
  {
   "cell_type": "code",
   "execution_count": null,
   "id": "f8aca0c0-e83e-4490-a903-4d4e58b16036",
   "metadata": {},
   "outputs": [],
   "source": [
    "!python (main.py --mode predict --config-yml configs/is2re/10k/schnet/schnet.yml\n",
    "        --checkpoint checkpoints/[TIMESTAMP]/checkpoint.pt)"
   ]
  },
  {
   "cell_type": "raw",
   "id": "1e8dae0f-7c24-417d-a506-972b05fd976d",
   "metadata": {},
   "source": [
    "The predictions are stored in `[RESULTS_DIR]/is2re_predictions.npz` and later used to create a submission file to be uploaded to EvalAI."
   ]
  }
 ],
 "metadata": {
  "kernelspec": {
   "display_name": "ocp-models",
   "language": "python",
   "name": "ocp-models"
  },
  "language_info": {
   "codemirror_mode": {
    "name": "ipython",
    "version": 3
   },
   "file_extension": ".py",
   "mimetype": "text/x-python",
   "name": "python",
   "nbconvert_exporter": "python",
   "pygments_lexer": "ipython3",
   "version": "3.8.10"
  }
 },
 "nbformat": 4,
 "nbformat_minor": 5
}
