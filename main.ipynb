{
 "cells": [
  {
   "cell_type": "raw",
   "id": "7b5f1f0b-32b2-4791-a7fb-b84be28c0202",
   "metadata": {},
   "source": [
    "To train a SchNet model for the IS2RE task on the 10k split, run:"
   ]
  },
  {
   "cell_type": "code",
   "execution_count": 2,
   "id": "6d4b5c2d-a033-40f0-8b12-94d6f81a36e8",
   "metadata": {},
   "outputs": [
    {
     "name": "stdout",
     "output_type": "stream",
     "text": [
      "amp: false\n",
      "cmd:\n",
      "  checkpoint_dir: ./checkpoints/2021-08-11-21-31-28\n",
      "  commit: '3546713'\n",
      "  identifier: ''\n",
      "  logs_dir: ./logs/tensorboard/2021-08-11-21-31-28\n",
      "  print_every: 10\n",
      "  results_dir: ./results/2021-08-11-21-31-28\n",
      "  seed: 0\n",
      "  timestamp: 2021-08-11-21-31-28\n",
      "dataset:\n",
      "  normalize_labels: true\n",
      "  src: data/is2re/10k/train/data.lmdb\n",
      "  target_mean: -1.525913953781128\n",
      "  target_std: 2.279365062713623\n",
      "gpus: 0\n",
      "logger: tensorboard\n",
      "model: schnet\n",
      "model_attributes:\n",
      "  cutoff: 6.0\n",
      "  hidden_channels: 256\n",
      "  num_filters: 128\n",
      "  num_gaussians: 100\n",
      "  num_interactions: 3\n",
      "  regress_forces: false\n",
      "  use_pbc: true\n",
      "optim:\n",
      "  batch_size: 64\n",
      "  eval_batch_size: 64\n",
      "  lr_gamma: 0.1\n",
      "  lr_initial: 0.005\n",
      "  lr_milestones:\n",
      "  - 1562\n",
      "  - 2343\n",
      "  - 3125\n",
      "  max_epochs: 30\n",
      "  num_workers: 8\n",
      "  warmup_factor: 0.2\n",
      "  warmup_steps: 468\n",
      "task:\n",
      "  dataset: single_point_lmdb\n",
      "  description: Relaxed state energy prediction from initial structure.\n",
      "  labels:\n",
      "  - relaxed energy\n",
      "  metric: mae\n",
      "  type: regression\n",
      "val_dataset:\n",
      "  src: data/is2re/all/val_id/data.lmdb\n",
      "\n",
      "### Loading dataset: single_point_lmdb\n",
      "### Loading model: schnet\n",
      "### Loaded SchNet with 541697 parameters.\n",
      "NOTE: model gradient logging to tensorboard not yet supported.\n",
      "Traceback (most recent call last):\n",
      "  File \"main.py\", line 144, in <module>\n",
      "    Runner()(config)\n",
      "  File \"main.py\", line 69, in __call__\n",
      "    trainer.train()\n",
      "  File \"/Users/korovin/Documents/GitHub/ocp/ocpmodels/trainers/energy_trainer.py\", line 251, in train\n",
      "    train_loader_iter = iter(self.train_loader)\n",
      "  File \"/usr/local/Caskroom/miniforge/base/envs/ocp-models/lib/python3.8/site-packages/torch/utils/data/dataloader.py\", line 355, in __iter__\n",
      "    return self._get_iterator()\n",
      "  File \"/usr/local/Caskroom/miniforge/base/envs/ocp-models/lib/python3.8/site-packages/torch/utils/data/dataloader.py\", line 301, in _get_iterator\n",
      "    return _MultiProcessingDataLoaderIter(self)\n",
      "  File \"/usr/local/Caskroom/miniforge/base/envs/ocp-models/lib/python3.8/site-packages/torch/utils/data/dataloader.py\", line 914, in __init__\n",
      "    w.start()\n",
      "  File \"/usr/local/Caskroom/miniforge/base/envs/ocp-models/lib/python3.8/multiprocessing/process.py\", line 121, in start\n",
      "    self._popen = self._Popen(self)\n",
      "  File \"/usr/local/Caskroom/miniforge/base/envs/ocp-models/lib/python3.8/multiprocessing/context.py\", line 224, in _Popen\n",
      "    return _default_context.get_context().Process._Popen(process_obj)\n",
      "  File \"/usr/local/Caskroom/miniforge/base/envs/ocp-models/lib/python3.8/multiprocessing/context.py\", line 284, in _Popen\n",
      "    return Popen(process_obj)\n",
      "  File \"/usr/local/Caskroom/miniforge/base/envs/ocp-models/lib/python3.8/multiprocessing/popen_spawn_posix.py\", line 32, in __init__\n",
      "    super().__init__(process_obj)\n",
      "  File \"/usr/local/Caskroom/miniforge/base/envs/ocp-models/lib/python3.8/multiprocessing/popen_fork.py\", line 19, in __init__\n",
      "    self._launch(process_obj)\n",
      "  File \"/usr/local/Caskroom/miniforge/base/envs/ocp-models/lib/python3.8/multiprocessing/popen_spawn_posix.py\", line 47, in _launch\n",
      "    reduction.dump(process_obj, fp)\n",
      "  File \"/usr/local/Caskroom/miniforge/base/envs/ocp-models/lib/python3.8/multiprocessing/reduction.py\", line 60, in dump\n",
      "    ForkingPickler(file, protocol).dump(obj)\n",
      "TypeError: cannot pickle 'Environment' object\n"
     ]
    }
   ],
   "source": [
    "!python main.py --mode train --config-yml configs/is2re/10k/schnet/schnet.yml"
   ]
  },
  {
   "cell_type": "raw",
   "id": "55ece0df-663a-487c-81cc-a178a50b1733",
   "metadata": {},
   "source": [
    "Training logs are stored in `logs/tensorboard/[TIMESTAMP]` where `[TIMESTAMP]` is\n",
    "the starting time-stamp of the run. You can monitor the training process by running:"
   ]
  },
  {
   "cell_type": "code",
   "execution_count": 1,
   "id": "4d7d5b0f-ee23-49cb-9cf0-aafce6126627",
   "metadata": {},
   "outputs": [
    {
     "ename": "SyntaxError",
     "evalue": "invalid syntax (962240984.py, line 1)",
     "output_type": "error",
     "traceback": [
      "\u001b[0;36m  File \u001b[0;32m\"/var/folders/r0/sh_xx3ms6_j0__w1_7f87p540000gq/T/ipykernel_76710/962240984.py\"\u001b[0;36m, line \u001b[0;32m1\u001b[0m\n\u001b[0;31m    tensorboard --logdir logs/tensorboard/[TIMESTAMP]\u001b[0m\n\u001b[0m                         ^\u001b[0m\n\u001b[0;31mSyntaxError\u001b[0m\u001b[0;31m:\u001b[0m invalid syntax\n"
     ]
    }
   ],
   "source": [
    "!tensorboard --logdir logs/tensorboard/[TIMESTAMP]"
   ]
  },
  {
   "cell_type": "raw",
   "id": "b176c047-d435-4a05-a359-a50c39439865",
   "metadata": {},
   "source": [
    "Next, run this model on the test data:"
   ]
  },
  {
   "cell_type": "code",
   "execution_count": null,
   "id": "f8aca0c0-e83e-4490-a903-4d4e58b16036",
   "metadata": {},
   "outputs": [],
   "source": [
    "!python (main.py --mode predict --config-yml configs/is2re/10k/schnet/schnet.yml\n",
    "        --checkpoint checkpoints/[TIMESTAMP]/checkpoint.pt)"
   ]
  },
  {
   "cell_type": "raw",
   "id": "441079b6-ffd1-458a-93ab-917d7c92eb7e",
   "metadata": {},
   "source": [
    "The predictions are stored in `[RESULTS_DIR]/is2re_predictions.npz` and later used to create a submission file to be uploaded to EvalAI."
   ]
  },
  {
   "cell_type": "code",
   "execution_count": 3,
   "id": "8828ca6d-b978-4a4f-8b51-451a1985842a",
   "metadata": {},
   "outputs": [],
   "source": [
    "import pandas as pd"
   ]
  },
  {
   "cell_type": "code",
   "execution_count": 4,
   "id": "b4978acf-9712-4d5e-a916-979359c7e9f5",
   "metadata": {},
   "outputs": [],
   "source": [
    "df = pd.read_pickle(\"../ocp_datasets/test_structure.pkl\")"
   ]
  },
  {
   "cell_type": "code",
   "execution_count": 5,
   "id": "25e18dee-fe5f-4400-8ecd-4bca6a67035b",
   "metadata": {},
   "outputs": [
    {
     "data": {
      "text/plain": [
       "{'data': Data(atomic_numbers=[86], cell=[1, 3, 3], cell_offsets=[2964, 3], distances=[2964], edge_index=[2, 2964], fixed=[86], force=[86, 3], natoms=86, pos=[86, 3], pos_relaxed=[86, 3], sid=2472718, tags=[86], y_init=6.282500615000004, y_relaxed=-0.025550085000020317),\n",
       " 'covalent_radii': array([1.21, 1.21, 1.21, 1.21, 1.21, 1.21, 1.21, 1.21, 1.21, 1.21, 1.21,\n",
       "        1.21, 1.21, 1.21, 1.21, 1.21, 1.21, 1.21, 1.21, 1.21, 1.21, 1.21,\n",
       "        1.21, 1.21, 1.21, 1.21, 1.21, 1.21, 1.21, 1.21, 1.21, 1.21, 1.21,\n",
       "        1.21, 1.21, 1.21, 1.21, 1.21, 1.21, 1.21, 1.21, 1.21, 1.21, 1.21,\n",
       "        1.21, 1.21, 1.21, 1.21, 1.21, 1.21, 1.21, 1.21, 1.21, 1.21, 1.21,\n",
       "        1.21, 1.21, 1.21, 1.21, 1.21, 1.42, 1.42, 1.42, 1.42, 1.42, 1.42,\n",
       "        1.42, 1.42, 1.42, 1.42, 1.42, 1.42, 1.42, 1.42, 1.42, 1.42, 1.42,\n",
       "        1.42, 1.42, 1.42, 1.42, 1.42, 1.42, 1.42, 0.71, 0.31]),\n",
       " 'dipole_polarizability': array([57.8    , 57.8    , 57.8    , 57.8    , 57.8    , 57.8    ,\n",
       "        57.8    , 57.8    , 57.8    , 57.8    , 57.8    , 57.8    ,\n",
       "        57.8    , 57.8    , 57.8    , 57.8    , 57.8    , 57.8    ,\n",
       "        57.8    , 57.8    , 57.8    , 57.8    , 57.8    , 57.8    ,\n",
       "        57.8    , 57.8    , 57.8    , 57.8    , 57.8    , 57.8    ,\n",
       "        57.8    , 57.8    , 57.8    , 57.8    , 57.8    , 57.8    ,\n",
       "        57.8    , 57.8    , 57.8    , 57.8    , 57.8    , 57.8    ,\n",
       "        57.8    , 57.8    , 57.8    , 57.8    , 57.8    , 57.8    ,\n",
       "        57.8    , 57.8    , 57.8    , 57.8    , 57.8    , 57.8    ,\n",
       "        57.8    , 57.8    , 57.8    , 57.8    , 57.8    , 57.8    ,\n",
       "        66.     , 66.     , 66.     , 66.     , 66.     , 66.     ,\n",
       "        66.     , 66.     , 66.     , 66.     , 66.     , 66.     ,\n",
       "        66.     , 66.     , 66.     , 66.     , 66.     , 66.     ,\n",
       "        66.     , 66.     , 66.     , 66.     , 66.     , 66.     ,\n",
       "         7.4    ,  4.50711]),\n",
       " 'electron_affinity': array([ 0.43283 ,  0.43283 ,  0.43283 ,  0.43283 ,  0.43283 ,  0.43283 ,\n",
       "         0.43283 ,  0.43283 ,  0.43283 ,  0.43283 ,  0.43283 ,  0.43283 ,\n",
       "         0.43283 ,  0.43283 ,  0.43283 ,  0.43283 ,  0.43283 ,  0.43283 ,\n",
       "         0.43283 ,  0.43283 ,  0.43283 ,  0.43283 ,  0.43283 ,  0.43283 ,\n",
       "         0.43283 ,  0.43283 ,  0.43283 ,  0.43283 ,  0.43283 ,  0.43283 ,\n",
       "         0.43283 ,  0.43283 ,  0.43283 ,  0.43283 ,  0.43283 ,  0.43283 ,\n",
       "         0.43283 ,  0.43283 ,  0.43283 ,  0.43283 ,  0.43283 ,  0.43283 ,\n",
       "         0.43283 ,  0.43283 ,  0.43283 ,  0.43283 ,  0.43283 ,  0.43283 ,\n",
       "         0.43283 ,  0.43283 ,  0.43283 ,  0.43283 ,  0.43283 ,  0.43283 ,\n",
       "         0.43283 ,  0.43283 ,  0.43283 ,  0.43283 ,  0.43283 ,  0.43283 ,\n",
       "         1.137   ,  1.137   ,  1.137   ,  1.137   ,  1.137   ,  1.137   ,\n",
       "         1.137   ,  1.137   ,  1.137   ,  1.137   ,  1.137   ,  1.137   ,\n",
       "         1.137   ,  1.137   ,  1.137   ,  1.137   ,  1.137   ,  1.137   ,\n",
       "         1.137   ,  1.137   ,  1.137   ,  1.137   ,  1.137   ,  1.137   ,\n",
       "        -1.4     ,  0.754195]),\n",
       " 'electronegativity': array([1.61, 1.61, 1.61, 1.61, 1.61, 1.61, 1.61, 1.61, 1.61, 1.61, 1.61,\n",
       "        1.61, 1.61, 1.61, 1.61, 1.61, 1.61, 1.61, 1.61, 1.61, 1.61, 1.61,\n",
       "        1.61, 1.61, 1.61, 1.61, 1.61, 1.61, 1.61, 1.61, 1.61, 1.61, 1.61,\n",
       "        1.61, 1.61, 1.61, 1.61, 1.61, 1.61, 1.61, 1.61, 1.61, 1.61, 1.61,\n",
       "        1.61, 1.61, 1.61, 1.61, 1.61, 1.61, 1.61, 1.61, 1.61, 1.61, 1.61,\n",
       "        1.61, 1.61, 1.61, 1.61, 1.61, 2.28, 2.28, 2.28, 2.28, 2.28, 2.28,\n",
       "        2.28, 2.28, 2.28, 2.28, 2.28, 2.28, 2.28, 2.28, 2.28, 2.28, 2.28,\n",
       "        2.28, 2.28, 2.28, 2.28, 2.28, 2.28, 2.28, 3.04, 2.2 ]),\n",
       " 'voloroi_volumes': array([ 89.31472032,  29.34206116,  15.76758278, 227.78722024,\n",
       "         15.76758247,  19.83183997,  20.39072264, 231.05624658,\n",
       "         21.29345844,  20.39072183, 348.3745538 ,  21.13341988,\n",
       "         55.88568369,  28.39030008,  20.39072294,  54.74618866,\n",
       "         20.39072381,  47.01046681,  20.39072439,  31.41185732,\n",
       "         84.87212758,  20.26229608,  37.19222398,  31.14178107,\n",
       "         18.96485271,  23.6147864 , 107.47500311,  18.96482554,\n",
       "        307.99316975,  20.27450723,  18.96481905,  19.38587076,\n",
       "        328.93431716,  48.96599857,  41.08521216,  18.96485856,\n",
       "         18.96484987, 221.14226951,  32.6458137 ,  20.03350741,\n",
       "        283.39052035,  23.61478523,  18.96485285,  32.71046242,\n",
       "         42.75913412,  28.56990163, 178.03795003,  18.9648528 ,\n",
       "         21.85203429,  18.96485556,  68.08851266,  21.84933119,\n",
       "        206.28578779,  15.65255143,  20.32565677,  19.38586954,\n",
       "        434.82042465,  18.96484822,  32.09400422,  45.65838314,\n",
       "         14.94017183,  80.62381898,  16.7675208 ,  14.94017997,\n",
       "         24.53024508,  27.46769867,  44.41644174,  16.23321246,\n",
       "         24.05994515,  18.32503996, 193.69088609,  16.23321125,\n",
       "         16.70678516,  16.23321188, 283.21274482,  21.344364  ,\n",
       "        208.59088089,  16.23245972,  17.54634119,  17.54634255,\n",
       "        351.38765753, 207.60233436,  21.01638322,  16.70678704,\n",
       "          7.84214268,  80.78699267]),\n",
       " 'voronoi_surface_areas': array([222.09641998,  75.76059099,  24.51617279, 398.58566372,\n",
       "         24.51617196,  40.55918751,  36.03953487, 435.25160531,\n",
       "         42.16992227,  36.30505544, 441.04375313,  40.1430059 ,\n",
       "        194.86364933,  97.04206105,  36.50446083, 183.70623069,\n",
       "         36.07259616, 110.47757263,  36.15577825,  61.00667726,\n",
       "        239.38175187,  36.99140392, 131.06209403,  75.39082289,\n",
       "         32.39278263,  97.57832631, 398.43836368,  32.18560247,\n",
       "        364.95256536,  41.21134879,  32.21734639,  32.48907543,\n",
       "        460.13559029, 214.66420072,  97.63645157,  32.46804842,\n",
       "         32.31875367, 379.02305002, 115.34840301,  41.00844131,\n",
       "        393.27398901,  97.57835661,  32.31875527, 116.30164512,\n",
       "        115.56456394,  59.81652444, 323.3434631 ,  32.31875279,\n",
       "         47.80866602,  32.27654968, 190.18509416,  50.28751446,\n",
       "        418.86580236,  31.38662226,  43.28750704,  32.69724565,\n",
       "        477.61901023,  32.42582556,  84.96648409, 214.68117958,\n",
       "         27.01103993, 215.45816725,  43.26393642,  27.01105022,\n",
       "         55.27548909,  84.81303704, 217.59441047,  25.84502387,\n",
       "         74.20433695,  38.88931778, 264.81912829,  25.84502085,\n",
       "         31.51605051,  25.84502091, 367.63309866,  42.81556735,\n",
       "        376.34104297,  25.22330445,  40.1766078 ,  40.48512347,\n",
       "        491.235195  , 316.18989393,  81.35868767,  31.49507778,\n",
       "         24.2088278 , 328.67715104]),\n",
       " 'spherical_domain_radii': array([2.7729677 , 1.91337753, 1.55557935, 3.78861303, 1.55557934,\n",
       "        1.67915763, 1.69478523, 3.80665076, 1.7194354 , 1.6947852 ,\n",
       "        4.36501699, 1.71511689, 2.37175952, 1.89246181, 1.69478523,\n",
       "        2.35552884, 1.69478526, 2.23890321, 1.69478527, 1.9573493 ,\n",
       "        2.72620699, 1.69121965, 2.07071905, 1.95172345, 1.65432293,\n",
       "        1.77977514, 2.94944036, 1.65432214, 4.18939032, 1.69155932,\n",
       "        1.65432195, 1.66647538, 4.28226486, 2.2695269 , 2.14058416,\n",
       "        1.6543231 , 1.65432284, 3.75140873, 1.9826511 , 1.68483016,\n",
       "        4.07473062, 1.77977512, 1.65432293, 1.98395899, 2.1692691 ,\n",
       "        1.8964441 , 3.48985989, 1.65432293, 1.73434072, 1.65432301,\n",
       "        2.53315489, 1.73426921, 3.66544662, 1.55178724, 1.69298064,\n",
       "        1.66647534, 4.69973938, 1.6543228 , 1.9714167 , 2.21722946,\n",
       "        1.52787911, 2.67993906, 1.58779129, 1.52787939, 1.80248265,\n",
       "        1.87173583, 2.19694095, 1.57074356, 1.79088902, 1.63550587,\n",
       "        3.58927603, 1.57074352, 1.58587186, 1.57074354, 4.0738784 ,\n",
       "        1.72080451, 3.67904898, 1.57071928, 1.61200352, 1.61200357,\n",
       "        4.37756528, 3.6732279 , 1.71194493, 1.58587192, 1.23248614,\n",
       "        2.68174581]),\n",
       " 'distances_new': array([4.70419312, 4.70419312, 2.84391737, ..., 3.74769878, 4.21590567,\n",
       "        4.21590567]),\n",
       " 'contact_solid_angles': array([0.45406897, 0.45406897, 9.4681273 , ..., 7.42246014, 2.3059723 ,\n",
       "        2.3059723 ]),\n",
       " 'edge_index_new': array([[ 0, 17,  0, ..., 80, 85, 26],\n",
       "        [17,  0, 39, ..., 85, 26, 85]])}"
      ]
     },
     "execution_count": 5,
     "metadata": {},
     "output_type": "execute_result"
    }
   ],
   "source": [
    "df"
   ]
  },
  {
   "cell_type": "code",
   "execution_count": null,
   "id": "c58fb42a-6364-4b15-98de-11c53377004e",
   "metadata": {},
   "outputs": [],
   "source": []
  }
 ],
 "metadata": {
  "kernelspec": {
   "display_name": "ocp-models",
   "language": "python",
   "name": "ocp-models"
  },
  "language_info": {
   "codemirror_mode": {
    "name": "ipython",
    "version": 3
   },
   "file_extension": ".py",
   "mimetype": "text/x-python",
   "name": "python",
   "nbconvert_exporter": "python",
   "pygments_lexer": "ipython3",
   "version": "3.8.10"
  }
 },
 "nbformat": 4,
 "nbformat_minor": 5
}
