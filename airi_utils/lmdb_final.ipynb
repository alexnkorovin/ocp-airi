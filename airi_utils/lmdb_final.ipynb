{
 "cells": [
  {
   "cell_type": "markdown",
   "id": "2d0189f7-ddc5-407a-976f-d517aac571e1",
   "metadata": {
    "tags": []
   },
   "source": [
    "## Imports"
   ]
  },
  {
   "cell_type": "code",
   "execution_count": null,
   "id": "f2182ae7-be2b-4e68-8c8d-ead0fb6ab762",
   "metadata": {
    "tags": []
   },
   "outputs": [],
   "source": [
    "# import lmdb\n",
    "# import torch\n",
    "from DataClasses import lmdb_dataset\n",
    "import time\n",
    "import numpy as np\n",
    "import pandas as pd\n",
    "import matplotlib.pyplot as plt\n",
    "# import seaborn as sns\n",
    "import pickle\n",
    "from tqdm import tqdm\n",
    "import os"
   ]
  },
  {
   "cell_type": "markdown",
   "id": "ceab79ac-0915-4093-bf18-16e809c55eed",
   "metadata": {
    "jp-MarkdownHeadingCollapsed": true,
    "tags": []
   },
   "source": [
    "## Open datasets"
   ]
  },
  {
   "cell_type": "code",
   "execution_count": null,
   "id": "0f04fcd3-f4c1-453f-ba03-8dce97c3d538",
   "metadata": {
    "tags": []
   },
   "outputs": [],
   "source": [
    "root_dir = \"../../ocp_datasets/data/is2re/\"\n",
    "file = 'data_mod.lmdbz'\n",
    "datasets = {\n",
    "    \n",
    "    'train_10k':     '10k/train/',\n",
    "    'train_100k':    '100k/train/',\n",
    "    'train_all':     'all/train/',\n",
    "\n",
    "    'val_id':        'all/val_id/',\n",
    "    'val_ood_ads':   'all/val_ood_ads/',\n",
    "    'val_ood_cat':   'all/val_ood_cat/',\n",
    "    'val_ood_both':  'all/val_ood_both/',\n",
    "\n",
    "    'test_id':       'all/test_id/',\n",
    "    'test_ood_ads':  'all/test_ood_ads/',\n",
    "    'test_ood_cat':  'all/test_ood_cat/',\n",
    "    'test_ood_both': 'all/test_ood_both/'\n",
    "}\n",
    "\n",
    "datasets = {k:(root_dir + v + file) for k, v in datasets.items()}"
   ]
  },
  {
   "cell_type": "code",
   "execution_count": null,
   "id": "b4d7d966-04df-4a7f-8598-40568bec952b",
   "metadata": {},
   "outputs": [],
   "source": [
    "train_10k = lmdb_dataset(datasets['train_10k'])"
   ]
  },
  {
   "cell_type": "code",
   "execution_count": null,
   "id": "eb0f349f-4b11-4e9b-a7c8-f1370547c2af",
   "metadata": {},
   "outputs": [],
   "source": [
    "train_all = lmdb_dataset(datasets['train_all'])"
   ]
  },
  {
   "cell_type": "code",
   "execution_count": null,
   "id": "6ff69145-448f-4f83-9a96-30d15f6c0e78",
   "metadata": {},
   "outputs": [],
   "source": [
    "test_challenge = lmdb_dataset('/share/catalyst/ocp_datasets/is2re_test_challenge_2021/data_mod1_0_50039.lmdbz')"
   ]
  },
  {
   "cell_type": "code",
   "execution_count": null,
   "id": "fa1becae-d926-427a-a30e-dadd1686bfd0",
   "metadata": {},
   "outputs": [],
   "source": [
    "test_challenge.describe(3228)"
   ]
  },
  {
   "cell_type": "code",
   "execution_count": null,
   "id": "df2e6005-dcff-4769-9649-3e0f9f1c165b",
   "metadata": {},
   "outputs": [],
   "source": [
    "type(test_challenge[3219])"
   ]
  },
  {
   "cell_type": "markdown",
   "id": "31c87e71-a00a-4332-b7d4-2704b82a6d0b",
   "metadata": {},
   "source": [
    "#### Calculate neighbours for each edge"
   ]
  },
  {
   "cell_type": "code",
   "execution_count": null,
   "id": "d0949879-0f93-4acf-b734-cb87269b85f1",
   "metadata": {},
   "outputs": [],
   "source": [
    "def t2str(tensor, index):\n",
    "    return tensor.T[index].numpy()\n",
    "\n",
    "system = train_10k[0]\n",
    "edge_angles = system['edge_angles'][0]\n",
    "edge_index = system['edge_index_new']\n",
    "\n",
    "edge_angles['nb'] = list(map(tuple,t2str(edge_index, edge_angles.index)))\n",
    "edge_angles"
   ]
  },
  {
   "cell_type": "raw",
   "id": "2cc6e66d-8662-43f8-b2ff-e7dac111d3d9",
   "metadata": {
    "tags": []
   },
   "source": [
    "def describe(dataset, idx=0):\n",
    "    dataset = dataset[idx]\n",
    "    print(f'item: {idx}')\n",
    "    for key in dataset.keys:\n",
    "        obj = dataset.__getitem__(key)\n",
    "        dot = 25\n",
    "\n",
    "        if type(obj) is Tensor:\n",
    "            print(f'{key}:{\".\"*(dot-len(key))}{str(list(obj.shape)):>10}')\n",
    "        elif type(obj) is float:\n",
    "            print(f'{key}:{\".\"*(dot-len(key))}{obj:>10.4f}')\n",
    "        else:\n",
    "            print(f'{key}:{\".\"*(dot-len(key))}{obj:>10}')"
   ]
  },
  {
   "cell_type": "markdown",
   "id": "0ff3332d-dfa9-4c7e-8f0c-88566cdc4d24",
   "metadata": {
    "tags": []
   },
   "source": [
    "## Analyzing dataset"
   ]
  },
  {
   "cell_type": "markdown",
   "id": "127a0139-e1bc-416b-91c2-20a026757c1e",
   "metadata": {},
   "source": [
    "#### Describe dataset function (already used as method .describe() in lmdb_dataset)"
   ]
  },
  {
   "cell_type": "markdown",
   "id": "ba0881e6-4c48-4ec9-b985-b34bba5151e3",
   "metadata": {},
   "source": [
    "#### create DataFrame of .natom keys"
   ]
  },
  {
   "cell_type": "code",
   "execution_count": null,
   "id": "1c79ad3a-90a9-430b-af23-470f88ef82d2",
   "metadata": {
    "tags": []
   },
   "outputs": [],
   "source": [
    "# create DataFrame of .natom keys\n",
    "def natom_hist(dataset):\n",
    "    from collections import defaultdict\n",
    "    import pandas as pd\n",
    "    sec = time.time()\n",
    "    dic = defaultdict(int)\n",
    "    for struct in dataset:\n",
    "        dic[struct.natoms] += 1\n",
    "    print(f'done for: {time.time() - sec:.2f} s')\n",
    "\n",
    "    dic_mod = {k:[v] for k,v in dict(dic).items()}\n",
    "    return pd.DataFrame.from_dict(dic_mod, orient='index', columns=['N']).sort_index()\n",
    "\n",
    "\n",
    "# TODO multiprocessing edition of function\n",
    "# from multiprocessing import Pool\n",
    "# def natom_hist(dataset):\n",
    "#     from collections import defaultdict\n",
    "#     import pandas as pd\n",
    "#     sec = time.time()\n",
    "#     dic = defaultdict(int)\n",
    "#     for struct in dataset:\n",
    "#         dic[struct.natoms] += 1\n",
    "#     print(time.time() - sec)\n",
    "\n",
    "#     dic_mod = {k:[v] for k,v in dict(dic).items()}\n",
    "#     return pd.DataFrame.from_dict(dic_mod, orient='index', columns=['N']).sort_index()"
   ]
  },
  {
   "cell_type": "code",
   "execution_count": null,
   "id": "62dccecf-30df-4812-a8cb-010db6f48ff8",
   "metadata": {
    "tags": []
   },
   "outputs": [],
   "source": [
    "# long time to run (~20 min)\n",
    "train_10k_df = natom_hist(train_10k)"
   ]
  },
  {
   "cell_type": "markdown",
   "id": "9b013e2e-8151-4754-b120-76984a0b3777",
   "metadata": {
    "tags": []
   },
   "source": [
    "#### Sparce distribution"
   ]
  },
  {
   "cell_type": "code",
   "execution_count": null,
   "id": "fc23ee39-9a84-481c-96ac-287054f3cd54",
   "metadata": {
    "tags": []
   },
   "outputs": [],
   "source": [
    "def df_distr(dic):\n",
    "    dic = dic.to_dict()\n",
    "    key = list(dic.keys())[0]\n",
    "    dic1 = {key:{i:0 for i in range(1, 301)}}\n",
    "    \n",
    "    for k, v in dic[key].items():\n",
    "        dic1[key][k] = v\n",
    "    return pd.DataFrame.from_dict(dic1)"
   ]
  },
  {
   "cell_type": "code",
   "execution_count": null,
   "id": "ca7196cc-c2cd-4f4a-98fa-3dab99874dda",
   "metadata": {},
   "outputs": [],
   "source": [
    "frames = (train_10k_df,)\n",
    "frames_distr = [0]*len(frames)"
   ]
  },
  {
   "cell_type": "code",
   "execution_count": null,
   "id": "c6a94c5f-8cf8-4717-a945-105e6dde5c8e",
   "metadata": {},
   "outputs": [],
   "source": [
    "for i, frame in enumerate(frames):\n",
    "    frames_distr[i] = df_distr(frame)"
   ]
  },
  {
   "cell_type": "code",
   "execution_count": null,
   "id": "555aa717-ff17-43e6-93d6-9ea14385eaf4",
   "metadata": {
    "tags": []
   },
   "outputs": [],
   "source": [
    "df_all = pd.concat(frames_distr, axis=1)\n",
    "df_all.columns = ['df_train_all', 'dataset_test_id_df', 'dataset_train_10k_df', 'dataset_val_ood_both_df']\n",
    "df_all_norm = df_all.fillna(0)\n",
    "df_all_norm = df_all_norm.apply(lambda x: x / x.max())\n",
    "df_all_norm.plot()"
   ]
  },
  {
   "cell_type": "raw",
   "id": "1e4aedfb-d042-4ced-aa46-3677dad15f5e",
   "metadata": {
    "jupyter": {
     "outputs_hidden": true
    }
   },
   "source": [
    "# alternative normalizing by sklearn\n",
    "from sklearn import preprocessing\n",
    "df_index = df_all.index.to_list()\n",
    "x = df_all.values #returns a numpy array\n",
    "min_max_scaler = preprocessing.MinMaxScaler()\n",
    "x_scaled = min_max_scaler.fit_transform(x)\n",
    "df_all_norm = pd.DataFrame(x_scaled)"
   ]
  },
  {
   "cell_type": "code",
   "execution_count": null,
   "id": "0610cebf-ff90-4186-be01-26452f533a97",
   "metadata": {
    "tags": []
   },
   "outputs": [],
   "source": [
    "dataset_train_keys_10k_keys = set(dataset_train_10k[0].keys)\n",
    "dataset_val_ood_both_keys = set(dataset_val_ood_both[0].keys)\n",
    "dataset_test_keys_id_keys = set(dataset_test_id[0].keys)"
   ]
  },
  {
   "cell_type": "code",
   "execution_count": null,
   "id": "8542c615-544c-435f-b813-e4063d862186",
   "metadata": {
    "tags": []
   },
   "outputs": [],
   "source": [
    "print(dataset_train_keys_10k_keys, dataset_val_ood_both_keys, dataset_test_keys_id_keys, sep='\\n')\n",
    "print(dataset_train_keys_10k_keys - dataset_test_keys_id_keys)"
   ]
  },
  {
   "cell_type": "code",
   "execution_count": null,
   "id": "6aba76ae-5cda-4209-bd4f-d0c1eda52ae4",
   "metadata": {
    "tags": []
   },
   "outputs": [],
   "source": [
    "print(dataset_train_10k[0])\n",
    "# for i in dataset_train_keys_10k_keys:\n",
    "#         print((i, getattr(dataset_train_10k[0], i)))\n",
    "\n",
    "for i in dataset_train_keys_10k_keys:\n",
    "        temp = getattr(dataset_train_10k[0], i)\n",
    "        print(i, temp)\n",
    "#         if type(temp) not in [float, int]:\n",
    "#             print(temp.shape)\n",
    "#         else: print(temp)"
   ]
  },
  {
   "cell_type": "code",
   "execution_count": null,
   "id": "c5fe6277-11bf-42d0-a346-d03653ed5e35",
   "metadata": {
    "tags": []
   },
   "outputs": [],
   "source": [
    "dataset_train_10k[0]['y_relaxed']"
   ]
  },
  {
   "cell_type": "code",
   "execution_count": null,
   "id": "fa8889b5-8607-4467-959f-27d4d02d7b23",
   "metadata": {
    "tags": []
   },
   "outputs": [],
   "source": [
    "from collections import Counter\n",
    "# Counter(list(dataset_train_10k[0].atomic_numbers))\n",
    "dataset_train_10k[0].atomic_numbers[0].item()\n",
    "Counter([dataset_train_10k[0].atomic_numbers[i].item() for i in range(dataset_train_10k[0].atomic_numbers.shape[0])])\n",
    "# compare = [(\"\\n\".join((getattr(dataset_train_10k[0], i), getattr(dataset_test[0], i)))) for i in dataset_test[0].keys]"
   ]
  },
  {
   "cell_type": "code",
   "execution_count": null,
   "id": "a974aa66-3d68-4973-bd59-756fb48eaaf7",
   "metadata": {},
   "outputs": [],
   "source": [
    "dataset_train_10k[0].edge_index.shape"
   ]
  },
  {
   "cell_type": "code",
   "execution_count": null,
   "id": "a52481b2-87c6-4461-a0a9-314cea3d7917",
   "metadata": {},
   "outputs": [],
   "source": [
    "dataset_train_10k[0].natoms"
   ]
  },
  {
   "cell_type": "code",
   "execution_count": null,
   "id": "2ee5209b-a250-4474-ac36-8aef799722d1",
   "metadata": {},
   "outputs": [],
   "source": [
    "86**2/2"
   ]
  },
  {
   "cell_type": "code",
   "execution_count": null,
   "id": "a99af59c-b4b2-4d75-bdfa-31acb01a049b",
   "metadata": {
    "tags": []
   },
   "outputs": [],
   "source": [
    "print(dataset_train_10k[0])"
   ]
  },
  {
   "cell_type": "code",
   "execution_count": 1,
   "id": "40ec8583-ba3e-4c3f-af04-51a604060f00",
   "metadata": {},
   "outputs": [],
   "source": [
    "import pandas as pd\n",
    "\n",
    "dic = pd.read_pickle(\"../../ocp_datasets/oc20_data_mapping.pkl\")\n",
    "# or use online https://dl.fbaipublicfiles.com/opencatalystproject/data/oc20_data_mapping.pkl\n",
    "\n",
    "df = pd.DataFrame.from_dict(dic, orient='index')"
   ]
  },
  {
   "cell_type": "code",
   "execution_count": 2,
   "id": "d7fceef3-7aff-426c-b1a4-70ea2d069aae",
   "metadata": {},
   "outputs": [
    {
     "data": {
      "text/html": [
       "<div>\n",
       "<style scoped>\n",
       "    .dataframe tbody tr th:only-of-type {\n",
       "        vertical-align: middle;\n",
       "    }\n",
       "\n",
       "    .dataframe tbody tr th {\n",
       "        vertical-align: top;\n",
       "    }\n",
       "\n",
       "    .dataframe thead th {\n",
       "        text-align: right;\n",
       "    }\n",
       "</style>\n",
       "<table border=\"1\" class=\"dataframe\">\n",
       "  <thead>\n",
       "    <tr style=\"text-align: right;\">\n",
       "      <th></th>\n",
       "      <th>bulk_id</th>\n",
       "      <th>ads_id</th>\n",
       "      <th>bulk_mpid</th>\n",
       "      <th>bulk_symbols</th>\n",
       "      <th>ads_symbols</th>\n",
       "      <th>miller_index</th>\n",
       "      <th>shift</th>\n",
       "      <th>top</th>\n",
       "      <th>adsorption_site</th>\n",
       "    </tr>\n",
       "  </thead>\n",
       "  <tbody>\n",
       "    <tr>\n",
       "      <th>random2181546</th>\n",
       "      <td>6510</td>\n",
       "      <td>69</td>\n",
       "      <td>mp-22179</td>\n",
       "      <td>Si2Ti2Y2</td>\n",
       "      <td>*N2</td>\n",
       "      <td>(2, 0, 1)</td>\n",
       "      <td>0.145</td>\n",
       "      <td>True</td>\n",
       "      <td>((4.5, 12.85, 16.13),)</td>\n",
       "    </tr>\n",
       "    <tr>\n",
       "      <th>random378384</th>\n",
       "      <td>2742</td>\n",
       "      <td>49</td>\n",
       "      <td>mp-9254</td>\n",
       "      <td>Al2Te5</td>\n",
       "      <td>*CHOCH2OH</td>\n",
       "      <td>(0, 2, 1)</td>\n",
       "      <td>0.031</td>\n",
       "      <td>False</td>\n",
       "      <td>((1.84, 6.17, 19.13),)</td>\n",
       "    </tr>\n",
       "    <tr>\n",
       "      <th>random1283307</th>\n",
       "      <td>3219</td>\n",
       "      <td>30</td>\n",
       "      <td>mp-1226096</td>\n",
       "      <td>Co7Ge4</td>\n",
       "      <td>*CHO*CHO</td>\n",
       "      <td>(0, 0, 1)</td>\n",
       "      <td>0.185</td>\n",
       "      <td>True</td>\n",
       "      <td>((0.25, 2.07, 25.26), (1.25, 1.11, 24.84))</td>\n",
       "    </tr>\n",
       "    <tr>\n",
       "      <th>random2061443</th>\n",
       "      <td>3381</td>\n",
       "      <td>79</td>\n",
       "      <td>mp-972941</td>\n",
       "      <td>Na2Bi6</td>\n",
       "      <td>*OHNH2</td>\n",
       "      <td>(2, 1, 2)</td>\n",
       "      <td>0.050</td>\n",
       "      <td>False</td>\n",
       "      <td>((6.22, 2.94, 26.1),)</td>\n",
       "    </tr>\n",
       "    <tr>\n",
       "      <th>random2070408</th>\n",
       "      <td>2889</td>\n",
       "      <td>1</td>\n",
       "      <td>mp-1601</td>\n",
       "      <td>RuTa</td>\n",
       "      <td>*H</td>\n",
       "      <td>(1, 1, 0)</td>\n",
       "      <td>0.250</td>\n",
       "      <td>True</td>\n",
       "      <td>((7.58, 5.29, 19.72),)</td>\n",
       "    </tr>\n",
       "    <tr>\n",
       "      <th>random2069970</th>\n",
       "      <td>7892</td>\n",
       "      <td>81</td>\n",
       "      <td>mp-567196</td>\n",
       "      <td>Cs3Sb2Cl9</td>\n",
       "      <td>*CN</td>\n",
       "      <td>(1, 0, 1)</td>\n",
       "      <td>0.165</td>\n",
       "      <td>False</td>\n",
       "      <td>((4.22, 1.86, 27.86),)</td>\n",
       "    </tr>\n",
       "    <tr>\n",
       "      <th>random2426372</th>\n",
       "      <td>1431</td>\n",
       "      <td>60</td>\n",
       "      <td>mp-561320</td>\n",
       "      <td>Pb2S2</td>\n",
       "      <td>*OHNNCH3</td>\n",
       "      <td>(2, 2, 1)</td>\n",
       "      <td>0.241</td>\n",
       "      <td>True</td>\n",
       "      <td>((4.09, 21.6, 28.5),)</td>\n",
       "    </tr>\n",
       "    <tr>\n",
       "      <th>random2049408</th>\n",
       "      <td>3760</td>\n",
       "      <td>56</td>\n",
       "      <td>mp-30933</td>\n",
       "      <td>Zr6Bi6</td>\n",
       "      <td>*CHOHCH2OH</td>\n",
       "      <td>(0, 1, 0)</td>\n",
       "      <td>0.250</td>\n",
       "      <td>True</td>\n",
       "      <td>((1.95, 2.21, 22.46),)</td>\n",
       "    </tr>\n",
       "    <tr>\n",
       "      <th>random1170099</th>\n",
       "      <td>2302</td>\n",
       "      <td>73</td>\n",
       "      <td>mp-249</td>\n",
       "      <td>Al2Hf2</td>\n",
       "      <td>*NONH</td>\n",
       "      <td>(2, 2, 1)</td>\n",
       "      <td>0.133</td>\n",
       "      <td>False</td>\n",
       "      <td>((6.37, 4.22, 18.83),)</td>\n",
       "    </tr>\n",
       "    <tr>\n",
       "      <th>random1530103</th>\n",
       "      <td>3589</td>\n",
       "      <td>73</td>\n",
       "      <td>mp-621624</td>\n",
       "      <td>Tl21Sb6</td>\n",
       "      <td>*NONH</td>\n",
       "      <td>(2, 1, 0)</td>\n",
       "      <td>0.059</td>\n",
       "      <td>True</td>\n",
       "      <td>((6.1, 2.21, 35.52),)</td>\n",
       "    </tr>\n",
       "  </tbody>\n",
       "</table>\n",
       "</div>"
      ],
      "text/plain": [
       "               bulk_id  ads_id   bulk_mpid bulk_symbols ads_symbols  \\\n",
       "random2181546     6510      69    mp-22179     Si2Ti2Y2         *N2   \n",
       "random378384      2742      49     mp-9254       Al2Te5   *CHOCH2OH   \n",
       "random1283307     3219      30  mp-1226096       Co7Ge4    *CHO*CHO   \n",
       "random2061443     3381      79   mp-972941       Na2Bi6      *OHNH2   \n",
       "random2070408     2889       1     mp-1601         RuTa          *H   \n",
       "random2069970     7892      81   mp-567196    Cs3Sb2Cl9         *CN   \n",
       "random2426372     1431      60   mp-561320        Pb2S2    *OHNNCH3   \n",
       "random2049408     3760      56    mp-30933       Zr6Bi6  *CHOHCH2OH   \n",
       "random1170099     2302      73      mp-249       Al2Hf2       *NONH   \n",
       "random1530103     3589      73   mp-621624      Tl21Sb6       *NONH   \n",
       "\n",
       "              miller_index  shift    top  \\\n",
       "random2181546    (2, 0, 1)  0.145   True   \n",
       "random378384     (0, 2, 1)  0.031  False   \n",
       "random1283307    (0, 0, 1)  0.185   True   \n",
       "random2061443    (2, 1, 2)  0.050  False   \n",
       "random2070408    (1, 1, 0)  0.250   True   \n",
       "random2069970    (1, 0, 1)  0.165  False   \n",
       "random2426372    (2, 2, 1)  0.241   True   \n",
       "random2049408    (0, 1, 0)  0.250   True   \n",
       "random1170099    (2, 2, 1)  0.133  False   \n",
       "random1530103    (2, 1, 0)  0.059   True   \n",
       "\n",
       "                                          adsorption_site  \n",
       "random2181546                      ((4.5, 12.85, 16.13),)  \n",
       "random378384                       ((1.84, 6.17, 19.13),)  \n",
       "random1283307  ((0.25, 2.07, 25.26), (1.25, 1.11, 24.84))  \n",
       "random2061443                       ((6.22, 2.94, 26.1),)  \n",
       "random2070408                      ((7.58, 5.29, 19.72),)  \n",
       "random2069970                      ((4.22, 1.86, 27.86),)  \n",
       "random2426372                       ((4.09, 21.6, 28.5),)  \n",
       "random2049408                      ((1.95, 2.21, 22.46),)  \n",
       "random1170099                      ((6.37, 4.22, 18.83),)  \n",
       "random1530103                       ((6.1, 2.21, 35.52),)  "
      ]
     },
     "execution_count": 2,
     "metadata": {},
     "output_type": "execute_result"
    }
   ],
   "source": [
    "df.head(10)"
   ]
  },
  {
   "cell_type": "code",
   "execution_count": 3,
   "id": "3fa59d34-56ce-4987-9793-4f2579a9f54f",
   "metadata": {},
   "outputs": [
    {
     "data": {
      "text/plain": [
       "bulk_id                                425\n",
       "ads_id                                  74\n",
       "bulk_mpid                          mp-1791\n",
       "bulk_symbols                       Al20Rh8\n",
       "ads_symbols                            *NH\n",
       "miller_index                     (2, 1, 1)\n",
       "shift                                0.118\n",
       "top                                   True\n",
       "adsorption_site    ((10.07, 0.67, 18.05),)\n",
       "Name: random2472718, dtype: object"
      ]
     },
     "execution_count": 3,
     "metadata": {},
     "output_type": "execute_result"
    }
   ],
   "source": [
    "df.loc['random2472718']"
   ]
  },
  {
   "cell_type": "markdown",
   "id": "1386869b-fdf5-4b72-beed-08c67144ed7b",
   "metadata": {},
   "source": [
    "### Test challenge dataset"
   ]
  },
  {
   "cell_type": "code",
   "execution_count": null,
   "id": "0e2baa9d-18cd-4afc-9e94-c62c8d3f1aec",
   "metadata": {},
   "outputs": [],
   "source": [
    "# адрес датасета\n",
    "test_dataset_path = \"../../ocp_datasets/data/is2re_test_challenge_2021/merge/data_mod1.lmdbz\"\n",
    "test_dataset_path_mod1 = \"../../ocp_datasets/data/is2re_test_challenge_2021/data.lmdb\""
   ]
  },
  {
   "cell_type": "code",
   "execution_count": null,
   "id": "b978dc97-4ef5-4ec3-a7f5-6597206acc57",
   "metadata": {},
   "outputs": [],
   "source": [
    "def dataset(path):\n",
    "    real_path = os.path.expanduser(path)\n",
    "    dataset = lmdb_dataset(train_dataset_file_path)\n",
    "    print(len(dataset))\n",
    "    return dataset"
   ]
  },
  {
   "cell_type": "code",
   "execution_count": null,
   "id": "a4110855-8ba7-4ca1-9b2d-68e28551147f",
   "metadata": {},
   "outputs": [],
   "source": [
    "test_dataset = dataset(test_dataset_path)\n",
    "test_dataset_mod1 = dataset(test_dataset_path_mod1)"
   ]
  },
  {
   "cell_type": "markdown",
   "id": "1f0bb23b-fb69-43bb-afca-59e3b1d7f6d8",
   "metadata": {},
   "source": [
    "#### Compare sid of original and converted datasets"
   ]
  },
  {
   "cell_type": "code",
   "execution_count": null,
   "id": "c1f11e44-11c8-4edd-9641-5e3028a2dd75",
   "metadata": {},
   "outputs": [],
   "source": [
    "def set_sid(dataset):\n",
    "    list_done = []\n",
    "    for ii, sys in enumerate(dataset):\n",
    "        list_done.append(sys['sid'])\n",
    "\n",
    "        if ii%10000==0:\n",
    "            print(ii)\n",
    "    return set(list_done)"
   ]
  },
  {
   "cell_type": "code",
   "execution_count": null,
   "id": "d5e6a76e-abd9-401c-b76b-2bbf3ee44ddc",
   "metadata": {},
   "outputs": [],
   "source": [
    "sid = set_sid(test_dataset)\n",
    "sid_mod1 = set_sid(test_dataset_mod1)"
   ]
  },
  {
   "cell_type": "code",
   "execution_count": null,
   "id": "4aaf334d-a9aa-47e9-ae29-0341d0927d42",
   "metadata": {},
   "outputs": [],
   "source": [
    "print(sid ^ sid_mod1)"
   ]
  },
  {
   "cell_type": "markdown",
   "id": "05e3c130-79bf-4a4c-a4e3-6cecae1cb872",
   "metadata": {},
   "source": [
    "#### Find all items with all y_relaxed"
   ]
  },
  {
   "cell_type": "code",
   "execution_count": null,
   "id": "7be947a4-5ec1-45e4-a0f9-d012dfb53712",
   "metadata": {},
   "outputs": [],
   "source": [
    "def y_relaxed_list(dataset):\n",
    "    n = []\n",
    "    for ii, sys in enumerate(dataset):\n",
    "        if 'y_relaxed' in sys.keys:\n",
    "            n.append(ii)\n",
    "\n",
    "        if ii%10000==0:\n",
    "            print(ii)\n",
    "    print('done', len(n))\n",
    "    return n"
   ]
  },
  {
   "cell_type": "code",
   "execution_count": null,
   "id": "e16244d9-97cc-4cfd-9206-25ae7d1f27fa",
   "metadata": {},
   "outputs": [],
   "source": [
    "y_relaxed = y_relaxed_list(test_dataset)\n",
    "y_relaxed_mod1 = y_relaxed_list(test_dataset_mod1)"
   ]
  },
  {
   "cell_type": "markdown",
   "id": "e5d35ee3-3e81-4206-8f4f-a6987b648b9c",
   "metadata": {
    "jp-MarkdownHeadingCollapsed": true,
    "tags": []
   },
   "source": [
    "## Structure of element to VASP"
   ]
  },
  {
   "cell_type": "code",
   "execution_count": null,
   "id": "27413139-4035-4624-b949-41f442158ef2",
   "metadata": {},
   "outputs": [],
   "source": [
    "test_dataset_path = \"../../ocp_datasets/data/is2re_test_challenge_2021/data_mod1.lmdbz\"\n",
    "train_dataset_file_path = os.path.expanduser(test_dataset_path)\n",
    "train_dataset_file = lmdb_dataset(train_dataset_file_path)"
   ]
  },
  {
   "cell_type": "code",
   "execution_count": null,
   "id": "52d4b96e-dae9-448c-b915-061353dc0a15",
   "metadata": {
    "tags": []
   },
   "outputs": [],
   "source": [
    "import numpy as np\n",
    "from mendeleev import element\n",
    "\n",
    "def print_var_name(variable):\n",
    "     for name in locals():\n",
    "        if eval(name) == variable:\n",
    "            print(name)\n",
    "\n",
    "def getAtomSequence (sequence):\n",
    "    result = list([[sequence[0], 1]])\n",
    "    for i in range(1, len(sequence)):\n",
    "        if sequence[i] == result[-1][0]:\n",
    "            result[-1][1] += 1\n",
    "        else:\n",
    "            result.append([sequence[i], 1])\n",
    "    return dict(result)\n",
    "\n",
    "def structureToVASP(structure, file='POSCAR', str_name='structure', relaxed=False):\n",
    "    with open(f'{str_name}_POSCAR{\"_relaxed\" if relaxed else \"\"}', 'w') as f:\n",
    "        f.write(str_name + '\\n')\n",
    "        f.write(str(1.0) + '\\n')\n",
    "        for axis in np.array(structure['cell'][0]):\n",
    "            for i in range(3):\n",
    "                f.write(str(axis[i]) + '   ')\n",
    "                if i == 2:\n",
    "                    f.write('\\n')\n",
    "        atoms = getAtomSequence(np.array(structure['atomic_numbers'], dtype=int))\n",
    "        for k in atoms.keys():\n",
    "            f.write('   ' + element(round(k)).symbol)\n",
    "        f.write('\\n')\n",
    "        for v in atoms.values():\n",
    "            f.write('   ' + str(round(v)))\n",
    "        f.write('\\n')\n",
    "        f.write('Cartesian\\n')\n",
    "        for position in np.array(structure['pos'] if not relaxed else structure['pos_relaxed']):\n",
    "            for i in range(3):\n",
    "                f.write(str(position[i]) + '   ')\n",
    "                if i == 2:\n",
    "                    f.write('\\n')          \n",
    "    return None\n",
    "\n",
    "i = 64516\n",
    "PATH = 'POSCAR/'\n",
    "for relaxed in [True, False] :\n",
    "    structureToVASP(train_dataset_file[i], relaxed=relaxed, str_name=f'{PATH}train_all[{i}]')"
   ]
  },
  {
   "cell_type": "markdown",
   "id": "3843a04b-a288-4988-83ee-9879b3c40314",
   "metadata": {
    "tags": []
   },
   "source": [
    "## PyG training"
   ]
  },
  {
   "cell_type": "code",
   "execution_count": null,
   "id": "518c708c-f3d7-4e20-a7af-a98bd092e0f3",
   "metadata": {},
   "outputs": [],
   "source": [
    "from torch_geometric.datasets import Planetoid\n",
    "\n",
    "dataset = Planetoid(root='/tmp/Cora', name='Cora')"
   ]
  },
  {
   "cell_type": "code",
   "execution_count": null,
   "id": "8a13b95c-d925-436d-831e-30a3c23eeacb",
   "metadata": {},
   "outputs": [],
   "source": [
    "import time\n",
    "import torch\n",
    "import torch.nn.functional as F\n",
    "from torch_geometric.nn import GCNConv\n",
    "\n",
    "sec = time.time()\n",
    "\n",
    "class Net(torch.nn.Module):\n",
    "    def __init__(self):\n",
    "        super(Net, self).__init__()\n",
    "        self.conv1 = GCNConv(dataset.num_node_features, 16)\n",
    "        self.conv2 = GCNConv(16, dataset.num_classes)\n",
    "\n",
    "    def forward(self, data):\n",
    "        x, edge_index = data.x, data.edge_index\n",
    "\n",
    "        x = self.conv1(x, edge_index)\n",
    "        x = F.relu(x)\n",
    "        x = F.dropout(x, training=self.training)\n",
    "        x = self.conv2(x, edge_index)\n",
    "\n",
    "        return F.log_softmax(x, dim=1)\n",
    "\n",
    "model = Net()\n",
    "data = dataset[0]\n",
    "optimizer = torch.optim.Adam(model.parameters(), lr=0.01, weight_decay=5e-4)\n",
    "\n",
    "model.train()\n",
    "for epoch in range(200):\n",
    "    optimizer.zero_grad()\n",
    "    out = model(data)\n",
    "    loss = F.nll_loss(out[data.train_mask], data.y[data.train_mask])\n",
    "    loss.backward()\n",
    "    optimizer.step()\n",
    "    if epoch % int(200/10) == 0:\n",
    "        print(epoch,':', time.time() - sec)\n",
    "\n",
    "print('Total:', time.time() - sec)\n",
    "\n",
    "model.eval()\n",
    "_, pred = model(data).max(dim=1)\n",
    "correct = int(pred[data.test_mask].eq(data.y[data.test_mask]).sum().item())\n",
    "acc = correct / int(data.test_mask.sum())\n",
    "print('Accuracy: {:.4f}'.format(acc))"
   ]
  }
 ],
 "metadata": {
  "kernelspec": {
   "display_name": "ocp_models",
   "language": "python",
   "name": "ocp_models"
  },
  "language_info": {
   "codemirror_mode": {
    "name": "ipython",
    "version": 3
   },
   "file_extension": ".py",
   "mimetype": "text/x-python",
   "name": "python",
   "nbconvert_exporter": "python",
   "pygments_lexer": "ipython3",
   "version": "3.8.10"
  }
 },
 "nbformat": 4,
 "nbformat_minor": 5
}
