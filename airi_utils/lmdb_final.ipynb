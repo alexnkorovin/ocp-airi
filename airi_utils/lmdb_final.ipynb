{
 "cells": [
  {
   "cell_type": "code",
   "execution_count": 1,
   "id": "f2182ae7-be2b-4e68-8c8d-ead0fb6ab762",
   "metadata": {
    "tags": []
   },
   "outputs": [],
   "source": [
    "import lmdb\n",
    "import torch\n",
    "from ocpmodels.datasets import SinglePointLmdbDataset, TrajectoryLmdbDataset\n",
    "import time\n",
    "import pandas as pd\n",
    "from pprint import pprint\n",
    "import matplotlib.pyplot as plt\n",
    "import seaborn as sns"
   ]
  },
  {
   "cell_type": "code",
   "execution_count": 170,
   "id": "29d5ef90-7218-4f0a-8066-9b55ee16f681",
   "metadata": {
    "collapsed": true,
    "jupyter": {
     "outputs_hidden": true
    }
   },
   "outputs": [],
   "source": [
    "# dataset = SinglePointLmdbDataset({\"src\": \"train/\"})\n",
    "# len(dataset)\n",
    "# datasets = {\n",
    "# 'train_10k': '../10k/train/data.lmdb',\n",
    "# 'train_100k': '../100k/train/data.lmdb',\n",
    "# 'train_all': '../all/train/data.lmdb',\n",
    "# 'val_id': '../all/val_id/data.lmdb',\n",
    "# 'val_ood_ads': '../all/val_ood_ads/data.lmdb'\n",
    "##  continue\n",
    "# `data/is2re/all/val_ood_cat/data.lmdb`\n",
    "# `data/is2re/all/val_ood_both/data.lmdb`\n",
    "# `data/is2re/all/test_id/data.lmdb`\n",
    "# `data/is2re/all/test_ood_ads/data.lmdb`\n",
    "# `data/is2re/all/test_ood_cat/data.lmdb`\n",
    "# `data/is2re/all/test_ood_both/data.lmdb`"
   ]
  },
  {
   "cell_type": "code",
   "execution_count": 2,
   "id": "6cc0cd6d-6e80-4fe6-a14a-303872d694e5",
   "metadata": {},
   "outputs": [],
   "source": [
    "dataset_train_10k = SinglePointLmdbDataset({\"src\": \"train_test/data_copy.lmdb\"})\n",
    "dataset_train_all = SinglePointLmdbDataset({\"src\": \"../all/test_ood_cat/data.lmdb\"})\n",
    "dataset_test_id = SinglePointLmdbDataset({\"src\": \"../all/test_id/data.lmdb\"})\n",
    "dataset_val_ood_both = SinglePointLmdbDataset({\"src\": \"../all/val_ood_both/data.lmdb\"})"
   ]
  },
  {
   "cell_type": "code",
   "execution_count": 8,
   "id": "e3feaeea-7734-4bbd-9ec5-9d0e1b03559a",
   "metadata": {},
   "outputs": [],
   "source": [
    "dataset_val_id = SinglePointLmdbDataset({\"src\": \"../all/val_id/data.lmdb\"})"
   ]
  },
  {
   "cell_type": "code",
   "execution_count": 10,
   "id": "95ce8537-892d-448e-b300-2dd720c03cc0",
   "metadata": {},
   "outputs": [
    {
     "data": {
      "text/plain": [
       "24948"
      ]
     },
     "execution_count": 10,
     "metadata": {},
     "output_type": "execute_result"
    }
   ],
   "source": [
    "len(dataset_test_id)"
   ]
  },
  {
   "cell_type": "code",
   "execution_count": 9,
   "id": "d7e290fd-f9ba-470d-baf0-83be7fc4a6df",
   "metadata": {},
   "outputs": [
    {
     "data": {
      "text/plain": [
       "24943"
      ]
     },
     "execution_count": 9,
     "metadata": {},
     "output_type": "execute_result"
    }
   ],
   "source": [
    "len(dataset_val_id)"
   ]
  },
  {
   "cell_type": "code",
   "execution_count": 7,
   "id": "439ffa89-36a2-42ec-8568-746a6406822b",
   "metadata": {},
   "outputs": [
    {
     "data": {
      "text/plain": [
       "24987"
      ]
     },
     "execution_count": 7,
     "metadata": {},
     "output_type": "execute_result"
    }
   ],
   "source": [
    "len(dataset_val_ood_both)"
   ]
  },
  {
   "cell_type": "raw",
   "id": "a0e199c2-d9bf-472b-a7e9-36c8982c91be",
   "metadata": {
    "jupyter": {
     "outputs_hidden": true
    }
   },
   "source": [
    "# create DataFrame of .natom keys\n",
    "def natom_hist(dataset):\n",
    "    from collections import defaultdict\n",
    "    import pandas as pd\n",
    "    sec = time.time()\n",
    "    dic = defaultdict(int)\n",
    "    for struct in dataset:\n",
    "        dic[struct.natoms] += 1\n",
    "    print(time.time() - sec)\n",
    "\n",
    "    dic_mod = {k:[v] for k,v in dict(dic).items()}\n",
    "    return pd.DataFrame.from_dict(dic_mod, orient='index', columns=['N']).sort_index()"
   ]
  },
  {
   "cell_type": "code",
   "execution_count": null,
   "id": "ecc892a1-af62-4e81-a6e3-4d5063b4ab80",
   "metadata": {},
   "outputs": [],
   "source": [
    "from multiprocessing import Pool\n",
    "def natom_hist(dataset):\n",
    "    from collections import defaultdict\n",
    "    import pandas as pd\n",
    "    sec = time.time()\n",
    "    dic = defaultdict(int)\n",
    "    for struct in dataset:\n",
    "        dic[struct.natoms] += 1\n",
    "    print(time.time() - sec)\n",
    "\n",
    "    dic_mod = {k:[v] for k,v in dict(dic).items()}\n",
    "    return pd.DataFrame.from_dict(dic_mod, orient='index', columns=['N']).sort_index()"
   ]
  },
  {
   "cell_type": "raw",
   "id": "18ac157b-498f-4773-9c7f-058594e50042",
   "metadata": {
    "tags": []
   },
   "source": [
    "# long time to run (~20 min)\n",
    "dataset_train_10k_df = natom_hist(dataset_train_10k)\n",
    "dataset_test_id_df = natom_hist(dataset_test_id)\n",
    "dataset_val_ood_both_df = natom_hist(dataset_val_ood_both)\n",
    "df_train_all_df.natom_hist(dataset_val_ood_both)"
   ]
  },
  {
   "cell_type": "code",
   "execution_count": 204,
   "id": "fc23ee39-9a84-481c-96ac-287054f3cd54",
   "metadata": {
    "tags": []
   },
   "outputs": [],
   "source": [
    "def df_distr(dic):\n",
    "    dic = pd.DataFrame.to_dict(dic)\n",
    "    key = list(dic.keys())[0]\n",
    "    dic1 = {key:{i:0 for i in range(1, 301)}}\n",
    "    \n",
    "    for k, v in dic[key].items():\n",
    "        dic1[key][k] = v\n",
    "    return pd.DataFrame.from_dict(dic1)"
   ]
  },
  {
   "cell_type": "code",
   "execution_count": 207,
   "id": "6d0f0b07-4b71-4a8f-9ed6-d3eb031b0613",
   "metadata": {
    "collapsed": true,
    "jupyter": {
     "outputs_hidden": true
    }
   },
   "outputs": [
    {
     "data": {
      "text/html": [
       "<div>\n",
       "<style scoped>\n",
       "    .dataframe tbody tr th:only-of-type {\n",
       "        vertical-align: middle;\n",
       "    }\n",
       "\n",
       "    .dataframe tbody tr th {\n",
       "        vertical-align: top;\n",
       "    }\n",
       "\n",
       "    .dataframe thead th {\n",
       "        text-align: right;\n",
       "    }\n",
       "</style>\n",
       "<table border=\"1\" class=\"dataframe\">\n",
       "  <thead>\n",
       "    <tr style=\"text-align: right;\">\n",
       "      <th></th>\n",
       "      <th>N</th>\n",
       "    </tr>\n",
       "  </thead>\n",
       "  <tbody>\n",
       "    <tr>\n",
       "      <th>1</th>\n",
       "      <td>0</td>\n",
       "    </tr>\n",
       "    <tr>\n",
       "      <th>2</th>\n",
       "      <td>0</td>\n",
       "    </tr>\n",
       "    <tr>\n",
       "      <th>3</th>\n",
       "      <td>0</td>\n",
       "    </tr>\n",
       "    <tr>\n",
       "      <th>4</th>\n",
       "      <td>0</td>\n",
       "    </tr>\n",
       "    <tr>\n",
       "      <th>5</th>\n",
       "      <td>0</td>\n",
       "    </tr>\n",
       "    <tr>\n",
       "      <th>6</th>\n",
       "      <td>0</td>\n",
       "    </tr>\n",
       "    <tr>\n",
       "      <th>7</th>\n",
       "      <td>9</td>\n",
       "    </tr>\n",
       "    <tr>\n",
       "      <th>8</th>\n",
       "      <td>7</td>\n",
       "    </tr>\n",
       "    <tr>\n",
       "      <th>9</th>\n",
       "      <td>120</td>\n",
       "    </tr>\n",
       "    <tr>\n",
       "      <th>10</th>\n",
       "      <td>75</td>\n",
       "    </tr>\n",
       "    <tr>\n",
       "      <th>11</th>\n",
       "      <td>97</td>\n",
       "    </tr>\n",
       "    <tr>\n",
       "      <th>12</th>\n",
       "      <td>119</td>\n",
       "    </tr>\n",
       "    <tr>\n",
       "      <th>13</th>\n",
       "      <td>208</td>\n",
       "    </tr>\n",
       "    <tr>\n",
       "      <th>14</th>\n",
       "      <td>130</td>\n",
       "    </tr>\n",
       "    <tr>\n",
       "      <th>15</th>\n",
       "      <td>127</td>\n",
       "    </tr>\n",
       "  </tbody>\n",
       "</table>\n",
       "</div>"
      ],
      "text/plain": [
       "      N\n",
       "1     0\n",
       "2     0\n",
       "3     0\n",
       "4     0\n",
       "5     0\n",
       "6     0\n",
       "7     9\n",
       "8     7\n",
       "9   120\n",
       "10   75\n",
       "11   97\n",
       "12  119\n",
       "13  208\n",
       "14  130\n",
       "15  127"
      ]
     },
     "execution_count": 207,
     "metadata": {},
     "output_type": "execute_result"
    }
   ],
   "source": [
    "frames = (df_train_all, dataset_test_id_df, dataset_train_10k_df, dataset_val_ood_both_df)\n",
    "frames_distr = [0]*len(frames)\n",
    "for i, frame in enumerate(frames):\n",
    "    frames_distr[i] = df_distr(frame)"
   ]
  },
  {
   "cell_type": "code",
   "execution_count": 223,
   "id": "555aa717-ff17-43e6-93d6-9ea14385eaf4",
   "metadata": {
    "tags": []
   },
   "outputs": [
    {
     "data": {
      "text/plain": [
       "<AxesSubplot:>"
      ]
     },
     "execution_count": 223,
     "metadata": {},
     "output_type": "execute_result"
    },
    {
     "data": {
      "image/png": "[encoded data removed]",
      "text/plain": [
       "<Figure size 432x288 with 1 Axes>"
      ]
     },
     "metadata": {
      "needs_background": "light"
     },
     "output_type": "display_data"
    }
   ],
   "source": [
    "df_all = pd.concat(frames_distr, axis=1)\n",
    "df_all.columns = ['df_train_all', 'dataset_test_id_df', 'dataset_train_10k_df', 'dataset_val_ood_both_df']\n",
    "df_all_norm = df_all.fillna(0)\n",
    "df_all_norm = df_all_norm.apply(lambda x: x / x.max())\n",
    "df_all_norm.plot()"
   ]
  },
  {
   "cell_type": "raw",
   "id": "1e4aedfb-d042-4ced-aa46-3677dad15f5e",
   "metadata": {
    "jupyter": {
     "outputs_hidden": true
    }
   },
   "source": [
    "# alternative normalizing by sklearn\n",
    "from sklearn import preprocessing\n",
    "df_index = df_all.index.to_list()\n",
    "x = df_all.values #returns a numpy array\n",
    "min_max_scaler = preprocessing.MinMaxScaler()\n",
    "x_scaled = min_max_scaler.fit_transform(x)\n",
    "df_all_norm = pd.DataFrame(x_scaled)"
   ]
  },
  {
   "cell_type": "code",
   "execution_count": 225,
   "id": "0610cebf-ff90-4186-be01-26452f533a97",
   "metadata": {
    "tags": []
   },
   "outputs": [],
   "source": [
    "dataset_train_keys_10k_keys = set(dataset_train_10k[0].keys)\n",
    "dataset_val_ood_both_keys = set(dataset_val_ood_both[0].keys)\n",
    "dataset_test_keys_id_keys = set(dataset_test_id[0].keys)"
   ]
  },
  {
   "cell_type": "code",
   "execution_count": 229,
   "id": "8542c615-544c-435f-b813-e4063d862186",
   "metadata": {
    "tags": []
   },
   "outputs": [
    {
     "name": "stdout",
     "output_type": "stream",
     "text": [
      "{'edge_index', 'y_relaxed', 'y_init', 'sid', 'distances', 'pos', 'natoms', 'cell_offsets', 'pos_relaxed', 'fixed', 'force', 'tags', 'atomic_numbers', 'cell'}\n",
      "{'edge_index', 'y_relaxed', 'y_init', 'sid', 'distances', 'pos', 'natoms', 'cell_offsets', 'pos_relaxed', 'fixed', 'force', 'tags', 'atomic_numbers', 'cell'}\n",
      "{'edge_index', 'sid', 'pos', 'natoms', 'cell_offsets', 'fixed', 'tags', 'atomic_numbers', 'cell'}\n",
      "{'y_relaxed', 'y_init', 'distances', 'pos_relaxed', 'force'}\n"
     ]
    }
   ],
   "source": [
    "print(dataset_train_keys_10k_keys, dataset_val_ood_both_keys, dataset_test_keys_id_keys, sep='\\n')\n",
    "print(dataset_train_keys_10k_keys - dataset_test_keys_id_keys)"
   ]
  },
  {
   "cell_type": "code",
   "execution_count": null,
   "id": "6aba76ae-5cda-4209-bd4f-d0c1eda52ae4",
   "metadata": {
    "tags": []
   },
   "outputs": [],
   "source": [
    "print(dataset_train_10k[0])\n",
    "# for i in dataset_train_keys_10k_keys:\n",
    "#         print((i, getattr(dataset_train_10k[0], i)))\n",
    "\n",
    "for i in dataset_train_keys_10k_keys:\n",
    "        temp = getattr(dataset_train_10k[0], i)\n",
    "        print(i, temp)\n",
    "#         if type(temp) not in [float, int]:\n",
    "#             print(temp.shape)\n",
    "#         else: print(temp)"
   ]
  },
  {
   "cell_type": "code",
   "execution_count": 250,
   "id": "c5fe6277-11bf-42d0-a346-d03653ed5e35",
   "metadata": {
    "tags": []
   },
   "outputs": [
    {
     "data": {
      "text/plain": [
       "tensor([[[ 1.1833e+01,  0.0000e+00, -2.6398e-02],\n",
       "         [-3.0482e+00,  1.6439e+01, -1.1482e+00],\n",
       "         [ 0.0000e+00,  0.0000e+00,  3.1385e+01]]])"
      ]
     },
     "execution_count": 250,
     "metadata": {},
     "output_type": "execute_result"
    }
   ],
   "source": [
    "dataset_train_10k[0].cell"
   ]
  },
  {
   "cell_type": "code",
   "execution_count": 222,
   "id": "fa8889b5-8607-4467-959f-27d4d02d7b23",
   "metadata": {
    "collapsed": true,
    "jupyter": {
     "outputs_hidden": true
    },
    "tags": []
   },
   "outputs": [
    {
     "ename": "NameError",
     "evalue": "name 'dataset_test' is not defined",
     "output_type": "error",
     "traceback": [
      "\u001b[0;31m---------------------------------------------------------------------------\u001b[0m",
      "\u001b[0;31mNameError\u001b[0m                                 Traceback (most recent call last)",
      "\u001b[0;32m/var/folders/r0/sh_xx3ms6_j0__w1_7f87p540000gq/T/ipykernel_2173/1514797639.py\u001b[0m in \u001b[0;36m<module>\u001b[0;34m\u001b[0m\n\u001b[1;32m      1\u001b[0m \u001b[0mtrain_keys\u001b[0m \u001b[0;34m=\u001b[0m \u001b[0mset\u001b[0m\u001b[0;34m(\u001b[0m\u001b[0mdataset_train_10k\u001b[0m\u001b[0;34m[\u001b[0m\u001b[0;36m0\u001b[0m\u001b[0;34m]\u001b[0m\u001b[0;34m.\u001b[0m\u001b[0mkeys\u001b[0m\u001b[0;34m)\u001b[0m\u001b[0;34m\u001b[0m\u001b[0;34m\u001b[0m\u001b[0m\n\u001b[0;32m----> 2\u001b[0;31m \u001b[0mtest_keys\u001b[0m \u001b[0;34m=\u001b[0m \u001b[0mset\u001b[0m\u001b[0;34m(\u001b[0m\u001b[0mdataset_test\u001b[0m\u001b[0;34m[\u001b[0m\u001b[0;36m0\u001b[0m\u001b[0;34m]\u001b[0m\u001b[0;34m.\u001b[0m\u001b[0mkeys\u001b[0m\u001b[0;34m)\u001b[0m\u001b[0;34m\u001b[0m\u001b[0;34m\u001b[0m\u001b[0m\n\u001b[0m\u001b[1;32m      3\u001b[0m \u001b[0mdiff_keys\u001b[0m \u001b[0;34m=\u001b[0m \u001b[0mtrain_keys\u001b[0m \u001b[0;34m-\u001b[0m \u001b[0mtest_keys\u001b[0m\u001b[0;34m\u001b[0m\u001b[0;34m\u001b[0m\u001b[0m\n\u001b[1;32m      4\u001b[0m \u001b[0;31m# print(diff_keys)\u001b[0m\u001b[0;34m\u001b[0m\u001b[0;34m\u001b[0m\u001b[0;34m\u001b[0m\u001b[0m\n\u001b[1;32m      5\u001b[0m \u001b[0;34m\u001b[0m\u001b[0m\n",
      "\u001b[0;31mNameError\u001b[0m: name 'dataset_test' is not defined"
     ]
    }
   ],
   "source": [
    "from collections import Counter\n",
    "# Counter(list(dataset_train_10k[0].atomic_numbers))\n",
    "dataset_train_10k[0].atomic_numbers[0].item()\n",
    "Counter([dataset_train_10k[0].atomic_numbers[i].item() for i in range(dataset_train_10k[0].atomic_numbers.shape[0])])\n",
    "# compare = [(\"\\n\".join((getattr(dataset_train_10k[0], i), getattr(dataset_test[0], i)))) for i in dataset_test[0].keys]"
   ]
  },
  {
   "cell_type": "code",
   "execution_count": 112,
   "id": "a974aa66-3d68-4973-bd59-756fb48eaaf7",
   "metadata": {
    "collapsed": true,
    "jupyter": {
     "outputs_hidden": true
    }
   },
   "outputs": [],
   "source": [
    "dataset_train_10k[0].edge_index.shape"
   ]
  },
  {
   "cell_type": "code",
   "execution_count": 173,
   "id": "a52481b2-87c6-4461-a0a9-314cea3d7917",
   "metadata": {
    "collapsed": true,
    "jupyter": {
     "outputs_hidden": true
    }
   },
   "outputs": [
    {
     "data": {
      "text/plain": [
       "86"
      ]
     },
     "execution_count": 173,
     "metadata": {},
     "output_type": "execute_result"
    }
   ],
   "source": [
    "dataset_train_10k[0].natoms"
   ]
  },
  {
   "cell_type": "code",
   "execution_count": 113,
   "id": "2ee5209b-a250-4474-ac36-8aef799722d1",
   "metadata": {
    "collapsed": true,
    "jupyter": {
     "outputs_hidden": true
    }
   },
   "outputs": [
    {
     "data": {
      "text/plain": [
       "3698.0"
      ]
     },
     "execution_count": 113,
     "metadata": {},
     "output_type": "execute_result"
    }
   ],
   "source": [
    "86**2/2"
   ]
  },
  {
   "cell_type": "code",
   "execution_count": 114,
   "id": "a99af59c-b4b2-4d75-bdfa-31acb01a049b",
   "metadata": {
    "tags": []
   },
   "outputs": [
    {
     "name": "stdout",
     "output_type": "stream",
     "text": [
      "Data(atomic_numbers=[86], cell=[1, 3, 3], cell_offsets=[2964, 3], distances=[2964], edge_index=[2, 2964], fixed=[86], force=[86, 3], natoms=86, pos=[86, 3], pos_relaxed=[86, 3], sid=2472718, tags=[86], y_init=6.282500615000004, y_relaxed=-0.025550085000020317)\n"
     ]
    }
   ],
   "source": [
    "print(dataset_train_10k[0])"
   ]
  },
  {
   "cell_type": "code",
   "execution_count": null,
   "id": "40ec8583-ba3e-4c3f-af04-51a604060f00",
   "metadata": {},
   "outputs": [],
   "source": [
    "import pandas as pd\n",
    "\n",
    "dic = pd.read_pickle(\"/Users/korovin/Documents/GitHub/ocp_datasets/oc20_data_mapping.pkl\")\n",
    "# or use online https://dl.fbaipublicfiles.com/opencatalystproject/data/oc20_data_mapping.pkl\n",
    "\n",
    "df = pd.DataFrame.from_dict(dic, orient='index')"
   ]
  },
  {
   "cell_type": "code",
   "execution_count": 246,
   "id": "d7fceef3-7aff-426c-b1a4-70ea2d069aae",
   "metadata": {},
   "outputs": [
    {
     "data": {
      "text/html": [
       "<div>\n",
       "<style scoped>\n",
       "    .dataframe tbody tr th:only-of-type {\n",
       "        vertical-align: middle;\n",
       "    }\n",
       "\n",
       "    .dataframe tbody tr th {\n",
       "        vertical-align: top;\n",
       "    }\n",
       "\n",
       "    .dataframe thead th {\n",
       "        text-align: right;\n",
       "    }\n",
       "</style>\n",
       "<table border=\"1\" class=\"dataframe\">\n",
       "  <thead>\n",
       "    <tr style=\"text-align: right;\">\n",
       "      <th></th>\n",
       "      <th>bulk_id</th>\n",
       "      <th>ads_id</th>\n",
       "      <th>bulk_mpid</th>\n",
       "      <th>bulk_symbols</th>\n",
       "      <th>ads_symbols</th>\n",
       "      <th>miller_index</th>\n",
       "      <th>shift</th>\n",
       "      <th>top</th>\n",
       "      <th>adsorption_site</th>\n",
       "    </tr>\n",
       "  </thead>\n",
       "  <tbody>\n",
       "    <tr>\n",
       "      <th>random2181546</th>\n",
       "      <td>6510</td>\n",
       "      <td>69</td>\n",
       "      <td>mp-22179</td>\n",
       "      <td>Si2Ti2Y2</td>\n",
       "      <td>*N2</td>\n",
       "      <td>(2, 0, 1)</td>\n",
       "      <td>0.145</td>\n",
       "      <td>True</td>\n",
       "      <td>((4.5, 12.85, 16.13),)</td>\n",
       "    </tr>\n",
       "    <tr>\n",
       "      <th>random378384</th>\n",
       "      <td>2742</td>\n",
       "      <td>49</td>\n",
       "      <td>mp-9254</td>\n",
       "      <td>Al2Te5</td>\n",
       "      <td>*CHOCH2OH</td>\n",
       "      <td>(0, 2, 1)</td>\n",
       "      <td>0.031</td>\n",
       "      <td>False</td>\n",
       "      <td>((1.84, 6.17, 19.13),)</td>\n",
       "    </tr>\n",
       "    <tr>\n",
       "      <th>random1283307</th>\n",
       "      <td>3219</td>\n",
       "      <td>30</td>\n",
       "      <td>mp-1226096</td>\n",
       "      <td>Co7Ge4</td>\n",
       "      <td>*CHO*CHO</td>\n",
       "      <td>(0, 0, 1)</td>\n",
       "      <td>0.185</td>\n",
       "      <td>True</td>\n",
       "      <td>((0.25, 2.07, 25.26), (1.25, 1.11, 24.84))</td>\n",
       "    </tr>\n",
       "    <tr>\n",
       "      <th>random2061443</th>\n",
       "      <td>3381</td>\n",
       "      <td>79</td>\n",
       "      <td>mp-972941</td>\n",
       "      <td>Na2Bi6</td>\n",
       "      <td>*OHNH2</td>\n",
       "      <td>(2, 1, 2)</td>\n",
       "      <td>0.050</td>\n",
       "      <td>False</td>\n",
       "      <td>((6.22, 2.94, 26.1),)</td>\n",
       "    </tr>\n",
       "    <tr>\n",
       "      <th>random2070408</th>\n",
       "      <td>2889</td>\n",
       "      <td>1</td>\n",
       "      <td>mp-1601</td>\n",
       "      <td>RuTa</td>\n",
       "      <td>*H</td>\n",
       "      <td>(1, 1, 0)</td>\n",
       "      <td>0.250</td>\n",
       "      <td>True</td>\n",
       "      <td>((7.58, 5.29, 19.72),)</td>\n",
       "    </tr>\n",
       "    <tr>\n",
       "      <th>random2069970</th>\n",
       "      <td>7892</td>\n",
       "      <td>81</td>\n",
       "      <td>mp-567196</td>\n",
       "      <td>Cs3Sb2Cl9</td>\n",
       "      <td>*CN</td>\n",
       "      <td>(1, 0, 1)</td>\n",
       "      <td>0.165</td>\n",
       "      <td>False</td>\n",
       "      <td>((4.22, 1.86, 27.86),)</td>\n",
       "    </tr>\n",
       "    <tr>\n",
       "      <th>random2426372</th>\n",
       "      <td>1431</td>\n",
       "      <td>60</td>\n",
       "      <td>mp-561320</td>\n",
       "      <td>Pb2S2</td>\n",
       "      <td>*OHNNCH3</td>\n",
       "      <td>(2, 2, 1)</td>\n",
       "      <td>0.241</td>\n",
       "      <td>True</td>\n",
       "      <td>((4.09, 21.6, 28.5),)</td>\n",
       "    </tr>\n",
       "    <tr>\n",
       "      <th>random2049408</th>\n",
       "      <td>3760</td>\n",
       "      <td>56</td>\n",
       "      <td>mp-30933</td>\n",
       "      <td>Zr6Bi6</td>\n",
       "      <td>*CHOHCH2OH</td>\n",
       "      <td>(0, 1, 0)</td>\n",
       "      <td>0.250</td>\n",
       "      <td>True</td>\n",
       "      <td>((1.95, 2.21, 22.46),)</td>\n",
       "    </tr>\n",
       "    <tr>\n",
       "      <th>random1170099</th>\n",
       "      <td>2302</td>\n",
       "      <td>73</td>\n",
       "      <td>mp-249</td>\n",
       "      <td>Al2Hf2</td>\n",
       "      <td>*NONH</td>\n",
       "      <td>(2, 2, 1)</td>\n",
       "      <td>0.133</td>\n",
       "      <td>False</td>\n",
       "      <td>((6.37, 4.22, 18.83),)</td>\n",
       "    </tr>\n",
       "    <tr>\n",
       "      <th>random1530103</th>\n",
       "      <td>3589</td>\n",
       "      <td>73</td>\n",
       "      <td>mp-621624</td>\n",
       "      <td>Tl21Sb6</td>\n",
       "      <td>*NONH</td>\n",
       "      <td>(2, 1, 0)</td>\n",
       "      <td>0.059</td>\n",
       "      <td>True</td>\n",
       "      <td>((6.1, 2.21, 35.52),)</td>\n",
       "    </tr>\n",
       "  </tbody>\n",
       "</table>\n",
       "</div>"
      ],
      "text/plain": [
       "               bulk_id  ads_id   bulk_mpid bulk_symbols ads_symbols  \\\n",
       "random2181546     6510      69    mp-22179     Si2Ti2Y2         *N2   \n",
       "random378384      2742      49     mp-9254       Al2Te5   *CHOCH2OH   \n",
       "random1283307     3219      30  mp-1226096       Co7Ge4    *CHO*CHO   \n",
       "random2061443     3381      79   mp-972941       Na2Bi6      *OHNH2   \n",
       "random2070408     2889       1     mp-1601         RuTa          *H   \n",
       "random2069970     7892      81   mp-567196    Cs3Sb2Cl9         *CN   \n",
       "random2426372     1431      60   mp-561320        Pb2S2    *OHNNCH3   \n",
       "random2049408     3760      56    mp-30933       Zr6Bi6  *CHOHCH2OH   \n",
       "random1170099     2302      73      mp-249       Al2Hf2       *NONH   \n",
       "random1530103     3589      73   mp-621624      Tl21Sb6       *NONH   \n",
       "\n",
       "              miller_index  shift    top  \\\n",
       "random2181546    (2, 0, 1)  0.145   True   \n",
       "random378384     (0, 2, 1)  0.031  False   \n",
       "random1283307    (0, 0, 1)  0.185   True   \n",
       "random2061443    (2, 1, 2)  0.050  False   \n",
       "random2070408    (1, 1, 0)  0.250   True   \n",
       "random2069970    (1, 0, 1)  0.165  False   \n",
       "random2426372    (2, 2, 1)  0.241   True   \n",
       "random2049408    (0, 1, 0)  0.250   True   \n",
       "random1170099    (2, 2, 1)  0.133  False   \n",
       "random1530103    (2, 1, 0)  0.059   True   \n",
       "\n",
       "                                          adsorption_site  \n",
       "random2181546                      ((4.5, 12.85, 16.13),)  \n",
       "random378384                       ((1.84, 6.17, 19.13),)  \n",
       "random1283307  ((0.25, 2.07, 25.26), (1.25, 1.11, 24.84))  \n",
       "random2061443                       ((6.22, 2.94, 26.1),)  \n",
       "random2070408                      ((7.58, 5.29, 19.72),)  \n",
       "random2069970                      ((4.22, 1.86, 27.86),)  \n",
       "random2426372                       ((4.09, 21.6, 28.5),)  \n",
       "random2049408                      ((1.95, 2.21, 22.46),)  \n",
       "random1170099                      ((6.37, 4.22, 18.83),)  \n",
       "random1530103                       ((6.1, 2.21, 35.52),)  "
      ]
     },
     "execution_count": 246,
     "metadata": {},
     "output_type": "execute_result"
    }
   ],
   "source": [
    "df.head(10)"
   ]
  },
  {
   "cell_type": "code",
   "execution_count": 248,
   "id": "3fa59d34-56ce-4987-9793-4f2579a9f54f",
   "metadata": {},
   "outputs": [
    {
     "data": {
      "text/plain": [
       "bulk_id                                425\n",
       "ads_id                                  74\n",
       "bulk_mpid                          mp-1791\n",
       "bulk_symbols                       Al20Rh8\n",
       "ads_symbols                            *NH\n",
       "miller_index                     (2, 1, 1)\n",
       "shift                                0.118\n",
       "top                                   True\n",
       "adsorption_site    ((10.07, 0.67, 18.05),)\n",
       "Name: random2472718, dtype: object"
      ]
     },
     "execution_count": 248,
     "metadata": {},
     "output_type": "execute_result"
    }
   ],
   "source": [
    "df.loc['random2472718']"
   ]
  },
  {
   "cell_type": "code",
   "execution_count": 249,
   "id": "52d4b96e-dae9-448c-b915-061353dc0a15",
   "metadata": {
    "tags": []
   },
   "outputs": [],
   "source": [
    "import numpy as np\n",
    "from mendeleev import element\n",
    "\n",
    "def print_var_name(variable):\n",
    "     for name in locals():\n",
    "        if eval(name) == variable:\n",
    "            print(name)\n",
    "\n",
    "def getAtomSequence (sequence):\n",
    "    result = list([[sequence[0], 1]])\n",
    "    for i in range(1, len(sequence)):\n",
    "        if sequence[i] == result[-1][0]:\n",
    "            result[-1][1] += 1\n",
    "        else:\n",
    "            result.append([sequence[i], 1])\n",
    "    return dict(result)\n",
    "\n",
    "def structureToVASP(structure, file='POSCAR', str_name='structure', relaxed=False):\n",
    "    with open(f'{str_name}_POSCAR{\"_relaxed\" if relaxed else \"\"}', 'w') as f:\n",
    "        f.write(str_name + '\\n')\n",
    "        f.write(str(1.0) + '\\n')\n",
    "        for axis in np.array(structure.cell[0]):\n",
    "            for i in range(3):\n",
    "                f.write(str(axis[i]) + '   ')\n",
    "                if i == 2:\n",
    "                    f.write('\\n')\n",
    "        atoms = getAtomSequence(np.array(structure.atomic_numbers, dtype=int))\n",
    "        for k in atoms.keys():\n",
    "            f.write('   ' + element(round(k)).symbol)\n",
    "        f.write('\\n')\n",
    "        for v in atoms.values():\n",
    "            f.write('   ' + str(round(v)))\n",
    "        f.write('\\n')\n",
    "        f.write('Cartesian\\n')\n",
    "        for position in np.array(structure.pos if not relaxed else structure.pos_relaxed):\n",
    "            for i in range(3):\n",
    "                f.write(str(position[i]) + '   ')\n",
    "                if i == 2:\n",
    "                    f.write('\\n')          \n",
    "    return None\n",
    "\n",
    "for relaxed in [True, False] :\n",
    "    structureToVASP(dataset_train_10k[0], relaxed=relaxed, str_name='dataset_train10k[0]')"
   ]
  },
  {
   "cell_type": "raw",
   "id": "593e1d66-a274-4828-9c07-08ae97034278",
   "metadata": {},
   "source": [
    "PyG training"
   ]
  },
  {
   "cell_type": "code",
   "execution_count": 164,
   "id": "518c708c-f3d7-4e20-a7af-a98bd092e0f3",
   "metadata": {
    "collapsed": true,
    "jupyter": {
     "outputs_hidden": true
    }
   },
   "outputs": [
    {
     "name": "stdout",
     "output_type": "stream",
     "text": [
      "Downloading https://github.com/kimiyoung/planetoid/raw/master/data/ind.cora.x\n",
      "Downloading https://github.com/kimiyoung/planetoid/raw/master/data/ind.cora.tx\n",
      "Downloading https://github.com/kimiyoung/planetoid/raw/master/data/ind.cora.allx\n",
      "Downloading https://github.com/kimiyoung/planetoid/raw/master/data/ind.cora.y\n",
      "Downloading https://github.com/kimiyoung/planetoid/raw/master/data/ind.cora.ty\n",
      "Downloading https://github.com/kimiyoung/planetoid/raw/master/data/ind.cora.ally\n",
      "Downloading https://github.com/kimiyoung/planetoid/raw/master/data/ind.cora.graph\n",
      "Downloading https://github.com/kimiyoung/planetoid/raw/master/data/ind.cora.test.index\n",
      "Processing...\n",
      "Done!\n"
     ]
    }
   ],
   "source": [
    "from torch_geometric.datasets import Planetoid\n",
    "\n",
    "dataset = Planetoid(root='/tmp/Cora', name='Cora')"
   ]
  },
  {
   "cell_type": "code",
   "execution_count": 167,
   "id": "8a13b95c-d925-436d-831e-30a3c23eeacb",
   "metadata": {
    "collapsed": true,
    "jupyter": {
     "outputs_hidden": true
    }
   },
   "outputs": [],
   "source": [
    "import time\n",
    "import torch\n",
    "import torch.nn.functional as F\n",
    "from torch_geometric.nn import GCNConv\n",
    "\n",
    "sec = time.time()\n",
    "\n",
    "class Net(torch.nn.Module):\n",
    "    def __init__(self):\n",
    "        super(Net, self).__init__()\n",
    "        self.conv1 = GCNConv(dataset.num_node_features, 16)\n",
    "        self.conv2 = GCNConv(16, dataset.num_classes)\n",
    "\n",
    "    def forward(self, data):\n",
    "        x, edge_index = data.x, data.edge_index\n",
    "\n",
    "        x = self.conv1(x, edge_index)\n",
    "        x = F.relu(x)\n",
    "        x = F.dropout(x, training=self.training)\n",
    "        x = self.conv2(x, edge_index)\n",
    "\n",
    "        return F.log_softmax(x, dim=1)\n",
    "\n",
    "model = Net()\n",
    "data = dataset[0]\n",
    "optimizer = torch.optim.Adam(model.parameters(), lr=0.01, weight_decay=5e-4)\n",
    "\n",
    "model.train()\n",
    "for epoch in range(200):\n",
    "    optimizer.zero_grad()\n",
    "    out = model(data)\n",
    "    loss = F.nll_loss(out[data.train_mask], data.y[data.train_mask])\n",
    "    loss.backward()\n",
    "    optimizer.step()\n",
    "    if epoch % int(200/10) == 0:\n",
    "        print(epoch,':', time.time() - sec)\n",
    "\n",
    "print('Total:', time.time() - sec)\n",
    "\n",
    "model.eval()\n",
    "_, pred = model(data).max(dim=1)\n",
    "correct = int(pred[data.test_mask].eq(data.y[data.test_mask]).sum().item())\n",
    "acc = correct / int(data.test_mask.sum())\n",
    "print('Accuracy: {:.4f}'.format(acc))"
   ]
  },
  {
   "cell_type": "code",
   "execution_count": null,
   "id": "15a2e661-ddc5-47b6-9b21-731fce1d251c",
   "metadata": {
    "collapsed": true,
    "jupyter": {
     "outputs_hidden": true
    }
   },
   "outputs": [],
   "source": []
  }
 ],
 "metadata": {
  "kernelspec": {
   "display_name": "ocp-models",
   "language": "python",
   "name": "ocp-models"
  },
  "language_info": {
   "codemirror_mode": {
    "name": "ipython",
    "version": 3
   },
   "file_extension": ".py",
   "mimetype": "text/x-python",
   "name": "python",
   "nbconvert_exporter": "python",
   "pygments_lexer": "ipython3",
   "version": "3.8.10"
  }
 },
 "nbformat": 4,
 "nbformat_minor": 5
}
