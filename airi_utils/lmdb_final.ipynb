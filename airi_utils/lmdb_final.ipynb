{
 "cells": [
  {
   "cell_type": "markdown",
   "id": "2d0189f7-ddc5-407a-976f-d517aac571e1",
   "metadata": {
    "tags": []
   },
   "source": [
    "## Imports"
   ]
  },
  {
   "cell_type": "code",
   "execution_count": 2,
   "id": "f2182ae7-be2b-4e68-8c8d-ead0fb6ab762",
   "metadata": {
    "tags": []
   },
   "outputs": [],
   "source": [
    "# import lmdb\n",
    "# import torch\n",
    "from DataClasses import lmdb_dataset\n",
    "import time\n",
    "import pandas as pd\n",
    "import matplotlib.pyplot as plt\n",
    "# import seaborn as sns\n",
    "import pickle\n",
    "from tqdm import tqdm\n",
    "import os"
   ]
  },
  {
   "cell_type": "markdown",
   "id": "ceab79ac-0915-4093-bf18-16e809c55eed",
   "metadata": {},
   "source": [
    "## Open datasets"
   ]
  },
  {
   "cell_type": "code",
   "execution_count": 21,
   "id": "0f04fcd3-f4c1-453f-ba03-8dce97c3d538",
   "metadata": {
    "tags": []
   },
   "outputs": [],
   "source": [
    "root_dir = \"../../ocp_datasets/data/is2re/\"\n",
    "file = 'data_mod.lmdbz'\n",
    "datasets = {\n",
    "    \n",
    "    'train_10k':     '10k/train/',\n",
    "    'train_100k':    '100k/train/',\n",
    "    'train_all':     'all/train/',\n",
    "\n",
    "    'val_id':        'all/val_id/',\n",
    "    'val_ood_ads':   'all/val_ood_ads/',\n",
    "    'val_ood_cat':   'all/val_ood_cat/',\n",
    "    'val_ood_both':  'all/val_ood_both/',\n",
    "\n",
    "    'test_id':       'all/test_id/',\n",
    "    'test_ood_ads':  'all/test_ood_ads/',\n",
    "    'test_ood_cat':  'all/test_ood_cat/',\n",
    "    'test_ood_both': 'all/test_ood_both/'\n",
    "}\n",
    "\n",
    "datasets = {k:(root_dir + v + file) for k, v in datasets.items()}"
   ]
  },
  {
   "cell_type": "code",
   "execution_count": null,
   "id": "b4d7d966-04df-4a7f-8598-40568bec952b",
   "metadata": {},
   "outputs": [],
   "source": [
    "train_10k = lmdb_dataset(datasets['train_10k'])"
   ]
  },
  {
   "cell_type": "code",
   "execution_count": 23,
   "id": "eb0f349f-4b11-4e9b-a7c8-f1370547c2af",
   "metadata": {},
   "outputs": [],
   "source": [
    "train_all = lmdb_dataset(datasets['train_all'])"
   ]
  },
  {
   "cell_type": "code",
   "execution_count": 3,
   "id": "6ff69145-448f-4f83-9a96-30d15f6c0e78",
   "metadata": {},
   "outputs": [],
   "source": [
    "test_challenge = lmdb_dataset('/share/catalyst/ocp_datasets/is2re_test_challenge_2021/data_mod1_0_50039.lmdbz')"
   ]
  },
  {
   "cell_type": "code",
   "execution_count": 4,
   "id": "fa1becae-d926-427a-a30e-dadd1686bfd0",
   "metadata": {},
   "outputs": [
    {
     "name": "stdout",
     "output_type": "stream",
     "text": [
      "total entries: 50040\n",
      "info for item: 3228\n",
      "edge_index:...............<class 'torch.Tensor'>..... [2, 2302]\n",
      "pos:......................<class 'torch.Tensor'>.....   [67, 3]\n",
      "cell:.....................<class 'torch.Tensor'>..... [1, 3, 3]\n",
      "atomic_numbers:...........<class 'torch.Tensor'>.....      [67]\n",
      "natoms:...................       <class 'int'>.....        67\n",
      "cell_offsets:.............<class 'torch.Tensor'>..... [2302, 3]\n",
      "distances:................<class 'torch.Tensor'>.....    [2302]\n",
      "fixed:....................<class 'torch.Tensor'>.....      [67]\n",
      "sid:......................       <class 'int'>.....      3241\n",
      "tags:.....................<class 'torch.Tensor'>.....      [67]\n",
      "voronoi_volumes:..........<class 'torch.Tensor'>.....      [67]\n",
      "voronoi_surface_areas:....<class 'torch.Tensor'>.....      [67]\n",
      "spherical_domain_radii:...<class 'torch.Tensor'>.....      [67]\n",
      "cell_offsets_new:.........<class 'torch.Tensor'>.....  [912, 3]\n",
      "distances_new:............<class 'torch.Tensor'>.....     [912]\n",
      "contact_solid_angles:.....<class 'torch.Tensor'>.....     [912]\n",
      "direct_neighbor:..........<class 'torch.Tensor'>.....     [912]\n",
      "edge_index_new:...........<class 'torch.Tensor'>.....  [2, 912]\n",
      "edge_distance_vec:........<class 'torch.Tensor'>.....  [912, 3]\n"
     ]
    }
   ],
   "source": [
    "test_challenge.describe(3228)"
   ]
  },
  {
   "cell_type": "code",
   "execution_count": 6,
   "id": "df2e6005-dcff-4769-9649-3e0f9f1c165b",
   "metadata": {},
   "outputs": [
    {
     "data": {
      "text/plain": [
       "torch_geometric.data.data.Data"
      ]
     },
     "execution_count": 6,
     "metadata": {},
     "output_type": "execute_result"
    }
   ],
   "source": [
    "type(test_challenge[3219])"
   ]
  },
  {
   "cell_type": "markdown",
   "id": "31c87e71-a00a-4332-b7d4-2704b82a6d0b",
   "metadata": {},
   "source": [
    "#### Calculate neighbours for each edge"
   ]
  },
  {
   "cell_type": "code",
   "execution_count": 110,
   "id": "d0949879-0f93-4acf-b734-cb87269b85f1",
   "metadata": {},
   "outputs": [
    {
     "data": {
      "text/html": [
       "<div>\n",
       "<style scoped>\n",
       "    .dataframe tbody tr th:only-of-type {\n",
       "        vertical-align: middle;\n",
       "    }\n",
       "\n",
       "    .dataframe tbody tr th {\n",
       "        vertical-align: top;\n",
       "    }\n",
       "\n",
       "    .dataframe thead th {\n",
       "        text-align: right;\n",
       "    }\n",
       "</style>\n",
       "<table border=\"1\" class=\"dataframe\">\n",
       "  <thead>\n",
       "    <tr style=\"text-align: right;\">\n",
       "      <th></th>\n",
       "      <th>edge_theta</th>\n",
       "      <th>edge_to_z</th>\n",
       "      <th>edge_phi</th>\n",
       "      <th>nb</th>\n",
       "    </tr>\n",
       "    <tr>\n",
       "      <th>edge_id</th>\n",
       "      <th></th>\n",
       "      <th></th>\n",
       "      <th></th>\n",
       "      <th></th>\n",
       "    </tr>\n",
       "  </thead>\n",
       "  <tbody>\n",
       "    <tr>\n",
       "      <th>2</th>\n",
       "      <td>1.627043</td>\n",
       "      <td>0.095988</td>\n",
       "      <td>-3.064711</td>\n",
       "      <td>(0, 39)</td>\n",
       "    </tr>\n",
       "    <tr>\n",
       "      <th>4</th>\n",
       "      <td>1.229412</td>\n",
       "      <td>1.653501</td>\n",
       "      <td>1.529088</td>\n",
       "      <td>(0, 81)</td>\n",
       "    </tr>\n",
       "    <tr>\n",
       "      <th>6</th>\n",
       "      <td>1.132122</td>\n",
       "      <td>1.285322</td>\n",
       "      <td>1.928316</td>\n",
       "      <td>(0, 45)</td>\n",
       "    </tr>\n",
       "    <tr>\n",
       "      <th>8</th>\n",
       "      <td>1.619575</td>\n",
       "      <td>3.080940</td>\n",
       "      <td>0.000000</td>\n",
       "      <td>(0, 74)</td>\n",
       "    </tr>\n",
       "    <tr>\n",
       "      <th>10</th>\n",
       "      <td>2.704089</td>\n",
       "      <td>1.730270</td>\n",
       "      <td>-1.213277</td>\n",
       "      <td>(0, 56)</td>\n",
       "    </tr>\n",
       "    <tr>\n",
       "      <th>12</th>\n",
       "      <td>2.151265</td>\n",
       "      <td>1.647651</td>\n",
       "      <td>1.563712</td>\n",
       "      <td>(0, 28)</td>\n",
       "    </tr>\n",
       "    <tr>\n",
       "      <th>14</th>\n",
       "      <td>1.712360</td>\n",
       "      <td>1.886601</td>\n",
       "      <td>-1.197399</td>\n",
       "      <td>(0, 37)</td>\n",
       "    </tr>\n",
       "    <tr>\n",
       "      <th>16</th>\n",
       "      <td>2.358017</td>\n",
       "      <td>0.846375</td>\n",
       "      <td>2.991061</td>\n",
       "      <td>(0, 35)</td>\n",
       "    </tr>\n",
       "    <tr>\n",
       "      <th>18</th>\n",
       "      <td>2.867928</td>\n",
       "      <td>1.389703</td>\n",
       "      <td>-2.443446</td>\n",
       "      <td>(0, 69)</td>\n",
       "    </tr>\n",
       "    <tr>\n",
       "      <th>20</th>\n",
       "      <td>2.727654</td>\n",
       "      <td>1.481655</td>\n",
       "      <td>1.944193</td>\n",
       "      <td>(0, 43)</td>\n",
       "    </tr>\n",
       "    <tr>\n",
       "      <th>22</th>\n",
       "      <td>2.103189</td>\n",
       "      <td>1.212378</td>\n",
       "      <td>2.075027</td>\n",
       "      <td>(0, 75)</td>\n",
       "    </tr>\n",
       "    <tr>\n",
       "      <th>24</th>\n",
       "      <td>3.141247</td>\n",
       "      <td>1.609003</td>\n",
       "      <td>1.102636</td>\n",
       "      <td>(0, 12)</td>\n",
       "    </tr>\n",
       "    <tr>\n",
       "      <th>26</th>\n",
       "      <td>2.171991</td>\n",
       "      <td>1.015505</td>\n",
       "      <td>-2.239806</td>\n",
       "      <td>(0, 83)</td>\n",
       "    </tr>\n",
       "    <tr>\n",
       "      <th>28</th>\n",
       "      <td>2.414379</td>\n",
       "      <td>1.388636</td>\n",
       "      <td>-1.832159</td>\n",
       "      <td>(0, 5)</td>\n",
       "    </tr>\n",
       "    <tr>\n",
       "      <th>297</th>\n",
       "      <td>1.099753</td>\n",
       "      <td>1.770933</td>\n",
       "      <td>-1.265836</td>\n",
       "      <td>(17, 10)</td>\n",
       "    </tr>\n",
       "    <tr>\n",
       "      <th>377</th>\n",
       "      <td>0.752854</td>\n",
       "      <td>1.613804</td>\n",
       "      <td>1.526664</td>\n",
       "      <td>(17, 12)</td>\n",
       "    </tr>\n",
       "    <tr>\n",
       "      <th>421</th>\n",
       "      <td>1.458374</td>\n",
       "      <td>1.027473</td>\n",
       "      <td>-2.053578</td>\n",
       "      <td>(17, 14)</td>\n",
       "    </tr>\n",
       "    <tr>\n",
       "      <th>500</th>\n",
       "      <td>0.315482</td>\n",
       "      <td>1.761883</td>\n",
       "      <td>0.812715</td>\n",
       "      <td>(17, 56)</td>\n",
       "    </tr>\n",
       "    <tr>\n",
       "      <th>502</th>\n",
       "      <td>1.229412</td>\n",
       "      <td>1.653501</td>\n",
       "      <td>1.529088</td>\n",
       "      <td>(17, 81)</td>\n",
       "    </tr>\n",
       "    <tr>\n",
       "      <th>504</th>\n",
       "      <td>1.712360</td>\n",
       "      <td>1.886601</td>\n",
       "      <td>-1.197399</td>\n",
       "      <td>(17, 37)</td>\n",
       "    </tr>\n",
       "    <tr>\n",
       "      <th>506</th>\n",
       "      <td>0.247582</td>\n",
       "      <td>1.510847</td>\n",
       "      <td>-1.604589</td>\n",
       "      <td>(17, 68)</td>\n",
       "    </tr>\n",
       "    <tr>\n",
       "      <th>508</th>\n",
       "      <td>0.610391</td>\n",
       "      <td>1.654412</td>\n",
       "      <td>-1.309187</td>\n",
       "      <td>(17, 50)</td>\n",
       "    </tr>\n",
       "    <tr>\n",
       "      <th>510</th>\n",
       "      <td>0.842615</td>\n",
       "      <td>1.493090</td>\n",
       "      <td>-1.581071</td>\n",
       "      <td>(17, 25)</td>\n",
       "    </tr>\n",
       "    <tr>\n",
       "      <th>512</th>\n",
       "      <td>1.627043</td>\n",
       "      <td>0.095988</td>\n",
       "      <td>-3.064711</td>\n",
       "      <td>(17, 39)</td>\n",
       "    </tr>\n",
       "    <tr>\n",
       "      <th>514</th>\n",
       "      <td>0.761843</td>\n",
       "      <td>0.885620</td>\n",
       "      <td>-2.581379</td>\n",
       "      <td>(17, 42)</td>\n",
       "    </tr>\n",
       "    <tr>\n",
       "      <th>516</th>\n",
       "      <td>0.441887</td>\n",
       "      <td>1.193984</td>\n",
       "      <td>2.525654</td>\n",
       "      <td>(17, 27)</td>\n",
       "    </tr>\n",
       "    <tr>\n",
       "      <th>518</th>\n",
       "      <td>0.932569</td>\n",
       "      <td>0.688262</td>\n",
       "      <td>2.836015</td>\n",
       "      <td>(17, 63)</td>\n",
       "    </tr>\n",
       "    <tr>\n",
       "      <th>520</th>\n",
       "      <td>1.132122</td>\n",
       "      <td>1.285322</td>\n",
       "      <td>1.928316</td>\n",
       "      <td>(17, 45)</td>\n",
       "    </tr>\n",
       "  </tbody>\n",
       "</table>\n",
       "</div>"
      ],
      "text/plain": [
       "         edge_theta  edge_to_z  edge_phi        nb\n",
       "edge_id                                           \n",
       "2          1.627043   0.095988 -3.064711   (0, 39)\n",
       "4          1.229412   1.653501  1.529088   (0, 81)\n",
       "6          1.132122   1.285322  1.928316   (0, 45)\n",
       "8          1.619575   3.080940  0.000000   (0, 74)\n",
       "10         2.704089   1.730270 -1.213277   (0, 56)\n",
       "12         2.151265   1.647651  1.563712   (0, 28)\n",
       "14         1.712360   1.886601 -1.197399   (0, 37)\n",
       "16         2.358017   0.846375  2.991061   (0, 35)\n",
       "18         2.867928   1.389703 -2.443446   (0, 69)\n",
       "20         2.727654   1.481655  1.944193   (0, 43)\n",
       "22         2.103189   1.212378  2.075027   (0, 75)\n",
       "24         3.141247   1.609003  1.102636   (0, 12)\n",
       "26         2.171991   1.015505 -2.239806   (0, 83)\n",
       "28         2.414379   1.388636 -1.832159    (0, 5)\n",
       "297        1.099753   1.770933 -1.265836  (17, 10)\n",
       "377        0.752854   1.613804  1.526664  (17, 12)\n",
       "421        1.458374   1.027473 -2.053578  (17, 14)\n",
       "500        0.315482   1.761883  0.812715  (17, 56)\n",
       "502        1.229412   1.653501  1.529088  (17, 81)\n",
       "504        1.712360   1.886601 -1.197399  (17, 37)\n",
       "506        0.247582   1.510847 -1.604589  (17, 68)\n",
       "508        0.610391   1.654412 -1.309187  (17, 50)\n",
       "510        0.842615   1.493090 -1.581071  (17, 25)\n",
       "512        1.627043   0.095988 -3.064711  (17, 39)\n",
       "514        0.761843   0.885620 -2.581379  (17, 42)\n",
       "516        0.441887   1.193984  2.525654  (17, 27)\n",
       "518        0.932569   0.688262  2.836015  (17, 63)\n",
       "520        1.132122   1.285322  1.928316  (17, 45)"
      ]
     },
     "execution_count": 110,
     "metadata": {},
     "output_type": "execute_result"
    }
   ],
   "source": [
    "def t2str(tensor, index):\n",
    "    return tensor.T[index].numpy()\n",
    "\n",
    "system = train_10k[0]\n",
    "edge_angles = system['edge_angles'][0]\n",
    "edge_index = system['edge_index_new']\n",
    "\n",
    "edge_angles['nb'] = list(map(tuple,t2str(edge_index, edge_angles.index)))\n",
    "edge_angles"
   ]
  },
  {
   "cell_type": "raw",
   "id": "2cc6e66d-8662-43f8-b2ff-e7dac111d3d9",
   "metadata": {
    "tags": []
   },
   "source": [
    "def describe(dataset, idx=0):\n",
    "    dataset = dataset[idx]\n",
    "    print(f'item: {idx}')\n",
    "    for key in dataset.keys:\n",
    "        obj = dataset.__getitem__(key)\n",
    "        dot = 25\n",
    "\n",
    "        if type(obj) is Tensor:\n",
    "            print(f'{key}:{\".\"*(dot-len(key))}{str(list(obj.shape)):>10}')\n",
    "        elif type(obj) is float:\n",
    "            print(f'{key}:{\".\"*(dot-len(key))}{obj:>10.4f}')\n",
    "        else:\n",
    "            print(f'{key}:{\".\"*(dot-len(key))}{obj:>10}')"
   ]
  },
  {
   "cell_type": "markdown",
   "id": "0ff3332d-dfa9-4c7e-8f0c-88566cdc4d24",
   "metadata": {},
   "source": [
    "## Analyzing dataset"
   ]
  },
  {
   "cell_type": "markdown",
   "id": "127a0139-e1bc-416b-91c2-20a026757c1e",
   "metadata": {},
   "source": [
    "#### Describe dataset function (already used as method .describe() in lmdb_dataset)"
   ]
  },
  {
   "cell_type": "markdown",
   "id": "ba0881e6-4c48-4ec9-b985-b34bba5151e3",
   "metadata": {},
   "source": [
    "#### create DataFrame of .natom keys"
   ]
  },
  {
   "cell_type": "code",
   "execution_count": null,
   "id": "1c79ad3a-90a9-430b-af23-470f88ef82d2",
   "metadata": {
    "tags": []
   },
   "outputs": [],
   "source": [
    "# create DataFrame of .natom keys\n",
    "def natom_hist(dataset):\n",
    "    from collections import defaultdict\n",
    "    import pandas as pd\n",
    "    sec = time.time()\n",
    "    dic = defaultdict(int)\n",
    "    for struct in dataset:\n",
    "        dic[struct.natoms] += 1\n",
    "    print(f'done for: {time.time() - sec:.2f} s')\n",
    "\n",
    "    dic_mod = {k:[v] for k,v in dict(dic).items()}\n",
    "    return pd.DataFrame.from_dict(dic_mod, orient='index', columns=['N']).sort_index()\n",
    "\n",
    "\n",
    "# TODO multiprocessing edition of function\n",
    "# from multiprocessing import Pool\n",
    "# def natom_hist(dataset):\n",
    "#     from collections import defaultdict\n",
    "#     import pandas as pd\n",
    "#     sec = time.time()\n",
    "#     dic = defaultdict(int)\n",
    "#     for struct in dataset:\n",
    "#         dic[struct.natoms] += 1\n",
    "#     print(time.time() - sec)\n",
    "\n",
    "#     dic_mod = {k:[v] for k,v in dict(dic).items()}\n",
    "#     return pd.DataFrame.from_dict(dic_mod, orient='index', columns=['N']).sort_index()"
   ]
  },
  {
   "cell_type": "code",
   "execution_count": 54,
   "id": "62dccecf-30df-4812-a8cb-010db6f48ff8",
   "metadata": {
    "tags": []
   },
   "outputs": [
    {
     "name": "stdout",
     "output_type": "stream",
     "text": [
      "done for: 3.75 s\n"
     ]
    }
   ],
   "source": [
    "# long time to run (~20 min)\n",
    "train_10k_df = natom_hist(train_10k)"
   ]
  },
  {
   "cell_type": "markdown",
   "id": "9b013e2e-8151-4754-b120-76984a0b3777",
   "metadata": {
    "tags": []
   },
   "source": [
    "#### Sparce distribution"
   ]
  },
  {
   "cell_type": "code",
   "execution_count": 55,
   "id": "fc23ee39-9a84-481c-96ac-287054f3cd54",
   "metadata": {
    "tags": []
   },
   "outputs": [],
   "source": [
    "def df_distr(dic):\n",
    "    dic = dic.to_dict()\n",
    "    key = list(dic.keys())[0]\n",
    "    dic1 = {key:{i:0 for i in range(1, 301)}}\n",
    "    \n",
    "    for k, v in dic[key].items():\n",
    "        dic1[key][k] = v\n",
    "    return pd.DataFrame.from_dict(dic1)"
   ]
  },
  {
   "cell_type": "code",
   "execution_count": 56,
   "id": "ca7196cc-c2cd-4f4a-98fa-3dab99874dda",
   "metadata": {},
   "outputs": [],
   "source": [
    "frames = (train_10k_df,)\n",
    "frames_distr = [0]*len(frames)"
   ]
  },
  {
   "cell_type": "code",
   "execution_count": 57,
   "id": "c6a94c5f-8cf8-4717-a945-105e6dde5c8e",
   "metadata": {},
   "outputs": [],
   "source": [
    "for i, frame in enumerate(frames):\n",
    "    frames_distr[i] = df_distr(frame)"
   ]
  },
  {
   "cell_type": "code",
   "execution_count": null,
   "id": "1f39081a-357d-4113-9922-7050d98df0ad",
   "metadata": {},
   "outputs": [],
   "source": []
  },
  {
   "cell_type": "code",
   "execution_count": null,
   "id": "555aa717-ff17-43e6-93d6-9ea14385eaf4",
   "metadata": {
    "tags": []
   },
   "outputs": [],
   "source": [
    "df_all = pd.concat(frames_distr, axis=1)\n",
    "df_all.columns = ['df_train_all', 'dataset_test_id_df', 'dataset_train_10k_df', 'dataset_val_ood_both_df']\n",
    "df_all_norm = df_all.fillna(0)\n",
    "df_all_norm = df_all_norm.apply(lambda x: x / x.max())\n",
    "df_all_norm.plot()"
   ]
  },
  {
   "cell_type": "raw",
   "id": "1e4aedfb-d042-4ced-aa46-3677dad15f5e",
   "metadata": {
    "jupyter": {
     "outputs_hidden": true
    }
   },
   "source": [
    "# alternative normalizing by sklearn\n",
    "from sklearn import preprocessing\n",
    "df_index = df_all.index.to_list()\n",
    "x = df_all.values #returns a numpy array\n",
    "min_max_scaler = preprocessing.MinMaxScaler()\n",
    "x_scaled = min_max_scaler.fit_transform(x)\n",
    "df_all_norm = pd.DataFrame(x_scaled)"
   ]
  },
  {
   "cell_type": "code",
   "execution_count": null,
   "id": "0610cebf-ff90-4186-be01-26452f533a97",
   "metadata": {
    "tags": []
   },
   "outputs": [],
   "source": [
    "dataset_train_keys_10k_keys = set(dataset_train_10k[0].keys)\n",
    "dataset_val_ood_both_keys = set(dataset_val_ood_both[0].keys)\n",
    "dataset_test_keys_id_keys = set(dataset_test_id[0].keys)"
   ]
  },
  {
   "cell_type": "code",
   "execution_count": null,
   "id": "8542c615-544c-435f-b813-e4063d862186",
   "metadata": {
    "tags": []
   },
   "outputs": [],
   "source": [
    "print(dataset_train_keys_10k_keys, dataset_val_ood_both_keys, dataset_test_keys_id_keys, sep='\\n')\n",
    "print(dataset_train_keys_10k_keys - dataset_test_keys_id_keys)"
   ]
  },
  {
   "cell_type": "code",
   "execution_count": null,
   "id": "6aba76ae-5cda-4209-bd4f-d0c1eda52ae4",
   "metadata": {
    "tags": []
   },
   "outputs": [],
   "source": [
    "print(dataset_train_10k[0])\n",
    "# for i in dataset_train_keys_10k_keys:\n",
    "#         print((i, getattr(dataset_train_10k[0], i)))\n",
    "\n",
    "for i in dataset_train_keys_10k_keys:\n",
    "        temp = getattr(dataset_train_10k[0], i)\n",
    "        print(i, temp)\n",
    "#         if type(temp) not in [float, int]:\n",
    "#             print(temp.shape)\n",
    "#         else: print(temp)"
   ]
  },
  {
   "cell_type": "code",
   "execution_count": null,
   "id": "c5fe6277-11bf-42d0-a346-d03653ed5e35",
   "metadata": {
    "tags": []
   },
   "outputs": [],
   "source": [
    "dataset_train_10k[0]['y_relaxed']"
   ]
  },
  {
   "cell_type": "code",
   "execution_count": null,
   "id": "fa8889b5-8607-4467-959f-27d4d02d7b23",
   "metadata": {
    "tags": []
   },
   "outputs": [],
   "source": [
    "from collections import Counter\n",
    "# Counter(list(dataset_train_10k[0].atomic_numbers))\n",
    "dataset_train_10k[0].atomic_numbers[0].item()\n",
    "Counter([dataset_train_10k[0].atomic_numbers[i].item() for i in range(dataset_train_10k[0].atomic_numbers.shape[0])])\n",
    "# compare = [(\"\\n\".join((getattr(dataset_train_10k[0], i), getattr(dataset_test[0], i)))) for i in dataset_test[0].keys]"
   ]
  },
  {
   "cell_type": "code",
   "execution_count": null,
   "id": "a974aa66-3d68-4973-bd59-756fb48eaaf7",
   "metadata": {},
   "outputs": [],
   "source": [
    "dataset_train_10k[0].edge_index.shape"
   ]
  },
  {
   "cell_type": "code",
   "execution_count": null,
   "id": "a52481b2-87c6-4461-a0a9-314cea3d7917",
   "metadata": {},
   "outputs": [],
   "source": [
    "dataset_train_10k[0].natoms"
   ]
  },
  {
   "cell_type": "code",
   "execution_count": null,
   "id": "2ee5209b-a250-4474-ac36-8aef799722d1",
   "metadata": {},
   "outputs": [],
   "source": [
    "86**2/2"
   ]
  },
  {
   "cell_type": "code",
   "execution_count": null,
   "id": "a99af59c-b4b2-4d75-bdfa-31acb01a049b",
   "metadata": {
    "tags": []
   },
   "outputs": [],
   "source": [
    "print(dataset_train_10k[0])"
   ]
  },
  {
   "cell_type": "code",
   "execution_count": null,
   "id": "40ec8583-ba3e-4c3f-af04-51a604060f00",
   "metadata": {},
   "outputs": [],
   "source": [
    "import pandas as pd\n",
    "\n",
    "dic = pd.read_pickle(\"/Users/korovin/Documents/GitHub/ocp_datasets/oc20_data_mapping.pkl\")\n",
    "# or use online https://dl.fbaipublicfiles.com/opencatalystproject/data/oc20_data_mapping.pkl\n",
    "\n",
    "df = pd.DataFrame.from_dict(dic, orient='index')"
   ]
  },
  {
   "cell_type": "code",
   "execution_count": null,
   "id": "d7fceef3-7aff-426c-b1a4-70ea2d069aae",
   "metadata": {},
   "outputs": [],
   "source": [
    "df.head(10)"
   ]
  },
  {
   "cell_type": "code",
   "execution_count": null,
   "id": "3fa59d34-56ce-4987-9793-4f2579a9f54f",
   "metadata": {},
   "outputs": [],
   "source": [
    "df.loc['random2472718']"
   ]
  },
  {
   "cell_type": "markdown",
   "id": "e5d35ee3-3e81-4206-8f4f-a6987b648b9c",
   "metadata": {},
   "source": [
    "## Structure of element to VASP"
   ]
  },
  {
   "cell_type": "code",
   "execution_count": 31,
   "id": "52d4b96e-dae9-448c-b915-061353dc0a15",
   "metadata": {
    "tags": []
   },
   "outputs": [],
   "source": [
    "import numpy as np\n",
    "from mendeleev import element\n",
    "\n",
    "def print_var_name(variable):\n",
    "     for name in locals():\n",
    "        if eval(name) == variable:\n",
    "            print(name)\n",
    "\n",
    "def getAtomSequence (sequence):\n",
    "    result = list([[sequence[0], 1]])\n",
    "    for i in range(1, len(sequence)):\n",
    "        if sequence[i] == result[-1][0]:\n",
    "            result[-1][1] += 1\n",
    "        else:\n",
    "            result.append([sequence[i], 1])\n",
    "    return dict(result)\n",
    "\n",
    "def structureToVASP(structure, file='POSCAR', str_name='structure', relaxed=False):\n",
    "    with open(f'{str_name}_POSCAR{\"_relaxed\" if relaxed else \"\"}', 'w') as f:\n",
    "        f.write(str_name + '\\n')\n",
    "        f.write(str(1.0) + '\\n')\n",
    "        for axis in np.array(structure.cell[0]):\n",
    "            for i in range(3):\n",
    "                f.write(str(axis[i]) + '   ')\n",
    "                if i == 2:\n",
    "                    f.write('\\n')\n",
    "        atoms = getAtomSequence(np.array(structure.atomic_numbers, dtype=int))\n",
    "        for k in atoms.keys():\n",
    "            f.write('   ' + element(round(k)).symbol)\n",
    "        f.write('\\n')\n",
    "        for v in atoms.values():\n",
    "            f.write('   ' + str(round(v)))\n",
    "        f.write('\\n')\n",
    "        f.write('Cartesian\\n')\n",
    "        for position in np.array(structure.pos if not relaxed else structure.pos_relaxed):\n",
    "            for i in range(3):\n",
    "                f.write(str(position[i]) + '   ')\n",
    "                if i == 2:\n",
    "                    f.write('\\n')          \n",
    "    return None\n",
    "\n",
    "i = 3219\n",
    "PATH = 'POSCAR/'\n",
    "for relaxed in [True, False] :\n",
    "    structureToVASP(train_all[i], relaxed=relaxed, str_name=f'{PATH}train_all[{i}]')"
   ]
  },
  {
   "cell_type": "markdown",
   "id": "3843a04b-a288-4988-83ee-9879b3c40314",
   "metadata": {
    "jp-MarkdownHeadingCollapsed": true,
    "tags": []
   },
   "source": [
    "## PyG training"
   ]
  },
  {
   "cell_type": "code",
   "execution_count": null,
   "id": "518c708c-f3d7-4e20-a7af-a98bd092e0f3",
   "metadata": {},
   "outputs": [],
   "source": [
    "from torch_geometric.datasets import Planetoid\n",
    "\n",
    "dataset = Planetoid(root='/tmp/Cora', name='Cora')"
   ]
  },
  {
   "cell_type": "code",
   "execution_count": null,
   "id": "8a13b95c-d925-436d-831e-30a3c23eeacb",
   "metadata": {},
   "outputs": [],
   "source": [
    "import time\n",
    "import torch\n",
    "import torch.nn.functional as F\n",
    "from torch_geometric.nn import GCNConv\n",
    "\n",
    "sec = time.time()\n",
    "\n",
    "class Net(torch.nn.Module):\n",
    "    def __init__(self):\n",
    "        super(Net, self).__init__()\n",
    "        self.conv1 = GCNConv(dataset.num_node_features, 16)\n",
    "        self.conv2 = GCNConv(16, dataset.num_classes)\n",
    "\n",
    "    def forward(self, data):\n",
    "        x, edge_index = data.x, data.edge_index\n",
    "\n",
    "        x = self.conv1(x, edge_index)\n",
    "        x = F.relu(x)\n",
    "        x = F.dropout(x, training=self.training)\n",
    "        x = self.conv2(x, edge_index)\n",
    "\n",
    "        return F.log_softmax(x, dim=1)\n",
    "\n",
    "model = Net()\n",
    "data = dataset[0]\n",
    "optimizer = torch.optim.Adam(model.parameters(), lr=0.01, weight_decay=5e-4)\n",
    "\n",
    "model.train()\n",
    "for epoch in range(200):\n",
    "    optimizer.zero_grad()\n",
    "    out = model(data)\n",
    "    loss = F.nll_loss(out[data.train_mask], data.y[data.train_mask])\n",
    "    loss.backward()\n",
    "    optimizer.step()\n",
    "    if epoch % int(200/10) == 0:\n",
    "        print(epoch,':', time.time() - sec)\n",
    "\n",
    "print('Total:', time.time() - sec)\n",
    "\n",
    "model.eval()\n",
    "_, pred = model(data).max(dim=1)\n",
    "correct = int(pred[data.test_mask].eq(data.y[data.test_mask]).sum().item())\n",
    "acc = correct / int(data.test_mask.sum())\n",
    "print('Accuracy: {:.4f}'.format(acc))"
   ]
  }
 ],
 "metadata": {
  "kernelspec": {
   "display_name": "ocp_models",
   "language": "python",
   "name": "ocp_models"
  },
  "language_info": {
   "codemirror_mode": {
    "name": "ipython",
    "version": 3
   },
   "file_extension": ".py",
   "mimetype": "text/x-python",
   "name": "python",
   "nbconvert_exporter": "python",
   "pygments_lexer": "ipython3",
   "version": "3.8.12"
  }
 },
 "nbformat": 4,
 "nbformat_minor": 5
}
