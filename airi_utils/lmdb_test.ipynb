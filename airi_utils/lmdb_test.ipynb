{
 "cells": [
  {
   "cell_type": "raw",
   "id": "03451876-d435-42ab-93d6-12c16d204047",
   "metadata": {},
   "source": [
    "https://www.programmersought.com/article/84646175252/"
   ]
  },
  {
   "cell_type": "code",
   "execution_count": 3,
   "id": "34806c7b-1b41-4783-9ae8-e239db696563",
   "metadata": {},
   "outputs": [],
   "source": [
    "import lmdb"
   ]
  },
  {
   "cell_type": "markdown",
   "id": "728ce433-5321-4db9-a50a-15d04867f22c",
   "metadata": {},
   "source": [
    "Запись в lmdb"
   ]
  },
  {
   "cell_type": "code",
   "execution_count": 17,
   "id": "eed34f5b-9554-4ea0-a12e-0c442899b7d5",
   "metadata": {},
   "outputs": [],
   "source": [
    "env = lmdb.open('test')"
   ]
  },
  {
   "cell_type": "code",
   "execution_count": 18,
   "id": "d8cd4c62-7302-43ea-9b45-60be2071fbab",
   "metadata": {},
   "outputs": [],
   "source": [
    "txt = env.begin(write=True)"
   ]
  },
  {
   "cell_type": "code",
   "execution_count": 19,
   "id": "48d67879-3b43-4a6c-b667-334d5a413449",
   "metadata": {},
   "outputs": [
    {
     "data": {
      "text/plain": [
       "True"
      ]
     },
     "execution_count": 19,
     "metadata": {},
     "output_type": "execute_result"
    }
   ],
   "source": [
    "txt.put(key = str(1).encode() , value = str(111).encode())\n",
    "txt.put(key = str('2').encode(), value = 'bbb'.encode())\n",
    "txt.put(key = '3'.encode(), value = 'ccc'.encode())"
   ]
  },
  {
   "cell_type": "code",
   "execution_count": 20,
   "id": "d62e15ca-26ac-4459-912e-b4d6a2315034",
   "metadata": {},
   "outputs": [
    {
     "data": {
      "text/plain": [
       "True"
      ]
     },
     "execution_count": 20,
     "metadata": {},
     "output_type": "execute_result"
    }
   ],
   "source": [
    "txt.delete(key = '1'.encode())"
   ]
  },
  {
   "cell_type": "code",
   "execution_count": 21,
   "id": "cf88bbf9-ed57-455a-af36-07d03ab8e06b",
   "metadata": {},
   "outputs": [
    {
     "data": {
      "text/plain": [
       "True"
      ]
     },
     "execution_count": 21,
     "metadata": {},
     "output_type": "execute_result"
    }
   ],
   "source": [
    "txt.put(key = '3'.encode(), value = 'ddd'.encode())"
   ]
  },
  {
   "cell_type": "code",
   "execution_count": 22,
   "id": "20818b77-720b-4c08-bbe8-8ee98286d6ee",
   "metadata": {},
   "outputs": [],
   "source": [
    "dict = {'6': 'eee', '4':'fff', '5':'ggg'}"
   ]
  },
  {
   "cell_type": "code",
   "execution_count": 23,
   "id": "d63f3a8f-6aa2-42a3-9ae2-440cf544fb20",
   "metadata": {},
   "outputs": [],
   "source": [
    "for k, v in dict.items():\n",
    "    txt.put(key = k.encode(), value = v.encode())"
   ]
  },
  {
   "cell_type": "code",
   "execution_count": 24,
   "id": "ed3a1cfa-695f-4aa5-a5c4-d9a1b340e977",
   "metadata": {},
   "outputs": [],
   "source": [
    "txt.commit()"
   ]
  },
  {
   "cell_type": "code",
   "execution_count": 25,
   "id": "38a84092-8cbc-481f-b249-8a97a782e31e",
   "metadata": {},
   "outputs": [],
   "source": [
    "env.close()"
   ]
  },
  {
   "cell_type": "raw",
   "id": "d6cdf2cd-5666-4f78-b8c6-ee7bf10f8e84",
   "metadata": {},
   "source": []
  },
  {
   "cell_type": "code",
   "execution_count": null,
   "id": "a5f98db2-e026-43b4-b506-1da50d3dbf4d",
   "metadata": {},
   "outputs": [],
   "source": [
    "Чтение lmdb"
   ]
  },
  {
   "cell_type": "code",
   "execution_count": 10,
   "id": "569dba80-1351-4437-9e88-bd214634aa63",
   "metadata": {},
   "outputs": [],
   "source": [
    "import lmdb"
   ]
  },
  {
   "cell_type": "code",
   "execution_count": 24,
   "id": "15eac1cc-347b-46f7-bf1d-a4715ce8dda0",
   "metadata": {},
   "outputs": [],
   "source": [
    "env = lmdb.open('train_test/')"
   ]
  },
  {
   "cell_type": "code",
   "execution_count": 25,
   "id": "85808a1d-b215-4a66-954c-f4906698803e",
   "metadata": {},
   "outputs": [],
   "source": [
    "txt = env.begin()"
   ]
  },
  {
   "cell_type": "code",
   "execution_count": 26,
   "id": "56c6c281-bfd4-466b-ac5b-2aefce85e841",
   "metadata": {},
   "outputs": [],
   "source": [
    "# print(txt.get(str(2).encode()))"
   ]
  },
  {
   "cell_type": "code",
   "execution_count": 27,
   "id": "b202e4ea-8ee6-4e33-82b9-65642fd90df7",
   "metadata": {},
   "outputs": [],
   "source": [
    "for k, v in txt.cursor():\n",
    "    with open('data_copy.txt', 'w') as f:\n",
    "        f.write(v)"
   ]
  },
  {
   "cell_type": "raw",
   "id": "c2faa483-79a4-4dbb-b7a1-a1dc86f3ce13",
   "metadata": {},
   "source": [
    "read pickle"
   ]
  },
  {
   "cell_type": "code",
   "execution_count": 56,
   "id": "0c37f97f-47c2-4c38-9ca2-a21f3a1cb167",
   "metadata": {},
   "outputs": [
    {
     "name": "stdout",
     "output_type": "stream",
     "text": [
      "b'\\x80'\n",
      "b'\\x03'\n",
      "b'}'\n",
      "b'q'\n",
      "b'\\x00'\n",
      "b'('\n",
      "b'X'\n",
      "b'\\r'\n",
      "b'\\x00'\n",
      "b'\\x00'\n"
     ]
    }
   ],
   "source": [
    "i = 0\n",
    "with open(\"/Users/korovin/Documents/GitHub/ocp_datasets/oc20_data_mapping.pkl\", 'rb') as f:\n",
    "    while (byte := f.read(1)):\n",
    "        print(byte)\n",
    "        i+=1\n",
    "        if i == 10: break"
   ]
  },
  {
   "cell_type": "code",
   "execution_count": 38,
   "id": "f2b541e4-71eb-405f-8f41-c6bcb5a944ea",
   "metadata": {},
   "outputs": [
    {
     "data": {
      "text/plain": [
       "{'bulk_id': 6510,\n",
       " 'ads_id': 69,\n",
       " 'bulk_mpid': 'mp-22179',\n",
       " 'bulk_symbols': 'Si2Ti2Y2',\n",
       " 'ads_symbols': '*N2',\n",
       " 'miller_index': (2, 0, 1),\n",
       " 'shift': 0.145,\n",
       " 'top': True,\n",
       " 'adsorption_site': ((4.5, 12.85, 16.13),)}"
      ]
     },
     "execution_count": 38,
     "metadata": {},
     "output_type": "execute_result"
    }
   ],
   "source": [
    "dic['random2181546']"
   ]
  },
  {
   "cell_type": "code",
   "execution_count": 61,
   "id": "caa198d5-7ebe-4aa9-b446-8957becb6ade",
   "metadata": {},
   "outputs": [],
   "source": []
  }
 ],
 "metadata": {
  "kernelspec": {
   "display_name": "ocp-models",
   "language": "python",
   "name": "ocp-models"
  },
  "language_info": {
   "codemirror_mode": {
    "name": "ipython",
    "version": 3
   },
   "file_extension": ".py",
   "mimetype": "text/x-python",
   "name": "python",
   "nbconvert_exporter": "python",
   "pygments_lexer": "ipython3",
   "version": "3.8.10"
  }
 },
 "nbformat": 4,
 "nbformat_minor": 5
}
