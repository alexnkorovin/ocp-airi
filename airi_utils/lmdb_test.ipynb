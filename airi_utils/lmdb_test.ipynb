{
 "cells": [
  {
   "cell_type": "markdown",
   "id": "dbdbb1a6-f56c-426f-a944-86ea54142735",
   "metadata": {},
   "source": [
    "## Операции с lmdb файлами"
   ]
  },
  {
   "cell_type": "raw",
   "id": "03451876-d435-42ab-93d6-12c16d204047",
   "metadata": {},
   "source": [
    "https://www.programmersought.com/article/84646175252/"
   ]
  },
  {
   "cell_type": "code",
   "execution_count": null,
   "id": "34806c7b-1b41-4783-9ae8-e239db696563",
   "metadata": {},
   "outputs": [],
   "source": [
    "import lmdb"
   ]
  },
  {
   "cell_type": "markdown",
   "id": "728ce433-5321-4db9-a50a-15d04867f22c",
   "metadata": {
    "tags": []
   },
   "source": [
    "#### Запись в lmdb"
   ]
  },
  {
   "cell_type": "code",
   "execution_count": null,
   "id": "00a6f8db-cfd0-418c-a0ea-ac546748c689",
   "metadata": {},
   "outputs": [],
   "source": [
    "dict = {'1': 'aaa', '2':'bbb', '3':'bbb'}\n",
    "\n",
    "env = lmdb.open('test')\n",
    "txt = env.begin(write=True)\n",
    "\n",
    "for k, v in dict.items():\n",
    "    txt.put(key = k.encode(), value = v.encode())\n",
    "\n",
    "txt.commit()\n",
    "env.close()"
   ]
  },
  {
   "cell_type": "markdown",
   "id": "fd4afc03-c59e-46e7-a51e-64f16ec80984",
   "metadata": {},
   "source": [
    "#### Чтение из lmdb"
   ]
  },
  {
   "cell_type": "code",
   "execution_count": null,
   "id": "06e733aa-b6e3-45fb-b5cc-8b174a8bffdb",
   "metadata": {},
   "outputs": [],
   "source": [
    "env = lmdb.open('train_test/')\n",
    "txt = env.begin()\n",
    "\n",
    "for k, v in txt.cursor():\n",
    "    with open('data_copy.txt', 'w') as f:\n",
    "        f.write(v)"
   ]
  }
 ],
 "metadata": {
  "kernelspec": {
   "display_name": "ocp_models",
   "language": "python",
   "name": "ocp_models"
  },
  "language_info": {
   "codemirror_mode": {
    "name": "ipython",
    "version": 3
   },
   "file_extension": ".py",
   "mimetype": "text/x-python",
   "name": "python",
   "nbconvert_exporter": "python",
   "pygments_lexer": "ipython3",
   "version": "3.8.10"
  }
 },
 "nbformat": 4,
 "nbformat_minor": 5
}
