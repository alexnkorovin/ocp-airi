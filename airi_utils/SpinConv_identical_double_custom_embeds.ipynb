{
 "cells": [
  {
   "cell_type": "code",
   "execution_count": 1,
   "id": "9c0bc839",
   "metadata": {
    "tags": []
   },
   "outputs": [],
   "source": [
    "import os\n",
    "\n",
    "import numpy as np\n",
    "import pandas as pd\n",
    "\n",
    "import torch\n",
    "import torch.nn.functional as F\n",
    "import torch.optim as optim\n",
    "\n",
    "\n",
    "from datetime import datetime\n",
    "from torch import nn\n",
    "from torch_geometric.data import Data, DataLoader\n",
    "from torch_geometric.nn import MessagePassing, DataParallel\n",
    "from torch_scatter import scatter\n",
    "from torch.utils.tensorboard import SummaryWriter\n",
    "\n",
    "from DataClasses import lmdb_dataset, Dataset, DataListLoader\n",
    "from ModelFunctions import train, evaluate, inference"
   ]
  },
  {
   "cell_type": "code",
   "execution_count": 2,
   "id": "51e7c323",
   "metadata": {},
   "outputs": [],
   "source": [
    "import sys\n",
    "sys.path.append(os.path.expanduser('../ocpmodels/models'))\n",
    "sys.path.append(os.path.expanduser('../../ocp_airi'))\n",
    "\n",
    "from spinconv_with_embeds_single import spinconv"
   ]
  },
  {
   "cell_type": "code",
   "execution_count": 3,
   "id": "06bb08e3",
   "metadata": {},
   "outputs": [],
   "source": [
    "#вызывается каждый раз, когда датасет отдаёт элемент (систему)\n",
    "#делаем из данных матрицу векторов-атомов, список рёбер (edge_index) и матрицу векторов-рёбер; надо писать свою функцию для каждой сети\n",
    "def preprocessing(system):\n",
    "    keys = ['pos', 'atomic_numbers', 'cell', 'natoms']\n",
    "    features_dict = {}\n",
    "    for key in keys:\n",
    "        features_dict[key] = system[key]\n",
    "    return Data(**features_dict)"
   ]
  },
  {
   "cell_type": "code",
   "execution_count": 4,
   "id": "0c78a741",
   "metadata": {},
   "outputs": [],
   "source": [
    "#config\n",
    "batch_size = 70\n",
    "num_workers = 0\n",
    "\n",
    "features_cols = ['feature_1']\n",
    "\n",
    "target_col = 'y_relaxed'\n",
    "lr = 0.001\n",
    "epochs = 30"
   ]
  },
  {
   "cell_type": "code",
   "execution_count": 5,
   "id": "9e76494d",
   "metadata": {},
   "outputs": [],
   "source": [
    "# #чтобы тензор по умолчанию заводился на куде\n",
    "# if torch.cuda.is_available():\n",
    "#     torch.set_default_tensor_type('torch.cuda.FloatTensor')\n",
    "#     print('cuda')"
   ]
  },
  {
   "cell_type": "code",
   "execution_count": 6,
   "id": "136e247a",
   "metadata": {},
   "outputs": [
    {
     "name": "stdout",
     "output_type": "stream",
     "text": [
      "cuda\n"
     ]
    }
   ],
   "source": [
    "#set device\n",
    "device = torch.device('cuda' if torch.cuda.is_available() else 'cpu')  \n",
    "print(device)"
   ]
  },
  {
   "cell_type": "code",
   "execution_count": 7,
   "id": "bf51cef8",
   "metadata": {},
   "outputs": [],
   "source": [
    "#инициализируем тренировочный датасети и тренировочный итератор\n",
    "train_dataset_file_path= os.path.expanduser(\"../../ocp_datasets/data/is2re/all/train/data.lmdb\")\n",
    "train_dataset_file = lmdb_dataset(train_dataset_file_path)\n",
    "training_set = Dataset(train_dataset_file, features_cols, target_col, preprocessing=preprocessing)\n",
    "training_generator = DataListLoader(training_set, batch_size=batch_size)"
   ]
  },
  {
   "cell_type": "code",
   "execution_count": 8,
   "id": "3dc56aa2",
   "metadata": {},
   "outputs": [],
   "source": [
    "#инициализируем валидационный датасет и валидационный итератор\n",
    "val_dataset_file_path = os.path.expanduser(\"../../ocp_datasets/data/is2re/all/val_ood_both/data.lmdb\")\n",
    "val_dataset_file = lmdb_dataset(val_dataset_file_path)\n",
    "valid_set = Dataset(val_dataset_file, features_cols, target_col, preprocessing=preprocessing)\n",
    "valid_generator = DataListLoader(valid_set, batch_size=batch_size, num_workers=num_workers)"
   ]
  },
  {
   "cell_type": "code",
   "execution_count": 9,
   "id": "05ca58f5",
   "metadata": {},
   "outputs": [
    {
     "name": "stdout",
     "output_type": "stream",
     "text": [
      "total entries: 460328\n",
      "info for item: 0\n",
      "edge_index:...............<class 'torch.Tensor'>..... [2, 2964]\n",
      "pos:......................<class 'torch.Tensor'>.....   [86, 3]\n",
      "cell:.....................<class 'torch.Tensor'>..... [1, 3, 3]\n",
      "atomic_numbers:...........<class 'torch.Tensor'>.....      [86]\n",
      "natoms:...................       <class 'int'>.....        86\n",
      "cell_offsets:.............<class 'torch.Tensor'>..... [2964, 3]\n",
      "force:....................<class 'torch.Tensor'>.....   [86, 3]\n",
      "distances:................<class 'torch.Tensor'>.....    [2964]\n",
      "fixed:....................<class 'torch.Tensor'>.....      [86]\n",
      "sid:......................       <class 'int'>.....   2472718\n",
      "tags:.....................<class 'torch.Tensor'>.....      [86]\n",
      "y_init:...................     <class 'float'>.....    6.2825\n",
      "y_relaxed:................     <class 'float'>.....   -0.0256\n",
      "pos_relaxed:..............<class 'torch.Tensor'>.....   [86, 3]\n"
     ]
    }
   ],
   "source": [
    "try:\n",
    "    lmdb_dataset(train_dataset_file_path).describe()\n",
    "except:\n",
    "    pass"
   ]
  },
  {
   "cell_type": "code",
   "execution_count": 10,
   "id": "c4083e2a",
   "metadata": {},
   "outputs": [],
   "source": [
    "\n",
    "# #model\n",
    "# model = spinconv(None, None, 1, otf_graph=True, regress_forces=False, 0)\n",
    "# model = DataParallel(model)\n",
    "# model = model.to(device)\n",
    "\n",
    "# #optimizer and loss\n",
    "# optimizer = optim.AdamW(model.parameters(), lr=lr)\n",
    "# criterion = nn.L1Loss()\n",
    "\n",
    "# #переносим на куду если она есть\n",
    "# criterion = criterion.to(device)"
   ]
  },
  {
   "cell_type": "code",
   "execution_count": 11,
   "id": "552e9446",
   "metadata": {},
   "outputs": [
    {
     "name": "stdout",
     "output_type": "stream",
     "text": [
      "2021-10-05-14-40-54\n"
     ]
    }
   ],
   "source": [
    "timestamp = str(datetime.now().strftime(\"%Y-%m-%d-%H-%M-%S\"))\n",
    "timestamp = '2021-10-05-14-40-54'\n",
    "\n",
    "print(timestamp)"
   ]
  },
  {
   "cell_type": "code",
   "execution_count": 12,
   "id": "70fdea83",
   "metadata": {},
   "outputs": [],
   "source": [
    "#tensorboard writer, при первом запуске надо руками сделать папку для логов\n",
    "\n",
    "# server\n",
    "#log_folder_path = \"../../ocp_results/logs/tensorboard/out_base_model\"\n",
    "\n",
    "# colab\n",
    "# log_folder_path = \"/content/drive/MyDrive/ocp_results/logs/tensorboard/out_base_model\"\n",
    "\n",
    "# user_specific \n",
    "log_file_path = \"../../logs/tensorboard_airi\"\n",
    "\n",
    "writer = SummaryWriter(log_file_path + '/' + timestamp)"
   ]
  },
  {
   "cell_type": "code",
   "execution_count": 13,
   "id": "0e50b7bf",
   "metadata": {},
   "outputs": [
    {
     "name": "stdout",
     "output_type": "stream",
     "text": [
      "no graph\n",
      "CPU times: user 712 µs, sys: 0 ns, total: 712 µs\n",
      "Wall time: 569 µs\n"
     ]
    }
   ],
   "source": [
    "%%time\n",
    "logfile_str = {\n",
    "    \"train_dataset_file_path\": train_dataset_file_path,\n",
    "    \"val_dataset_file_path\": val_dataset_file_path,\n",
    "    \"features_cols\": features_cols,\n",
    "    \"target_col\": target_col,\n",
    "    \"batch_size\": batch_size,\n",
    "    \"num_workers\": num_workers,\n",
    "    \"epochs\": epochs,\n",
    "    \"lr\": lr,\n",
    "    \"type\":'id'\n",
    "}\n",
    "\n",
    "#граф модели\n",
    "try:\n",
    "    #trace_system = dict(list(next(iter(training_generator))[0]))\n",
    "    writer.add_graph(model, trace_system)\n",
    "except:\n",
    "    print('no graph')\n",
    "writer.add_text(timestamp, str(logfile_str))"
   ]
  },
  {
   "cell_type": "code",
   "execution_count": 14,
   "id": "42982a19",
   "metadata": {},
   "outputs": [
    {
     "name": "stdout",
     "output_type": "stream",
     "text": [
      "\u001b[0m\u001b[01;34m2021-09-30-07-09-47\u001b[0m/  \u001b[01;34m2021-10-01-18-12-05\u001b[0m/  \u001b[01;34m2021-10-03-22-43-01\u001b[0m/\n",
      "\u001b[01;34m2021-09-30-07-16-30\u001b[0m/  \u001b[01;34m2021-10-01-18-13-22\u001b[0m/  \u001b[01;34m2021-10-04-00-30-46\u001b[0m/\n",
      "\u001b[01;34m2021-09-30-07-17-06\u001b[0m/  \u001b[01;34m2021-10-01-18-15-21\u001b[0m/  \u001b[01;34m2021-10-04-02-18-20\u001b[0m/\n",
      "\u001b[01;34m2021-09-30-07-30-08\u001b[0m/  \u001b[01;34m2021-10-01-18-18-08\u001b[0m/  \u001b[01;34m2021-10-04-04-06-01\u001b[0m/\n",
      "\u001b[01;34m2021-09-30-15-22-32\u001b[0m/  \u001b[01;34m2021-10-01-18-19-39\u001b[0m/  \u001b[01;34m2021-10-04-05-53-54\u001b[0m/\n",
      "\u001b[01;34m2021-09-30-15-23-11\u001b[0m/  \u001b[01;34m2021-10-01-18-23-49\u001b[0m/  \u001b[01;34m2021-10-05-06-59-34\u001b[0m/\n",
      "\u001b[01;34m2021-10-01-06-49-39\u001b[0m/  \u001b[01;34m2021-10-01-18-31-51\u001b[0m/  \u001b[01;34m2021-10-05-08-19-25\u001b[0m/\n",
      "\u001b[01;34m2021-10-01-08-00-57\u001b[0m/  \u001b[01;34m2021-10-01-18-32-52\u001b[0m/  \u001b[01;34m2021-10-05-10-05-42\u001b[0m/\n",
      "\u001b[01;34m2021-10-01-08-36-22\u001b[0m/  \u001b[01;34m2021-10-01-18-34-30\u001b[0m/  \u001b[01;34m2021-10-05-10-06-21\u001b[0m/\n",
      "\u001b[01;34m2021-10-01-09-46-06\u001b[0m/  \u001b[01;34m2021-10-01-18-36-08\u001b[0m/  \u001b[01;34m2021-10-05-10-06-58\u001b[0m/\n",
      "\u001b[01;34m2021-10-01-10-11-32\u001b[0m/  \u001b[01;34m2021-10-01-18-57-46\u001b[0m/  \u001b[01;34m2021-10-05-10-07-44\u001b[0m/\n",
      "\u001b[01;34m2021-10-01-12-15-55\u001b[0m/  \u001b[01;34m2021-10-01-19-04-00\u001b[0m/  \u001b[01;34m2021-10-05-10-18-46\u001b[0m/\n",
      "\u001b[01;34m2021-10-01-12-19-55\u001b[0m/  \u001b[01;34m2021-10-01-19-06-16\u001b[0m/  \u001b[01;34m2021-10-05-10-19-42\u001b[0m/\n",
      "\u001b[01;34m2021-10-01-16-43-31\u001b[0m/  \u001b[01;34m2021-10-01-19-07-01\u001b[0m/  \u001b[01;34m2021-10-05-10-22-18\u001b[0m/\n",
      "\u001b[01;34m2021-10-01-17-35-24\u001b[0m/  \u001b[01;34m2021-10-01-19-09-20\u001b[0m/  \u001b[01;34m2021-10-05-10-23-19\u001b[0m/\n",
      "\u001b[01;34m2021-10-01-17-41-07\u001b[0m/  \u001b[01;34m2021-10-03-15-20-06\u001b[0m/  \u001b[01;34m2021-10-05-10-24-06\u001b[0m/\n",
      "\u001b[01;34m2021-10-01-17-45-10\u001b[0m/  \u001b[01;34m2021-10-03-15-22-28\u001b[0m/  \u001b[01;34m2021-10-05-10-24-46\u001b[0m/\n",
      "\u001b[01;34m2021-10-01-17-46-28\u001b[0m/  \u001b[01;34m2021-10-03-15-23-25\u001b[0m/  \u001b[01;34m2021-10-05-10-25-17\u001b[0m/\n",
      "\u001b[01;34m2021-10-01-17-57-53\u001b[0m/  \u001b[01;34m2021-10-03-15-25-05\u001b[0m/  \u001b[01;34m2021-10-05-10-26-42\u001b[0m/\n",
      "\u001b[01;34m2021-10-01-18-00-38\u001b[0m/  \u001b[01;34m2021-10-03-15-26-06\u001b[0m/  \u001b[01;34m2021-10-05-10-27-16\u001b[0m/\n",
      "\u001b[01;34m2021-10-01-18-01-49\u001b[0m/  \u001b[01;34m2021-10-03-15-26-50\u001b[0m/  \u001b[01;34m2021-10-05-10-27-52\u001b[0m/\n",
      "\u001b[01;34m2021-10-01-18-03-26\u001b[0m/  \u001b[01;34m2021-10-03-15-27-30\u001b[0m/  \u001b[01;34m2021-10-05-11-22-41\u001b[0m/\n",
      "\u001b[01;34m2021-10-01-18-05-41\u001b[0m/  \u001b[01;34m2021-10-03-17-17-58\u001b[0m/  \u001b[01;34m2021-10-05-14-40-54\u001b[0m/\n",
      "\u001b[01;34m2021-10-01-18-06-40\u001b[0m/  \u001b[01;34m2021-10-03-19-06-51\u001b[0m/\n",
      "\u001b[01;34m2021-10-01-18-08-13\u001b[0m/  \u001b[01;34m2021-10-03-20-55-24\u001b[0m/\n"
     ]
    }
   ],
   "source": [
    "%ls ../logs/tensorboard_airi"
   ]
  },
  {
   "cell_type": "markdown",
   "id": "dba0e5fa",
   "metadata": {},
   "source": [
    "## Training"
   ]
  },
  {
   "cell_type": "code",
   "execution_count": 15,
   "id": "b92657ab",
   "metadata": {
    "tags": []
   },
   "outputs": [],
   "source": [
    "# %%time\n",
    "# loss = []\n",
    "# loss_eval = []\n",
    "\n",
    "# print(timestamp)\n",
    "# print(f'Start training model {str(model)}')\n",
    "# for i in range(epochs):\n",
    "#     loss.append(train(model, training_generator, optimizer, criterion, epoch=i, writer=writer, device=device))\n",
    "#     loss_eval.append(evaluate(model, valid_generator, criterion, epoch=i, writer=writer, device=device))"
   ]
  },
  {
   "cell_type": "code",
   "execution_count": 16,
   "id": "4c57563b-1076-446d-a287-9cf5486f39f2",
   "metadata": {},
   "outputs": [
    {
     "data": {
      "text/plain": [
       "<All keys matched successfully>"
      ]
     },
     "execution_count": 16,
     "metadata": {},
     "output_type": "execute_result"
    }
   ],
   "source": [
    "embed_discr = {\"group_onehot\" : list(range(18)),\n",
    "               \"period_onehot\": list(range(19, 27)),\n",
    "               \"block_onehot\" : list(range(28, 32)),\n",
    "               \"electronegativity\" : 33,\n",
    "               \"radius\" : 34,\n",
    "               \"valence\" : 35,\n",
    "               \"ionization\" : 36,\n",
    "               \"affinity\" : 37,\n",
    "               \"volume\": 38\n",
    "              }\n",
    "\n",
    "\n",
    "#model\n",
    "\n",
    "\n",
    "model_path = '../../ocp_airi/airi_utils/checkpoint/2021-10-05-14-40-54_epoch_0_.pickle'\n",
    "model_state_dict = '../../ocp_airi/airi_utils/checkpoint/2021-10-05-14-40-54_epoch_0_state_dict.pickle'\n",
    "\n",
    "# model = torch.load(model_path)\n",
    "\n",
    "model = spinconv(None, None, 1, otf_graph=True, regress_forces=False, custom_embedding_value=torch.tensor(list(range(27))))\n",
    "model = DataParallel(model)\n",
    "model = model.to(device)\n",
    "model.load_state_dict(torch.load(model_state_dict))"
   ]
  },
  {
   "cell_type": "code",
   "execution_count": null,
   "id": "d3827358-0a2d-4d42-9779-479a7073505c",
   "metadata": {},
   "outputs": [
    {
     "name": "stdout",
     "output_type": "stream",
     "text": [
      "2021-10-05-14-40-54\n",
      "no graph\n",
      "2021-10-05-14-40-54\n",
      "Start training model DataParallel(\n",
      "  (module): spinconv(\n",
      "    (act): Swish()\n",
      "    (distance_expansion_forces): GaussianSmearing()\n",
      "    (embeddingblock2): EmbeddingBlock(\n",
      "      (act): Swish()\n",
      "      (fc1): Linear(in_features=200, out_features=200, bias=True)\n",
      "      (fc2): Linear(in_features=200, out_features=1600, bias=True)\n",
      "      (fc3): Linear(in_features=200, out_features=32, bias=True)\n",
      "      (source_embedding): CustomEmbedding(\n",
      "        (EmbeddingLayer): Linear(in_features=127, out_features=32, bias=True)\n",
      "      )\n",
      "      (target_embedding): CustomEmbedding(\n",
      "        (EmbeddingLayer): Linear(in_features=127, out_features=32, bias=True)\n",
      "      )\n",
      "      (embed_fc1): Linear(in_features=64, out_features=8, bias=True)\n",
      "      (softmax): Softmax(dim=1)\n",
      "    )\n",
      "    (distfc1): Linear(in_features=200, out_features=200, bias=True)\n",
      "    (distfc2): Linear(in_features=200, out_features=200, bias=True)\n",
      "    (dist_block): DistanceBlock(\n",
      "      (distance_expansion): GaussianSmearing()\n",
      "      (dist_scalar): Embedding(8100, 1)\n",
      "      (dist_offset): Embedding(8100, 1)\n",
      "      (fc1): Linear(in_features=200, out_features=200, bias=True)\n",
      "    )\n",
      "    (message_blocks): ModuleList(\n",
      "      (0): MessageBlock(\n",
      "        (act): Swish()\n",
      "        (spinconvblock): SpinConvBlock(\n",
      "          (act): Swish()\n",
      "          (ProjectLatLongSphere): ProjectLatLongSphere()\n",
      "          (conv1): Conv1d(480, 200, kernel_size=(9,), stride=(1,), padding=(4,), groups=4, padding_mode=circular)\n",
      "          (pool): AvgPool1d(kernel_size=(9,), stride=(9,), padding=(0,))\n",
      "          (GroupNorm): GroupNorm(4, 200, eps=1e-05, affine=True)\n",
      "        )\n",
      "        (embeddingblock1): EmbeddingBlock(\n",
      "          (act): Swish()\n",
      "          (fc1): Linear(in_features=200, out_features=200, bias=True)\n",
      "          (fc2): Linear(in_features=200, out_features=1600, bias=True)\n",
      "          (fc3): Linear(in_features=200, out_features=200, bias=True)\n",
      "          (source_embedding): CustomEmbedding(\n",
      "            (EmbeddingLayer): Linear(in_features=127, out_features=32, bias=True)\n",
      "          )\n",
      "          (target_embedding): CustomEmbedding(\n",
      "            (EmbeddingLayer): Linear(in_features=127, out_features=32, bias=True)\n",
      "          )\n",
      "          (embed_fc1): Linear(in_features=64, out_features=8, bias=True)\n",
      "          (softmax): Softmax(dim=1)\n",
      "        )\n",
      "        (embeddingblock2): EmbeddingBlock(\n",
      "          (act): Swish()\n",
      "          (fc1): Linear(in_features=200, out_features=200, bias=True)\n",
      "          (fc2): Linear(in_features=200, out_features=1600, bias=True)\n",
      "          (fc3): Linear(in_features=200, out_features=32, bias=True)\n",
      "          (source_embedding): CustomEmbedding(\n",
      "            (EmbeddingLayer): Linear(in_features=127, out_features=32, bias=True)\n",
      "          )\n",
      "          (target_embedding): CustomEmbedding(\n",
      "            (EmbeddingLayer): Linear(in_features=127, out_features=32, bias=True)\n",
      "          )\n",
      "          (embed_fc1): Linear(in_features=64, out_features=8, bias=True)\n",
      "          (softmax): Softmax(dim=1)\n",
      "        )\n",
      "        (distfc1): Linear(in_features=200, out_features=200, bias=True)\n",
      "        (distfc2): Linear(in_features=200, out_features=200, bias=True)\n",
      "      )\n",
      "    )\n",
      "    (energyembeddingblock): EmbeddingBlock(\n",
      "      (act): Swish()\n",
      "      (fc1): Linear(in_features=32, out_features=200, bias=True)\n",
      "      (fc2): Linear(in_features=200, out_features=1600, bias=True)\n",
      "      (fc3): Linear(in_features=200, out_features=1, bias=True)\n",
      "      (source_embedding): CustomEmbedding(\n",
      "        (EmbeddingLayer): Linear(in_features=127, out_features=32, bias=True)\n",
      "      )\n",
      "      (target_embedding): CustomEmbedding(\n",
      "        (EmbeddingLayer): Linear(in_features=127, out_features=32, bias=True)\n",
      "      )\n",
      "      (embed_fc1): Linear(in_features=64, out_features=8, bias=True)\n",
      "      (softmax): Softmax(dim=1)\n",
      "    )\n",
      "    (force_output_block): ForceOutputBlock(\n",
      "      (act): Swish()\n",
      "      (spinconvblock): SpinConvBlock(\n",
      "        (act): Swish()\n",
      "        (ProjectLatLongSphere): ProjectLatLongSphere()\n",
      "        (conv1): Conv1d(480, 200, kernel_size=(9,), stride=(1,), padding=(4,), groups=4, padding_mode=circular)\n",
      "        (pool): AvgPool1d(kernel_size=(9,), stride=(9,), padding=(0,))\n",
      "        (GroupNorm): GroupNorm(4, 200, eps=1e-05, affine=True)\n",
      "      )\n",
      "      (block1): EmbeddingBlock(\n",
      "        (act): Swish()\n",
      "        (fc1): Linear(in_features=200, out_features=200, bias=True)\n",
      "        (fc2): Linear(in_features=200, out_features=1600, bias=True)\n",
      "        (fc3): Linear(in_features=200, out_features=200, bias=True)\n",
      "        (source_embedding): CustomEmbedding(\n",
      "          (EmbeddingLayer): Linear(in_features=101, out_features=32, bias=True)\n",
      "        )\n",
      "        (target_embedding): CustomEmbedding(\n",
      "          (EmbeddingLayer): Linear(in_features=101, out_features=32, bias=True)\n",
      "        )\n",
      "        (embed_fc1): Linear(in_features=64, out_features=8, bias=True)\n",
      "        (softmax): Softmax(dim=1)\n",
      "      )\n",
      "      (block2): EmbeddingBlock(\n",
      "        (act): Swish()\n",
      "        (fc1): Linear(in_features=200, out_features=200, bias=True)\n",
      "        (fc2): Linear(in_features=200, out_features=1600, bias=True)\n",
      "        (fc3): Linear(in_features=200, out_features=2, bias=True)\n",
      "        (source_embedding): CustomEmbedding(\n",
      "          (EmbeddingLayer): Linear(in_features=101, out_features=32, bias=True)\n",
      "        )\n",
      "        (target_embedding): CustomEmbedding(\n",
      "          (EmbeddingLayer): Linear(in_features=101, out_features=32, bias=True)\n",
      "        )\n",
      "        (embed_fc1): Linear(in_features=64, out_features=8, bias=True)\n",
      "        (softmax): Softmax(dim=1)\n",
      "      )\n",
      "    )\n",
      "  )\n",
      ")\n",
      "epoch 1\n",
      "step 9 from 6577 at epoch 1\n",
      "Loss: 0.9651602506637573\n",
      "step 19 from 6577 at epoch 1\n",
      "Loss: 0.8105707764625549\n",
      "step 29 from 6577 at epoch 1\n",
      "Loss: 0.8214519023895264\n",
      "step 39 from 6577 at epoch 1\n",
      "Loss: 0.8858839869499207\n",
      "step 49 from 6577 at epoch 1\n",
      "Loss: 0.8503207564353943\n",
      "step 59 from 6577 at epoch 1\n",
      "Loss: 0.9810636043548584\n",
      "step 69 from 6577 at epoch 1\n",
      "Loss: 0.9782435894012451\n",
      "step 79 from 6577 at epoch 1\n",
      "Loss: 0.7712267637252808\n",
      "step 89 from 6577 at epoch 1\n",
      "Loss: 0.9321230053901672\n",
      "step 99 from 6577 at epoch 1\n",
      "Loss: 0.760168731212616\n",
      "step 109 from 6577 at epoch 1\n",
      "Loss: 0.6812224388122559\n",
      "step 119 from 6577 at epoch 1\n",
      "Loss: 0.8886025547981262\n",
      "step 129 from 6577 at epoch 1\n",
      "Loss: 0.8395201563835144\n",
      "step 139 from 6577 at epoch 1\n",
      "Loss: 0.8456017971038818\n",
      "step 149 from 6577 at epoch 1\n",
      "Loss: 0.7446451187133789\n",
      "step 159 from 6577 at epoch 1\n",
      "Loss: 0.8496297597885132\n",
      "step 169 from 6577 at epoch 1\n",
      "Loss: 0.6849221587181091\n"
     ]
    }
   ],
   "source": [
    "#optimizer and loss\n",
    "optimizer = optim.AdamW(model.parameters(), lr=lr)\n",
    "criterion = nn.L1Loss()\n",
    "\n",
    "#переносим на куду если она есть\n",
    "criterion = criterion.to(device)\n",
    "# timestamp = str(datetime.now().strftime(\"%Y-%m-%d-%H-%M-%S\"))\n",
    "print(timestamp)\n",
    "\n",
    "log_file_path = \"../logs/tensorboard_airi\"\n",
    "\n",
    "writer = SummaryWriter(log_file_path + '/' + timestamp)\n",
    "# %%time\n",
    "logfile_str = {\n",
    "    \"train_dataset_file_path\": train_dataset_file_path,\n",
    "    \"val_dataset_file_path\": val_dataset_file_path,\n",
    "    \"features_cols\": features_cols,\n",
    "    \"target_col\": target_col,\n",
    "    \"batch_size\": batch_size,\n",
    "    \"num_workers\": num_workers,\n",
    "    \"epochs\": epochs,\n",
    "    \"lr\": lr,\n",
    "    \"type\":'id',\n",
    "    \"custom_embedding_type\": \"group+period\"\n",
    "}\n",
    "\n",
    "#граф модели\n",
    "try:\n",
    "    #trace_system = dict(list(next(iter(training_generator))[0]))\n",
    "    writer.add_graph(model, trace_system)\n",
    "except:\n",
    "    print('no graph')\n",
    "writer.add_text(timestamp, str(logfile_str))\n",
    "# %%time\n",
    "loss = []\n",
    "loss_eval = []\n",
    "\n",
    "print(timestamp)\n",
    "print(f'Start training model {str(model)}')\n",
    "for i in range(1, epochs):\n",
    "    loss.append(train(model, training_generator, optimizer, criterion, epoch=i, writer=writer, device=device))\n",
    "    loss_eval.append(evaluate(model, valid_generator, criterion, epoch=i, writer=writer, device=device))\n",
    "    path = '_'.join((timestamp, 'epoch', str(i), '.pickle'))\n",
    "    torch.save(model, path)"
   ]
  },
  {
   "cell_type": "code",
   "execution_count": null,
   "id": "f4d44235-71e8-4270-8f5b-caf34c6de0ab",
   "metadata": {},
   "outputs": [],
   "source": [
    "# torch.save(model.state_dict(), '../../ocp_airi/airi_utils/checkpoint/2021-10-05-14-40-54_epoch_0_state_dict.pickle')"
   ]
  },
  {
   "cell_type": "code",
   "execution_count": null,
   "id": "c2a9d99f-2956-4977-91a1-b2033f8ed01e",
   "metadata": {},
   "outputs": [],
   "source": []
  }
 ],
 "metadata": {
  "kernelspec": {
   "display_name": "ocp_models",
   "language": "python",
   "name": "ocp_models"
  },
  "language_info": {
   "codemirror_mode": {
    "name": "ipython",
    "version": 3
   },
   "file_extension": ".py",
   "mimetype": "text/x-python",
   "name": "python",
   "nbconvert_exporter": "python",
   "pygments_lexer": "ipython3",
   "version": "3.8.12"
  }
 },
 "nbformat": 4,
 "nbformat_minor": 5
}
