{
 "cells": [
  {
   "cell_type": "code",
   "execution_count": null,
   "id": "4282a018",
   "metadata": {},
   "outputs": [],
   "source": [
    "def splmdbdataset_to_dicts(dataset):\n",
    "    array = []\n",
    "    for obj in dataset:\n",
    "        d = {}\n",
    "        d['id'] = obj['sid']\n",
    "        d['y_relaxed'] = obj['y_relaxed']\n",
    "        array.append(d)\n",
    "    return array"
   ]
  },
  {
   "cell_type": "code",
   "execution_count": null,
   "id": "fd3095a9",
   "metadata": {},
   "outputs": [],
   "source": []
  },
  {
   "cell_type": "code",
   "execution_count": null,
   "id": "806bb2f4",
   "metadata": {},
   "outputs": [],
   "source": [
    "%%time\n",
    "list_of_dicts = splmdbdataset_to_dicts(dataset_val_ood_both)"
   ]
  },
  {
   "cell_type": "code",
   "execution_count": null,
   "id": "ee2ef3d2",
   "metadata": {},
   "outputs": [],
   "source": [
    "dataframe_val_ood_both = pd.DataFrame(list_of_dicts)"
   ]
  },
  {
   "cell_type": "code",
   "execution_count": null,
   "id": "afd5c7e8",
   "metadata": {},
   "outputs": [],
   "source": [
    "predicted_val_ood_both = np.load('../results/2021-08-19-17-32-32/is2re_predictions.npz')"
   ]
  },
  {
   "cell_type": "code",
   "execution_count": null,
   "id": "7857081e",
   "metadata": {},
   "outputs": [],
   "source": [
    "predicted_val_ood_both = pd.DataFrame({'id' : predicted_val_ood_both['ids'], 'y_pred' : predicted_val_ood_both['energy']})"
   ]
  },
  {
   "cell_type": "code",
   "execution_count": null,
   "id": "cc86c7b6",
   "metadata": {},
   "outputs": [],
   "source": [
    "predicted_val_ood_both['id'] = predicted_val_ood_both['id'].apply(int)"
   ]
  },
  {
   "cell_type": "code",
   "execution_count": null,
   "id": "09fd5151",
   "metadata": {},
   "outputs": [],
   "source": [
    "pivot = dataframe_val_ood_both.merge(predicted_val_ood_both, left_on='id', right_on='id')"
   ]
  },
  {
   "cell_type": "code",
   "execution_count": null,
   "id": "322872ac",
   "metadata": {},
   "outputs": [],
   "source": [
    "pivot['abs_error'] = abs(pivot['y_relaxed'] - pivot['y_pred'])"
   ]
  },
  {
   "cell_type": "code",
   "execution_count": null,
   "id": "75a9d44a",
   "metadata": {},
   "outputs": [],
   "source": [
    "mae = np.mean(pivot['abs_error'])\n",
    "mae"
   ]
  }
 ],
 "metadata": {
  "kernelspec": {
   "display_name": "ocp-models-env",
   "language": "python",
   "name": "ocp-models"
  },
  "language_info": {
   "codemirror_mode": {
    "name": "ipython",
    "version": 3
   },
   "file_extension": ".py",
   "mimetype": "text/x-python",
   "name": "python",
   "nbconvert_exporter": "python",
   "pygments_lexer": "ipython3",
   "version": "3.8.10"
  }
 },
 "nbformat": 4,
 "nbformat_minor": 5
}
