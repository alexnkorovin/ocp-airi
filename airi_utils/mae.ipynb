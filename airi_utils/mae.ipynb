{
 "cells": [
  {
   "cell_type": "code",
   "execution_count": null,
   "id": "72cf74f8-253e-4c75-9f02-0655985e0e68",
   "metadata": {},
   "outputs": [],
   "source": [
    "from ocpmodels.datasets import SinglePointLmdbDataset\n",
    "import pandas as pd\n",
    "import numpy as np"
   ]
  },
  {
   "cell_type": "code",
   "execution_count": null,
   "id": "4282a018",
   "metadata": {},
   "outputs": [],
   "source": [
    "def splmdbdataset_to_dicts(dataset):\n",
    "    array = []\n",
    "    for obj in dataset:\n",
    "        d = {}\n",
    "        d['id'] = obj['sid']\n",
    "        d['y_relaxed'] = obj['y_relaxed']\n",
    "        array.append(d)\n",
    "    return array"
   ]
  },
  {
   "cell_type": "code",
   "execution_count": null,
   "id": "fd3095a9",
   "metadata": {},
   "outputs": [],
   "source": [
    "dataset_val_ood_both = SinglePointLmdbDataset({\"src\": \"../../ocp_datasets/data/is2re/all/val_ood_both/data.lmdb\"})"
   ]
  },
  {
   "cell_type": "code",
   "execution_count": null,
   "id": "806bb2f4",
   "metadata": {},
   "outputs": [],
   "source": [
    "list_of_dicts = splmdbdataset_to_dicts(dataset_val_ood_both)"
   ]
  },
  {
   "cell_type": "code",
   "execution_count": null,
   "id": "ee2ef3d2",
   "metadata": {},
   "outputs": [],
   "source": [
    "dataframe_val_ood_both = pd.DataFrame(list_of_dicts)"
   ]
  },
  {
   "cell_type": "code",
   "execution_count": null,
   "id": "afd5c7e8",
   "metadata": {},
   "outputs": [],
   "source": [
    "predicted_val_ood_both = np.load('../results/2021-08-25-11-23-28/is2re_predictions.npz')"
   ]
  },
  {
   "cell_type": "code",
   "execution_count": null,
   "id": "7857081e",
   "metadata": {},
   "outputs": [],
   "source": [
    "predicted_val_ood_both = pd.DataFrame({'id' : predicted_val_ood_both['ids'], 'y_pred' : predicted_val_ood_both['energy']})"
   ]
  },
  {
   "cell_type": "code",
   "execution_count": null,
   "id": "cc86c7b6",
   "metadata": {},
   "outputs": [],
   "source": [
    "predicted_val_ood_both['id'] = predicted_val_ood_both['id'].apply(int)"
   ]
  },
  {
   "cell_type": "code",
   "execution_count": null,
   "id": "09fd5151",
   "metadata": {},
   "outputs": [],
   "source": [
    "pivot = dataframe_val_ood_both.merge(predicted_val_ood_both, left_on='id', right_on='id')"
   ]
  },
  {
   "cell_type": "code",
   "execution_count": null,
   "id": "322872ac",
   "metadata": {},
   "outputs": [],
   "source": [
    "pivot['abs_error'] = abs(pivot['y_relaxed'] - pivot['y_pred'])"
   ]
  },
  {
   "cell_type": "code",
   "execution_count": null,
   "id": "75a9d44a",
   "metadata": {},
   "outputs": [],
   "source": [
    "mae = pivot['abs_error'].mean()\n",
    "mae"
   ]
  },
  {
   "cell_type": "code",
   "execution_count": null,
   "id": "8a27dcb5-1072-47cb-bed4-bf9186090045",
   "metadata": {},
   "outputs": [],
   "source": [
    "pivot[pivot['abs_error'] < 0.02]"
   ]
  },
  {
   "cell_type": "code",
   "execution_count": null,
   "id": "dd564c17-4d94-461d-80c0-defb1d169c13",
   "metadata": {},
   "outputs": [],
   "source": [
    "pivot['treshold'] = pivot['abs_error'] > 8\n",
    "pivot['treshold'].mean()"
   ]
  },
  {
   "cell_type": "code",
   "execution_count": null,
   "id": "2501581c-45a5-47e5-bbfc-18957eb86cd5",
   "metadata": {},
   "outputs": [],
   "source": [
    "pivot['abs_error'].hist(bins=1000, figsize=(15, 10))"
   ]
  },
  {
   "cell_type": "code",
   "execution_count": null,
   "id": "1135c569-b5d8-453b-9f41-51aeadba373d",
   "metadata": {},
   "outputs": [],
   "source": [
    "structures_pivot = pivot[pivot['treshold'] == 1]"
   ]
  },
  {
   "cell_type": "code",
   "execution_count": null,
   "id": "f1c82601-bde5-40b4-ade8-0219e3df1dca",
   "metadata": {},
   "outputs": [],
   "source": [
    "oc20_data_mapping_df = pd.DataFrame(data = pd.read_pickle('../../ocp_datasets/oc20_data_mapping.pkl'))"
   ]
  },
  {
   "cell_type": "code",
   "execution_count": null,
   "id": "e2156d03-155e-4ec6-8a05-62769a05021d",
   "metadata": {},
   "outputs": [],
   "source": [
    "oc20_data_mapping_df.T"
   ]
  },
  {
   "cell_type": "code",
   "execution_count": null,
   "id": "e486d227-e72e-4ed8-8cd0-aba2cf1c8a98",
   "metadata": {},
   "outputs": [],
   "source": [
    "structures = {}\n",
    "for structure in structures_pivot['id']:\n",
    "    structure_id = 'random' + str(structure)\n",
    "    structures[structure_id] = oc20_data_mapping[structure_id]\n",
    "\n",
    "oc20_data_mapping_fields = {\n",
    "            \"bulk_mpid\" : \"Materials Project ID of the bulk system used corresponding the the catalyst surface\",\n",
    "            \"bulk_symbols\":  \"Chemical composition of the bulk counterpart\",\n",
    "            \"ads_symbols\":  \"Chemical composition of the adsorbate counterpart\",\n",
    "            \"ads_id\": \"internal unique identifier, one for each of the 82 adsorbates used in the dataset\",\n",
    "            \"bulk_id\": \"internal unique identifier one for each of the 11500 bulks used in the dataset\",\n",
    "            \"miller_index\": \"3-tuple of integers indicating the Miller indices of the surface\",\n",
    "            \"shift\": \"c-direction shift used to determine cutoff for the surface (c-direction is following the nomenclature from Pymatgen)\",\n",
    "            \"top\": \"boolean indicating whether the chosen surface was at the top or bottom of the originally enumerated surface\",\n",
    "            \"adsorption_site\": \"A tuple of 3-tuples containing the Cartesian coordinates of each binding adsorbate atom\"\n",
    "}\n",
    "\n",
    "oc20_data_mapping_columns = [i for i in oc20_data_mapping_fields.keys()]"
   ]
  },
  {
   "cell_type": "code",
   "execution_count": null,
   "id": "220c59b0-bc64-41a4-be71-9f2b34caeb61",
   "metadata": {},
   "outputs": [],
   "source": [
    "structures_df = pd.DataFrame(data = structures)\n",
    "structures_df.T"
   ]
  },
  {
   "cell_type": "code",
   "execution_count": null,
   "id": "128bdaf3-8940-4185-98be-808b7ace351a",
   "metadata": {},
   "outputs": [],
   "source": [
    "structures_df.T.to_csv(\"structures_df.csv\")"
   ]
  },
  {
   "cell_type": "code",
   "execution_count": null,
   "id": "a7146ab3-479b-46be-a810-bc4d328ea9e9",
   "metadata": {},
   "outputs": [],
   "source": []
  }
 ],
 "metadata": {
  "kernelspec": {
   "display_name": "ocp_models",
   "language": "python",
   "name": "ocp_models"
  },
  "language_info": {
   "codemirror_mode": {
    "name": "ipython",
    "version": 3
   },
   "file_extension": ".py",
   "mimetype": "text/x-python",
   "name": "python",
   "nbconvert_exporter": "python",
   "pygments_lexer": "ipython3",
   "version": "3.8.10"
  }
 },
 "nbformat": 4,
 "nbformat_minor": 5
}
