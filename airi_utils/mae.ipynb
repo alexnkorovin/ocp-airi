{
 "cells": [
  {
   "cell_type": "code",
   "execution_count": 1,
   "id": "4282a018",
   "metadata": {},
   "outputs": [],
   "source": [
    "import pandas as pd\n",
    "import numpy as np\n",
    "\n",
    "from DataClasses_local import lmdb_dataset"
   ]
  },
  {
   "cell_type": "code",
   "execution_count": 2,
   "id": "5a2973a2-3b8c-4f8b-92be-5ec6e7f46422",
   "metadata": {},
   "outputs": [],
   "source": [
    "def splmdbdataset_to_dicts(dataset):\n",
    "    array = []\n",
    "    for obj in dataset:\n",
    "        d = {}\n",
    "        d['id'] = obj['sid']\n",
    "        d['y_relaxed'] = obj['y_relaxed']\n",
    "        array.append(d)\n",
    "    return array"
   ]
  },
  {
   "cell_type": "code",
   "execution_count": 3,
   "id": "73eebe36-129e-414c-aeb7-151e05eb6567",
   "metadata": {},
   "outputs": [],
   "source": [
    "dataset = lmdb_dataset('../../ocp_datasets/data/is2re/10k/train/data.lmdb')"
   ]
  },
  {
   "cell_type": "code",
   "execution_count": 4,
   "id": "51ae04f7-678e-43d1-9bd6-94d8e238c2c4",
   "metadata": {},
   "outputs": [],
   "source": [
    "%%time\n",
    "dataframe_val_ood_both = splmdbdataset_to_dicts(dataset)"
   ]
  },
  {
   "cell_type": "code",
   "execution_count": 5,
   "id": "b74351b3-ee89-48dd-a6f5-dd13bcd34820",
   "metadata": {},
   "outputs": [],
   "source": [
    "dataframe_val_ood_both = pd.DataFrame(dataframe_val_ood_both)"
   ]
  },
  {
   "cell_type": "code",
   "execution_count": 6,
   "id": "afd5c7e8",
   "metadata": {},
   "outputs": [],
   "source": [
    "predicted_val_ood_both = np.load('2021-10-03-20-12-13_SpinConv_SolidAngles_10k_train.npz')"
   ]
  },
  {
   "cell_type": "code",
   "execution_count": 7,
   "id": "7857081e",
   "metadata": {},
   "outputs": [],
   "source": [
    "predicted_val_ood_both = pd.DataFrame({'id' : predicted_val_ood_both['challenge_ids'], 'y_pred' : predicted_val_ood_both['challenge_energy']})"
   ]
  },
  {
   "cell_type": "code",
   "execution_count": 8,
   "id": "cc86c7b6",
   "metadata": {},
   "outputs": [],
   "source": [
    "predicted_val_ood_both['id'] = predicted_val_ood_both['id'].apply(int)"
   ]
  },
  {
   "cell_type": "code",
   "execution_count": 9,
   "id": "09fd5151",
   "metadata": {},
   "outputs": [],
   "source": [
    "pivot = dataframe_val_ood_both.merge(predicted_val_ood_both, left_on='id', right_on='id')"
   ]
  },
  {
   "cell_type": "code",
   "execution_count": 10,
   "id": "322872ac",
   "metadata": {},
   "outputs": [],
   "source": [
    "pivot['abs_error'] = abs(pivot['y_relaxed'] - pivot['y_pred'])"
   ]
  },
  {
   "cell_type": "code",
   "execution_count": 11,
   "id": "75a9d44a",
   "metadata": {},
   "outputs": [
    {
     "data": {
      "text/plain": [
       "0.6095374293105167"
      ]
     },
     "execution_count": 11,
     "metadata": {},
     "output_type": "execute_result"
    }
   ],
   "source": [
    "mae = np.mean(pivot['abs_error'])\n",
    "mae"
   ]
  },
  {
   "cell_type": "code",
   "execution_count": null,
   "id": "b843731a-ff67-4a62-8ee6-622af4469026",
   "metadata": {},
   "outputs": [],
   "source": []
  }
 ],
 "metadata": {
  "kernelspec": {
   "display_name": "ocp_models",
   "language": "python",
   "name": "ocp_models"
  },
  "language_info": {
   "codemirror_mode": {
    "name": "ipython",
    "version": 3
   },
   "file_extension": ".py",
   "mimetype": "text/x-python",
   "name": "python",
   "nbconvert_exporter": "python",
   "pygments_lexer": "ipython3",
   "version": "3.8.12"
  }
 },
 "nbformat": 4,
 "nbformat_minor": 5
}
