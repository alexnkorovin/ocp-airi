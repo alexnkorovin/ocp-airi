{
 "cells": [
  {
   "cell_type": "markdown",
   "id": "aec82612-795e-4dce-9284-f28fc73269ba",
   "metadata": {
    "tags": []
   },
   "source": [
    "## Prerequisites"
   ]
  },
  {
   "cell_type": "markdown",
   "id": "c7f2165b-8141-4724-b2b1-0176926d4e8d",
   "metadata": {},
   "source": [
    "### Google colab\n",
    "\n",
    "This notebook can be used in colab (**this is the fastest way to run calculation on unconfigured system**):\n",
    "\n",
    "In google colab https://colab.research.google.com/ go to File | Open notebook | GitHub - \n",
    "insert the path to the current notebook and open it: https://github.com/alexnkorovin/ocp-airi/blob/dev/airi_utils/our_base_model.ipynb\n",
    "\n",
    "Before start:\n",
    "\n",
    "1. Put this shared folder with datasets in your Google Drive root folder /drive/MyDrive/\n",
    "\n",
    "This folders  can are available by the **sharing** link below:\n",
    "\n",
    "*   ocp_datasets [[ share link to drive](https://drive.google.com/drive/folders/1Nn9t-zTJiRP1-34rdAugv6aY_2-BSQfN?usp=sharing)]<br>\n",
    "\n",
    "```\n",
    "Note:\n",
    "if this folder is saved by sharing link it should contain the following files\n",
    "\n",
    "ocp-datasets/data/is2re/train/all/val_ood_both/data.lmdb\n",
    "ocp-datasets/data/is2re/train/all/test_ood_both/data.lmdb\n",
    "ocp-datasets/data/is2re/train/all/test_ood_both/structures.pkl\n",
    "\n",
    " ```\n",
    "2. Enable GPU support in Edit/Notebook Settings\n",
    "\n",
    "### on local pc\n",
    "\n",
    "download specified data files by [link](https://drive.google.com/drive/folders/1Nn9t-zTJiRP1-34rdAugv6aY_2-BSQfN?usp=sharing) into local folder.\n"
   ]
  },
  {
   "cell_type": "markdown",
   "id": "d872f626-55f7-472d-9b53-c71e2f08d3df",
   "metadata": {},
   "source": [
    "### Use the cell below it to mount your google drive to dataset\n",
    " - go by the link\n",
    " - log in under your google accout\n",
    " - copy token key\n",
    " - imput it to this the imput line in this notebook"
   ]
  },
  {
   "cell_type": "code",
   "execution_count": 1,
   "id": "593343cf-6ab8-4e57-afce-8bf40c2fc849",
   "metadata": {},
   "outputs": [],
   "source": [
    "try:\n",
    "    from google.colab import drive\n",
    "    drive.mount('/content/drive')\n",
    "except:\n",
    "    pass"
   ]
  },
  {
   "cell_type": "markdown",
   "id": "80d80224-8dd8-4c54-a043-462929999211",
   "metadata": {
    "jp-MarkdownHeadingCollapsed": true,
    "tags": []
   },
   "source": [
    "## Enviroment installation"
   ]
  },
  {
   "cell_type": "markdown",
   "id": "0efdb9f9",
   "metadata": {},
   "source": [
    "### on local pc\n",
    "```\n",
    "$ conda install pytorch-geometric -c rusty1s -c conda-forge\n",
    "```\n",
    "or via pip Wheels\n",
    "\n",
    "```\n",
    "$ python -c \"import torch; print(torch.__version__)\"\n",
    ">>> 1.9.0 - > {TORCH}=1.9.0\n",
    "python -c \"import torch; print(torch.version.cuda)\"\n",
    ">>> 11.1 - > {CUDA}=cu111\n",
    "```\n",
    "\n",
    "substite {TORCH} and {CUDA} in commands below by appropriate for your system\n",
    "```\n",
    "pip install torch-scatter -f https://pytorch-geometric.com/whl/torch-{TORCH}+{CUDA}.html\n",
    "pip install torch-sparse -f https://pytorch-geometric.com/whl/torch-{TORCH}+{CUDA}.html\n",
    "pip install torch-geometric\n",
    "```"
   ]
  },
  {
   "cell_type": "markdown",
   "id": "6c93ce2d-3a74-4185-b186-7fdb406c1271",
   "metadata": {},
   "source": [
    "#### on colab and also local pc (but on locat preferable is conda way)"
   ]
  },
  {
   "cell_type": "code",
   "execution_count": 2,
   "id": "63d60565-7dae-4aaf-bcd1-16b0ad4bbbfc",
   "metadata": {},
   "outputs": [],
   "source": [
    "# # This might take about 10 min in Colab (нужно только в колабе)\n",
    "# !pip install -q torch-scatter -f https://pytorch-geometric.com/whl/torch-1.4.0+cu101.html\n",
    "# !pip install -q torch-sparse -f https://pytorch-geometric.com/whl/torch-1.4.0+cu101.html\n",
    "# !pip install -q torch-geometric"
   ]
  },
  {
   "cell_type": "code",
   "execution_count": 3,
   "id": "da8e472d",
   "metadata": {},
   "outputs": [],
   "source": [
    "import os\n",
    "import pickle\n",
    "\n",
    "import numpy as np\n",
    "import pandas as pd\n",
    "import torch\n",
    "\n",
    "import torch.nn.functional as F\n",
    "import torch_geometric.nn as pyg_nn\n",
    "import torch_geometric.utils as pyg_utils\n",
    "import torch.optim as optim\n",
    "\n",
    "from datetime import datetime\n",
    "from torch import nn\n",
    "from torch_geometric.data import Data, Dataset, DataLoader\n",
    "from torch_geometric.nn import MessagePassing\n",
    "from torch_geometric.utils import add_self_loops\n",
    "from torch_scatter import scatter\n",
    "from torch.utils.tensorboard import SummaryWriter"
   ]
  },
  {
   "cell_type": "markdown",
   "id": "7f595285-7cd2-42c2-8622-54f65926c049",
   "metadata": {
    "jp-MarkdownHeadingCollapsed": true,
    "tags": []
   },
   "source": [
    "## Utils and definitions"
   ]
  },
  {
   "cell_type": "code",
   "execution_count": 4,
   "id": "d50430de",
   "metadata": {},
   "outputs": [],
   "source": [
    "def my_reshape(tensor):\n",
    "    return torch.reshape(tensor, (tensor.shape[0], 1))"
   ]
  },
  {
   "cell_type": "code",
   "execution_count": 5,
   "id": "643edca5",
   "metadata": {},
   "outputs": [],
   "source": [
    "#делаем из данных матрицу векторов-атомов, список рёбер (edge_index) и матрицу векторов-рёбер\n",
    "def simple_preprocessing(batch):\n",
    "    #spherical_radii = torch.Tensor(batch['spherical_domain_radii'])\n",
    "    #spherical_radii = my_reshape(spherical_radii)\n",
    "    \n",
    "    tags = batch['tags'].long().to(device)\n",
    "    tags = F.one_hot(tags, num_classes=3)\n",
    "    \n",
    "    atom_numbers = batch['atomic_numbers'].long().to(device)\n",
    "    atom_numbers = F.one_hot(atom_numbers, num_classes=100)\n",
    "    \n",
    "    voronoi_volumes = torch.Tensor(batch['voronoi_volumes'])\n",
    "    voronoi_volumes = my_reshape(voronoi_volumes)\n",
    "    \n",
    "    atom_features = (tags, atom_numbers, voronoi_volumes)#, spherical_radii)\n",
    "    atom_embeds = torch.cat(atom_features, 1)\n",
    "    \n",
    "    edge_index = torch.Tensor(batch['edge_index_new']).long()\n",
    "    \n",
    "    distances = torch.Tensor(batch['distances_new'])\n",
    "    distances = my_reshape(distances)\n",
    "    \n",
    "    angles = torch.Tensor(batch['contact_solid_angles'])\n",
    "    angles = my_reshape(angles)\n",
    "    \n",
    "    edges_embeds = torch.cat((distances, angles), 1)\n",
    "    \n",
    "    \n",
    "    return Data(x=atom_embeds.to(device), edge_index=edge_index.to(device), edge_attr=edges_embeds.to(device))"
   ]
  },
  {
   "cell_type": "code",
   "execution_count": 6,
   "id": "e84dea83",
   "metadata": {},
   "outputs": [],
   "source": [
    "#датасет, который умеет возвращать эелемент и собственную длину\n",
    "class Dataset(Dataset):\n",
    "\n",
    "    def __init__(self, data, features_fields, target_field, type_='train', preprocessing=simple_preprocessing):\n",
    "        \n",
    "        self.data = data[features_fields]\n",
    "        self.length = len(data)\n",
    "        self.target = torch.Tensor(data[target_field].values)\n",
    "        self.type_ = type_\n",
    "        self.preprocessing = preprocessing\n",
    "\n",
    "    def __len__(self):\n",
    "        return self.length\n",
    "\n",
    "    def __getitem__(self, index):\n",
    "        \n",
    "        system = self.preprocessing(self.data.iloc[index])\n",
    "        \n",
    "        if self.type_ == 'train':\n",
    "            y = self.target[index]\n",
    "            \n",
    "            return system, y"
   ]
  },
  {
   "cell_type": "markdown",
   "id": "f1c8f958",
   "metadata": {},
   "source": [
    "$$\n",
    "\\mathbf{x}_i^{(k)} = \\gamma^{(k)} \\left( \\mathbf{x}_i^{(k-1)}, \\square_{j \\in \\mathcal{N}(i)} \\, \\phi^{(k)}\\left(\\mathbf{x}_i^{(k-1)}, \\mathbf{x}_j^{(k-1)},\\mathbf{e}_{j,i}\\right) \\right)\n",
    "$$"
   ]
  },
  {
   "cell_type": "markdown",
   "id": "8672a07d",
   "metadata": {},
   "source": [
    "Гамма лежит в апдейт, квадратик в aggr, а фи в месседж; в этом примере гамма и фи -- умножение на матрицу после конкатенации, а квадратик -- суммирование"
   ]
  },
  {
   "cell_type": "code",
   "execution_count": 7,
   "id": "4ae848d1",
   "metadata": {},
   "outputs": [],
   "source": [
    "class GConv(MessagePassing):\n",
    "    def __init__(self, dim_atom=103, dim_edge=2, out_channels=2):\n",
    "        super(GConv, self).__init__(aggr='add')  # \"Add\" aggregation\n",
    "        self.phi_output = 3\n",
    "        self.lin_phi = torch.nn.Linear(dim_atom*2+dim_edge, self.phi_output, bias=False)\n",
    "        self.lin_gamma = torch.nn.Linear(dim_atom + self.phi_output, out_channels, bias=False)\n",
    "        self.nonlin = nn.Sigmoid()\n",
    "\n",
    "    def forward(self, batch):\n",
    "        x = batch['x']\n",
    "        edge_index = batch['edge_index']\n",
    "        edge_attr = batch['edge_attr']\n",
    "        \n",
    "        # x has shape [N -- количество атомов в системе(батче), in_channels -- размерность вектора-атома]\n",
    "        # edge_index has shape [2, E] -- каждое ребро задаётся парой вершин\n",
    "\n",
    "        # Start propagating messages. \n",
    "    \n",
    "        return self.propagate(edge_index, x=x, edge_attr=edge_attr, size=None)  #не совсем понял что такое сайз\n",
    "\n",
    "    def message(self, x, x_i, x_j, edge_attr):\n",
    "        concatenated = torch.cat((x_i, x_j, edge_attr), 1)\n",
    "        phi = self.lin_phi(concatenated)\n",
    "        phi = self.nonlin(phi)\n",
    "        return phi\n",
    "        \n",
    "    def update(self, aggr_out, x, edge_attr, edge_index):\n",
    "                \n",
    "        concatenated = torch.cat((x, aggr_out), 1)\n",
    "        gamma = self.lin_gamma(concatenated)\n",
    "        gamma = self.nonlin(gamma)\n",
    "\n",
    "        return Data(x=gamma, edge_attr=edge_attr, edge_index=edge_index)"
   ]
  },
  {
   "cell_type": "code",
   "execution_count": 8,
   "id": "9e1232c9",
   "metadata": {},
   "outputs": [],
   "source": [
    "#собственно нейросеть\n",
    "class ConvNN(nn.Module):\n",
    "    \n",
    "    def __init__(self, dim_atom=103, dim_edge=2):\n",
    "        \n",
    "        super().__init__()          \n",
    "#         self.conv_1 = GConv(dim_atom=dim_atom, dim_edge=dim_edge, out_channels=dim_atom)\n",
    "#         self.conv_2 = GConv(dim_atom=dim_atom, dim_edge=dim_edge, out_channels=dim_atom)\n",
    "#         self.conv_3 = GConv(dim_atom=dim_atom, dim_edge=dim_edge, out_channels=dim_atom)\n",
    "#         self.conv_4 = GConv(dim_atom=dim_atom, dim_edge=dim_edge, out_channels=dim_atom)\n",
    "#         self.conv_5 = GConv(dim_atom=dim_atom, dim_edge=dim_edge, out_channels=dim_atom)\n",
    "        self.conv_last = GConv(dim_atom=dim_atom, dim_edge=dim_edge, out_channels=2)\n",
    "        \n",
    "        self.lin = torch.nn.Linear(2, 1, bias=True)\n",
    "        \n",
    "    def forward(self, batch):\n",
    "#         convoluted_1 = self.conv_1(batch)\n",
    "#         convoluted_2 = self.conv_2(convoluted_1)\n",
    "#         convoluted_3 = self.conv_3(convoluted_2)\n",
    "#         convoluted_4 = self.conv_4(convoluted_3)\n",
    "#         convoluted_5 = self.conv_5(convoluted_4)\n",
    "        convoluted_last = self.conv_last(batch)['x']\n",
    "        scattered = scatter(convoluted_last, batch['batch'], dim=0, reduce='sum')\n",
    "        summed = scattered\n",
    "        energy = self.lin(summed)\n",
    "        \n",
    "        return energy"
   ]
  },
  {
   "cell_type": "code",
   "execution_count": 9,
   "id": "20798f12",
   "metadata": {},
   "outputs": [],
   "source": [
    "def send_scalars(lr, loss, writer, step=-1, epoch=-1, type_='train'):\n",
    "    if type_ == 'train':\n",
    "        writer.add_scalar('lr per step on train', lr, step) \n",
    "        writer.add_scalar('loss per step on train', loss, step)\n",
    "    if type_ == 'val':\n",
    "        writer.add_scalar('loss per epoch on val', loss, epoch)"
   ]
  },
  {
   "cell_type": "code",
   "execution_count": 10,
   "id": "862b1102",
   "metadata": {},
   "outputs": [],
   "source": [
    "def send_hist(model, writer, step):\n",
    "    for name, weight in model.named_parameters():\n",
    "        writer.add_histogram(name, weight, step)"
   ]
  },
  {
   "cell_type": "code",
   "execution_count": 11,
   "id": "bc9d7343",
   "metadata": {},
   "outputs": [],
   "source": [
    "#train -- ходим по батчам из итератора, обнуляем градиенты, предсказываем у, считаем лосс, считаем градиенты, делаем шаг оптимайзера, записываем лосс\n",
    "def train(model, iterator, optimizer, criterion, print_every=10, epoch=0, writer=None):\n",
    "    \n",
    "    epoch_loss = 0\n",
    "    \n",
    "    model.train()\n",
    "\n",
    "    for i, (systems, ys) in enumerate(iterator):\n",
    "        \n",
    "        optimizer.zero_grad()\n",
    "        predictions = model(systems).squeeze()\n",
    "        \n",
    "        loss = criterion(predictions.float(), ys.to(device).float())\n",
    "        loss.backward()     \n",
    "        \n",
    "        optimizer.step()\n",
    "        \n",
    "        batch_loss = loss.item() \n",
    "        epoch_loss += batch_loss  \n",
    "        \n",
    "        if writer != None:\n",
    "            \n",
    "            lr = optimizer.param_groups[0]['lr']\n",
    "            \n",
    "            step = i + epoch*len(iterator)\n",
    "            \n",
    "            send_hist(model, writer, i)\n",
    "            send_scalars(lr, batch_loss, writer, step=step, epoch=epoch, type_='train')\n",
    "        \n",
    "        if not (i+1) % print_every:\n",
    "            print(f'step {i} from {len(iterator)} at epoch {epoch}')\n",
    "            print(f'Loss: {batch_loss}')\n",
    "        \n",
    "    return epoch_loss / len(iterator)"
   ]
  },
  {
   "cell_type": "code",
   "execution_count": 12,
   "id": "1a8e76f3",
   "metadata": {},
   "outputs": [],
   "source": [
    "def evaluate(model, iterator, criterion, epoch=0, writer=False):\n",
    "    \n",
    "    epoch_loss = 0\n",
    "    \n",
    "#    model.train(False)\n",
    "    model.eval()  \n",
    "    \n",
    "    with torch.no_grad():\n",
    "        for systems, ys in iterator:   \n",
    "\n",
    "            predictions = model(systems).squeeze()\n",
    "            loss = criterion(predictions.float(), ys.to(device).float())        \n",
    "\n",
    "            epoch_loss += loss.item()\n",
    "            \n",
    "    overall_loss = epoch_loss / len(iterator)\n",
    "\n",
    "    if writer != None:\n",
    "        send_scalars(None, overall_loss, writer, step=None, epoch=epoch, type_='val')\n",
    "                \n",
    "    print(f'epoch loss {overall_loss}')\n",
    "            \n",
    "    return overall_loss"
   ]
  },
  {
   "cell_type": "code",
   "execution_count": 13,
   "id": "31952209",
   "metadata": {},
   "outputs": [],
   "source": [
    "def inferens(model, iterator):\n",
    "    y = torch.tensor([])\n",
    "\n",
    "#    model.train(False)\n",
    "    model.eval()  \n",
    "    \n",
    "    with torch.no_grad():\n",
    "        for systems, ys in iterator:   \n",
    "          predictions = model(systemhs).squeeze()\n",
    "          y = torch.cat((y, predictions))\n",
    "      \n",
    "    return y"
   ]
  },
  {
   "cell_type": "markdown",
   "id": "45c98223",
   "metadata": {},
   "source": [
    "## DATA"
   ]
  },
  {
   "cell_type": "code",
   "execution_count": 14,
   "id": "2ce61431",
   "metadata": {},
   "outputs": [],
   "source": [
    "def read_df(filename):    \n",
    "\n",
    "    with open(filename, 'rb') as f:\n",
    "        data_ori = pickle.load(f)\n",
    "    \n",
    "    #сливаем новые фичи и фичи из Data\n",
    "    for system in data_ori:\n",
    "        for key in system['data']:\n",
    "            system[key[0]] = key[1]\n",
    "        del system['data']\n",
    "        \n",
    "    df = pd.DataFrame(data_ori)\n",
    "    data_ori=[]\n",
    "    print(df.columns)\n",
    "    \n",
    "    return df"
   ]
  },
  {
   "cell_type": "code",
   "execution_count": 15,
   "id": "6a6fc5f8",
   "metadata": {},
   "outputs": [],
   "source": [
    "# for colab\n",
    "# train_dataset_file_path = \"/content/drive/MyDrive/ocp_datasets/data/is2re/10k/train/structures_train.pkl\"\n",
    "\n",
    "# user specific folder\n",
    "train_dataset_file_path = os.path.expanduser(\"~/Downloads/structures_train.pkl\")\n",
    "# train_dataset_file_path= \"../../ocp_datasets/data/is2re/10k/train/structures_tain.pkl\"\n",
    "\n",
    "val_dataset_file_path = os.path.expanduser(\"~/Downloads/structures_val_ood_both.pkl\")\n",
    "#val_dataset_file_path = os.path.expanduser(\"~/Downloads/structures_train.pkl\")"
   ]
  },
  {
   "cell_type": "code",
   "execution_count": 16,
   "id": "6dcfc1c1",
   "metadata": {},
   "outputs": [
    {
     "name": "stdout",
     "output_type": "stream",
     "text": [
      "Index(['id', 'voronoi_volumes', 'voronoi_surface_areas',\n",
      "       'spherical_domain_radii', 'distances_new', 'contact_solid_angles',\n",
      "       'direct_neighbor', 'edge_index_new', 'atomic_numbers', 'cell',\n",
      "       'cell_offsets', 'distances', 'edge_index', 'fixed', 'force', 'natoms',\n",
      "       'pos', 'pos_relaxed', 'sid', 'tags', 'y_init', 'y_relaxed'],\n",
      "      dtype='object')\n",
      "Index(['id', 'voronoi_volumes', 'voronoi_surface_areas',\n",
      "       'spherical_domain_radii', 'distances_new', 'contact_solid_angles',\n",
      "       'direct_neighbor', 'edge_index_new', 'atomic_numbers', 'cell',\n",
      "       'cell_offsets', 'distances', 'edge_index', 'fixed', 'force', 'natoms',\n",
      "       'pos', 'pos_relaxed', 'sid', 'tags', 'y_init', 'y_relaxed'],\n",
      "      dtype='object')\n"
     ]
    }
   ],
   "source": [
    "df_train = read_df(train_dataset_file_path)\n",
    "df_val = read_df(val_dataset_file_path)"
   ]
  },
  {
   "cell_type": "code",
   "execution_count": 17,
   "id": "476cdcd5",
   "metadata": {},
   "outputs": [],
   "source": [
    "batch_size = 64\n",
    "num_workers = 0"
   ]
  },
  {
   "cell_type": "code",
   "execution_count": 18,
   "id": "c15ae949",
   "metadata": {},
   "outputs": [],
   "source": [
    "# features_cols = ['voloroi_volumes', 'voronoi_surface_areas', 'electronegativity', \n",
    "#                  'dipole_polarizability', 'edge_index_new', 'distances_new', 'contact_solid_angles']\n",
    "\n",
    "features_cols = ['atomic_numbers', 'edge_index_new', 'distances_new', \n",
    "                 'contact_solid_angles', 'tags', 'voronoi_volumes', 'spherical_domain_radii']\n",
    "target_col = 'y_relaxed'"
   ]
  },
  {
   "cell_type": "code",
   "execution_count": 19,
   "id": "eb945e58",
   "metadata": {},
   "outputs": [],
   "source": [
    "#инициализируем тренировочный датасети и тренировочный итератор\n",
    "training_set = Dataset(df_train, features_cols, target_col)\n",
    "training_generator = DataLoader(training_set, batch_size=batch_size, num_workers=num_workers)"
   ]
  },
  {
   "cell_type": "code",
   "execution_count": 20,
   "id": "11d078bd",
   "metadata": {},
   "outputs": [],
   "source": [
    "#инициализируем валидационный датасет и валидационный итератор\n",
    "valid_set = Dataset(df_val, features_cols, target_col)\n",
    "valid_generator = DataLoader(valid_set, batch_size=batch_size, num_workers=num_workers)"
   ]
  },
  {
   "cell_type": "code",
   "execution_count": 21,
   "id": "c6b90d4c",
   "metadata": {},
   "outputs": [],
   "source": [
    "df_train = []\n",
    "df_val = []"
   ]
  },
  {
   "cell_type": "markdown",
   "id": "5d0ca059",
   "metadata": {},
   "source": [
    "## MODEL"
   ]
  },
  {
   "cell_type": "code",
   "execution_count": 22,
   "id": "f0046a02",
   "metadata": {},
   "outputs": [],
   "source": [
    "#чтобы тензор по умолчанию заводился на куде\n",
    "if torch.cuda.is_available():\n",
    "    torch.set_default_tensor_type('torch.cuda.FloatTensor')\n",
    "    print('cuda')"
   ]
  },
  {
   "cell_type": "code",
   "execution_count": 23,
   "id": "98fa2809",
   "metadata": {},
   "outputs": [
    {
     "name": "stdout",
     "output_type": "stream",
     "text": [
      "cpu\n"
     ]
    }
   ],
   "source": [
    "#set device\n",
    "device = torch.device('cuda' if torch.cuda.is_available() else 'cpu')  \n",
    "print(device)"
   ]
  },
  {
   "cell_type": "code",
   "execution_count": 24,
   "id": "f93e4f0a",
   "metadata": {},
   "outputs": [],
   "source": [
    "#model\n",
    "model = ConvNN(dim_atom=training_set[0][0].x.shape[1], dim_edge=training_set[0][0].edge_attr.shape[1])\n",
    "\n",
    "#optimizer and loss\n",
    "optimizer = optim.Adam(model.parameters(), lr=0.001)\n",
    "criterion = nn.L1Loss()\n",
    "\n",
    "#переносим на куду если она есть\n",
    "model = model.to(device)\n",
    "criterion = criterion.to(device)"
   ]
  },
  {
   "cell_type": "code",
   "execution_count": 25,
   "id": "bc1c0ccd",
   "metadata": {},
   "outputs": [
    {
     "name": "stdout",
     "output_type": "stream",
     "text": [
      "2021-09-02 17:30:22\n"
     ]
    }
   ],
   "source": [
    "timestamp = str(datetime.now()).split('.')[0]\n",
    "\n",
    "print(timestamp)"
   ]
  },
  {
   "cell_type": "code",
   "execution_count": 26,
   "id": "9a1cbede",
   "metadata": {},
   "outputs": [],
   "source": [
    "#tensorboard writer, при первом запуске надо руками сделать папку для логов\n",
    "\n",
    "# server\n",
    "#log_folder_path = \"../../ocp_results/logs/tensorboard/out_base_model\"\n",
    "\n",
    "# colab\n",
    "# log_folder_path = \"/content/drive/MyDrive/ocp_results/logs/tensorboard/out_base_model\"\n",
    "\n",
    "# user_specific \n",
    "log_file_path = \"../logs/tensorboard_airi\"\n",
    "\n",
    "writer = SummaryWriter(log_file_path + '/' + timestamp)"
   ]
  },
  {
   "cell_type": "code",
   "execution_count": 27,
   "id": "e477b770",
   "metadata": {},
   "outputs": [],
   "source": [
    "#граф модели\n",
    "trace_system = dict(list(next(iter(training_generator))[0]))\n",
    "writer.add_graph(model, trace_system)"
   ]
  },
  {
   "cell_type": "markdown",
   "id": "0aca95f2",
   "metadata": {},
   "source": [
    "## Training"
   ]
  },
  {
   "cell_type": "code",
   "execution_count": null,
   "id": "6ca6c6fd",
   "metadata": {
    "scrolled": true
   },
   "outputs": [
    {
     "name": "stdout",
     "output_type": "stream",
     "text": [
      "2021-09-02 17:30:22\n",
      "Start training model ConvNN(\n",
      "  (conv_last): GConv(\n",
      "    (lin_phi): Linear(in_features=210, out_features=3, bias=False)\n",
      "    (lin_gamma): Linear(in_features=107, out_features=2, bias=False)\n",
      "    (nonlin): Sigmoid()\n",
      "  )\n",
      "  (lin): Linear(in_features=2, out_features=1, bias=True)\n",
      ")\n",
      "epoch 0\n",
      "step 9 from 157 at epoch 0\n",
      "Loss: 2.014289379119873\n",
      "step 19 from 157 at epoch 0\n",
      "Loss: 1.972423791885376\n",
      "step 29 from 157 at epoch 0\n",
      "Loss: 1.7787126302719116\n",
      "step 39 from 157 at epoch 0\n",
      "Loss: 2.041651725769043\n",
      "step 49 from 157 at epoch 0\n",
      "Loss: 1.5166449546813965\n",
      "step 59 from 157 at epoch 0\n",
      "Loss: 1.638163447380066\n",
      "step 69 from 157 at epoch 0\n",
      "Loss: 1.5008877515792847\n",
      "step 79 from 157 at epoch 0\n",
      "Loss: 1.8054330348968506\n",
      "step 89 from 157 at epoch 0\n",
      "Loss: 1.8250422477722168\n",
      "step 99 from 157 at epoch 0\n",
      "Loss: 1.737986445426941\n",
      "step 109 from 157 at epoch 0\n",
      "Loss: 1.8189351558685303\n",
      "step 119 from 157 at epoch 0\n",
      "Loss: 1.4988932609558105\n",
      "step 129 from 157 at epoch 0\n",
      "Loss: 1.4252870082855225\n",
      "step 139 from 157 at epoch 0\n",
      "Loss: 2.0433990955352783\n",
      "step 149 from 157 at epoch 0\n",
      "Loss: 1.7476259469985962\n",
      "epoch loss 1.6482135941610312\n",
      "epoch 1\n",
      "step 9 from 157 at epoch 1\n",
      "Loss: 1.8629504442214966\n",
      "step 19 from 157 at epoch 1\n",
      "Loss: 1.894428014755249\n",
      "step 29 from 157 at epoch 1\n",
      "Loss: 1.6259022951126099\n",
      "step 39 from 157 at epoch 1\n",
      "Loss: 1.9415881633758545\n",
      "step 49 from 157 at epoch 1\n",
      "Loss: 1.384803295135498\n",
      "step 59 from 157 at epoch 1\n",
      "Loss: 1.5387558937072754\n",
      "step 69 from 157 at epoch 1\n",
      "Loss: 1.3854737281799316\n",
      "step 79 from 157 at epoch 1\n",
      "Loss: 1.7091100215911865\n",
      "step 89 from 157 at epoch 1\n",
      "Loss: 1.7347725629806519\n",
      "step 99 from 157 at epoch 1\n",
      "Loss: 1.693796157836914\n",
      "step 109 from 157 at epoch 1\n",
      "Loss: 1.7272502183914185\n",
      "step 119 from 157 at epoch 1\n",
      "Loss: 1.4514236450195312\n",
      "step 129 from 157 at epoch 1\n",
      "Loss: 1.373835802078247\n",
      "step 139 from 157 at epoch 1\n",
      "Loss: 2.030867338180542\n",
      "step 149 from 157 at epoch 1\n",
      "Loss: 1.6949548721313477\n",
      "epoch loss 1.6229232903331747\n",
      "epoch 2\n",
      "step 9 from 157 at epoch 2\n",
      "Loss: 1.790899634361267\n",
      "step 19 from 157 at epoch 2\n",
      "Loss: 1.8444043397903442\n",
      "step 29 from 157 at epoch 2\n",
      "Loss: 1.564324140548706\n",
      "step 39 from 157 at epoch 2\n",
      "Loss: 1.8677270412445068\n",
      "step 49 from 157 at epoch 2\n",
      "Loss: 1.3080517053604126\n",
      "step 59 from 157 at epoch 2\n",
      "Loss: 1.5143601894378662\n",
      "step 69 from 157 at epoch 2\n",
      "Loss: 1.3514184951782227\n",
      "step 79 from 157 at epoch 2\n",
      "Loss: 1.6554124355316162\n",
      "step 89 from 157 at epoch 2\n",
      "Loss: 1.6838215589523315\n",
      "step 99 from 157 at epoch 2\n",
      "Loss: 1.6591084003448486\n",
      "step 109 from 157 at epoch 2\n",
      "Loss: 1.638265609741211\n",
      "step 119 from 157 at epoch 2\n",
      "Loss: 1.436537265777588\n",
      "step 129 from 157 at epoch 2\n",
      "Loss: 1.3119293451309204\n",
      "step 139 from 157 at epoch 2\n",
      "Loss: 2.005021572113037\n",
      "step 149 from 157 at epoch 2\n",
      "Loss: 1.60887610912323\n",
      "epoch loss 1.4698099593067413\n",
      "epoch 3\n",
      "step 9 from 157 at epoch 3\n",
      "Loss: 1.6443712711334229\n",
      "step 19 from 157 at epoch 3\n",
      "Loss: 1.7517728805541992\n",
      "step 29 from 157 at epoch 3\n",
      "Loss: 1.5308431386947632\n",
      "step 39 from 157 at epoch 3\n",
      "Loss: 1.7486317157745361\n",
      "step 49 from 157 at epoch 3\n",
      "Loss: 1.2149302959442139\n",
      "step 59 from 157 at epoch 3\n",
      "Loss: 1.4705510139465332\n",
      "step 69 from 157 at epoch 3\n",
      "Loss: 1.3347043991088867\n",
      "step 79 from 157 at epoch 3\n",
      "Loss: 1.6070135831832886\n",
      "step 89 from 157 at epoch 3\n",
      "Loss: 1.6227333545684814\n",
      "step 99 from 157 at epoch 3\n",
      "Loss: 1.5970649719238281\n",
      "step 109 from 157 at epoch 3\n",
      "Loss: 1.5938224792480469\n",
      "step 119 from 157 at epoch 3\n",
      "Loss: 1.3837933540344238\n",
      "step 129 from 157 at epoch 3\n",
      "Loss: 1.242069959640503\n",
      "step 139 from 157 at epoch 3\n",
      "Loss: 1.9537177085876465\n",
      "step 149 from 157 at epoch 3\n",
      "Loss: 1.5326383113861084\n",
      "epoch loss 1.441827133183589\n",
      "epoch 4\n",
      "step 9 from 157 at epoch 4\n",
      "Loss: 1.4987815618515015\n",
      "step 19 from 157 at epoch 4\n",
      "Loss: 1.6707435846328735\n",
      "step 29 from 157 at epoch 4\n",
      "Loss: 1.4447011947631836\n",
      "step 39 from 157 at epoch 4\n",
      "Loss: 1.5706714391708374\n",
      "step 49 from 157 at epoch 4\n",
      "Loss: 1.0740811824798584\n",
      "step 59 from 157 at epoch 4\n",
      "Loss: 1.4297325611114502\n",
      "step 69 from 157 at epoch 4\n",
      "Loss: 1.2590389251708984\n",
      "step 79 from 157 at epoch 4\n",
      "Loss: 1.5848867893218994\n",
      "step 89 from 157 at epoch 4\n",
      "Loss: 1.5745646953582764\n",
      "step 99 from 157 at epoch 4\n",
      "Loss: 1.5980372428894043\n",
      "step 109 from 157 at epoch 4\n",
      "Loss: 1.4725242853164673\n",
      "step 119 from 157 at epoch 4\n",
      "Loss: 1.4190939664840698\n",
      "step 129 from 157 at epoch 4\n",
      "Loss: 1.2092537879943848\n",
      "step 139 from 157 at epoch 4\n",
      "Loss: 1.9193989038467407\n",
      "step 149 from 157 at epoch 4\n",
      "Loss: 1.5137150287628174\n"
     ]
    }
   ],
   "source": [
    "%%time\n",
    "loss = []\n",
    "loss_eval = []\n",
    "epochs = 10\n",
    "print(timestamp)\n",
    "print(f'Start training model {str(model)}')\n",
    "for i in range(epochs):\n",
    "    print(f'epoch {i}')\n",
    "    loss.append(train(model, training_generator, optimizer, criterion, epoch=i, writer=writer))\n",
    "    loss_eval.append(evaluate(model, valid_generator, criterion, epoch=i, writer=writer))"
   ]
  },
  {
   "cell_type": "code",
   "execution_count": null,
   "id": "beec29ce",
   "metadata": {},
   "outputs": [],
   "source": [
    "writer.close()"
   ]
  },
  {
   "cell_type": "code",
   "execution_count": null,
   "id": "0c26fa0f",
   "metadata": {},
   "outputs": [],
   "source": [
    "loss_eval"
   ]
  }
 ],
 "metadata": {
  "kernelspec": {
   "display_name": "Python 3",
   "language": "python",
   "name": "python3"
  },
  "language_info": {
   "codemirror_mode": {
    "name": "ipython",
    "version": 3
   },
   "file_extension": ".py",
   "mimetype": "text/x-python",
   "name": "python",
   "nbconvert_exporter": "python",
   "pygments_lexer": "ipython3",
   "version": "3.8.8"
  }
 },
 "nbformat": 4,
 "nbformat_minor": 5
}
