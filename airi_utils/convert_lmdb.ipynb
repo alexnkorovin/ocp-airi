{
 "cells": [
  {
   "cell_type": "code",
   "execution_count": 158,
   "id": "7f7a0a45-fec7-4fb6-84c0-40d19ab46b62",
   "metadata": {},
   "outputs": [],
   "source": [
    "import lmdb\n",
    "import torch\n",
    "from ocpmodels.datasets import SinglePointLmdbDataset\n",
    "import pandas as pd\n",
    "import pickle"
   ]
  },
  {
   "cell_type": "code",
   "execution_count": 151,
   "id": "35de4b33-806a-4f89-918e-4de773ce31bd",
   "metadata": {},
   "outputs": [],
   "source": [
    "dataset_origin_path = \"/Users/korovin/Bitrix24/AI for MS Group Folder/catalyst/structures.pkl\"\n",
    "dataset_origin_old_path = \"../../ocp_datasets/data/is2re/10k/train/data.lmdb\"\n",
    "dataset_target_path = \"../../ocp_datasets/data/is2re/10k/train/data_mod.lmdb\""
   ]
  },
  {
   "cell_type": "code",
   "execution_count": 152,
   "id": "90df5266-6e29-4a36-9ba2-1ed684f9c76e",
   "metadata": {},
   "outputs": [],
   "source": [
    "dataset_origin_old = SinglePointLmdbDataset({\"src\": dataset_origin_old_path})"
   ]
  },
  {
   "cell_type": "code",
   "execution_count": 153,
   "id": "fb97e4b7-b41f-462b-8408-f58f4f59ce07",
   "metadata": {},
   "outputs": [
    {
     "data": {
      "text/plain": [
       "tensor([[69, 83, 75,  ..., 63, 48, 42],\n",
       "        [ 0,  0,  0,  ..., 85, 85, 85]])"
      ]
     },
     "execution_count": 153,
     "metadata": {},
     "output_type": "execute_result"
    }
   ],
   "source": [
    "dataset_origin_old[0]['edge_index']"
   ]
  },
  {
   "cell_type": "code",
   "execution_count": 154,
   "id": "6e52d4c6-d503-42cc-b6be-b7d69da2ed58",
   "metadata": {},
   "outputs": [],
   "source": [
    "dataset_origin = pd.read_pickle(dataset_origin_path)"
   ]
  },
  {
   "cell_type": "code",
   "execution_count": 155,
   "id": "3f969ec8-0623-41af-833d-349b52c4bce4",
   "metadata": {},
   "outputs": [
    {
     "data": {
      "text/plain": [
       "array([[ 0, 17,  0, ..., 80, 85, 26],\n",
       "       [17,  0, 39, ..., 85, 26, 85]])"
      ]
     },
     "execution_count": 155,
     "metadata": {},
     "output_type": "execute_result"
    }
   ],
   "source": [
    "dataset_origin[0]['edge_index_new']"
   ]
  },
  {
   "cell_type": "code",
   "execution_count": 160,
   "id": "82859a85-4652-4c85-b5be-4a2712b067ab",
   "metadata": {},
   "outputs": [
    {
     "name": "stdout",
     "output_type": "stream",
     "text": [
      "0\n",
      "1000\n",
      "2000\n",
      "3000\n",
      "4000\n",
      "5000\n",
      "6000\n",
      "7000\n",
      "8000\n",
      "9000\n"
     ]
    }
   ],
   "source": [
    "dataset_target = lmdb.open(\n",
    "    dataset_target_path,\n",
    "    map_size=1099511627776 * 2,\n",
    "    subdir=False,\n",
    "    meminit=False,\n",
    "    map_async=True,\n",
    ")\n",
    "\n",
    "idx = 0\n",
    "\n",
    "for ii, data_object_origin_old in enumerate(dataset_origin_old):\n",
    "        \n",
    "        # Substitute: edge_index -> edge_index_new\n",
    "        data_object = dataset_origin_old[ii]\n",
    "        edge_index = torch.from_numpy(dataset_origin[ii]['edge_index_new'])\n",
    "        data_object['edge_index'] = edge_index\n",
    "        \n",
    "        # Write to LMDB\n",
    "        txn = dataset_target.begin(write=True)\n",
    "        txn.put(f\"{idx}\".encode(\"ascii\"), pickle.dumps(data_object, protocol=-1))\n",
    "        txn.commit()\n",
    "        dataset_target.sync()\n",
    "        if idx % 1000 == 0:\n",
    "            print(idx)\n",
    "        idx += 1\n",
    "\n",
    "dataset_target.close()\n",
    "print(\"done\")"
   ]
  },
  {
   "cell_type": "code",
   "execution_count": 161,
   "id": "6701fbe3-da16-484d-a786-e1216d2ec874",
   "metadata": {},
   "outputs": [],
   "source": [
    "dataset_target = SinglePointLmdbDataset({\"src\": dataset_target_path})"
   ]
  },
  {
   "cell_type": "code",
   "execution_count": 162,
   "id": "5365ca33-63db-4910-b22a-ec36226f60f2",
   "metadata": {},
   "outputs": [
    {
     "data": {
      "text/plain": [
       "tensor([[ 0, 17,  0,  ..., 80, 85, 26],\n",
       "        [17,  0, 39,  ..., 85, 26, 85]])"
      ]
     },
     "execution_count": 162,
     "metadata": {},
     "output_type": "execute_result"
    }
   ],
   "source": [
    "dataset_target[0]['edge_index']"
   ]
  },
  {
   "cell_type": "code",
   "execution_count": null,
   "id": "fe72d424-3972-457d-be01-d28afda60a9c",
   "metadata": {},
   "outputs": [],
   "source": []
  }
 ],
 "metadata": {
  "kernelspec": {
   "display_name": "Python 3 (ipykernel)",
   "language": "python",
   "name": "python3"
  },
  "language_info": {
   "codemirror_mode": {
    "name": "ipython",
    "version": 3
   },
   "file_extension": ".py",
   "mimetype": "text/x-python",
   "name": "python",
   "nbconvert_exporter": "python",
   "pygments_lexer": "ipython3",
   "version": "3.8.10"
  }
 },
 "nbformat": 4,
 "nbformat_minor": 5
}
