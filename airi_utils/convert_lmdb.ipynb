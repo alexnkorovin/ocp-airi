{
 "cells": [
  {
   "cell_type": "code",
   "execution_count": 1,
   "id": "7f7a0a45-fec7-4fb6-84c0-40d19ab46b62",
   "metadata": {},
   "outputs": [],
   "source": [
    "import gc\n",
    "import pickle\n",
    "import zlib\n",
    "\n",
    "import lmdb\n",
    "import torch\n",
    "\n",
    "import pandas as pd\n",
    "from dataloader import lmdb_dataset"
   ]
  },
  {
   "cell_type": "code",
   "execution_count": 2,
   "id": "35de4b33-806a-4f89-918e-4de773ce31bd",
   "metadata": {},
   "outputs": [
    {
     "name": "stdout",
     "output_type": "stream",
     "text": [
      "dataset_origin_path_pkl: ../../ocp_datasets/data/is2re/10k/train/structures.pkl\n",
      "dataset_origin_path: ../../ocp_datasets/data/is2re/10k/train/data_mod2.lmdb\n",
      "dataset_target_path: ../../ocp_datasets/data/is2re/10k/train/data_mod2_torch.lmdb\n"
     ]
    }
   ],
   "source": [
    "#for train sample\n",
    "dataset_size_list = {\n",
    "    0: \"10k\",\n",
    "    1: \"100k\",\n",
    "    2: \"all\"\n",
    "}\n",
    "mode_list = {\n",
    "    0: \"train\",\n",
    "    1: \"val\",\n",
    "    2: \"test\"\n",
    "}\n",
    "dataset_list = {\n",
    "    1: \"id\",\n",
    "    2: \"ood_ads\",\n",
    "    3: \"ood_cat\",\n",
    "    4: \"ood_both\"\n",
    "}\n",
    "\n",
    "# setting section\n",
    "root = \"../../ocp_datasets/data/is2re\"\n",
    "dataset_size = dataset_size_list[0]\n",
    "mode = mode_list[0]\n",
    "dataset = dataset_list[4]\n",
    "#\n",
    "\n",
    "def path_build(root, dataset_size, mode, dataset): # : mode: \"origin, origin_old, target\"\n",
    "    path = f'{root}/{dataset_size}/{mode}'\n",
    "    if mode != mode_list[0]:\n",
    "        path = f'{path}_{dataset}'\n",
    "    return path\n",
    "    \n",
    "dataset_origin_path_pkl = f'{path_build(root, dataset_size, mode, dataset)}/structures.pkl'\n",
    "dataset_origin_path = f'{path_build(root, dataset_size, mode, dataset)}/data_mod2.lmdb'\n",
    "dataset_target_path = f'{path_build(root, dataset_size, mode, dataset)}/data_mod2_torch.lmdb'\n",
    "\n",
    "(print(\n",
    "    f'dataset_origin_path_pkl: {dataset_origin_path_pkl}',\n",
    "    f'dataset_origin_path: {dataset_origin_path}',\n",
    "    f'dataset_target_path: {dataset_target_path}',\n",
    "    sep='\\n')\n",
    ")\n",
    "#/home/alex/Documents/ocp_datasets/data/is2re/all/val_ood_both\n",
    "#/home/alex/Documents/ocp_datasets/data/is2re/all/test_ood_both\n"
   ]
  },
  {
   "cell_type": "code",
   "execution_count": 3,
   "id": "90df5266-6e29-4a36-9ba2-1ed684f9c76e",
   "metadata": {},
   "outputs": [],
   "source": [
    "# dataset_origin_old = SinglePointLmdbDataset({\"src\": dataset_origin_old_path})"
   ]
  },
  {
   "cell_type": "code",
   "execution_count": 4,
   "id": "fb97e4b7-b41f-462b-8408-f58f4f59ce07",
   "metadata": {},
   "outputs": [],
   "source": [
    "# dataset_origin_old[0]['distances']"
   ]
  },
  {
   "cell_type": "code",
   "execution_count": 5,
   "id": "6e52d4c6-d503-42cc-b6be-b7d69da2ed58",
   "metadata": {},
   "outputs": [],
   "source": [
    "# dataset_origin = pd.read_pickle(dataset_origin_path)"
   ]
  },
  {
   "cell_type": "code",
   "execution_count": 5,
   "id": "3f969ec8-0623-41af-833d-349b52c4bce4",
   "metadata": {},
   "outputs": [
    {
     "data": {
      "text/plain": [
       "Data(atomic_numbers=[86], cell=[1, 3, 3], cell_offsets=[2964, 3], cell_offsets_new=[1214, 3], contact_solid_angles=[1214], direct_neighbor=[1214], distances=[2964], distances_new=[1214], edge_angles=[1214], edge_index=[2, 2964], edge_index_new=[2, 1214], fixed=[86], force=[86, 3], natoms=86, pos=[86, 3], pos_relaxed=[86, 3], sid=2472718, spherical_domain_radii=[86], tags=[86], voronoi_surface_areas=[86], voronoi_volumes=[86], y_init=6.282500615000004, y_relaxed=-0.025550085000020317)"
      ]
     },
     "execution_count": 5,
     "metadata": {},
     "output_type": "execute_result"
    }
   ],
   "source": [
    "data_10k = lmdb_dataset(dataset_origin_path, compressed=False)\n",
    "data_10k[0]"
   ]
  },
  {
   "cell_type": "markdown",
   "id": "7b12ee31-df5f-490c-b42e-184a3095c320",
   "metadata": {},
   "source": [
    "### update dataset"
   ]
  },
  {
   "cell_type": "code",
   "execution_count": 7,
   "id": "82859a85-4652-4c85-b5be-4a2712b067ab",
   "metadata": {
    "jupyter": {
     "source_hidden": true
    },
    "tags": []
   },
   "outputs": [],
   "source": [
    "def update_dataset(dataset_target_path, dataset_origin_old_path, dataset_origin_path, features_names=None):\n",
    "    dataset_origin = pd.read_pickle(dataset_origin_path)\n",
    "    \n",
    "    dataset_origin_old = lmdb_dataset(dataset_origin_path)\n",
    "    \n",
    "    dataset_target = lmdb.open(\n",
    "        dataset_target_path,\n",
    "        map_size=int(1e9*5), #~ 5 Gbyte\n",
    "        subdir=False,\n",
    "        meminit=False,\n",
    "        map_async=True,\n",
    "    )\n",
    "\n",
    "    idx = 0\n",
    "\n",
    "    for ii, data_object_origin_old in enumerate(dataset_origin_old):\n",
    "\n",
    "            # Substitute: edge_index -> edge_index_new\n",
    "            data_object = dataset_origin_old[ii]\n",
    "            for feature_name in features_names:\n",
    "                feature = torch.from_numpy(dataset_origin[ii][feature_name+'_new'])\n",
    "                data_object[feature_name] = feature\n",
    "\n",
    "            # Write to LMDB\n",
    "            txn = dataset_target.begin(write=True)\n",
    "            txn.put(f\"{idx}\".encode(\"ascii\"), pickle.dumps(data_object, protocol=-1))\n",
    "            txn.commit()\n",
    "            dataset_target.sync()\n",
    "            if idx % 1000 == 0:\n",
    "                print('{} of {} for file {}'.format(idx, len(dataset_origin_old), dataset_target_path))\n",
    "            idx += 1\n",
    "\n",
    "    dataset_target.close()\n",
    "    print(\"done\")"
   ]
  },
  {
   "cell_type": "markdown",
   "id": "4db7be19-92ee-40db-a006-cb187d4102ab",
   "metadata": {},
   "source": [
    "#### update_dataset_pyg2dict"
   ]
  },
  {
   "cell_type": "code",
   "execution_count": 8,
   "id": "79e8488f-c225-4072-bed8-32621fe05d4a",
   "metadata": {
    "tags": []
   },
   "outputs": [],
   "source": [
    "def update_dataset_pyg2dict(dataset_target_path, dataset_origin_path):\n",
    "        \n",
    "    dataset_origin = lmdb_dataset(dataset_origin_path, compressed=False)\n",
    "    \n",
    "    dataset_target = lmdb.open(\n",
    "        dataset_target_path,\n",
    "        map_size=int(1e9*20), #~ 5 Gbyte\n",
    "        subdir=False,\n",
    "        meminit=False,\n",
    "        map_async=True,\n",
    "    )\n",
    "\n",
    "    idx = 0\n",
    "\n",
    "    for ii, element in enumerate(dataset_origin):\n",
    "\n",
    "            # Substitute: edge_index -> edge_index_new\n",
    "            #element = dict(list(element))\n",
    "            #del element['edge_angles'][1::2]    \n",
    "\n",
    "            # Write to LMDB\n",
    "            txn = dataset_target.begin(write=True)\n",
    "#             txn.put(f\"{idx}\".encode(\"ascii\"), zlib.compress(pickle.dumps(element, protocol=-1), level=1))\n",
    "            txn.put(f\"{idx}\".encode(\"ascii\"), pickle.dumps(element, protocol=-1))\n",
    "            txn.commit()\n",
    "            dataset_target.sync()\n",
    "            if idx % 1000 == 0:\n",
    "                print('{} of {} for file {}'.format(idx, len(dataset_origin), dataset_target_path))\n",
    "            idx += 1\n",
    "\n",
    "    dataset_target.close()\n",
    "    print(\"done\")"
   ]
  },
  {
   "cell_type": "code",
   "execution_count": null,
   "id": "234c0bf2",
   "metadata": {},
   "outputs": [
    {
     "name": "stdout",
     "output_type": "stream",
     "text": [
      "0 of 10000 for file ../../ocp_datasets/data/is2re/10k/train/data_mod2_torch.lmdb\n"
     ]
    }
   ],
   "source": [
    "update_dataset_pyg2dict(dataset_target_path, dataset_origin_path)"
   ]
  },
  {
   "cell_type": "code",
   "execution_count": 87,
   "id": "6701fbe3-da16-484d-a786-e1216d2ec874",
   "metadata": {},
   "outputs": [],
   "source": [
    "dataset_target = lmdb_dataset(dataset_target_path)"
   ]
  },
  {
   "cell_type": "code",
   "execution_count": null,
   "id": "a836a686-3dfc-4be7-ab95-266c21fad137",
   "metadata": {},
   "outputs": [],
   "source": [
    "dataset_target[0]"
   ]
  },
  {
   "cell_type": "markdown",
   "id": "fde5b0b4-91ea-4cca-be20-1d4c6b60495b",
   "metadata": {
    "jp-MarkdownHeadingCollapsed": true,
    "tags": []
   },
   "source": [
    "#### Compressed pickle"
   ]
  },
  {
   "cell_type": "code",
   "execution_count": 54,
   "id": "5365ca33-63db-4910-b22a-ec36226f60f2",
   "metadata": {},
   "outputs": [
    {
     "name": "stdout",
     "output_type": "stream",
     "text": [
      "CPU times: user 217 ms, sys: 0 ns, total: 217 ms\n",
      "Wall time: 215 ms\n"
     ]
    }
   ],
   "source": [
    "%%time\n",
    "with open('data_10k.pkl', 'wb') as f:\n",
    "    f.write(pickle.dumps(dataset_target[0]))"
   ]
  },
  {
   "cell_type": "code",
   "execution_count": 60,
   "id": "ec771929-c393-4243-91a9-5f43c7a4bf4c",
   "metadata": {},
   "outputs": [
    {
     "name": "stdout",
     "output_type": "stream",
     "text": [
      "<class 'bytes'>\n",
      "CPU times: user 106 ms, sys: 14 µs, total: 106 ms\n",
      "Wall time: 103 ms\n"
     ]
    }
   ],
   "source": [
    "%%time\n",
    "with open('data_10k.pkl', 'rb') as f:\n",
    "    data = f.read()\n",
    "    data = pickle.loads(data)"
   ]
  },
  {
   "cell_type": "code",
   "execution_count": 56,
   "id": "a372bbbc-b158-466c-b3e1-7967b306aa78",
   "metadata": {},
   "outputs": [
    {
     "name": "stdout",
     "output_type": "stream",
     "text": [
      "CPU times: user 218 ms, sys: 51 µs, total: 218 ms\n",
      "Wall time: 216 ms\n"
     ]
    }
   ],
   "source": [
    "%%time\n",
    "with open('data_10k.pbz2', 'wb') as f:\n",
    "    f.write(zlib.compress(pickle.dumps(dataset_target[0]), level = 1))"
   ]
  },
  {
   "cell_type": "code",
   "execution_count": 59,
   "id": "bd72a99b-77fb-4488-88b6-698b43c1ec65",
   "metadata": {},
   "outputs": [
    {
     "name": "stdout",
     "output_type": "stream",
     "text": [
      "<class 'bytes'>\n",
      "CPU times: user 187 ms, sys: 3.95 ms, total: 191 ms\n",
      "Wall time: 189 ms\n"
     ]
    }
   ],
   "source": [
    "%%time\n",
    "with open('data_10k.pbz2', 'rb') as f:\n",
    "    data = f.read()\n",
    "    data = pickle.loads(zlib.decompress(data))"
   ]
  },
  {
   "cell_type": "markdown",
   "id": "23d368d0-8b8e-4038-adfb-9465bb3290b8",
   "metadata": {
    "jp-MarkdownHeadingCollapsed": true,
    "tags": []
   },
   "source": [
    "#### remove_odd_edge_angles"
   ]
  },
  {
   "cell_type": "code",
   "execution_count": 83,
   "id": "4dafcb6d-cf27-48dd-9321-5357d3634b86",
   "metadata": {},
   "outputs": [
    {
     "name": "stdout",
     "output_type": "stream",
     "text": [
      "607\n",
      "607\n"
     ]
    }
   ],
   "source": [
    "data = dataset_target[0]\n",
    "edge = data['edge_angles']\n",
    "\n",
    "del data['edge_angles'][1::2]\n",
    "# del edge[1::2]\n",
    "\n",
    "print(len(data['edge_angles']))\n",
    "print(len(edge))"
   ]
  },
  {
   "cell_type": "code",
   "execution_count": null,
   "id": "69be5c2c-9449-4aba-bb98-c21ffab0be89",
   "metadata": {},
   "outputs": [],
   "source": []
  }
 ],
 "metadata": {
  "kernelspec": {
   "display_name": "ocp_models",
   "language": "python",
   "name": "ocp_models"
  },
  "language_info": {
   "codemirror_mode": {
    "name": "ipython",
    "version": 3
   },
   "file_extension": ".py",
   "mimetype": "text/x-python",
   "name": "python",
   "nbconvert_exporter": "python",
   "pygments_lexer": "ipython3",
   "version": "3.8.10"
  }
 },
 "nbformat": 4,
 "nbformat_minor": 5
}
