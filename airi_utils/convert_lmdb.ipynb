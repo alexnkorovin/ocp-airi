{
 "cells": [
  {
   "cell_type": "code",
   "execution_count": 1,
   "id": "7f7a0a45-fec7-4fb6-84c0-40d19ab46b62",
   "metadata": {},
   "outputs": [],
   "source": [
    "import gc\n",
    "import pickle\n",
    "import zlib\n",
    "\n",
    "import lmdb\n",
    "import torch\n",
    "import torch.nn.functional as F\n",
    "import torch.optim as optim\n",
    "\n",
    "import numpy as np\n",
    "import pandas as pd\n",
    "\n",
    "from DataClasses import lmdb_dataset\n",
    "from joblib import Parallel, delayed\n",
    "\n",
    "np.set_printoptions(linewidth=100, precision=4, suppress=True)\n",
    "\n",
    "from ModelFunctions import to_bins_torch, convert_angles, restore_edge_angles, preprocessing, my_reshape\n",
    "from torch_geometric.data import Data"
   ]
  },
  {
   "cell_type": "code",
   "execution_count": 87,
   "id": "3f9e7a01-ee16-42fb-b2c7-772121a8d9f3",
   "metadata": {},
   "outputs": [],
   "source": [
    "#for train sample\n",
    "dataset_size_list = {\n",
    "    0: \"10k\",\n",
    "    1: \"100k\",\n",
    "    2: \"all\"\n",
    "}\n",
    "mode_list = {\n",
    "    0: \"train\",\n",
    "    1: \"val\",\n",
    "    2: \"test\"\n",
    "}\n",
    "dataset_list = {\n",
    "    1: \"id\",\n",
    "    2: \"ood_ads\",\n",
    "    3: \"ood_cat\",\n",
    "    4: \"ood_both\"\n",
    "}"
   ]
  },
  {
   "cell_type": "code",
   "execution_count": 88,
   "id": "70fdd1c6-21be-4184-8a0c-f5391030e4f9",
   "metadata": {},
   "outputs": [],
   "source": [
    "# setting section\n",
    "root = \"../../ocp_datasets/data/is2re\"\n",
    "dataset_size = dataset_size_list[0]\n",
    "mode = mode_list[0]\n",
    "dataset = dataset_list[4]\n",
    "#"
   ]
  },
  {
   "cell_type": "code",
   "execution_count": 98,
   "id": "9fb7cebb-b4eb-44cc-bb30-8068c025ed3f",
   "metadata": {},
   "outputs": [
    {
     "name": "stdout",
     "output_type": "stream",
     "text": [
      "dataset_origin_path_pkl: ../../ocp_datasets/data/is2re/10k/train/structures.pkl\n",
      "dataset_origin_path: ../../ocp_datasets/data/is2re/10k/train/data_mod.lmdb\n",
      "dataset_target_path: ../../ocp_datasets/data/is2re/10k/train/data_mod_conv.lmdb\n"
     ]
    }
   ],
   "source": [
    "def path_build(root, dataset_size, mode, dataset): # : mode: \"origin, origin_old, target\"\n",
    "    path = f'{root}/{dataset_size}/{mode}'\n",
    "    if mode != mode_list[0]:\n",
    "        path = f'{path}_{dataset}'\n",
    "    return path\n",
    "    \n",
    "dataset_origin_path_pkl = f'{path_build(root, dataset_size, mode, dataset)}/structures.pkl'\n",
    "dataset_origin_path = f'{path_build(root, dataset_size, mode, dataset)}/data_mod.lmdb'\n",
    "dataset_target_path = f'{path_build(root, dataset_size, mode, dataset)}/data_mod_conv.lmdb'\n",
    "\n",
    "(print(\n",
    "    f'dataset_origin_path_pkl: {dataset_origin_path_pkl}',\n",
    "    f'dataset_origin_path: {dataset_origin_path}',\n",
    "    f'dataset_target_path: {dataset_target_path}',\n",
    "    sep='\\n')\n",
    ")\n",
    "#/home/alex/Documents/ocp_datasets/data/is2re/all/val_ood_both\n",
    "#/home/alex/Documents/ocp_datasets/data/is2re/all/test_ood_both"
   ]
  },
  {
   "cell_type": "code",
   "execution_count": 93,
   "id": "90df5266-6e29-4a36-9ba2-1ed684f9c76e",
   "metadata": {},
   "outputs": [],
   "source": [
    "# dataset_origin_old = SinglePointLmdbDataset({\"src\": dataset_origin_old_path})"
   ]
  },
  {
   "cell_type": "code",
   "execution_count": 94,
   "id": "fb97e4b7-b41f-462b-8408-f58f4f59ce07",
   "metadata": {},
   "outputs": [],
   "source": [
    "# dataset_origin_old[0]['distances']"
   ]
  },
  {
   "cell_type": "code",
   "execution_count": 95,
   "id": "6e52d4c6-d503-42cc-b6be-b7d69da2ed58",
   "metadata": {},
   "outputs": [],
   "source": [
    "# dataset_origin = pd.read_pickle(dataset_origin_path)"
   ]
  },
  {
   "cell_type": "code",
   "execution_count": 96,
   "id": "3f969ec8-0623-41af-833d-349b52c4bce4",
   "metadata": {},
   "outputs": [
    {
     "data": {
      "text/plain": [
       "Data(atomic_numbers=[86], cell=[1, 3, 3], cell_offsets=[2964, 3], cell_offsets_new=[1214, 3], contact_solid_angles=[1214], direct_neighbor=[1214], distances=[2964], distances_new=[1214], edge_index=[2, 2964], edge_index_new=[2, 1214], fixed=[86], force=[86, 3], natoms=86, pos=[86, 3], pos_relaxed=[86, 3], sid=2472718, spherical_domain_radii=[86], tags=[86], voronoi_surface_areas=[86], voronoi_volumes=[86], y_init=6.282500615000004, y_relaxed=-0.025550085000020317)"
      ]
     },
     "execution_count": 96,
     "metadata": {},
     "output_type": "execute_result"
    }
   ],
   "source": [
    "data_10k = lmdb_dataset(dataset_origin_path, compressed=False)\n",
    "data_10k[0]"
   ]
  },
  {
   "cell_type": "markdown",
   "id": "7b12ee31-df5f-490c-b42e-184a3095c320",
   "metadata": {
    "jp-MarkdownHeadingCollapsed": true,
    "tags": []
   },
   "source": [
    "### update dataset"
   ]
  },
  {
   "cell_type": "code",
   "execution_count": 10,
   "id": "82859a85-4652-4c85-b5be-4a2712b067ab",
   "metadata": {
    "tags": []
   },
   "outputs": [],
   "source": [
    "def update_dataset(dataset_target_path, dataset_origin_old_path, dataset_origin_path, features_names=None):\n",
    "    dataset_origin = pd.read_pickle(dataset_origin_path)\n",
    "    \n",
    "    dataset_origin_old = lmdb_dataset(dataset_origin_path)\n",
    "    \n",
    "    dataset_target = lmdb.open(\n",
    "        dataset_target_path,\n",
    "        map_size=int(1e9*5), #~ 5 Gbyte\n",
    "        subdir=False,\n",
    "        meminit=False,\n",
    "        map_async=True,\n",
    "    )\n",
    "\n",
    "    idx = 0\n",
    "\n",
    "    for ii, data_object_origin_old in enumerate(dataset_origin_old):\n",
    "\n",
    "            # Substitute: edge_index -> edge_index_new\n",
    "            data_object = dataset_origin_old[ii]\n",
    "            for feature_name in features_names:\n",
    "                feature = torch.from_numpy(dataset_origin[ii][feature_name+'_new'])\n",
    "                data_object[feature_name] = feature\n",
    "\n",
    "            # Write to LMDB\n",
    "            txn = dataset_target.begin(write=True)\n",
    "            txn.put(f\"{idx}\".encode(\"ascii\"), pickle.dumps(data_object, protocol=-1))\n",
    "            txn.commit()\n",
    "            dataset_target.sync()\n",
    "            if idx % 1000 == 0:\n",
    "                print('{} of {} for file {}'.format(idx, len(dataset_origin_old), dataset_target_path))\n",
    "            idx += 1\n",
    "\n",
    "    dataset_target.close()\n",
    "    print(\"done\")"
   ]
  },
  {
   "cell_type": "markdown",
   "id": "4db7be19-92ee-40db-a006-cb187d4102ab",
   "metadata": {},
   "source": [
    "### update_dataset_pyg2dict"
   ]
  },
  {
   "cell_type": "code",
   "execution_count": 121,
   "id": "79e8488f-c225-4072-bed8-32621fe05d4a",
   "metadata": {
    "tags": []
   },
   "outputs": [],
   "source": [
    "def update_dataset_pyg2dict(dataset_target_path, dataset_origin_path):\n",
    "        \n",
    "    dataset_origin = lmdb_dataset(dataset_origin_path, compressed=False)\n",
    "    \n",
    "    dataset_target = lmdb.open(\n",
    "        dataset_target_path,\n",
    "        map_size=int(1e12), #~ 5 Gbyte\n",
    "        subdir=False,\n",
    "        meminit=False,\n",
    "        map_async=False,\n",
    "    )\n",
    "\n",
    "    idx = 0\n",
    "\n",
    "    for ii, element in enumerate(dataset_origin):\n",
    "\n",
    "            # Substitute: edge_index -> edge_index_new\n",
    "            \n",
    "            element = dict(list(element))\n",
    "            del element['edge_angles'][1::2]    \n",
    "            for ii, el in enumerate(element['edge_angles']):\n",
    "               element['edge_angles'][ii] = element['edge_angles'][ii].reset_index().values\n",
    "            \n",
    "            # Write to LMDB\n",
    "            \n",
    "            txn = dataset_target.begin(write=True)\n",
    "            txn.put(f\"{idx}\".encode(\"ascii\"), zlib.compress(pickle.dumps(element, protocol=-1), level=1))\n",
    "            \n",
    "            #txn.put(key=f\"{idx}\".encode(\"ascii\"), value=pickle.dumps(element, protocol=-1))\n",
    "            txn.commit()\n",
    "            dataset_target.sync()\n",
    "            if idx%1000==0:\n",
    "                print('{} of {} for file {}'.format(idx, len(dataset_origin), dataset_target_path))\n",
    "            idx += 1\n",
    "            \n",
    "    print(dataset_target.info())\n",
    "    dataset_target.close()\n",
    "    print(\"done\")"
   ]
  },
  {
   "cell_type": "code",
   "execution_count": null,
   "id": "5adf4134-9a49-485e-9d16-b5a3e473a0d8",
   "metadata": {},
   "outputs": [
    {
     "name": "stdout",
     "output_type": "stream",
     "text": [
      "0 of 10000 for file ../../ocp_datasets/data/is2re/10k/train/data_mod2_torch\n",
      "1000 of 10000 for file ../../ocp_datasets/data/is2re/10k/train/data_mod2_torch\n",
      "2000 of 10000 for file ../../ocp_datasets/data/is2re/10k/train/data_mod2_torch\n",
      "3000 of 10000 for file ../../ocp_datasets/data/is2re/10k/train/data_mod2_torch\n",
      "4000 of 10000 for file ../../ocp_datasets/data/is2re/10k/train/data_mod2_torch\n",
      "5000 of 10000 for file ../../ocp_datasets/data/is2re/10k/train/data_mod2_torch\n",
      "6000 of 10000 for file ../../ocp_datasets/data/is2re/10k/train/data_mod2_torch\n"
     ]
    }
   ],
   "source": [
    "update_dataset_pyg2dict(dataset_target_path, dataset_origin_path)"
   ]
  },
  {
   "cell_type": "code",
   "execution_count": 5,
   "id": "b417be92-36e5-42ad-a020-87aa0be16b71",
   "metadata": {},
   "outputs": [],
   "source": [
    "dataset_target_path_test ='../../ocp_datasets/data/is2re/10k/train/data_mod2_torch'\n",
    "suffix = '.lmdb'"
   ]
  },
  {
   "cell_type": "markdown",
   "id": "f182c5da-a082-48eb-9640-0dde71abfc19",
   "metadata": {},
   "source": [
    "### Benchmark of diffferent options for .lmdb"
   ]
  },
  {
   "cell_type": "code",
   "execution_count": 99,
   "id": "ec826b5a-6052-46da-aad6-b68067b190d4",
   "metadata": {},
   "outputs": [
    {
     "name": "stdout",
     "output_type": "stream",
     "text": [
      "CPU times: user 6.37 s, sys: 1.29 s, total: 7.66 s\n",
      "Wall time: 12.9 s\n"
     ]
    }
   ],
   "source": [
    "%%time\n",
    "dataset_target = lmdb_dataset(dataset_origin_path, compressed=False)\n",
    "for el in enumerate(dataset_target):\n",
    "    a = el"
   ]
  },
  {
   "cell_type": "code",
   "execution_count": 90,
   "id": "4df1db68-7f4c-48e8-8e0b-b092703dd36a",
   "metadata": {},
   "outputs": [
    {
     "name": "stdout",
     "output_type": "stream",
     "text": [
      "CPU times: user 1.24 s, sys: 3.97 ms, total: 1.24 s\n",
      "Wall time: 1.24 s\n"
     ]
    }
   ],
   "source": [
    "%%time\n",
    "dataset_target = lmdb_dataset(dataset_target_path_test+'_orig'+suffix, compressed=False)\n",
    "for el in enumerate(dataset_target):\n",
    "    a = el"
   ]
  },
  {
   "cell_type": "code",
   "execution_count": 91,
   "id": "4a6a54fd-d5fb-49f7-ae49-d303b9d29f78",
   "metadata": {},
   "outputs": [
    {
     "name": "stdout",
     "output_type": "stream",
     "text": [
      "CPU times: user 1.25 s, sys: 0 ns, total: 1.25 s\n",
      "Wall time: 1.25 s\n"
     ]
    }
   ],
   "source": [
    "%%time\n",
    "dataset_target = lmdb_dataset(dataset_target_path_test+'_dict'+suffix, compressed=False)\n",
    "for el in enumerate(dataset_target):\n",
    "    a = el"
   ]
  },
  {
   "cell_type": "code",
   "execution_count": 92,
   "id": "c45d9d02-b8ee-4b60-a611-d1e640cb1275",
   "metadata": {},
   "outputs": [
    {
     "name": "stdout",
     "output_type": "stream",
     "text": [
      "CPU times: user 639 ms, sys: 0 ns, total: 639 ms\n",
      "Wall time: 638 ms\n"
     ]
    }
   ],
   "source": [
    "%%time\n",
    "dataset_target = lmdb_dataset(dataset_target_path_test+'_dict_short'+suffix, compressed=False)\n",
    "for el in enumerate(dataset_target):\n",
    "    a = el"
   ]
  },
  {
   "cell_type": "code",
   "execution_count": 93,
   "id": "2dda5831-bb74-4d2e-a295-30cb46b59d46",
   "metadata": {},
   "outputs": [
    {
     "name": "stdout",
     "output_type": "stream",
     "text": [
      "CPU times: user 45 ms, sys: 8.04 ms, total: 53 ms\n",
      "Wall time: 51 ms\n"
     ]
    }
   ],
   "source": [
    "%%time\n",
    "dataset_target = lmdb_dataset(dataset_target_path_test+'_dict_short_numpy'+suffix, compressed=False)\n",
    "for el in enumerate(dataset_target):\n",
    "    a = el"
   ]
  },
  {
   "cell_type": "code",
   "execution_count": 6,
   "id": "3cf19286-5d54-4fdb-907d-e11119f209e3",
   "metadata": {},
   "outputs": [
    {
     "name": "stdout",
     "output_type": "stream",
     "text": [
      "CPU times: user 51.9 ms, sys: 8 ms, total: 59.9 ms\n",
      "Wall time: 58.5 ms\n"
     ]
    }
   ],
   "source": [
    "%%time\n",
    "dataset_target = lmdb_dataset(dataset_target_path_test+'_dict_short_numpy_zip'+suffix, compressed=True)\n",
    "for el in enumerate(dataset_target):\n",
    "    a = el"
   ]
  },
  {
   "cell_type": "code",
   "execution_count": null,
   "id": "3c0458ed-e035-4b0d-8c84-9c15a2ccfd66",
   "metadata": {},
   "outputs": [],
   "source": [
    "dataset_target = lmdb_dataset(dataset_target_path_test'_dict_short_numpy_zip'+suffix, compressed=True)\n",
    "dataset_target[0]['edge_angles'][0]"
   ]
  },
  {
   "cell_type": "markdown",
   "id": "fde5b0b4-91ea-4cca-be20-1d4c6b60495b",
   "metadata": {
    "tags": []
   },
   "source": [
    "#### Compressed pickle"
   ]
  },
  {
   "cell_type": "code",
   "execution_count": 54,
   "id": "5365ca33-63db-4910-b22a-ec36226f60f2",
   "metadata": {},
   "outputs": [
    {
     "name": "stdout",
     "output_type": "stream",
     "text": [
      "CPU times: user 217 ms, sys: 0 ns, total: 217 ms\n",
      "Wall time: 215 ms\n"
     ]
    }
   ],
   "source": [
    "%%time\n",
    "with open('data_10k.pkl', 'wb') as f:\n",
    "    f.write(pickle.dumps(dataset_target[0]))"
   ]
  },
  {
   "cell_type": "code",
   "execution_count": 60,
   "id": "ec771929-c393-4243-91a9-5f43c7a4bf4c",
   "metadata": {},
   "outputs": [
    {
     "name": "stdout",
     "output_type": "stream",
     "text": [
      "<class 'bytes'>\n",
      "CPU times: user 106 ms, sys: 14 µs, total: 106 ms\n",
      "Wall time: 103 ms\n"
     ]
    }
   ],
   "source": [
    "%%time\n",
    "with open('data_10k.pkl', 'rb') as f:\n",
    "    data = f.read()\n",
    "    data = pickle.loads(data)"
   ]
  },
  {
   "cell_type": "code",
   "execution_count": 56,
   "id": "a372bbbc-b158-466c-b3e1-7967b306aa78",
   "metadata": {},
   "outputs": [
    {
     "name": "stdout",
     "output_type": "stream",
     "text": [
      "CPU times: user 218 ms, sys: 51 µs, total: 218 ms\n",
      "Wall time: 216 ms\n"
     ]
    }
   ],
   "source": [
    "%%time\n",
    "with open('data_10k.pbz2', 'wb') as f:\n",
    "    f.write(zlib.compress(pickle.dumps(dataset_target[0]), level = 1))"
   ]
  },
  {
   "cell_type": "code",
   "execution_count": 59,
   "id": "bd72a99b-77fb-4488-88b6-698b43c1ec65",
   "metadata": {},
   "outputs": [
    {
     "name": "stdout",
     "output_type": "stream",
     "text": [
      "<class 'bytes'>\n",
      "CPU times: user 187 ms, sys: 3.95 ms, total: 191 ms\n",
      "Wall time: 189 ms\n"
     ]
    }
   ],
   "source": [
    "%%time\n",
    "with open('data_10k.pbz2', 'rb') as f:\n",
    "    data = f.read()\n",
    "    data = pickle.loads(zlib.decompress(data))"
   ]
  },
  {
   "cell_type": "markdown",
   "id": "992b74c9-972a-4c0a-ad81-3e3d9927f1bc",
   "metadata": {},
   "source": [
    "#### Feather file-format"
   ]
  },
  {
   "cell_type": "code",
   "execution_count": 118,
   "id": "c0eb678d-9dd3-4610-a0fe-d0cfcaf118fe",
   "metadata": {},
   "outputs": [],
   "source": [
    "import pyarrow.feather as feather"
   ]
  },
  {
   "cell_type": "markdown",
   "id": "47e2b3d8-415e-4888-80a5-8f123a3b910a",
   "metadata": {},
   "source": [
    "#### restore_angles"
   ]
  },
  {
   "cell_type": "code",
   "execution_count": null,
   "id": "eea68f60-3b20-4811-a91f-18252ff9bcab",
   "metadata": {},
   "outputs": [],
   "source": [
    "def convert_angles(array):\n",
    "    array[:, 1] = np.pi - array[:, 1]\n",
    "    array[:, 3] = -array[:, 3]\n",
    "    return array\n",
    "\n",
    "def restore_edge_angles(list_of_arrays):\n",
    "    el_new= []\n",
    "    for el in list_of_arrays:\n",
    "        el_new.append(el)\n",
    "        el_new.append(convert_angles(el.copy()))        \n",
    "    return el_new"
   ]
  },
  {
   "cell_type": "markdown",
   "id": "d8468670-4584-4ebf-924d-802ec2ef0536",
   "metadata": {},
   "source": [
    "### Benchmark preprocessing"
   ]
  },
  {
   "cell_type": "markdown",
   "id": "4effaaca-d1a0-4257-b14a-98e3bed9916b",
   "metadata": {},
   "source": [
    "#### mod2"
   ]
  },
  {
   "cell_type": "code",
   "execution_count": 2,
   "id": "54500db7-1e3c-44c7-aaf7-173611fd223e",
   "metadata": {},
   "outputs": [
    {
     "name": "stdout",
     "output_type": "stream",
     "text": [
      "lmdbz\n",
      "True\n"
     ]
    }
   ],
   "source": [
    "dataset_target_path ='../../ocp_datasets/data/is2re/10k/train/data_mod2.lmdbz'\n",
    "dataset_target = lmdb_dataset(dataset_target_path)\n",
    "suffix = '.lmdb'\n",
    "\n",
    "suffix = dataset_target_path.split('.')[-1]\n",
    "print(suffix)\n",
    "\n",
    "compressed = (\n",
    "    True if suffix == 'lmdbz'\n",
    "    else False\n",
    ")\n",
    "\n",
    "print(compressed)"
   ]
  },
  {
   "cell_type": "code",
   "execution_count": null,
   "id": "041de39c-bb3f-467f-9d30-b80ef3b1587e",
   "metadata": {},
   "outputs": [],
   "source": [
    "%%time\n",
    "print(dataset_target_path)\n",
    "dataset_target = lmdb_dataset(dataset_target_path, compressed=True)\n",
    "for el in dataset_target:\n",
    "    a = preprocessing(el)"
   ]
  },
  {
   "cell_type": "markdown",
   "id": "eba3a94d-4b50-4471-a063-17dd52f47d09",
   "metadata": {},
   "source": [
    "#### mod1"
   ]
  },
  {
   "cell_type": "code",
   "execution_count": 2,
   "id": "848af312-81f0-4216-8fbd-c7eec127de78",
   "metadata": {},
   "outputs": [],
   "source": [
    "dataset_target_path ='../../ocp_datasets/data/is2re/10k/train/data_mod.lmdb'\n",
    "suffix = '.lmdb'"
   ]
  },
  {
   "cell_type": "code",
   "execution_count": 3,
   "id": "2bf1aabd-1849-43bd-9577-2a5633e069e1",
   "metadata": {},
   "outputs": [
    {
     "name": "stdout",
     "output_type": "stream",
     "text": [
      "../../ocp_datasets/data/is2re/10k/train/data_mod.lmdb\n",
      "CPU times: user 8.79 s, sys: 679 ms, total: 9.46 s\n",
      "Wall time: 9.46 s\n"
     ]
    }
   ],
   "source": [
    "%%time\n",
    "print(dataset_target_path)\n",
    "dataset_target = lmdb_dataset(dataset_target_path, compressed=False)\n",
    "for el in dataset_target:\n",
    "    a = preprocessing(el, opt='edges_only')"
   ]
  },
  {
   "cell_type": "markdown",
   "id": "6e1ee9fa-c7c4-4107-99e2-dbc70ef5480e",
   "metadata": {},
   "source": [
    "**multiprocessing (do not work with n_jobs > 1)**"
   ]
  },
  {
   "cell_type": "raw",
   "id": "48351097-e3aa-4abf-9f1e-6a532b6de85d",
   "metadata": {},
   "source": [
    "%%time\n",
    "dataset_target = lmdb_dataset(dataset_target_path, compressed=True)\n",
    "a = Parallel(n_jobs=2)(delayed(restore_edge_angles)(el['edge_angles']) for el in dataset_target)"
   ]
  }
 ],
 "metadata": {
  "kernelspec": {
   "display_name": "ocp_models",
   "language": "python",
   "name": "ocp_models"
  },
  "language_info": {
   "codemirror_mode": {
    "name": "ipython",
    "version": 3
   },
   "file_extension": ".py",
   "mimetype": "text/x-python",
   "name": "python",
   "nbconvert_exporter": "python",
   "pygments_lexer": "ipython3",
   "version": "3.8.10"
  }
 },
 "nbformat": 4,
 "nbformat_minor": 5
}
