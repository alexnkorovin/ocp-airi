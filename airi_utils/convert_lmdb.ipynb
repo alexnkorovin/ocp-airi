{
 "cells": [
  {
   "cell_type": "code",
   "execution_count": 1,
   "id": "7f7a0a45-fec7-4fb6-84c0-40d19ab46b62",
   "metadata": {},
   "outputs": [],
   "source": [
    "import lmdb\n",
    "import torch\n",
    "from ocpmodels.datasets import SinglePointLmdbDataset\n",
    "import pandas as pd\n",
    "import pickle"
   ]
  },
  {
   "cell_type": "code",
   "execution_count": 2,
   "id": "35de4b33-806a-4f89-918e-4de773ce31bd",
   "metadata": {},
   "outputs": [],
   "source": [
    "#for train sample\n",
    "dataset_origin_path = \"/Users/humonen/Downloads/structures_train.pkl\"\n",
    "dataset_origin_old_path = \"../../ocp_datasets/data/is2re/10k/train/data.lmdb\"\n",
    "dataset_target_path = \"../../ocp_datasets/data/is2re/10k/train/data_mod.lmdb\""
   ]
  },
  {
   "cell_type": "code",
   "execution_count": 3,
   "id": "90df5266-6e29-4a36-9ba2-1ed684f9c76e",
   "metadata": {},
   "outputs": [],
   "source": [
    "dataset_origin_old = SinglePointLmdbDataset({\"src\": dataset_origin_old_path})"
   ]
  },
  {
   "cell_type": "code",
   "execution_count": 4,
   "id": "fb97e4b7-b41f-462b-8408-f58f4f59ce07",
   "metadata": {},
   "outputs": [
    {
     "data": {
      "text/plain": [
       "tensor([2.8117, 2.8117, 2.8117,  ..., 5.7203, 5.8450, 5.8527])"
      ]
     },
     "execution_count": 4,
     "metadata": {},
     "output_type": "execute_result"
    }
   ],
   "source": [
    "dataset_origin_old[0]['distances']"
   ]
  },
  {
   "cell_type": "code",
   "execution_count": 5,
   "id": "6e52d4c6-d503-42cc-b6be-b7d69da2ed58",
   "metadata": {},
   "outputs": [],
   "source": [
    "dataset_origin = pd.read_pickle(dataset_origin_path)"
   ]
  },
  {
   "cell_type": "code",
   "execution_count": 6,
   "id": "3f969ec8-0623-41af-833d-349b52c4bce4",
   "metadata": {},
   "outputs": [
    {
     "data": {
      "text/plain": [
       "array([4.70419312, 4.70419312, 2.84391737, ..., 3.74769878, 4.21590567,\n",
       "       4.21590567])"
      ]
     },
     "execution_count": 6,
     "metadata": {},
     "output_type": "execute_result"
    }
   ],
   "source": [
    "dataset_origin[0]['distances_new']"
   ]
  },
  {
   "cell_type": "code",
   "execution_count": 7,
   "id": "82859a85-4652-4c85-b5be-4a2712b067ab",
   "metadata": {},
   "outputs": [],
   "source": [
    "def update_dataset(dataset_target_path, dataset_origin_old, dataset_origin, features_names=None):\n",
    "    dataset_target = lmdb.open(\n",
    "        dataset_target_path,\n",
    "        map_size=int(1e9*5), #~ 5 Gbyte\n",
    "        subdir=False,\n",
    "        meminit=False,\n",
    "        map_async=True,\n",
    "    )\n",
    "\n",
    "    idx = 0\n",
    "\n",
    "    for ii, data_object_origin_old in enumerate(dataset_origin_old):\n",
    "\n",
    "            # Substitute: edge_index -> edge_index_new\n",
    "            data_object = dataset_origin_old[ii]\n",
    "            for feature_name in features_names:\n",
    "                feature = torch.from_numpy(dataset_origin[ii][feature_name+'_new'])\n",
    "                data_object[feature_name] = feature\n",
    "\n",
    "            # Write to LMDB\n",
    "            txn = dataset_target.begin(write=True)\n",
    "            txn.put(f\"{idx}\".encode(\"ascii\"), pickle.dumps(data_object, protocol=-1))\n",
    "            txn.commit()\n",
    "            dataset_target.sync()\n",
    "            if idx % 1000 == 0:\n",
    "                print('{} of {} for file {}'.format(idx, len(dataset_origin_old), dataset_target_path))\n",
    "            idx += 1\n",
    "\n",
    "    dataset_target.close()\n",
    "    print(\"done\")"
   ]
  },
  {
   "cell_type": "code",
   "execution_count": 8,
   "id": "234c0bf2",
   "metadata": {},
   "outputs": [
    {
     "name": "stdout",
     "output_type": "stream",
     "text": [
      "0 of 10000 for file ../../ocp_datasets/data/is2re/10k/train/data_mod.lmdb\n",
      "1000 of 10000 for file ../../ocp_datasets/data/is2re/10k/train/data_mod.lmdb\n",
      "2000 of 10000 for file ../../ocp_datasets/data/is2re/10k/train/data_mod.lmdb\n",
      "3000 of 10000 for file ../../ocp_datasets/data/is2re/10k/train/data_mod.lmdb\n",
      "4000 of 10000 for file ../../ocp_datasets/data/is2re/10k/train/data_mod.lmdb\n",
      "5000 of 10000 for file ../../ocp_datasets/data/is2re/10k/train/data_mod.lmdb\n",
      "6000 of 10000 for file ../../ocp_datasets/data/is2re/10k/train/data_mod.lmdb\n",
      "7000 of 10000 for file ../../ocp_datasets/data/is2re/10k/train/data_mod.lmdb\n",
      "8000 of 10000 for file ../../ocp_datasets/data/is2re/10k/train/data_mod.lmdb\n",
      "9000 of 10000 for file ../../ocp_datasets/data/is2re/10k/train/data_mod.lmdb\n",
      "done\n",
      "CPU times: user 12 s, sys: 6.86 s, total: 18.9 s\n",
      "Wall time: 32.4 s\n"
     ]
    }
   ],
   "source": [
    "%%time\n",
    "update_dataset(dataset_target_path, dataset_origin_old, dataset_origin, features_names=['edge_index', 'distances'])"
   ]
  },
  {
   "cell_type": "code",
   "execution_count": 9,
   "id": "6701fbe3-da16-484d-a786-e1216d2ec874",
   "metadata": {},
   "outputs": [],
   "source": [
    "dataset_target = SinglePointLmdbDataset({\"src\": dataset_target_path})"
   ]
  },
  {
   "cell_type": "code",
   "execution_count": 10,
   "id": "5365ca33-63db-4910-b22a-ec36226f60f2",
   "metadata": {},
   "outputs": [
    {
     "data": {
      "text/plain": [
       "tensor([4.7042, 4.7042, 2.8439,  ..., 3.7477, 4.2159, 4.2159],\n",
       "       dtype=torch.float64)"
      ]
     },
     "execution_count": 10,
     "metadata": {},
     "output_type": "execute_result"
    }
   ],
   "source": [
    "dataset_target[0]['distances']"
   ]
  },
  {
   "cell_type": "code",
   "execution_count": 11,
   "id": "fe72d424-3972-457d-be01-d28afda60a9c",
   "metadata": {},
   "outputs": [],
   "source": [
    "#for val_ood_both sample\n",
    "dataset_origin_path = \"/Users/humonen/Downloads/structures_val_ood_both.pkl\"\n",
    "dataset_origin_old_path = \"../../ocp_datasets/data/is2re/all/val_ood_both/data.lmdb\"\n",
    "dataset_target_path = \"../../ocp_datasets/data/is2re/all/val_ood_both/data.lmdb\"\n",
    "\n",
    "dataset_origin_old = SinglePointLmdbDataset({\"src\": dataset_origin_old_path})\n",
    "dataset_origin = pd.read_pickle(dataset_origin_path)"
   ]
  },
  {
   "cell_type": "code",
   "execution_count": 12,
   "id": "54f01a96",
   "metadata": {},
   "outputs": [
    {
     "name": "stdout",
     "output_type": "stream",
     "text": [
      "0 of 24987 for file ../../ocp_datasets/data/is2re/all/val_ood_both/data.lmdb\n",
      "1000 of 24987 for file ../../ocp_datasets/data/is2re/all/val_ood_both/data.lmdb\n",
      "2000 of 24987 for file ../../ocp_datasets/data/is2re/all/val_ood_both/data.lmdb\n",
      "3000 of 24987 for file ../../ocp_datasets/data/is2re/all/val_ood_both/data.lmdb\n",
      "4000 of 24987 for file ../../ocp_datasets/data/is2re/all/val_ood_both/data.lmdb\n",
      "5000 of 24987 for file ../../ocp_datasets/data/is2re/all/val_ood_both/data.lmdb\n",
      "6000 of 24987 for file ../../ocp_datasets/data/is2re/all/val_ood_both/data.lmdb\n",
      "7000 of 24987 for file ../../ocp_datasets/data/is2re/all/val_ood_both/data.lmdb\n",
      "8000 of 24987 for file ../../ocp_datasets/data/is2re/all/val_ood_both/data.lmdb\n",
      "9000 of 24987 for file ../../ocp_datasets/data/is2re/all/val_ood_both/data.lmdb\n",
      "10000 of 24987 for file ../../ocp_datasets/data/is2re/all/val_ood_both/data.lmdb\n",
      "11000 of 24987 for file ../../ocp_datasets/data/is2re/all/val_ood_both/data.lmdb\n",
      "12000 of 24987 for file ../../ocp_datasets/data/is2re/all/val_ood_both/data.lmdb\n",
      "13000 of 24987 for file ../../ocp_datasets/data/is2re/all/val_ood_both/data.lmdb\n",
      "14000 of 24987 for file ../../ocp_datasets/data/is2re/all/val_ood_both/data.lmdb\n",
      "15000 of 24987 for file ../../ocp_datasets/data/is2re/all/val_ood_both/data.lmdb\n",
      "16000 of 24987 for file ../../ocp_datasets/data/is2re/all/val_ood_both/data.lmdb\n",
      "17000 of 24987 for file ../../ocp_datasets/data/is2re/all/val_ood_both/data.lmdb\n",
      "18000 of 24987 for file ../../ocp_datasets/data/is2re/all/val_ood_both/data.lmdb\n",
      "19000 of 24987 for file ../../ocp_datasets/data/is2re/all/val_ood_both/data.lmdb\n",
      "20000 of 24987 for file ../../ocp_datasets/data/is2re/all/val_ood_both/data.lmdb\n",
      "21000 of 24987 for file ../../ocp_datasets/data/is2re/all/val_ood_both/data.lmdb\n",
      "22000 of 24987 for file ../../ocp_datasets/data/is2re/all/val_ood_both/data.lmdb\n",
      "23000 of 24987 for file ../../ocp_datasets/data/is2re/all/val_ood_both/data.lmdb\n",
      "24000 of 24987 for file ../../ocp_datasets/data/is2re/all/val_ood_both/data.lmdb\n",
      "done\n",
      "CPU times: user 33.5 s, sys: 21 s, total: 54.6 s\n",
      "Wall time: 1min 28s\n"
     ]
    }
   ],
   "source": [
    "%%time\n",
    "update_dataset(dataset_target_path, dataset_origin_old, dataset_origin, features_names=['edge_index', 'distances'])"
   ]
  },
  {
   "cell_type": "code",
   "execution_count": null,
   "id": "e9ddb5c6",
   "metadata": {},
   "outputs": [],
   "source": []
  }
 ],
 "metadata": {
  "kernelspec": {
   "display_name": "ocp-models-env",
   "language": "python",
   "name": "ocp-models"
  },
  "language_info": {
   "codemirror_mode": {
    "name": "ipython",
    "version": 3
   },
   "file_extension": ".py",
   "mimetype": "text/x-python",
   "name": "python",
   "nbconvert_exporter": "python",
   "pygments_lexer": "ipython3",
   "version": "3.8.10"
  }
 },
 "nbformat": 4,
 "nbformat_minor": 5
}
