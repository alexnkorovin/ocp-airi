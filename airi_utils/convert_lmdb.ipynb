{
 "cells": [
  {
   "cell_type": "code",
   "execution_count": 1,
   "id": "7f7a0a45-fec7-4fb6-84c0-40d19ab46b62",
   "metadata": {},
   "outputs": [],
   "source": [
    "import lmdb\n",
    "import torch\n",
    "from ocpmodels.datasets import SinglePointLmdbDataset\n",
    "import pandas as pd\n",
    "import pickle\n",
    "import gc"
   ]
  },
  {
   "cell_type": "code",
   "execution_count": 2,
   "id": "35de4b33-806a-4f89-918e-4de773ce31bd",
   "metadata": {},
   "outputs": [
    {
     "name": "stdout",
     "output_type": "stream",
     "text": [
      "dataset_origin_path: ../../ocp_datasets/data/is2re/10k/train/structures.pkl\n",
      "dataset_origin_old_path: ../../ocp_datasets/data/is2re/10k/train/data.lmdb\n",
      "dataset_target_path: ../../ocp_datasets/data/is2re/10k/train/data_mod.lmdb\n"
     ]
    }
   ],
   "source": [
    "#for train sample\n",
    "dataset_size_list = {\n",
    "    0: \"10k\",\n",
    "    1: \"100k\",\n",
    "    2: \"all\"\n",
    "}\n",
    "mode_list = {\n",
    "    0: \"train\",\n",
    "    1: \"val\",\n",
    "    2: \"test\"\n",
    "}\n",
    "dataset_list = {\n",
    "    1: \"id\",\n",
    "    2: \"ood_ads\",\n",
    "    3: \"ood_cat\",\n",
    "    4: \"ood_both\"\n",
    "}\n",
    "\n",
    "# setting section\n",
    "root = \"../../ocp_datasets/data/is2re\"\n",
    "dataset_size = dataset_size_list[0]\n",
    "mode = mode_list[0]\n",
    "dataset = dataset_list[4]\n",
    "#\n",
    "\n",
    "def path_build(root, dataset_size, mode, dataset): # : mode: \"origin, origin_old, target\"\n",
    "    path = f'{root}/{dataset_size}/{mode}'\n",
    "    if mode != mode_list[0]:\n",
    "        path = f'{path}_{dataset}'\n",
    "    return path\n",
    "    \n",
    "dataset_origin_path = f'{path_build(root, dataset_size, mode, dataset)}/structures.pkl'\n",
    "dataset_origin_old_path = f'{path_build(root, dataset_size, mode, dataset)}/data.lmdb'\n",
    "dataset_target_path = f'{path_build(root, dataset_size, mode, dataset)}/data_mod.lmdb'\n",
    "\n",
    "(print(\n",
    "    f'dataset_origin_path: {dataset_origin_path}',\n",
    "    f'dataset_origin_old_path: {dataset_origin_old_path}',\n",
    "    f'dataset_target_path: {dataset_target_path}',\n",
    "    sep='\\n')\n",
    ")\n",
    "#/home/alex/Documents/ocp_datasets/data/is2re/all/val_ood_both\n",
    "#/home/alex/Documents/ocp_datasets/data/is2re/all/test_ood_both\n"
   ]
  },
  {
   "cell_type": "code",
   "execution_count": 3,
   "id": "90df5266-6e29-4a36-9ba2-1ed684f9c76e",
   "metadata": {},
   "outputs": [],
   "source": [
    "# dataset_origin_old = SinglePointLmdbDataset({\"src\": dataset_origin_old_path})"
   ]
  },
  {
   "cell_type": "code",
   "execution_count": 4,
   "id": "fb97e4b7-b41f-462b-8408-f58f4f59ce07",
   "metadata": {},
   "outputs": [],
   "source": [
    "# dataset_origin_old[0]['distances']"
   ]
  },
  {
   "cell_type": "code",
   "execution_count": 5,
   "id": "6e52d4c6-d503-42cc-b6be-b7d69da2ed58",
   "metadata": {},
   "outputs": [],
   "source": [
    "# dataset_origin = pd.read_pickle(dataset_origin_path)"
   ]
  },
  {
   "cell_type": "code",
   "execution_count": 6,
   "id": "3f969ec8-0623-41af-833d-349b52c4bce4",
   "metadata": {},
   "outputs": [],
   "source": [
    "# dataset_origin[0]['distances_new']"
   ]
  },
  {
   "cell_type": "code",
   "execution_count": 7,
   "id": "82859a85-4652-4c85-b5be-4a2712b067ab",
   "metadata": {},
   "outputs": [],
   "source": [
    "def update_dataset(dataset_target_path, dataset_origin_old_path, dataset_origin_path, features_names=None):\n",
    "    dataset_origin = pd.read_pickle(dataset_origin_path)\n",
    "    \n",
    "    dataset_origin_old = SinglePointLmdbDataset({\"src\": dataset_origin_old_path})\n",
    "    \n",
    "    dataset_target = lmdb.open(\n",
    "        dataset_target_path,\n",
    "        map_size=int(1e9*5), #~ 5 Gbyte\n",
    "        subdir=False,\n",
    "        meminit=False,\n",
    "        map_async=True,\n",
    "    )\n",
    "\n",
    "    idx = 0\n",
    "\n",
    "    for ii, data_object_origin_old in enumerate(dataset_origin_old):\n",
    "\n",
    "            # Substitute: edge_index -> edge_index_new\n",
    "            data_object = dataset_origin_old[ii]\n",
    "            for feature_name in features_names:\n",
    "                feature = torch.from_numpy(dataset_origin[ii][feature_name+'_new'])\n",
    "                data_object[feature_name] = feature\n",
    "\n",
    "            # Write to LMDB\n",
    "            txn = dataset_target.begin(write=True)\n",
    "            txn.put(f\"{idx}\".encode(\"ascii\"), pickle.dumps(data_object, protocol=-1))\n",
    "            txn.commit()\n",
    "            dataset_target.sync()\n",
    "            if idx % 1000 == 0:\n",
    "                print('{} of {} for file {}'.format(idx, len(dataset_origin_old), dataset_target_path))\n",
    "            idx += 1\n",
    "\n",
    "    dataset_target.close()\n",
    "    print(\"done\")"
   ]
  },
  {
   "cell_type": "code",
   "execution_count": 9,
   "id": "234c0bf2",
   "metadata": {},
   "outputs": [
    {
     "name": "stdout",
     "output_type": "stream",
     "text": [
      "0 of 10000 for file ../../ocp_datasets/data/is2re/10k/train/data_mod.lmdb\n",
      "1000 of 10000 for file ../../ocp_datasets/data/is2re/10k/train/data_mod.lmdb\n",
      "2000 of 10000 for file ../../ocp_datasets/data/is2re/10k/train/data_mod.lmdb\n",
      "3000 of 10000 for file ../../ocp_datasets/data/is2re/10k/train/data_mod.lmdb\n",
      "4000 of 10000 for file ../../ocp_datasets/data/is2re/10k/train/data_mod.lmdb\n",
      "5000 of 10000 for file ../../ocp_datasets/data/is2re/10k/train/data_mod.lmdb\n",
      "6000 of 10000 for file ../../ocp_datasets/data/is2re/10k/train/data_mod.lmdb\n",
      "7000 of 10000 for file ../../ocp_datasets/data/is2re/10k/train/data_mod.lmdb\n",
      "8000 of 10000 for file ../../ocp_datasets/data/is2re/10k/train/data_mod.lmdb\n",
      "9000 of 10000 for file ../../ocp_datasets/data/is2re/10k/train/data_mod.lmdb\n",
      "done\n"
     ]
    }
   ],
   "source": [
    "update_dataset(dataset_target_path, dataset_origin_old_path, dataset_origin_path, features_names=['edge_index', 'distances'])"
   ]
  },
  {
   "cell_type": "code",
   "execution_count": 9,
   "id": "6701fbe3-da16-484d-a786-e1216d2ec874",
   "metadata": {},
   "outputs": [],
   "source": [
    "dataset_target = SinglePointLmdbDataset({\"src\": dataset_target_path})"
   ]
  },
  {
   "cell_type": "code",
   "execution_count": 10,
   "id": "5365ca33-63db-4910-b22a-ec36226f60f2",
   "metadata": {},
   "outputs": [
    {
     "data": {
      "text/plain": [
       "tensor([ 2.4172,  2.4172,  2.2962,  ..., 19.1239, 19.2233, 19.2233],\n",
       "       dtype=torch.float64)"
      ]
     },
     "execution_count": 10,
     "metadata": {},
     "output_type": "execute_result"
    }
   ],
   "source": [
    "dataset_target[0]['distances']"
   ]
  },
  {
   "cell_type": "raw",
   "id": "096c6fc5-98a9-45f5-9e1a-129160367f07",
   "metadata": {},
   "source": [
    "#for val_ood_both sample\n",
    "dataset_origin_path = \"/Users/humonen/Downloads/structures_val_ood_both.pkl\"\n",
    "dataset_origin_old_path = \"../../ocp_datasets/data/is2re/all/val_ood_both/data.lmdb\"\n",
    "dataset_target_path = \"../../ocp_datasets/data/is2re/all/val_ood_both/data.lmdb\"\n",
    "\n",
    "dataset_origin_old = SinglePointLmdbDataset({\"src\": dataset_origin_old_path})\n",
    "dataset_origin = pd.read_pickle(dataset_origin_path)"
   ]
  },
  {
   "cell_type": "raw",
   "id": "6ec87d8d-ba39-47bf-8be4-03e0ad8fce61",
   "metadata": {},
   "source": [
    "\n",
    "update_dataset(dataset_target_path, dataset_origin_old, dataset_origin, features_names=['edge_index', 'distances'])"
   ]
  },
  {
   "cell_type": "code",
   "execution_count": null,
   "id": "e9ddb5c6",
   "metadata": {},
   "outputs": [],
   "source": []
  }
 ],
 "metadata": {
  "kernelspec": {
   "display_name": "ocp_models",
   "language": "python",
   "name": "ocp_models"
  },
  "language_info": {
   "codemirror_mode": {
    "name": "ipython",
    "version": 3
   },
   "file_extension": ".py",
   "mimetype": "text/x-python",
   "name": "python",
   "nbconvert_exporter": "python",
   "pygments_lexer": "ipython3",
   "version": "3.8.10"
  }
 },
 "nbformat": 4,
 "nbformat_minor": 5
}
