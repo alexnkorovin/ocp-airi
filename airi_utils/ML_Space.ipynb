{
 "cells": [
  {
   "cell_type": "code",
   "execution_count": null,
   "id": "4dbee5e3-a017-4e81-b9da-6b5a6b166169",
   "metadata": {},
   "outputs": [],
   "source": [
    "import os\n",
    "\n",
    "from ML_Space_Functions import get_access_to_s3, load_to_s3_from_nfc, load_from_s3_to_nfc"
   ]
  },
  {
   "cell_type": "markdown",
   "id": "1ac17c62-ba9c-4109-a3cb-6557bb453b63",
   "metadata": {},
   "source": [
    "## Transfer files from S3 (Storage) to NFC (Jupyter Server)"
   ]
  },
  {
   "cell_type": "code",
   "execution_count": null,
   "id": "0faddffe-f8c6-4d13-9484-11e1ee47ddbf",
   "metadata": {},
   "outputs": [],
   "source": [
    "s3_path = 's3://b-ws-f5nq8-3u4/ocp_datasets/is2re/all/train/'\n",
    "nfc_path = '/home/jovyan/ocp_datasets/data/is2re/all/train/'\n",
    "file = 'data.lmdb'"
   ]
  },
  {
   "cell_type": "code",
   "execution_count": null,
   "id": "6b37bbc0-0d29-437b-b1ec-c7a6f419b26c",
   "metadata": {},
   "outputs": [],
   "source": [
    "get_access_to_s3()\n",
    "if not os.path.isfile(nfc_path + file):\n",
    "    load_from_s3_to_nfc(nfc_path, s3_path + file, True)"
   ]
  }
 ],
 "metadata": {
  "kernelspec": {
   "display_name": "ocp_models",
   "language": "python",
   "name": "ocp_models"
  },
  "language_info": {
   "codemirror_mode": {
    "name": "ipython",
    "version": 3
   },
   "file_extension": ".py",
   "mimetype": "text/x-python",
   "name": "python",
   "nbconvert_exporter": "python",
   "pygments_lexer": "ipython3",
   "version": "3.8.10"
  }
 },
 "nbformat": 4,
 "nbformat_minor": 5
}
