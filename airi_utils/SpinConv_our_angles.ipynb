{
 "cells": [
  {
   "cell_type": "code",
   "execution_count": 1,
   "id": "3b112d34",
   "metadata": {
    "tags": []
   },
   "outputs": [],
   "source": [
    "import os\n",
    "\n",
    "import numpy as np\n",
    "import pandas as pd\n",
    "\n",
    "import torch\n",
    "import torch.nn.functional as F\n",
    "import torch.optim as optim\n",
    "\n",
    "\n",
    "from datetime import datetime\n",
    "from torch import nn\n",
    "from torch_geometric.data import Data, DataLoader\n",
    "from torch_geometric.nn import MessagePassing, DataParallel\n",
    "from torch_scatter import scatter\n",
    "from torch.utils.tensorboard import SummaryWriter\n",
    "\n",
    "from DataClasses import lmdb_dataset, Dataset, DataListLoader\n",
    "from ModelFunctions import train, evaluate, inference"
   ]
  },
  {
   "cell_type": "code",
   "execution_count": 2,
   "id": "434aad79",
   "metadata": {},
   "outputs": [],
   "source": [
    "import sys\n",
    "sys.path.append(os.path.expanduser('../ocpmodels/models'))\n",
    "sys.path.append(os.path.expanduser('../../ocp_airi'))\n",
    "\n",
    "from spinconv_our_angles import spinconv"
   ]
  },
  {
   "cell_type": "code",
   "execution_count": 3,
   "id": "ef40d6da",
   "metadata": {},
   "outputs": [],
   "source": [
    "def convert_angles(array):\n",
    "    array[:, 1] = np.pi - array[:, 1]\n",
    "    array[:, 3] = - array[:, 3]\n",
    "    return array\n",
    "\n",
    "def restore_edge_angles(list_of_arrays):\n",
    "    el_new = []\n",
    "    for el in list_of_arrays:\n",
    "        el_new.append(el)\n",
    "        el_new.append(convert_angles(el.copy()))        \n",
    "    return el_new"
   ]
  },
  {
   "cell_type": "code",
   "execution_count": 4,
   "id": "83f5ab39",
   "metadata": {},
   "outputs": [],
   "source": [
    "#вызывается каждый раз, когда датасет отдаёт элемент (систему)\n",
    "#делаем из данных матрицу векторов-атомов, список рёбер (edge_index) и матрицу векторов-рёбер; надо писать свою функцию для каждой сети\n",
    "def preprocessing(system):\n",
    "    system['edge_angles'] = restore_edge_angles(system['edge_angles'])\n",
    "    #system['edge_distance_vec'] = system['pos'][system['edge_index_new'][0]] - system['pos'][system['edge_index_new'][1]] + torch.matmul(system['cell_offsets_new'].float(), system['cell'][0])\n",
    "    return Data(**system)"
   ]
  },
  {
   "cell_type": "code",
   "execution_count": 5,
   "id": "c09e0c24",
   "metadata": {},
   "outputs": [],
   "source": [
    "#config\n",
    "batch_size = 80\n",
    "num_workers = 0\n",
    "\n",
    "features_cols = ['feature_1']\n",
    "\n",
    "target_col = 'y_relaxed'\n",
    "lr = 0.001\n",
    "epochs = 40"
   ]
  },
  {
   "cell_type": "code",
   "execution_count": 6,
   "id": "e2d019c3",
   "metadata": {},
   "outputs": [],
   "source": [
    "# #чтобы тензор по умолчанию заводился на куде\n",
    "# if torch.cuda.is_available():\n",
    "#     torch.set_default_tensor_type('torch.cuda.FloatTensor')\n",
    "#     print('cuda')"
   ]
  },
  {
   "cell_type": "code",
   "execution_count": 7,
   "id": "17f06907",
   "metadata": {},
   "outputs": [
    {
     "name": "stdout",
     "output_type": "stream",
     "text": [
      "cuda\n"
     ]
    }
   ],
   "source": [
    "#set device\n",
    "device = torch.device('cuda' if torch.cuda.is_available() else 'cpu')  \n",
    "print(device)"
   ]
  },
  {
   "cell_type": "code",
   "execution_count": 8,
   "id": "fac601c7",
   "metadata": {},
   "outputs": [],
   "source": [
    "#инициализируем тренировочный датасети и тренировочный итератор\n",
    "train_dataset_file_path = os.path.expanduser(\"../../ocp_datasets/data/is2re/10k/train/data_mod2_0.lmdbz\")\n",
    "\n",
    "training_set = Dataset(train_dataset_file_path, features_cols, target_col, preprocessing=preprocessing)\n",
    "training_generator = DataListLoader(training_set, batch_size=batch_size)"
   ]
  },
  {
   "cell_type": "code",
   "execution_count": 9,
   "id": "b6dbb559",
   "metadata": {},
   "outputs": [],
   "source": [
    "#инициализируем валидационный датасет и валидационный итератор\n",
    "val_dataset_file_path = os.path.expanduser(\"../../ocp_datasets/data/is2re/all/val_ood_both/data_mod2_0.lmdbz\")\n",
    "\n",
    "valid_set = Dataset(val_dataset_file_path, features_cols, target_col, preprocessing=preprocessing)\n",
    "valid_generator = DataListLoader(valid_set, batch_size=batch_size, num_workers=num_workers)"
   ]
  },
  {
   "cell_type": "code",
   "execution_count": 10,
   "id": "2067f135",
   "metadata": {},
   "outputs": [
    {
     "name": "stdout",
     "output_type": "stream",
     "text": [
      "total entries: 10000\n",
      "info for item: 0\n",
      "atomic_numbers:...........<class 'torch.Tensor'>.....      [86]\n",
      "cell:.....................<class 'torch.Tensor'>..... [1, 3, 3]\n",
      "cell_offsets:.............<class 'torch.Tensor'>..... [2964, 3]\n",
      "cell_offsets_new:.........<class 'torch.Tensor'>..... [1214, 3]\n",
      "contact_solid_angles:.....<class 'torch.Tensor'>.....    [1214]\n",
      "direct_neighbor:..........<class 'torch.Tensor'>.....    [1214]\n",
      "distances:................<class 'torch.Tensor'>.....    [2964]\n",
      "distances_new:............<class 'torch.Tensor'>.....    [1214]\n",
      "edge_angles:..............      <class 'list'>.....       607\n",
      "edge_index:...............<class 'torch.Tensor'>..... [2, 2964]\n",
      "edge_index_new:...........<class 'torch.Tensor'>..... [2, 1214]\n",
      "fixed:....................<class 'torch.Tensor'>.....      [86]\n",
      "force:....................<class 'torch.Tensor'>.....   [86, 3]\n",
      "natoms:...................       <class 'int'>.....        86\n",
      "pos:......................<class 'torch.Tensor'>.....   [86, 3]\n",
      "pos_relaxed:..............<class 'torch.Tensor'>.....   [86, 3]\n",
      "sid:......................       <class 'int'>.....   2472718\n",
      "spherical_domain_radii:...<class 'torch.Tensor'>.....      [86]\n",
      "tags:.....................<class 'torch.Tensor'>.....      [86]\n",
      "voronoi_surface_areas:....<class 'torch.Tensor'>.....      [86]\n",
      "voronoi_volumes:..........<class 'torch.Tensor'>.....      [86]\n",
      "y_init:...................     <class 'float'>.....    6.2825\n",
      "y_relaxed:................     <class 'float'>.....   -0.0256\n"
     ]
    }
   ],
   "source": [
    "try:\n",
    "    lmdb_dataset(train_dataset_file_path).describe()\n",
    "except:\n",
    "    pass"
   ]
  },
  {
   "cell_type": "code",
   "execution_count": 11,
   "id": "f51fffd4",
   "metadata": {},
   "outputs": [],
   "source": [
    "#model\n",
    "model = spinconv(None, None, 1, otf_graph=False, regress_forces=False, use_pbc=False)\n",
    "model = DataParallel(model)\n",
    "\n",
    "#optimizer and loss\n",
    "optimizer = optim.AdamW(model.parameters(), lr=lr)\n",
    "criterion = nn.L1Loss()\n",
    "\n",
    "#переносим на куду если она есть\n",
    "model = model.to(device)\n",
    "criterion = criterion.to(device)"
   ]
  },
  {
   "cell_type": "code",
   "execution_count": 12,
   "id": "4c429158",
   "metadata": {},
   "outputs": [
    {
     "name": "stdout",
     "output_type": "stream",
     "text": [
      "2021-10-04-20-02-09\n"
     ]
    }
   ],
   "source": [
    "timestamp = str(datetime.now().strftime(\"%Y-%m-%d-%H-%M-%S\"))\n",
    "\n",
    "print(timestamp)"
   ]
  },
  {
   "cell_type": "code",
   "execution_count": 13,
   "id": "80cd1d7b",
   "metadata": {},
   "outputs": [],
   "source": [
    "#tensorboard writer, при первом запуске надо руками сделать папку для логов\n",
    "\n",
    "# server\n",
    "#log_folder_path = \"../../ocp_results/logs/tensorboard/out_base_model\"\n",
    "\n",
    "# colab\n",
    "# log_folder_path = \"/content/drive/MyDrive/ocp_results/logs/tensorboard/out_base_model\"\n",
    "\n",
    "# user_specific \n",
    "log_file_path = \"../logs/tensorboard_airi\"\n",
    "\n",
    "writer = SummaryWriter(log_file_path + '/' + timestamp)"
   ]
  },
  {
   "cell_type": "code",
   "execution_count": 14,
   "id": "ab7288a1",
   "metadata": {},
   "outputs": [
    {
     "name": "stdout",
     "output_type": "stream",
     "text": [
      "no graph\n",
      "CPU times: user 450 µs, sys: 148 µs, total: 598 µs\n",
      "Wall time: 455 µs\n"
     ]
    }
   ],
   "source": [
    "%%time\n",
    "logfile_str = {\n",
    "    \"train_dataset_file_path\": train_dataset_file_path,\n",
    "    \"val_dataset_file_path\": val_dataset_file_path,\n",
    "    \"features_cols\": features_cols,\n",
    "    \"target_col\": target_col,\n",
    "    \"batch_size\": batch_size,\n",
    "    \"num_workers\": num_workers,\n",
    "    \"epochs\": epochs,\n",
    "    \"lr\": lr,\n",
    "    \"type\" : \"our_adjency, our_angles\"\n",
    "}\n",
    "\n",
    "#граф модели\n",
    "try:\n",
    "    #trace_system = dict(list(next(iter(training_generator))[0]))\n",
    "    writer.add_graph(model, trace_system)\n",
    "except:\n",
    "    print('no graph')\n",
    "writer.add_text(timestamp, str(logfile_str))"
   ]
  },
  {
   "cell_type": "markdown",
   "id": "107bdf1a",
   "metadata": {},
   "source": [
    "## Training"
   ]
  },
  {
   "cell_type": "code",
   "execution_count": null,
   "id": "1359d030",
   "metadata": {},
   "outputs": [
    {
     "name": "stdout",
     "output_type": "stream",
     "text": [
      "2021-10-04-20-02-09\n",
      "Start training model DataParallel(\n",
      "  (module): spinconv(\n",
      "    (act): Swish()\n",
      "    (distance_expansion_forces): GaussianSmearing()\n",
      "    (embeddingblock2): EmbeddingBlock(\n",
      "      (act): Swish()\n",
      "      (fc1): Linear(in_features=200, out_features=200, bias=True)\n",
      "      (fc2): Linear(in_features=200, out_features=1600, bias=True)\n",
      "      (fc3): Linear(in_features=200, out_features=32, bias=True)\n",
      "      (source_embedding): Embedding(90, 32)\n",
      "      (target_embedding): Embedding(90, 32)\n",
      "      (embed_fc1): Linear(in_features=64, out_features=8, bias=True)\n",
      "      (softmax): Softmax(dim=1)\n",
      "    )\n",
      "    (distfc1): Linear(in_features=200, out_features=200, bias=True)\n",
      "    (distfc2): Linear(in_features=200, out_features=200, bias=True)\n",
      "    (dist_block): DistanceBlock(\n",
      "      (distance_expansion): GaussianSmearing()\n",
      "      (dist_scalar): Embedding(8100, 1)\n",
      "      (dist_offset): Embedding(8100, 1)\n",
      "      (fc1): Linear(in_features=200, out_features=200, bias=True)\n",
      "    )\n",
      "    (message_blocks): ModuleList(\n",
      "      (0): MessageBlock(\n",
      "        (act): Swish()\n",
      "        (spinconvblock): SpinConvBlock(\n",
      "          (act): Swish()\n",
      "          (ProjectLatLongSphere): ProjectLatLongSphere()\n",
      "          (conv1): Conv1d(480, 200, kernel_size=(9,), stride=(1,), padding=(4,), groups=4, padding_mode=circular)\n",
      "          (pool): AvgPool1d(kernel_size=(9,), stride=(9,), padding=(0,))\n",
      "          (GroupNorm): GroupNorm(4, 200, eps=1e-05, affine=True)\n",
      "        )\n",
      "        (embeddingblock1): EmbeddingBlock(\n",
      "          (act): Swish()\n",
      "          (fc1): Linear(in_features=200, out_features=200, bias=True)\n",
      "          (fc2): Linear(in_features=200, out_features=1600, bias=True)\n",
      "          (fc3): Linear(in_features=200, out_features=200, bias=True)\n",
      "          (source_embedding): Embedding(90, 32)\n",
      "          (target_embedding): Embedding(90, 32)\n",
      "          (embed_fc1): Linear(in_features=64, out_features=8, bias=True)\n",
      "          (softmax): Softmax(dim=1)\n",
      "        )\n",
      "        (embeddingblock2): EmbeddingBlock(\n",
      "          (act): Swish()\n",
      "          (fc1): Linear(in_features=200, out_features=200, bias=True)\n",
      "          (fc2): Linear(in_features=200, out_features=1600, bias=True)\n",
      "          (fc3): Linear(in_features=200, out_features=32, bias=True)\n",
      "          (source_embedding): Embedding(90, 32)\n",
      "          (target_embedding): Embedding(90, 32)\n",
      "          (embed_fc1): Linear(in_features=64, out_features=8, bias=True)\n",
      "          (softmax): Softmax(dim=1)\n",
      "        )\n",
      "        (distfc1): Linear(in_features=200, out_features=200, bias=True)\n",
      "        (distfc2): Linear(in_features=200, out_features=200, bias=True)\n",
      "      )\n",
      "    )\n",
      "    (energyembeddingblock): EmbeddingBlock(\n",
      "      (act): Swish()\n",
      "      (fc1): Linear(in_features=32, out_features=200, bias=True)\n",
      "      (fc2): Linear(in_features=200, out_features=1600, bias=True)\n",
      "      (fc3): Linear(in_features=200, out_features=1, bias=True)\n",
      "      (source_embedding): Embedding(90, 32)\n",
      "      (target_embedding): Embedding(90, 32)\n",
      "      (embed_fc1): Linear(in_features=64, out_features=8, bias=True)\n",
      "      (softmax): Softmax(dim=1)\n",
      "    )\n",
      "    (force_output_block): ForceOutputBlock(\n",
      "      (act): Swish()\n",
      "      (spinconvblock): SpinConvBlock(\n",
      "        (act): Swish()\n",
      "        (ProjectLatLongSphere): ProjectLatLongSphere()\n",
      "        (conv1): Conv1d(480, 200, kernel_size=(9,), stride=(1,), padding=(4,), groups=4, padding_mode=circular)\n",
      "        (pool): AvgPool1d(kernel_size=(9,), stride=(9,), padding=(0,))\n",
      "        (GroupNorm): GroupNorm(4, 200, eps=1e-05, affine=True)\n",
      "      )\n",
      "      (block1): EmbeddingBlock(\n",
      "        (act): Swish()\n",
      "        (fc1): Linear(in_features=200, out_features=200, bias=True)\n",
      "        (fc2): Linear(in_features=200, out_features=1600, bias=True)\n",
      "        (fc3): Linear(in_features=200, out_features=200, bias=True)\n",
      "        (source_embedding): Embedding(90, 32)\n",
      "        (target_embedding): Embedding(90, 32)\n",
      "        (embed_fc1): Linear(in_features=64, out_features=8, bias=True)\n",
      "        (softmax): Softmax(dim=1)\n",
      "      )\n",
      "      (block2): EmbeddingBlock(\n",
      "        (act): Swish()\n",
      "        (fc1): Linear(in_features=200, out_features=200, bias=True)\n",
      "        (fc2): Linear(in_features=200, out_features=1600, bias=True)\n",
      "        (fc3): Linear(in_features=200, out_features=2, bias=True)\n",
      "        (source_embedding): Embedding(90, 32)\n",
      "        (target_embedding): Embedding(90, 32)\n",
      "        (embed_fc1): Linear(in_features=64, out_features=8, bias=True)\n",
      "        (softmax): Softmax(dim=1)\n",
      "      )\n",
      "    )\n",
      "  )\n",
      ")\n",
      "epoch 0\n"
     ]
    }
   ],
   "source": [
    "%%time\n",
    "loss = []\n",
    "loss_eval = []\n",
    "\n",
    "print(timestamp)\n",
    "print(f'Start training model {str(model)}')\n",
    "for i in range(epochs):\n",
    "    loss.append(train(model, training_generator, optimizer, criterion, epoch=i, writer=writer, device=device))\n",
    "    loss_eval.append(evaluate(model, valid_generator, criterion, epoch=i, writer=writer, device=device))\n",
    "    path = os.path.expanduser('../logs/checkpoints/SpinConv_our_angles/'+'_'.join((timestamp, 'epoch', str(i), '.pickle')))\n",
    "    torch.save(model, path)"
   ]
  },
  {
   "cell_type": "code",
   "execution_count": null,
   "id": "d0e58f3b",
   "metadata": {},
   "outputs": [],
   "source": []
  }
 ],
 "metadata": {
  "kernelspec": {
   "display_name": "ocp_models",
   "language": "python",
   "name": "ocp_models"
  },
  "language_info": {
   "codemirror_mode": {
    "name": "ipython",
    "version": 3
   },
   "file_extension": ".py",
   "mimetype": "text/x-python",
   "name": "python",
   "nbconvert_exporter": "python",
   "pygments_lexer": "ipython3",
   "version": "3.8.12"
  }
 },
 "nbformat": 4,
 "nbformat_minor": 5
}
