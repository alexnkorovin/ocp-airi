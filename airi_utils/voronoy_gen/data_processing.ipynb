{
 "cells": [
  {
   "cell_type": "markdown",
   "id": "ee56f789-c65f-496b-b249-f0f892f31f17",
   "metadata": {},
   "source": [
    "# Modification of the dataset data.lmdb"
   ]
  },
  {
   "cell_type": "markdown",
   "id": "16d48b62-66d4-4ba0-9b3d-106f68d31c2f",
   "metadata": {
    "tags": []
   },
   "source": [
    "## Voronoi"
   ]
  },
  {
   "cell_type": "code",
   "execution_count": 1,
   "id": "9036bb46-b9f5-46b2-8df6-a58910e2f00b",
   "metadata": {},
   "outputs": [
    {
     "name": "stdout",
     "output_type": "stream",
     "text": [
      "['/share/catalyst/ocp_airi/airi_utils/voronoy_gen', '/share/miniconda3/envs/ocp_models/lib/python38.zip', '/share/miniconda3/envs/ocp_models/lib/python3.8', '/share/miniconda3/envs/ocp_models/lib/python3.8/lib-dynload', '', '/share/miniconda3/envs/ocp_models/lib/python3.8/site-packages', '/share/miniconda3/envs/ocp_models/lib/python3.8/site-packages/IPython/extensions', '/home/korovin/.ipython', '/share/catalyst/ocp_airi']\n"
     ]
    }
   ],
   "source": [
    "import sys\n",
    "import os\n",
    "sys.path.append(os.path.expanduser(\"/share/catalyst/ocp_airi\"))\n",
    "print(sys.path)\n",
    "from airi_utils.DataClasses import lmdb_dataset\n",
    "import zlib"
   ]
  },
  {
   "cell_type": "code",
   "execution_count": 2,
   "id": "c041ec25",
   "metadata": {
    "scrolled": true
   },
   "outputs": [],
   "source": [
    "import numpy as np\n",
    "from mendeleev import element\n",
    "from scipy.spatial import distance_matrix\n",
    "from scipy.spatial.distance import euclidean\n",
    "import matplotlib.pyplot as plt\n",
    "import pandas as pd\n",
    "import copy\n",
    "import torch\n",
    "import lmdb\n",
    "import re\n",
    "\n",
    "def getAtomSequence (sequence) :\n",
    "    result = list([[sequence[0], 1]])\n",
    "    for i in range(1, len(sequence)) :\n",
    "        if sequence[i] == result[-1][0] :\n",
    "            result[-1][1] += 1\n",
    "        else :\n",
    "            result.append([sequence[i], 1])\n",
    "    return dict(result)\n",
    "\n",
    "def structureToVASP(structure, file='POSCAR', str_name='structure', relaxed=False) :\n",
    "    with open(file + ('_relaxed' if relaxed else ''), 'w') as f :\n",
    "        f.write(str_name + '\\n')\n",
    "        f.write(str(1.0) + '\\n')\n",
    "        for axis in np.array(structure.cell[0]) :\n",
    "            for i in range(3) :\n",
    "                f.write(str(axis[i]) + '   ')\n",
    "                if i == 2 :\n",
    "                    f.write('\\n')\n",
    "        atoms = getAtomSequence(np.array(structure.atomic_numbers, dtype=int))\n",
    "        for k in atoms.keys() :\n",
    "            f.write('   ' + element(round(k)).symbol)\n",
    "        f.write('\\n')\n",
    "        for v in atoms.values() :\n",
    "            f.write('   ' + str(round(v)))\n",
    "        f.write('\\n')        \n",
    "        f.write('Cartesian\\n')\n",
    "        for position in np.array(structure.pos if not relaxed else structure.pos_relaxed)   :\n",
    "            for i in range(3) :\n",
    "                f.write(str(position[i]) + '   ')\n",
    "                if i == 2 :\n",
    "                    f.write('\\n')            \n",
    "    return None\n",
    "\n",
    "def getTranslations (positions, cell) :\n",
    "    result = np.array(positions)\n",
    "    #print(result.shape)\n",
    "    for i in range(-1,2) :\n",
    "        for j in range(-1,2) :\n",
    "            for k in range(-1,2) :\n",
    "                if (i == 0) and (j == 0) and (k == 0) :\n",
    "                    continue\n",
    "                result = np.vstack((result, np.array(positions) + \n",
    "                                    i*np.array(cell[0][0]) + \n",
    "                                    j*np.array(cell[0][1]) +\n",
    "                                    k*np.array(cell[0][2])) )\n",
    "    return result\n",
    "\n",
    "def getOffsets (positions) :\n",
    "    result = np.zeros_like(positions, dtype=int)\n",
    "    #print(result.shape)\n",
    "    for i in range(-1,2) :\n",
    "        for j in range(-1,2) :\n",
    "            for k in range(-1,2) :\n",
    "                if (i == 0) and (j == 0) and (k == 0) :\n",
    "                    continue\n",
    "                result = np.vstack((result, np.zeros_like(positions, dtype=int) + [i,j,k]) )\n",
    "    return result\n",
    "\n",
    "import functions, polyhedron, graph, geometry\n",
    "from scipy.spatial import Voronoi\n",
    "from polyhedron import Polyhedron\n",
    "import geometry as gm\n",
    "import numpy as np\n",
    "\n",
    " \n",
    "class Voro:\n",
    "\n",
    "    def __init__(self, points, central_ps, labels):\n",
    "        \"\"\"\n",
    "        :param points: list of points coordinates, [[float, float, float], ...]\n",
    "        :param central_ps: indexes of centrals points, list of int\n",
    "        :param labels: list of labels\n",
    "        \"\"\"\n",
    "        self.points = np.array(points)\n",
    "        self.central_ps = central_ps\n",
    "        self.labels = labels\n",
    "        self.vor = Voronoi(points)\n",
    "        self.p_adjacency = self.calc_p_adjacency()\n",
    "        self.polyhedrons = self.construct_polyhedrons()\n",
    "        self.rsds = np.array([(3 * p.volume / (4 * np.pi)) ** (1 / 3.) for p in self.polyhedrons])\n",
    "        self.angles = self.calc_angles()\n",
    "        self.direct_neighbors = self.find_direct_neighbors()\n",
    "\n",
    "    def calc_p_adjacency(self):\n",
    "        \"\"\"\n",
    "        Calculation of points adjacency list (points are adjacent if the domains of the points are adjacent)\n",
    "        :return: self.p_adjacency: points adjacency list, [[int, ...], ...]\n",
    "        \"\"\"\n",
    "        p_adjacency = [[] for _ in range(len(self.points))]\n",
    "        for p1, p2 in self.vor.ridge_dict.keys():\n",
    "            p_adjacency[p1] += [p2]\n",
    "            p_adjacency[p2] += [p1]\n",
    "        self.p_adjacency = p_adjacency\n",
    "        return self.p_adjacency\n",
    "\n",
    "    def construct_polyhedrons(self):\n",
    "        \"\"\"\n",
    "        Construct of the polyhedrons\n",
    "        :return: self.polyhedrons, Voronoi polyhedra, list of Polyhedron objects\n",
    "        \"\"\"\n",
    "        self.polyhedrons = []\n",
    "        for i in self.central_ps:\n",
    "            faces = []\n",
    "            region = self.vor.regions[self.vor.point_region[i]]\n",
    "            new_ind = {o_i: n_i for n_i, o_i in enumerate(region)}\n",
    "            if -1 in region:\n",
    "                raise RuntimeError(\"The domain for \\\"\" + str(i) + \"\\\" point is not closed!\")\n",
    "            for j in self.p_adjacency[i]:\n",
    "                common_vs = self.vor.ridge_dict.get((i, j))\n",
    "                if common_vs is None:\n",
    "                    common_vs = self.vor.ridge_dict[(j, i)][::-1]\n",
    "                if i != j and common_vs is not None and len(common_vs) > 2:\n",
    "                    faces += [[new_ind[o_i] for o_i in common_vs]]\n",
    "                else:\n",
    "                    raise RuntimeError(\"The Voronoi decomposition is failed!\")\n",
    "            faces = np.array([np.array(f) for f in faces])\n",
    "            self.polyhedrons += [Polyhedron(self.vor.vertices[region], region, faces, find_order=False)]\n",
    "        return self.polyhedrons\n",
    "\n",
    "    def calc_angles(self):\n",
    "        \"\"\"\n",
    "        Calculation of solid angles\n",
    "        :return: self.angles, solid angles between adjacent Voronoi polyhedra, {(int, int): float, ...}\n",
    "        \"\"\"\n",
    "        self.angles = {}\n",
    "        for i, i1 in enumerate(self.central_ps):\n",
    "            angles = []\n",
    "            cp = self.points[i1]\n",
    "            for j, i2 in enumerate(self.p_adjacency[i1]):\n",
    "                angles += [sum([abs(gm.calc_solid_angle(cp, s)) for s in self.polyhedrons[i].faces[j].simplexes])]\n",
    "            angles = 100 * np.array(angles) / sum(angles)\n",
    "            for j, i2 in enumerate(self.p_adjacency[i1]):\n",
    "                self.angles[(i1, i2)] = angles[j]\n",
    "                self.angles[(i2, i1)] = angles[j]\n",
    "        return self.angles\n",
    "\n",
    "    def find_direct_neighbors(self):\n",
    "        \"\"\"\n",
    "        Find the direct neighbors\n",
    "        :return: self.direct_neighbors: direct Voronoi polyhedra neighbors, {(int, int): bool}\n",
    "        \"\"\"\n",
    "        self.direct_neighbors = {}\n",
    "        for i, i1 in enumerate(self.central_ps):\n",
    "            p1 = self.points[i1]\n",
    "            for j, i2 in enumerate(self.p_adjacency[i1]):\n",
    "                p2 = self.points[i2]\n",
    "                if self.polyhedrons[i].faces[j].is_inside(gm.calc_centroid([p1, p2])):\n",
    "                    self.direct_neighbors[(i1, i2)] = True\n",
    "                    self.direct_neighbors[(i2, i1)] = True\n",
    "        return self.direct_neighbors\n",
    "\n",
    "from joblib import Parallel, delayed\n",
    "from tqdm.notebook import tqdm\n",
    "import pickle"
   ]
  },
  {
   "cell_type": "markdown",
   "id": "9d0fd470-8378-4e82-83e6-e6c37534a37f",
   "metadata": {
    "tags": []
   },
   "source": [
    "## New properties 1"
   ]
  },
  {
   "cell_type": "code",
   "execution_count": 3,
   "id": "6cb552ab",
   "metadata": {},
   "outputs": [],
   "source": [
    "def newProperties(data) :\n",
    "    keys = []\n",
    "    result = []\n",
    "    \n",
    "    points = getTranslations(data['pos'], data['cell'])\n",
    "    atom_index = np.array(list(range(data['natoms'])) * round(len(points) / len(data['pos'])))\n",
    "    offsets = getOffsets(data['pos'])\n",
    "    voro = Voro(points, range(data['natoms']), list(range(len(points))))\n",
    "    \n",
    "    volumes = np.array(list(map(lambda x: x.volume, voro.polyhedrons)))\n",
    "    surface_areas = np.array(list(map(lambda x: x.area, voro.polyhedrons)))\n",
    "    rsds = voro.rsds\n",
    "    \n",
    "    keys.extend(['voronoi_volumes', 'voronoi_surface_areas',\n",
    "                'spherical_domain_radii'])\n",
    "    result.extend([volumes, surface_areas, rsds])    \n",
    "    \n",
    "    df = pd.DataFrame(voro.angles.keys(), columns=['VA_p1', 'VA_p2'])\n",
    "    #print(df)\n",
    "    df['cell_offsets'] = list(map(tuple, offsets[df['VA_p1']] - offsets[df['VA_p2']])) \n",
    "    #sign correspond to original data\n",
    "    df['VA_p1_corr'] = atom_index[df['VA_p1']]\n",
    "    df['VA_p2_corr'] = atom_index[df['VA_p2']]\n",
    "    df['direct_neighbor'] = list(map(lambda x: 1 if x in voro.direct_neighbors.keys() else 0, voro.angles.keys()))\n",
    "    k = np.array(list(voro.angles.keys()))\n",
    "    df['distance'] = np.array([euclidean(points[pair[0]], points[pair[1]]) for pair in k])\n",
    "    df['solid_angle'] = voro.angles.values()\n",
    "    df['to_keep'] = ~df.duplicated(subset=['VA_p1_corr', 'VA_p2_corr', 'cell_offsets'], keep='first')\n",
    "    df = df[df['to_keep']].drop(labels=['to_keep', 'VA_p1', 'VA_p2'], axis=1).reset_index(drop=True)\n",
    "    \n",
    "    keys.extend(['cell_offsets_new', 'distances_new', 'contact_solid_angles',\n",
    "                'direct_neighbor', 'edge_index_new'])\n",
    "    result.extend([np.array(list(map(np.array, df['cell_offsets'].values))), df['distance'].values, \n",
    "                   df['solid_angle'].values, df['direct_neighbor'].values, \n",
    "                   df[['VA_p1_corr', 'VA_p2_corr']].values.T])  \n",
    "    \n",
    "    return dict(zip(keys, result))\n",
    "\n",
    "def processDataset (dataset_path, dataset_batch_size=5004) :\n",
    "    dataset_path_modified = re.sub('\\.lmdb', '_mod.lmdbz', dataset_path)\n",
    "    print('###########################################')\n",
    "    print(dataset_path_modified)\n",
    "    print()\n",
    "    \n",
    "    dataset = lmdb_dataset(dataset_path)\n",
    "    print('Original dataset size is {}'.format(len(dataset)))\n",
    "    print()\n",
    "    \n",
    "    dataset_target = lmdb.open(\n",
    "        dataset_path_modified,\n",
    "        map_size=int(1e9*50), #~ 50 Gbyte\n",
    "        subdir=False,\n",
    "        meminit=False,\n",
    "        map_async=True,)\n",
    "    \n",
    "    print('Batch info:')\n",
    "    \n",
    "    for batch in range(len(dataset) // dataset_batch_size + \n",
    "                       (1 if len(dataset) % dataset_batch_size != 0 else 0)) :\n",
    "        print('{}: from {} to {}'.format(batch, batch * dataset_batch_size, \n",
    "                                         min(len(dataset), (batch+1) * dataset_batch_size) - 1))\n",
    "    \n",
    "    print()\n",
    "    for batch in range(len(dataset) // dataset_batch_size + \n",
    "                       (1 if len(dataset) % dataset_batch_size != 0 else 0)) :\n",
    "        \n",
    "        dataset_under_process = [dataset[i] for i in \n",
    "                                 range(batch * dataset_batch_size, \n",
    "                                       min(len(dataset), (batch+1) * dataset_batch_size))]\n",
    "        print('Structures from {} to {} are under process...'.format(batch * dataset_batch_size, \n",
    "                                                batch * dataset_batch_size + len(dataset_under_process) - 1))\n",
    "        \n",
    "        res = Parallel(n_jobs=-1)(delayed(newProperties)(dataset_under_process[i]) \n",
    "                                  for i in tqdm(range(len(dataset_under_process))))\n",
    "        \n",
    "#         res = []\n",
    "#         for i in tqdm(range(len(dataset_under_process))):\n",
    "# #             print(i)\n",
    "# #             print(dataset_under_process[i]['sid'])\n",
    "#             res.append(newProperties(dataset_under_process[i]))\n",
    "\n",
    "        \n",
    "        #res = [dict() for i in range(len(dataset_under_process))]\n",
    "        print('are stored to a file...')\n",
    "        \n",
    "        for structure_id in tqdm(range(len(dataset_under_process))) :\n",
    "            txn = dataset_target.begin(write=True)\n",
    "            data = dataset_under_process[structure_id]\n",
    "            \n",
    "            for new_data_key in res[0].keys() :\n",
    "                #print(new_data_key)\n",
    "                data[new_data_key] = torch.from_numpy(res[structure_id][new_data_key])\n",
    "                #print(data[new_data_key])\n",
    "            txn.put(f\"{structure_id + batch * dataset_batch_size}\".encode(\"ascii\"), \n",
    "                    zlib.compress(pickle.dumps(data, protocol=-1), level=1))\n",
    "            txn.commit()\n",
    "            dataset_target.sync()\n",
    "    \n",
    "    dataset_target.close()\n",
    "    return None"
   ]
  },
  {
   "cell_type": "markdown",
   "id": "cfa7efe5-a6ed-409a-a254-642dcf7e8434",
   "metadata": {
    "jp-MarkdownHeadingCollapsed": true,
    "tags": []
   },
   "source": [
    "## New properties 2"
   ]
  },
  {
   "cell_type": "code",
   "execution_count": null,
   "id": "34232c79",
   "metadata": {},
   "outputs": [],
   "source": [
    "def newProperties2(data) :\n",
    "    ei = data['edge_index_new'].numpy()\n",
    "    di = data['distances_new'].numpy()\n",
    "    dn = data['direct_neighbor'].numpy()\n",
    "    co = data['cell_offsets_new'].numpy()\n",
    "    co = list(map(tuple, co))\n",
    "\n",
    "    # тут можно добавить фильтры на связность (по ближайшим соседям или по максимальным длинам)\n",
    "\n",
    "    Nedges = di.shape[0]\n",
    "    #print(dict(enumerate(co)),)\n",
    "    res_even = [calcAnglesForEdge(edgeN, dict(enumerate(ei.T)), dict(enumerate(di)), dict(enumerate(co)), \n",
    "                                  data['pos'].numpy(), data['cell'].numpy()) for edgeN in range(Nedges)[::2]]\n",
    "    # accounting for inverse edges\n",
    "    res_odd = copy.deepcopy(res_even)\n",
    "    for i in range(len(res_odd)) :\n",
    "        res_odd[i]['edge_theta'] *= -1 \n",
    "        res_odd[i]['edge_theta'] += np.pi\n",
    "        res_odd[i]['edge_phi'] *= -1\n",
    "\n",
    "    res = []\n",
    "    for i in range(len(res_odd)) :\n",
    "        res += [res_even[i]] + [res_odd[i]]\n",
    "    return {'edge_angles' : res}\n",
    "        \n",
    "\n",
    "def calcAnglesForEdge(edgeN, edge_by_edgeN, distance_by_edgeN, cell_offset_by_edgeN, positions, cell) :\n",
    "    edge = edge_by_edgeN[edgeN]\n",
    "    edge_positions = np.vstack([positions[edge[i]] for i in range(2)])\n",
    "    #print('EP', edge_positions)\n",
    "    #print(edgeN, len(edge_by_edgeN), len(distance_by_edgeN), len(cell_offset_by_edgeN), positions, cell)\n",
    "    edge_positions[1] -= np.matmul(cell_offset_by_edgeN[edgeN], cell)[0] # update the second position with offset\n",
    "    centroid = np.mean(edge_positions, axis=0)\n",
    "    #print('centroid', centroid)\n",
    "    v0 = edge_positions[1] - edge_positions[0] #edge vector\n",
    "    #print(v0)\n",
    "    v0 = v0/np.linalg.norm(v0) #edge unit direction\n",
    "    #searching for the neighbors of the edge\n",
    "    edge_neighborsN = [p for p in edge_by_edgeN.keys() if any([edge_by_edgeN[p][0] == edge[i] \n",
    "                                                               for i in range(2 if edge[0] != edge[1] else 1)]) ]\n",
    "    #print(edge_neighborsN)\n",
    "    edge_neighborsN.remove(edgeN) #remove edge itself\n",
    "    edge_neighborsN.remove(edgeN + 1) #remove edge invert to the given\n",
    "    #print(edge_neighborsN)\n",
    "    df = pd.DataFrame([[*edge_by_edgeN[i], distance_by_edgeN[i], cell_offset_by_edgeN[i]] \n",
    "                          for i in edge_neighborsN], columns=['start', 'end', 'distance','cell_offset'])\n",
    "    df['edge_id'] = edge_neighborsN\n",
    "    #df['to_keep'] = ~df.duplicated(subset=['end', 'cell_offset'])\n",
    "    #df = df[df['to_keep']].drop('to_keep', axis=1)\n",
    "   \n",
    "    result_theta = []\n",
    "    result_angle_to_z = []\n",
    "    plane_proj = [] #to evaluate phi of the neighboring edges further\n",
    "    #centroid2neighbor_dist = []\n",
    "    for i in range(2 if edge[0] != edge[1] else 1): # loop over the nodes of edge\n",
    "        centroid2node_vec = edge_positions[i] - centroid\n",
    "        for NES, NEE, offset in df[(df['start'] == edge[i])][['start', 'end', 'cell_offset']].values:\n",
    "            neighbor_edge = (NES, NEE)\n",
    "            neighbor_edge_positions = np.vstack([positions[neighbor_edge[i]] for i in range(2)])\n",
    "            neighbor_edge_positions[1] -= np.matmul(np.array(offset), cell)[0] \n",
    "            node2neighbor_vec = neighbor_edge_positions[1] - neighbor_edge_positions[0]\n",
    "            v1 = node2neighbor_vec + centroid2node_vec #centroid2neighbor_vec\n",
    "            #centroid2neighbor_dist += [np.linalg.norm(v1)]\n",
    "            #print(v1)\n",
    "            #print(v1, v0, np.dot(v0, v1))\n",
    "            plane_proj += [(v1 - v0 * np.dot(v0, v1))] #centroid2neighbor_vec proj on edge normal plane\n",
    "            v1 = v1/np.linalg.norm(v1) #centroid2neighbor unit direction\n",
    "            #print(v1)\n",
    "            result_theta += [np.arccos(np.clip(np.dot(v0, v1), -1, 1))]\n",
    "            result_angle_to_z += [np.arccos(np.clip(np.dot(np.array([0,0,1]), v1), -1, 1))]\n",
    "        #print('loop is over')\n",
    "    #print(edgeN, df.shape, len(result_theta), len(result_angle_to_z))\n",
    "    #df['cent2neigh_dist'] = centroid2neighbor_dist\n",
    "    df['edge_theta'] = result_theta\n",
    "    df['edge_to_z'] = result_angle_to_z\n",
    "    #print(np.argmin(df['distance']))\n",
    "    v1 = plane_proj[np.argmin(np.abs(df['edge_theta'] - np.pi/2))] # proj of centroid2most_incline neighbor \n",
    "    #if np.abs(np.linalg.norm(v1)) < 1e-7 :\n",
    "    #    print(v1, np.linalg.norm(v1), np.argmin(df['cent2neigh_dist']))\n",
    "    #    print(df)\n",
    "    v1 = v1/np.linalg.norm(v1)                  # unit direction\n",
    "    v2 = np.cross(v0, v1)                       # third axis\n",
    "    Rm = np.vstack([v1, v2, v0]).T              # rotation matrix\n",
    "    # rotation matrix transforms standard xyz CS to rotated z' -> edge direction, x' -> nearest neighbor\n",
    "    #print(Rm)\n",
    "    invRm = np.linalg.inv(Rm)                   # inverse rotation matrix \n",
    "    #print(invRm)\n",
    "    plane_proj_rot = np.array(list(map(lambda x: np.matmul(invRm, np.array(x).reshape(-1,1)).reshape(1,-1)[0], \n",
    "                                  plane_proj)))\n",
    "    #print(plane_proj_rot)\n",
    "    df['edge_phi'] = list(map(lambda x: np.angle(complex(x[0], x[1])), plane_proj_rot))\n",
    "    \n",
    "    return df[['edge_id', 'edge_theta', 'edge_to_z', 'edge_phi']].set_index('edge_id')\n",
    "\n",
    "def processDataset2 (dataset_path, dataset_batch_size=5004) :\n",
    "    dataset_path_modified = re.sub('_mod\\.lmdbz', '_mod2.lmdbz', dataset_path)\n",
    "    print('###########################################')\n",
    "    print(dataset_path_modified)\n",
    "    print()\n",
    "    \n",
    "    dataset = lmdb_dataset(dataset_path)\n",
    "    #dataset = [dataset[i] for i in range(0, 12)]\n",
    "    print('Original dataset size is {}'.format(len(dataset)))\n",
    "    print()\n",
    "    \n",
    "    dataset_target = lmdb.open(\n",
    "        dataset_path_modified,\n",
    "        map_size=int(1e9*50), #~ 50 Gbyte\n",
    "        subdir=False,\n",
    "        meminit=False,\n",
    "        map_async=True,)\n",
    "    \n",
    "    print('Batch info:')\n",
    "    \n",
    "    for batch in range(len(dataset) // dataset_batch_size + \n",
    "                       (1 if len(dataset) % dataset_batch_size != 0 else 0)) :\n",
    "        print('{}: from {} to {}'.format(batch, batch * dataset_batch_size, \n",
    "                                         min(len(dataset), (batch+1) * dataset_batch_size) - 1))\n",
    "    \n",
    "    print()\n",
    "    for batch in range(len(dataset) // dataset_batch_size + \n",
    "                       (1 if len(dataset) % dataset_batch_size != 0 else 0)) :\n",
    "        \n",
    "        dataset_under_process = [dataset[i] for i in \n",
    "                                 range(batch * dataset_batch_size, \n",
    "                                       min(len(dataset), (batch+1) * dataset_batch_size))]\n",
    "        print('Structures from {} to {} are under process...'.format(batch * dataset_batch_size, \n",
    "                                                batch * dataset_batch_size + len(dataset_under_process) - 1))\n",
    "        \n",
    "        \n",
    "        \n",
    "        res = Parallel(n_jobs=-1)(delayed(newProperties2)(dataset_under_process[i]) \n",
    "                                  for i in tqdm(range(len(dataset_under_process))))\n",
    "        #res = [dict() for i in range(len(dataset_under_process))]\n",
    "        print('are stored to a file...')\n",
    "        \n",
    "        for structure_id in tqdm(range(len(dataset_under_process))) :\n",
    "            txn = dataset_target.begin(write=True)\n",
    "            data = dataset_under_process[structure_id]\n",
    "            \n",
    "            for new_data_key in res[0].keys() :\n",
    "                #print(new_data_key)\n",
    "                data[new_data_key] = res[structure_id][new_data_key]\n",
    "                #print(data[new_data_key])\n",
    "            txn.put(f\"{structure_id + batch * dataset_batch_size}\".encode(\"ascii\"), \n",
    "                    pickle.dumps(data, protocol=-1))\n",
    "            txn.commit()\n",
    "            dataset_target.sync()\n",
    "    \n",
    "    dataset_target.close()\n",
    "    return None"
   ]
  },
  {
   "cell_type": "markdown",
   "id": "62c8285f-a461-4e83-b4d9-1c04df0958ce",
   "metadata": {},
   "source": [
    "## Proccesing"
   ]
  },
  {
   "cell_type": "markdown",
   "id": "57d1c95b-c212-403a-9ab5-9fa7822d3076",
   "metadata": {
    "tags": []
   },
   "source": [
    "### Process data.lmdb to data_mod.lmdb"
   ]
  },
  {
   "cell_type": "markdown",
   "id": "61b49bb4-b2fe-4ba8-8842-aa8623381f1e",
   "metadata": {},
   "source": [
    "**Added feautures.** </br>\n",
    "atom: \\['voronoi_volumes', 'voronoi_surface_areas', 'spherical_domain_radii'], </br>\n",
    "bond; \\['cell_offsets_new', 'distances_new', 'contact_solid_angles', 'direct_neighbor', 'edge_index_new']"
   ]
  },
  {
   "cell_type": "code",
   "execution_count": 4,
   "id": "ae7b7b3c-d4b1-4271-a750-b71bceb35d93",
   "metadata": {},
   "outputs": [
    {
     "name": "stdout",
     "output_type": "stream",
     "text": [
      "###########################################\n",
      "/share/catalyst/ocp_datasets/data/is2re/all/train/data_mod.lmdbz\n",
      "\n",
      "Original dataset size is 460328\n",
      "\n",
      "Batch info:\n",
      "0: from 0 to 5003\n",
      "1: from 5004 to 10007\n",
      "2: from 10008 to 15011\n",
      "3: from 15012 to 20015\n",
      "4: from 20016 to 25019\n",
      "5: from 25020 to 30023\n",
      "6: from 30024 to 35027\n",
      "7: from 35028 to 40031\n",
      "8: from 40032 to 45035\n",
      "9: from 45036 to 50039\n",
      "10: from 50040 to 55043\n",
      "11: from 55044 to 60047\n",
      "12: from 60048 to 65051\n",
      "13: from 65052 to 70055\n",
      "14: from 70056 to 75059\n",
      "15: from 75060 to 80063\n",
      "16: from 80064 to 85067\n",
      "17: from 85068 to 90071\n",
      "18: from 90072 to 95075\n",
      "19: from 95076 to 100079\n",
      "20: from 100080 to 105083\n",
      "21: from 105084 to 110087\n",
      "22: from 110088 to 115091\n",
      "23: from 115092 to 120095\n",
      "24: from 120096 to 125099\n",
      "25: from 125100 to 130103\n",
      "26: from 130104 to 135107\n",
      "27: from 135108 to 140111\n",
      "28: from 140112 to 145115\n",
      "29: from 145116 to 150119\n",
      "30: from 150120 to 155123\n",
      "31: from 155124 to 160127\n",
      "32: from 160128 to 165131\n",
      "33: from 165132 to 170135\n",
      "34: from 170136 to 175139\n",
      "35: from 175140 to 180143\n",
      "36: from 180144 to 185147\n",
      "37: from 185148 to 190151\n",
      "38: from 190152 to 195155\n",
      "39: from 195156 to 200159\n",
      "40: from 200160 to 205163\n",
      "41: from 205164 to 210167\n",
      "42: from 210168 to 215171\n",
      "43: from 215172 to 220175\n",
      "44: from 220176 to 225179\n",
      "45: from 225180 to 230183\n",
      "46: from 230184 to 235187\n",
      "47: from 235188 to 240191\n",
      "48: from 240192 to 245195\n",
      "49: from 245196 to 250199\n",
      "50: from 250200 to 255203\n",
      "51: from 255204 to 260207\n",
      "52: from 260208 to 265211\n",
      "53: from 265212 to 270215\n",
      "54: from 270216 to 275219\n",
      "55: from 275220 to 280223\n",
      "56: from 280224 to 285227\n",
      "57: from 285228 to 290231\n",
      "58: from 290232 to 295235\n",
      "59: from 295236 to 300239\n",
      "60: from 300240 to 305243\n",
      "61: from 305244 to 310247\n",
      "62: from 310248 to 315251\n",
      "63: from 315252 to 320255\n",
      "64: from 320256 to 325259\n",
      "65: from 325260 to 330263\n",
      "66: from 330264 to 335267\n",
      "67: from 335268 to 340271\n",
      "68: from 340272 to 345275\n",
      "69: from 345276 to 350279\n",
      "70: from 350280 to 355283\n",
      "71: from 355284 to 360287\n",
      "72: from 360288 to 365291\n",
      "73: from 365292 to 370295\n",
      "74: from 370296 to 375299\n",
      "75: from 375300 to 380303\n",
      "76: from 380304 to 385307\n",
      "77: from 385308 to 390311\n",
      "78: from 390312 to 395315\n",
      "79: from 395316 to 400319\n",
      "80: from 400320 to 405323\n",
      "81: from 405324 to 410327\n",
      "82: from 410328 to 415331\n",
      "83: from 415332 to 420335\n",
      "84: from 420336 to 425339\n",
      "85: from 425340 to 430343\n",
      "86: from 430344 to 435347\n",
      "87: from 435348 to 440351\n",
      "88: from 440352 to 445355\n",
      "89: from 445356 to 450359\n",
      "90: from 450360 to 455363\n",
      "91: from 455364 to 460327\n",
      "\n",
      "Structures from 0 to 5003 are under process...\n"
     ]
    },
    {
     "data": {
      "application/vnd.jupyter.widget-view+json": {
       "model_id": "ad3021250b354b6fa502f33461c31e03",
       "version_major": 2,
       "version_minor": 0
      },
      "text/plain": [
       "  0%|          | 0/5004 [00:00<?, ?it/s]"
      ]
     },
     "metadata": {},
     "output_type": "display_data"
    },
    {
     "name": "stdout",
     "output_type": "stream",
     "text": [
      "are stored to a file...\n"
     ]
    },
    {
     "data": {
      "application/vnd.jupyter.widget-view+json": {
       "model_id": "e447a8335ec544d496a5d23719882aff",
       "version_major": 2,
       "version_minor": 0
      },
      "text/plain": [
       "  0%|          | 0/5004 [00:00<?, ?it/s]"
      ]
     },
     "metadata": {},
     "output_type": "display_data"
    },
    {
     "name": "stdout",
     "output_type": "stream",
     "text": [
      "Structures from 5004 to 10007 are under process...\n"
     ]
    },
    {
     "data": {
      "application/vnd.jupyter.widget-view+json": {
       "model_id": "81c8ee1a59834685bb7255b1f3229954",
       "version_major": 2,
       "version_minor": 0
      },
      "text/plain": [
       "  0%|          | 0/5004 [00:00<?, ?it/s]"
      ]
     },
     "metadata": {},
     "output_type": "display_data"
    },
    {
     "name": "stdout",
     "output_type": "stream",
     "text": [
      "are stored to a file...\n"
     ]
    },
    {
     "data": {
      "application/vnd.jupyter.widget-view+json": {
       "model_id": "881225dcd10148feb1e0e05d4397e9e4",
       "version_major": 2,
       "version_minor": 0
      },
      "text/plain": [
       "  0%|          | 0/5004 [00:00<?, ?it/s]"
      ]
     },
     "metadata": {},
     "output_type": "display_data"
    },
    {
     "name": "stdout",
     "output_type": "stream",
     "text": [
      "Structures from 10008 to 15011 are under process...\n"
     ]
    },
    {
     "data": {
      "application/vnd.jupyter.widget-view+json": {
       "model_id": "67396f8cf667449c93f1854ddfcac3d9",
       "version_major": 2,
       "version_minor": 0
      },
      "text/plain": [
       "  0%|          | 0/5004 [00:00<?, ?it/s]"
      ]
     },
     "metadata": {},
     "output_type": "display_data"
    },
    {
     "name": "stdout",
     "output_type": "stream",
     "text": [
      "are stored to a file...\n"
     ]
    },
    {
     "data": {
      "application/vnd.jupyter.widget-view+json": {
       "model_id": "4a5537240588405ca3c6f780a43a9f29",
       "version_major": 2,
       "version_minor": 0
      },
      "text/plain": [
       "  0%|          | 0/5004 [00:00<?, ?it/s]"
      ]
     },
     "metadata": {},
     "output_type": "display_data"
    },
    {
     "name": "stdout",
     "output_type": "stream",
     "text": [
      "Structures from 15012 to 20015 are under process...\n"
     ]
    },
    {
     "data": {
      "application/vnd.jupyter.widget-view+json": {
       "model_id": "ad6211e81e8a4dc9a34b2292fcca85a8",
       "version_major": 2,
       "version_minor": 0
      },
      "text/plain": [
       "  0%|          | 0/5004 [00:00<?, ?it/s]"
      ]
     },
     "metadata": {},
     "output_type": "display_data"
    },
    {
     "name": "stdout",
     "output_type": "stream",
     "text": [
      "are stored to a file...\n"
     ]
    },
    {
     "data": {
      "application/vnd.jupyter.widget-view+json": {
       "model_id": "35629f3c444141f29d02ba0a748c6880",
       "version_major": 2,
       "version_minor": 0
      },
      "text/plain": [
       "  0%|          | 0/5004 [00:00<?, ?it/s]"
      ]
     },
     "metadata": {},
     "output_type": "display_data"
    },
    {
     "name": "stdout",
     "output_type": "stream",
     "text": [
      "Structures from 20016 to 25019 are under process...\n"
     ]
    },
    {
     "data": {
      "application/vnd.jupyter.widget-view+json": {
       "model_id": "892d96654e87401eacdfb9180a9f9da5",
       "version_major": 2,
       "version_minor": 0
      },
      "text/plain": [
       "  0%|          | 0/5004 [00:00<?, ?it/s]"
      ]
     },
     "metadata": {},
     "output_type": "display_data"
    },
    {
     "name": "stdout",
     "output_type": "stream",
     "text": [
      "are stored to a file...\n"
     ]
    },
    {
     "data": {
      "application/vnd.jupyter.widget-view+json": {
       "model_id": "c5ce1f687d0b44cba8c95f1c1ca63784",
       "version_major": 2,
       "version_minor": 0
      },
      "text/plain": [
       "  0%|          | 0/5004 [00:00<?, ?it/s]"
      ]
     },
     "metadata": {},
     "output_type": "display_data"
    },
    {
     "name": "stderr",
     "output_type": "stream",
     "text": [
      "IOPub message rate exceeded.\n",
      "The Jupyter server will temporarily stop sending output\n",
      "to the client in order to avoid crashing it.\n",
      "To change this limit, set the config variable\n",
      "`--ServerApp.iopub_msg_rate_limit`.\n",
      "\n",
      "Current values:\n",
      "ServerApp.iopub_msg_rate_limit=1000.0 (msgs/sec)\n",
      "ServerApp.rate_limit_window=3.0 (secs)\n",
      "\n"
     ]
    },
    {
     "name": "stdout",
     "output_type": "stream",
     "text": [
      "Structures from 65052 to 70055 are under process...\n"
     ]
    },
    {
     "data": {
      "application/vnd.jupyter.widget-view+json": {
       "model_id": "17a9188e71de4ffca3ae91649d7f33f7",
       "version_major": 2,
       "version_minor": 0
      },
      "text/plain": [
       "  0%|          | 0/5004 [00:00<?, ?it/s]"
      ]
     },
     "metadata": {},
     "output_type": "display_data"
    },
    {
     "name": "stdout",
     "output_type": "stream",
     "text": [
      "are stored to a file...\n"
     ]
    },
    {
     "data": {
      "application/vnd.jupyter.widget-view+json": {
       "model_id": "e19012533cdf473f88261fa08faff255",
       "version_major": 2,
       "version_minor": 0
      },
      "text/plain": [
       "  0%|          | 0/5004 [00:00<?, ?it/s]"
      ]
     },
     "metadata": {},
     "output_type": "display_data"
    },
    {
     "name": "stdout",
     "output_type": "stream",
     "text": [
      "Structures from 70056 to 75059 are under process...\n"
     ]
    },
    {
     "data": {
      "application/vnd.jupyter.widget-view+json": {
       "model_id": "54c36ddb5a3549e083725e5340dcb04e",
       "version_major": 2,
       "version_minor": 0
      },
      "text/plain": [
       "  0%|          | 0/5004 [00:00<?, ?it/s]"
      ]
     },
     "metadata": {},
     "output_type": "display_data"
    },
    {
     "name": "stdout",
     "output_type": "stream",
     "text": [
      "are stored to a file...\n"
     ]
    },
    {
     "data": {
      "application/vnd.jupyter.widget-view+json": {
       "model_id": "a5381a0710c246f18a6a8501052bfa04",
       "version_major": 2,
       "version_minor": 0
      },
      "text/plain": [
       "  0%|          | 0/5004 [00:00<?, ?it/s]"
      ]
     },
     "metadata": {},
     "output_type": "display_data"
    },
    {
     "name": "stdout",
     "output_type": "stream",
     "text": [
      "Structures from 75060 to 80063 are under process...\n"
     ]
    },
    {
     "data": {
      "application/vnd.jupyter.widget-view+json": {
       "model_id": "d432ed0016174bc297c67bb9b195628e",
       "version_major": 2,
       "version_minor": 0
      },
      "text/plain": [
       "  0%|          | 0/5004 [00:00<?, ?it/s]"
      ]
     },
     "metadata": {},
     "output_type": "display_data"
    },
    {
     "name": "stdout",
     "output_type": "stream",
     "text": [
      "are stored to a file...\n"
     ]
    },
    {
     "data": {
      "application/vnd.jupyter.widget-view+json": {
       "model_id": "e6cc5a9ea5094bb4b8c8cc1e5a5f80f4",
       "version_major": 2,
       "version_minor": 0
      },
      "text/plain": [
       "  0%|          | 0/5004 [00:00<?, ?it/s]"
      ]
     },
     "metadata": {},
     "output_type": "display_data"
    },
    {
     "name": "stdout",
     "output_type": "stream",
     "text": [
      "Structures from 80064 to 85067 are under process...\n"
     ]
    },
    {
     "data": {
      "application/vnd.jupyter.widget-view+json": {
       "model_id": "3c55962d6962494f9fd498f3978ed007",
       "version_major": 2,
       "version_minor": 0
      },
      "text/plain": [
       "  0%|          | 0/5004 [00:00<?, ?it/s]"
      ]
     },
     "metadata": {},
     "output_type": "display_data"
    },
    {
     "name": "stderr",
     "output_type": "stream",
     "text": [
      "IOPub message rate exceeded.\n",
      "The Jupyter server will temporarily stop sending output\n",
      "to the client in order to avoid crashing it.\n",
      "To change this limit, set the config variable\n",
      "`--ServerApp.iopub_msg_rate_limit`.\n",
      "\n",
      "Current values:\n",
      "ServerApp.iopub_msg_rate_limit=1000.0 (msgs/sec)\n",
      "ServerApp.rate_limit_window=3.0 (secs)\n",
      "\n"
     ]
    },
    {
     "name": "stdout",
     "output_type": "stream",
     "text": [
      "Structures from 120096 to 125099 are under process...\n"
     ]
    },
    {
     "data": {
      "application/vnd.jupyter.widget-view+json": {
       "model_id": "d50929340f1d4bc4b254ef10ad97012e",
       "version_major": 2,
       "version_minor": 0
      },
      "text/plain": [
       "  0%|          | 0/5004 [00:00<?, ?it/s]"
      ]
     },
     "metadata": {},
     "output_type": "display_data"
    },
    {
     "name": "stdout",
     "output_type": "stream",
     "text": [
      "are stored to a file...\n"
     ]
    },
    {
     "data": {
      "application/vnd.jupyter.widget-view+json": {
       "model_id": "87ba0e9c3dda4878bb108367414beee4",
       "version_major": 2,
       "version_minor": 0
      },
      "text/plain": [
       "  0%|          | 0/5004 [00:00<?, ?it/s]"
      ]
     },
     "metadata": {},
     "output_type": "display_data"
    },
    {
     "name": "stdout",
     "output_type": "stream",
     "text": [
      "Structures from 125100 to 130103 are under process...\n"
     ]
    },
    {
     "data": {
      "application/vnd.jupyter.widget-view+json": {
       "model_id": "25c652ca75064e9cab9d6144ec96de48",
       "version_major": 2,
       "version_minor": 0
      },
      "text/plain": [
       "  0%|          | 0/5004 [00:00<?, ?it/s]"
      ]
     },
     "metadata": {},
     "output_type": "display_data"
    },
    {
     "name": "stdout",
     "output_type": "stream",
     "text": [
      "are stored to a file...\n"
     ]
    },
    {
     "data": {
      "application/vnd.jupyter.widget-view+json": {
       "model_id": "3eb1affc930e403c87632de6f549b80f",
       "version_major": 2,
       "version_minor": 0
      },
      "text/plain": [
       "  0%|          | 0/5004 [00:00<?, ?it/s]"
      ]
     },
     "metadata": {},
     "output_type": "display_data"
    },
    {
     "name": "stdout",
     "output_type": "stream",
     "text": [
      "Structures from 130104 to 135107 are under process...\n"
     ]
    },
    {
     "data": {
      "application/vnd.jupyter.widget-view+json": {
       "model_id": "3153de3653ac4754b3fe08632d6ac8cf",
       "version_major": 2,
       "version_minor": 0
      },
      "text/plain": [
       "  0%|          | 0/5004 [00:00<?, ?it/s]"
      ]
     },
     "metadata": {},
     "output_type": "display_data"
    },
    {
     "name": "stdout",
     "output_type": "stream",
     "text": [
      "are stored to a file...\n"
     ]
    },
    {
     "data": {
      "application/vnd.jupyter.widget-view+json": {
       "model_id": "5906e800868b4a058c778a0baaf9fcf2",
       "version_major": 2,
       "version_minor": 0
      },
      "text/plain": [
       "  0%|          | 0/5004 [00:00<?, ?it/s]"
      ]
     },
     "metadata": {},
     "output_type": "display_data"
    },
    {
     "name": "stderr",
     "output_type": "stream",
     "text": [
      "IOPub message rate exceeded.\n",
      "The Jupyter server will temporarily stop sending output\n",
      "to the client in order to avoid crashing it.\n",
      "To change this limit, set the config variable\n",
      "`--ServerApp.iopub_msg_rate_limit`.\n",
      "\n",
      "Current values:\n",
      "ServerApp.iopub_msg_rate_limit=1000.0 (msgs/sec)\n",
      "ServerApp.rate_limit_window=3.0 (secs)\n",
      "\n"
     ]
    },
    {
     "name": "stdout",
     "output_type": "stream",
     "text": [
      "Structures from 175140 to 180143 are under process...\n"
     ]
    },
    {
     "data": {
      "application/vnd.jupyter.widget-view+json": {
       "model_id": "c7245ea3e5cf4aaa9abcfa441dafa6a0",
       "version_major": 2,
       "version_minor": 0
      },
      "text/plain": [
       "  0%|          | 0/5004 [00:00<?, ?it/s]"
      ]
     },
     "metadata": {},
     "output_type": "display_data"
    },
    {
     "name": "stdout",
     "output_type": "stream",
     "text": [
      "are stored to a file...\n"
     ]
    },
    {
     "data": {
      "application/vnd.jupyter.widget-view+json": {
       "model_id": "54c84cc3f20c49ab8dc984c7285bf9d9",
       "version_major": 2,
       "version_minor": 0
      },
      "text/plain": [
       "  0%|          | 0/5004 [00:00<?, ?it/s]"
      ]
     },
     "metadata": {},
     "output_type": "display_data"
    },
    {
     "name": "stdout",
     "output_type": "stream",
     "text": [
      "Structures from 180144 to 185147 are under process...\n"
     ]
    },
    {
     "data": {
      "application/vnd.jupyter.widget-view+json": {
       "model_id": "0f89a3910b324466a00f43dcd0ef63f6",
       "version_major": 2,
       "version_minor": 0
      },
      "text/plain": [
       "  0%|          | 0/5004 [00:00<?, ?it/s]"
      ]
     },
     "metadata": {},
     "output_type": "display_data"
    },
    {
     "name": "stdout",
     "output_type": "stream",
     "text": [
      "are stored to a file...\n"
     ]
    },
    {
     "data": {
      "application/vnd.jupyter.widget-view+json": {
       "model_id": "9b543f03235744fcb503abe696ca9d49",
       "version_major": 2,
       "version_minor": 0
      },
      "text/plain": [
       "  0%|          | 0/5004 [00:00<?, ?it/s]"
      ]
     },
     "metadata": {},
     "output_type": "display_data"
    },
    {
     "name": "stdout",
     "output_type": "stream",
     "text": [
      "Structures from 185148 to 190151 are under process...\n"
     ]
    },
    {
     "data": {
      "application/vnd.jupyter.widget-view+json": {
       "model_id": "f72b5aa90b434bf0b5beeb38102cb2e0",
       "version_major": 2,
       "version_minor": 0
      },
      "text/plain": [
       "  0%|          | 0/5004 [00:00<?, ?it/s]"
      ]
     },
     "metadata": {},
     "output_type": "display_data"
    },
    {
     "name": "stdout",
     "output_type": "stream",
     "text": [
      "are stored to a file...\n"
     ]
    },
    {
     "data": {
      "application/vnd.jupyter.widget-view+json": {
       "model_id": "e885c7b7076d47a3acaf9b861c126b8d",
       "version_major": 2,
       "version_minor": 0
      },
      "text/plain": [
       "  0%|          | 0/5004 [00:00<?, ?it/s]"
      ]
     },
     "metadata": {},
     "output_type": "display_data"
    },
    {
     "name": "stdout",
     "output_type": "stream",
     "text": [
      "Structures from 190152 to 195155 are under process...\n"
     ]
    },
    {
     "data": {
      "application/vnd.jupyter.widget-view+json": {
       "model_id": "2d266f65001d491c98fb5099f462560a",
       "version_major": 2,
       "version_minor": 0
      },
      "text/plain": [
       "  0%|          | 0/5004 [00:00<?, ?it/s]"
      ]
     },
     "metadata": {},
     "output_type": "display_data"
    },
    {
     "name": "stderr",
     "output_type": "stream",
     "text": [
      "IOPub message rate exceeded.\n",
      "The Jupyter server will temporarily stop sending output\n",
      "to the client in order to avoid crashing it.\n",
      "To change this limit, set the config variable\n",
      "`--ServerApp.iopub_msg_rate_limit`.\n",
      "\n",
      "Current values:\n",
      "ServerApp.iopub_msg_rate_limit=1000.0 (msgs/sec)\n",
      "ServerApp.rate_limit_window=3.0 (secs)\n",
      "\n"
     ]
    },
    {
     "name": "stdout",
     "output_type": "stream",
     "text": [
      "Structures from 230184 to 235187 are under process...\n"
     ]
    },
    {
     "data": {
      "application/vnd.jupyter.widget-view+json": {
       "model_id": "a0afc44a9dbe4c4bac457563777a5c22",
       "version_major": 2,
       "version_minor": 0
      },
      "text/plain": [
       "  0%|          | 0/5004 [00:00<?, ?it/s]"
      ]
     },
     "metadata": {},
     "output_type": "display_data"
    },
    {
     "name": "stdout",
     "output_type": "stream",
     "text": [
      "are stored to a file...\n"
     ]
    },
    {
     "data": {
      "application/vnd.jupyter.widget-view+json": {
       "model_id": "d86314f0e1b943c2811fcd17a19399c7",
       "version_major": 2,
       "version_minor": 0
      },
      "text/plain": [
       "  0%|          | 0/5004 [00:00<?, ?it/s]"
      ]
     },
     "metadata": {},
     "output_type": "display_data"
    },
    {
     "name": "stdout",
     "output_type": "stream",
     "text": [
      "Structures from 235188 to 240191 are under process...\n"
     ]
    },
    {
     "data": {
      "application/vnd.jupyter.widget-view+json": {
       "model_id": "cd9cf250a7a04a76a433fd03a565f4b9",
       "version_major": 2,
       "version_minor": 0
      },
      "text/plain": [
       "  0%|          | 0/5004 [00:00<?, ?it/s]"
      ]
     },
     "metadata": {},
     "output_type": "display_data"
    },
    {
     "name": "stdout",
     "output_type": "stream",
     "text": [
      "are stored to a file...\n"
     ]
    },
    {
     "data": {
      "application/vnd.jupyter.widget-view+json": {
       "model_id": "7ea7b47c3c314833890b405ac4cee89b",
       "version_major": 2,
       "version_minor": 0
      },
      "text/plain": [
       "  0%|          | 0/5004 [00:00<?, ?it/s]"
      ]
     },
     "metadata": {},
     "output_type": "display_data"
    },
    {
     "name": "stdout",
     "output_type": "stream",
     "text": [
      "Structures from 240192 to 245195 are under process...\n"
     ]
    },
    {
     "data": {
      "application/vnd.jupyter.widget-view+json": {
       "model_id": "33bb226d247c4f80be29a903c1cc87ee",
       "version_major": 2,
       "version_minor": 0
      },
      "text/plain": [
       "  0%|          | 0/5004 [00:00<?, ?it/s]"
      ]
     },
     "metadata": {},
     "output_type": "display_data"
    },
    {
     "name": "stdout",
     "output_type": "stream",
     "text": [
      "are stored to a file...\n"
     ]
    },
    {
     "data": {
      "application/vnd.jupyter.widget-view+json": {
       "model_id": "d5a61d67736d45fb90e0841b52b36c1d",
       "version_major": 2,
       "version_minor": 0
      },
      "text/plain": [
       "  0%|          | 0/5004 [00:00<?, ?it/s]"
      ]
     },
     "metadata": {},
     "output_type": "display_data"
    },
    {
     "name": "stdout",
     "output_type": "stream",
     "text": [
      "Structures from 245196 to 250199 are under process...\n"
     ]
    },
    {
     "data": {
      "application/vnd.jupyter.widget-view+json": {
       "model_id": "1837c488a6f64dd6b40ea1e518ffdd9e",
       "version_major": 2,
       "version_minor": 0
      },
      "text/plain": [
       "  0%|          | 0/5004 [00:00<?, ?it/s]"
      ]
     },
     "metadata": {},
     "output_type": "display_data"
    },
    {
     "name": "stderr",
     "output_type": "stream",
     "text": [
      "IOPub message rate exceeded.\n",
      "The Jupyter server will temporarily stop sending output\n",
      "to the client in order to avoid crashing it.\n",
      "To change this limit, set the config variable\n",
      "`--ServerApp.iopub_msg_rate_limit`.\n",
      "\n",
      "Current values:\n",
      "ServerApp.iopub_msg_rate_limit=1000.0 (msgs/sec)\n",
      "ServerApp.rate_limit_window=3.0 (secs)\n",
      "\n"
     ]
    },
    {
     "name": "stdout",
     "output_type": "stream",
     "text": [
      "are stored to a file...\n"
     ]
    },
    {
     "data": {
      "application/vnd.jupyter.widget-view+json": {
       "model_id": "bb5559cb48254ed7bad616307a72379b",
       "version_major": 2,
       "version_minor": 0
      },
      "text/plain": [
       "  0%|          | 0/5004 [00:00<?, ?it/s]"
      ]
     },
     "metadata": {},
     "output_type": "display_data"
    },
    {
     "name": "stdout",
     "output_type": "stream",
     "text": [
      "Structures from 290232 to 295235 are under process...\n"
     ]
    },
    {
     "data": {
      "application/vnd.jupyter.widget-view+json": {
       "model_id": "123d90e7b580486ab175a87c60a9ba83",
       "version_major": 2,
       "version_minor": 0
      },
      "text/plain": [
       "  0%|          | 0/5004 [00:00<?, ?it/s]"
      ]
     },
     "metadata": {},
     "output_type": "display_data"
    },
    {
     "name": "stdout",
     "output_type": "stream",
     "text": [
      "are stored to a file...\n"
     ]
    },
    {
     "data": {
      "application/vnd.jupyter.widget-view+json": {
       "model_id": "b9293d1f7dc94e4bb35c00aada509ed0",
       "version_major": 2,
       "version_minor": 0
      },
      "text/plain": [
       "  0%|          | 0/5004 [00:00<?, ?it/s]"
      ]
     },
     "metadata": {},
     "output_type": "display_data"
    },
    {
     "name": "stdout",
     "output_type": "stream",
     "text": [
      "Structures from 295236 to 300239 are under process...\n"
     ]
    },
    {
     "data": {
      "application/vnd.jupyter.widget-view+json": {
       "model_id": "abbfe5373a3c4c5d97ae01e989b0c3a5",
       "version_major": 2,
       "version_minor": 0
      },
      "text/plain": [
       "  0%|          | 0/5004 [00:00<?, ?it/s]"
      ]
     },
     "metadata": {},
     "output_type": "display_data"
    },
    {
     "name": "stdout",
     "output_type": "stream",
     "text": [
      "are stored to a file...\n"
     ]
    },
    {
     "data": {
      "application/vnd.jupyter.widget-view+json": {
       "model_id": "93e8fa05f66547df98ebd276a2328ea7",
       "version_major": 2,
       "version_minor": 0
      },
      "text/plain": [
       "  0%|          | 0/5004 [00:00<?, ?it/s]"
      ]
     },
     "metadata": {},
     "output_type": "display_data"
    },
    {
     "name": "stdout",
     "output_type": "stream",
     "text": [
      "Structures from 300240 to 305243 are under process...\n"
     ]
    },
    {
     "data": {
      "application/vnd.jupyter.widget-view+json": {
       "model_id": "01135077768844ec871dc733332e4a3c",
       "version_major": 2,
       "version_minor": 0
      },
      "text/plain": [
       "  0%|          | 0/5004 [00:00<?, ?it/s]"
      ]
     },
     "metadata": {},
     "output_type": "display_data"
    },
    {
     "name": "stderr",
     "output_type": "stream",
     "text": [
      "IOPub message rate exceeded.\n",
      "The Jupyter server will temporarily stop sending output\n",
      "to the client in order to avoid crashing it.\n",
      "To change this limit, set the config variable\n",
      "`--ServerApp.iopub_msg_rate_limit`.\n",
      "\n",
      "Current values:\n",
      "ServerApp.iopub_msg_rate_limit=1000.0 (msgs/sec)\n",
      "ServerApp.rate_limit_window=3.0 (secs)\n",
      "\n"
     ]
    },
    {
     "name": "stdout",
     "output_type": "stream",
     "text": [
      "Structures from 345276 to 350279 are under process...\n"
     ]
    },
    {
     "data": {
      "application/vnd.jupyter.widget-view+json": {
       "model_id": "b9c85b458a25414880f5f95788d9c4b2",
       "version_major": 2,
       "version_minor": 0
      },
      "text/plain": [
       "  0%|          | 0/5004 [00:00<?, ?it/s]"
      ]
     },
     "metadata": {},
     "output_type": "display_data"
    },
    {
     "name": "stdout",
     "output_type": "stream",
     "text": [
      "are stored to a file...\n"
     ]
    },
    {
     "data": {
      "application/vnd.jupyter.widget-view+json": {
       "model_id": "78629a2393b44ccfbc4783253e641153",
       "version_major": 2,
       "version_minor": 0
      },
      "text/plain": [
       "  0%|          | 0/5004 [00:00<?, ?it/s]"
      ]
     },
     "metadata": {},
     "output_type": "display_data"
    },
    {
     "name": "stdout",
     "output_type": "stream",
     "text": [
      "Structures from 350280 to 355283 are under process...\n"
     ]
    },
    {
     "data": {
      "application/vnd.jupyter.widget-view+json": {
       "model_id": "0352b514a72f4423a1d4be4579a8e359",
       "version_major": 2,
       "version_minor": 0
      },
      "text/plain": [
       "  0%|          | 0/5004 [00:00<?, ?it/s]"
      ]
     },
     "metadata": {},
     "output_type": "display_data"
    },
    {
     "name": "stdout",
     "output_type": "stream",
     "text": [
      "are stored to a file...\n"
     ]
    },
    {
     "data": {
      "application/vnd.jupyter.widget-view+json": {
       "model_id": "775defb5e48042b7b7fe20f7c582349a",
       "version_major": 2,
       "version_minor": 0
      },
      "text/plain": [
       "  0%|          | 0/5004 [00:00<?, ?it/s]"
      ]
     },
     "metadata": {},
     "output_type": "display_data"
    },
    {
     "name": "stdout",
     "output_type": "stream",
     "text": [
      "Structures from 355284 to 360287 are under process...\n"
     ]
    },
    {
     "data": {
      "application/vnd.jupyter.widget-view+json": {
       "model_id": "348f414fbab949c0b643873de2a2736f",
       "version_major": 2,
       "version_minor": 0
      },
      "text/plain": [
       "  0%|          | 0/5004 [00:00<?, ?it/s]"
      ]
     },
     "metadata": {},
     "output_type": "display_data"
    },
    {
     "name": "stdout",
     "output_type": "stream",
     "text": [
      "are stored to a file...\n"
     ]
    },
    {
     "data": {
      "application/vnd.jupyter.widget-view+json": {
       "model_id": "f2f1517093894bb4b76b4fb3c061ab7e",
       "version_major": 2,
       "version_minor": 0
      },
      "text/plain": [
       "  0%|          | 0/5004 [00:00<?, ?it/s]"
      ]
     },
     "metadata": {},
     "output_type": "display_data"
    },
    {
     "name": "stderr",
     "output_type": "stream",
     "text": [
      "IOPub message rate exceeded.\n",
      "The Jupyter server will temporarily stop sending output\n",
      "to the client in order to avoid crashing it.\n",
      "To change this limit, set the config variable\n",
      "`--ServerApp.iopub_msg_rate_limit`.\n",
      "\n",
      "Current values:\n",
      "ServerApp.iopub_msg_rate_limit=1000.0 (msgs/sec)\n",
      "ServerApp.rate_limit_window=3.0 (secs)\n",
      "\n"
     ]
    },
    {
     "name": "stdout",
     "output_type": "stream",
     "text": [
      "are stored to a file...\n"
     ]
    },
    {
     "data": {
      "application/vnd.jupyter.widget-view+json": {
       "model_id": "6ebd233387b94dd3ba07e157e2a3b11c",
       "version_major": 2,
       "version_minor": 0
      },
      "text/plain": [
       "  0%|          | 0/5004 [00:00<?, ?it/s]"
      ]
     },
     "metadata": {},
     "output_type": "display_data"
    },
    {
     "name": "stdout",
     "output_type": "stream",
     "text": [
      "Structures from 400320 to 405323 are under process...\n"
     ]
    },
    {
     "data": {
      "application/vnd.jupyter.widget-view+json": {
       "model_id": "78681b28f6f4444c8861ace42fff213e",
       "version_major": 2,
       "version_minor": 0
      },
      "text/plain": [
       "  0%|          | 0/5004 [00:00<?, ?it/s]"
      ]
     },
     "metadata": {},
     "output_type": "display_data"
    },
    {
     "name": "stdout",
     "output_type": "stream",
     "text": [
      "are stored to a file...\n"
     ]
    },
    {
     "data": {
      "application/vnd.jupyter.widget-view+json": {
       "model_id": "f242c911c7094f87994c8e9400cd98af",
       "version_major": 2,
       "version_minor": 0
      },
      "text/plain": [
       "  0%|          | 0/5004 [00:00<?, ?it/s]"
      ]
     },
     "metadata": {},
     "output_type": "display_data"
    },
    {
     "name": "stdout",
     "output_type": "stream",
     "text": [
      "Structures from 405324 to 410327 are under process...\n"
     ]
    },
    {
     "data": {
      "application/vnd.jupyter.widget-view+json": {
       "model_id": "d8a53de207d149bdaad50c5400408605",
       "version_major": 2,
       "version_minor": 0
      },
      "text/plain": [
       "  0%|          | 0/5004 [00:00<?, ?it/s]"
      ]
     },
     "metadata": {},
     "output_type": "display_data"
    },
    {
     "name": "stdout",
     "output_type": "stream",
     "text": [
      "are stored to a file...\n"
     ]
    },
    {
     "data": {
      "application/vnd.jupyter.widget-view+json": {
       "model_id": "4f003df889f74d42bc616ffc52ed3238",
       "version_major": 2,
       "version_minor": 0
      },
      "text/plain": [
       "  0%|          | 0/5004 [00:00<?, ?it/s]"
      ]
     },
     "metadata": {},
     "output_type": "display_data"
    },
    {
     "name": "stdout",
     "output_type": "stream",
     "text": [
      "Structures from 410328 to 415331 are under process...\n"
     ]
    },
    {
     "data": {
      "application/vnd.jupyter.widget-view+json": {
       "model_id": "1a4237ee951341d5909d01294bb2036e",
       "version_major": 2,
       "version_minor": 0
      },
      "text/plain": [
       "  0%|          | 0/5004 [00:00<?, ?it/s]"
      ]
     },
     "metadata": {},
     "output_type": "display_data"
    },
    {
     "name": "stderr",
     "output_type": "stream",
     "text": [
      "IOPub message rate exceeded.\n",
      "The Jupyter server will temporarily stop sending output\n",
      "to the client in order to avoid crashing it.\n",
      "To change this limit, set the config variable\n",
      "`--ServerApp.iopub_msg_rate_limit`.\n",
      "\n",
      "Current values:\n",
      "ServerApp.iopub_msg_rate_limit=1000.0 (msgs/sec)\n",
      "ServerApp.rate_limit_window=3.0 (secs)\n",
      "\n"
     ]
    },
    {
     "name": "stdout",
     "output_type": "stream",
     "text": [
      "are stored to a file...\n"
     ]
    },
    {
     "data": {
      "application/vnd.jupyter.widget-view+json": {
       "model_id": "2f593c96a89940388335e0cd61eb3e89",
       "version_major": 2,
       "version_minor": 0
      },
      "text/plain": [
       "  0%|          | 0/5004 [00:00<?, ?it/s]"
      ]
     },
     "metadata": {},
     "output_type": "display_data"
    },
    {
     "name": "stdout",
     "output_type": "stream",
     "text": [
      "Structures from 455364 to 460327 are under process...\n"
     ]
    },
    {
     "data": {
      "application/vnd.jupyter.widget-view+json": {
       "model_id": "0fecf007086143afb9c7a967445cc5b3",
       "version_major": 2,
       "version_minor": 0
      },
      "text/plain": [
       "  0%|          | 0/4964 [00:00<?, ?it/s]"
      ]
     },
     "metadata": {},
     "output_type": "display_data"
    },
    {
     "name": "stdout",
     "output_type": "stream",
     "text": [
      "are stored to a file...\n"
     ]
    },
    {
     "data": {
      "application/vnd.jupyter.widget-view+json": {
       "model_id": "e18d31b504b142a18a767ffeb07ae946",
       "version_major": 2,
       "version_minor": 0
      },
      "text/plain": [
       "  0%|          | 0/4964 [00:00<?, ?it/s]"
      ]
     },
     "metadata": {},
     "output_type": "display_data"
    },
    {
     "name": "stdout",
     "output_type": "stream",
     "text": [
      "###########################################\n",
      "/share/catalyst/ocp_datasets/data/is2re/100k/train/data_mod.lmdbz\n",
      "\n",
      "Original dataset size is 100000\n",
      "\n",
      "Batch info:\n",
      "0: from 0 to 5003\n",
      "1: from 5004 to 10007\n",
      "2: from 10008 to 15011\n",
      "3: from 15012 to 20015\n",
      "4: from 20016 to 25019\n",
      "5: from 25020 to 30023\n",
      "6: from 30024 to 35027\n",
      "7: from 35028 to 40031\n",
      "8: from 40032 to 45035\n",
      "9: from 45036 to 50039\n",
      "10: from 50040 to 55043\n",
      "11: from 55044 to 60047\n",
      "12: from 60048 to 65051\n",
      "13: from 65052 to 70055\n",
      "14: from 70056 to 75059\n",
      "15: from 75060 to 80063\n",
      "16: from 80064 to 85067\n",
      "17: from 85068 to 90071\n",
      "18: from 90072 to 95075\n",
      "19: from 95076 to 99999\n",
      "\n",
      "Structures from 0 to 5003 are under process...\n"
     ]
    },
    {
     "data": {
      "application/vnd.jupyter.widget-view+json": {
       "model_id": "f9bb9869e22d477d86303bc6949d41dd",
       "version_major": 2,
       "version_minor": 0
      },
      "text/plain": [
       "  0%|          | 0/5004 [00:00<?, ?it/s]"
      ]
     },
     "metadata": {},
     "output_type": "display_data"
    },
    {
     "name": "stdout",
     "output_type": "stream",
     "text": [
      "are stored to a file...\n"
     ]
    },
    {
     "data": {
      "application/vnd.jupyter.widget-view+json": {
       "model_id": "dde3e8e5523f4e33972ce8a46b5dd402",
       "version_major": 2,
       "version_minor": 0
      },
      "text/plain": [
       "  0%|          | 0/5004 [00:00<?, ?it/s]"
      ]
     },
     "metadata": {},
     "output_type": "display_data"
    },
    {
     "name": "stdout",
     "output_type": "stream",
     "text": [
      "Structures from 5004 to 10007 are under process...\n"
     ]
    },
    {
     "data": {
      "application/vnd.jupyter.widget-view+json": {
       "model_id": "079e9d1f81c94eaf8d64a9aa8802236c",
       "version_major": 2,
       "version_minor": 0
      },
      "text/plain": [
       "  0%|          | 0/5004 [00:00<?, ?it/s]"
      ]
     },
     "metadata": {},
     "output_type": "display_data"
    },
    {
     "name": "stdout",
     "output_type": "stream",
     "text": [
      "are stored to a file...\n"
     ]
    },
    {
     "data": {
      "application/vnd.jupyter.widget-view+json": {
       "model_id": "0c1db848414f48eaaf191c02260bd55a",
       "version_major": 2,
       "version_minor": 0
      },
      "text/plain": [
       "  0%|          | 0/5004 [00:00<?, ?it/s]"
      ]
     },
     "metadata": {},
     "output_type": "display_data"
    },
    {
     "name": "stderr",
     "output_type": "stream",
     "text": [
      "IOPub message rate exceeded.\n",
      "The Jupyter server will temporarily stop sending output\n",
      "to the client in order to avoid crashing it.\n",
      "To change this limit, set the config variable\n",
      "`--ServerApp.iopub_msg_rate_limit`.\n",
      "\n",
      "Current values:\n",
      "ServerApp.iopub_msg_rate_limit=1000.0 (msgs/sec)\n",
      "ServerApp.rate_limit_window=3.0 (secs)\n",
      "\n"
     ]
    },
    {
     "name": "stdout",
     "output_type": "stream",
     "text": [
      "Structures from 50040 to 55043 are under process...\n"
     ]
    },
    {
     "data": {
      "application/vnd.jupyter.widget-view+json": {
       "model_id": "776fc64a081643b2a3af1b75cc8356d8",
       "version_major": 2,
       "version_minor": 0
      },
      "text/plain": [
       "  0%|          | 0/5004 [00:00<?, ?it/s]"
      ]
     },
     "metadata": {},
     "output_type": "display_data"
    },
    {
     "name": "stdout",
     "output_type": "stream",
     "text": [
      "are stored to a file...\n"
     ]
    },
    {
     "data": {
      "application/vnd.jupyter.widget-view+json": {
       "model_id": "dbab5901087b4fae90cbf20243b765fa",
       "version_major": 2,
       "version_minor": 0
      },
      "text/plain": [
       "  0%|          | 0/5004 [00:00<?, ?it/s]"
      ]
     },
     "metadata": {},
     "output_type": "display_data"
    },
    {
     "name": "stdout",
     "output_type": "stream",
     "text": [
      "Structures from 55044 to 60047 are under process...\n"
     ]
    },
    {
     "data": {
      "application/vnd.jupyter.widget-view+json": {
       "model_id": "4555c612ffb74e6da2d9591623b20266",
       "version_major": 2,
       "version_minor": 0
      },
      "text/plain": [
       "  0%|          | 0/5004 [00:00<?, ?it/s]"
      ]
     },
     "metadata": {},
     "output_type": "display_data"
    },
    {
     "name": "stdout",
     "output_type": "stream",
     "text": [
      "are stored to a file...\n"
     ]
    },
    {
     "data": {
      "application/vnd.jupyter.widget-view+json": {
       "model_id": "52cfbdc0f73146c59f9a29f4f31e027b",
       "version_major": 2,
       "version_minor": 0
      },
      "text/plain": [
       "  0%|          | 0/5004 [00:00<?, ?it/s]"
      ]
     },
     "metadata": {},
     "output_type": "display_data"
    },
    {
     "name": "stdout",
     "output_type": "stream",
     "text": [
      "Structures from 60048 to 65051 are under process...\n"
     ]
    },
    {
     "data": {
      "application/vnd.jupyter.widget-view+json": {
       "model_id": "377d81ed6e394fff9216ec3a6c9f69b4",
       "version_major": 2,
       "version_minor": 0
      },
      "text/plain": [
       "  0%|          | 0/5004 [00:00<?, ?it/s]"
      ]
     },
     "metadata": {},
     "output_type": "display_data"
    },
    {
     "name": "stdout",
     "output_type": "stream",
     "text": [
      "are stored to a file...\n"
     ]
    },
    {
     "data": {
      "application/vnd.jupyter.widget-view+json": {
       "model_id": "31ff39ca6b844852873579b7d336617d",
       "version_major": 2,
       "version_minor": 0
      },
      "text/plain": [
       "  0%|          | 0/5004 [00:00<?, ?it/s]"
      ]
     },
     "metadata": {},
     "output_type": "display_data"
    },
    {
     "name": "stdout",
     "output_type": "stream",
     "text": [
      "Structures from 65052 to 70055 are under process...\n"
     ]
    },
    {
     "data": {
      "application/vnd.jupyter.widget-view+json": {
       "model_id": "7ba14489c03c4a4b924518cc520de89e",
       "version_major": 2,
       "version_minor": 0
      },
      "text/plain": [
       "  0%|          | 0/5004 [00:00<?, ?it/s]"
      ]
     },
     "metadata": {},
     "output_type": "display_data"
    },
    {
     "name": "stderr",
     "output_type": "stream",
     "text": [
      "IOPub message rate exceeded.\n",
      "The Jupyter server will temporarily stop sending output\n",
      "to the client in order to avoid crashing it.\n",
      "To change this limit, set the config variable\n",
      "`--ServerApp.iopub_msg_rate_limit`.\n",
      "\n",
      "Current values:\n",
      "ServerApp.iopub_msg_rate_limit=1000.0 (msgs/sec)\n",
      "ServerApp.rate_limit_window=3.0 (secs)\n",
      "\n"
     ]
    }
   ],
   "source": [
    "# processDataset('../../../pv_skoltech/dataset/data.lmdbz')\n",
    "processDataset('/share/catalyst/ocp_datasets/data/is2re/all/train/data.lmdb')\n",
    "processDataset('/share/catalyst/ocp_datasets/data/is2re/100k/train/data.lmdb')\n",
    "#processDataset('/Users/Eremin/OneDrive/Share/all/test_ood_both/data.lmdb')"
   ]
  },
  {
   "cell_type": "markdown",
   "id": "a7bff057-889d-4287-b204-a2604de41811",
   "metadata": {},
   "source": [
    "### Process data_mod.lmdb to data_mod2.lmdb"
   ]
  },
  {
   "cell_type": "markdown",
   "id": "e4bb9165-f7b2-481e-8b76-3ff77717c38e",
   "metadata": {},
   "source": [
    "**Added feautures.** </br>\n",
    "angles: \\['edge_id', 'edge_theta', 'edge_to_z', 'edge_phi'], </br>"
   ]
  },
  {
   "cell_type": "code",
   "execution_count": null,
   "id": "00ea0cdd-db7a-4402-8397-5501fdaffa35",
   "metadata": {},
   "outputs": [
    {
     "name": "stderr",
     "output_type": "stream",
     "text": [
      "/share/catalyst/ocp_airi/airi_utils/voronoy_gen/polyhedron.py:106: RuntimeWarning: invalid value encountered in true_divide\n",
      "  norm /= np.linalg.norm(norm)\n"
     ]
    }
   ],
   "source": [
    "dataset_path = '/share/catalyst/ocp_datasets/data/is2re/all/train/'"
   ]
  },
  {
   "cell_type": "code",
   "execution_count": 6,
   "id": "7afdaa67",
   "metadata": {},
   "outputs": [
    {
     "ename": "NameError",
     "evalue": "name 'processDataset2' is not defined",
     "output_type": "error",
     "traceback": [
      "\u001b[0;31m---------------------------------------------------------------------------\u001b[0m",
      "\u001b[0;31mNameError\u001b[0m                                 Traceback (most recent call last)",
      "\u001b[0;32m/tmp/ipykernel_23462/2414981964.py\u001b[0m in \u001b[0;36m<module>\u001b[0;34m\u001b[0m\n\u001b[0;32m----> 1\u001b[0;31m \u001b[0mprocessDataset2\u001b[0m\u001b[0;34m(\u001b[0m\u001b[0mdataset_path\u001b[0m \u001b[0;34m+\u001b[0m \u001b[0;34m'data_mod.lmdbz'\u001b[0m \u001b[0;34m)\u001b[0m\u001b[0;34m\u001b[0m\u001b[0;34m\u001b[0m\u001b[0m\n\u001b[0m",
      "\u001b[0;31mNameError\u001b[0m: name 'processDataset2' is not defined"
     ]
    }
   ],
   "source": [
    "processDataset2(dataset_path + 'data_mod.lmdbz' )"
   ]
  },
  {
   "cell_type": "markdown",
   "id": "5e181b03-959e-4c4c-a9fe-c904772bc886",
   "metadata": {},
   "source": [
    "**Test**"
   ]
  },
  {
   "cell_type": "code",
   "execution_count": null,
   "id": "ad81998d",
   "metadata": {},
   "outputs": [],
   "source": [
    "data_ori = lmdb_dataset(dataset_path + 'data_mod2.lmdbz')\n",
    "data_ori[0].keys"
   ]
  },
  {
   "cell_type": "code",
   "execution_count": null,
   "id": "cb7b95f2",
   "metadata": {},
   "outputs": [],
   "source": [
    "data_ori[0]['edge_angles'][0]"
   ]
  }
 ],
 "metadata": {
  "kernelspec": {
   "display_name": "ocp_models",
   "language": "python",
   "name": "ocp_models"
  },
  "language_info": {
   "codemirror_mode": {
    "name": "ipython",
    "version": 3
   },
   "file_extension": ".py",
   "mimetype": "text/x-python",
   "name": "python",
   "nbconvert_exporter": "python",
   "pygments_lexer": "ipython3",
   "version": "3.8.12"
  }
 },
 "nbformat": 4,
 "nbformat_minor": 5
}
