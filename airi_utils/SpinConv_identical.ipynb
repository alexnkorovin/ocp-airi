{
 "cells": [
  {
   "cell_type": "code",
   "execution_count": 1,
   "id": "e4b61361",
   "metadata": {
    "tags": []
   },
   "outputs": [],
   "source": [
    "import os\n",
    "\n",
    "import numpy as np\n",
    "import pandas as pd\n",
    "\n",
    "import torch\n",
    "import torch.nn.functional as F\n",
    "import torch.optim as optim\n",
    "\n",
    "\n",
    "from datetime import datetime\n",
    "from torch import nn\n",
    "from torch_geometric.data import Data, DataLoader\n",
    "from torch_geometric.nn import MessagePassing, DataParallel\n",
    "from torch_scatter import scatter\n",
    "from torch.utils.tensorboard import SummaryWriter\n",
    "\n",
    "from DataClasses import lmdb_dataset, Dataset, DataListLoader\n",
    "from ModelFunctions import train, evaluate, inference"
   ]
  },
  {
   "cell_type": "code",
   "execution_count": 2,
   "id": "cdcbb947",
   "metadata": {},
   "outputs": [],
   "source": [
    "import sys\n",
    "sys.path.append(os.path.expanduser('../ocpmodels/models'))\n",
    "sys.path.append(os.path.expanduser('../../ocp-airi'))\n",
    "\n",
    "from spinconv import spinconv"
   ]
  },
  {
   "cell_type": "code",
   "execution_count": 3,
   "id": "5eaf72ee",
   "metadata": {},
   "outputs": [],
   "source": [
    "#вызывается каждый раз, когда датасет отдаёт элемент (систему)\n",
    "#делаем из данных матрицу векторов-атомов, список рёбер (edge_index) и матрицу векторов-рёбер; надо писать свою функцию для каждой сети\n",
    "def preprocessing(system):\n",
    "    keys = ['pos', 'atomic_numbers', 'cell', 'natoms']\n",
    "    features_dict = {}\n",
    "    for key in keys:\n",
    "        features_dict[key] = system[key]\n",
    "    return Data(**features_dict)"
   ]
  },
  {
   "cell_type": "code",
   "execution_count": 4,
   "id": "8f1f16a2",
   "metadata": {},
   "outputs": [],
   "source": [
    "#config\n",
    "batch_size = 90\n",
    "num_workers = 0\n",
    "\n",
    "features_cols = ['feature_1']\n",
    "\n",
    "target_col = 'y_relaxed'\n",
    "lr = 0.001\n",
    "epochs = 20"
   ]
  },
  {
   "cell_type": "code",
   "execution_count": 5,
   "id": "c875f553",
   "metadata": {},
   "outputs": [],
   "source": [
    "# #чтобы тензор по умолчанию заводился на куде\n",
    "# if torch.cuda.is_available():\n",
    "#     torch.set_default_tensor_type('torch.cuda.FloatTensor')\n",
    "#     print('cuda')"
   ]
  },
  {
   "cell_type": "code",
   "execution_count": 6,
   "id": "af71fa63",
   "metadata": {},
   "outputs": [
    {
     "name": "stdout",
     "output_type": "stream",
     "text": [
      "cuda\n"
     ]
    }
   ],
   "source": [
    "#set device\n",
    "device = torch.device('cuda' if torch.cuda.is_available() else 'cpu')  \n",
    "print(device)"
   ]
  },
  {
   "cell_type": "code",
   "execution_count": 7,
   "id": "85dd700d",
   "metadata": {},
   "outputs": [],
   "source": [
    "#инициализируем тренировочный датасети и тренировочный итератор\n",
    "train_dataset_file_path= os.path.expanduser(\"../../ocp_datasets/data/is2re/all/train/data.lmdb\")\n",
    "training_set = Dataset(train_dataset_file_path, features_cols, target_col, preprocessing=preprocessing)\n",
    "\n",
    "training_generator = DataListLoader(training_set, batch_size=batch_size)"
   ]
  },
  {
   "cell_type": "code",
   "execution_count": 8,
   "id": "4290cd77",
   "metadata": {},
   "outputs": [],
   "source": [
    "#инициализируем валидационный датасет и валидационный итератор\n",
    "val_dataset_file_path = os.path.expanduser(\"../../ocp_datasets/data/is2re/all/val_ood_both/data_mod2.lmdbz\")\n",
    "\n",
    "valid_set = Dataset(val_dataset_file_path, features_cols, target_col, preprocessing=preprocessing)\n",
    "valid_generator = DataListLoader(valid_set, batch_size=batch_size, num_workers=num_workers)"
   ]
  },
  {
   "cell_type": "code",
   "execution_count": 9,
   "id": "c6b6ba4f",
   "metadata": {},
   "outputs": [
    {
     "name": "stdout",
     "output_type": "stream",
     "text": [
      "total entries: 460328\n",
      "info for item: 0\n",
      "edge_index:............... [2, 2964]\n",
      "pos:......................   [86, 3]\n",
      "cell:..................... [1, 3, 3]\n",
      "atomic_numbers:...........      [86]\n",
      "natoms:...................        86\n",
      "cell_offsets:............. [2964, 3]\n",
      "force:....................   [86, 3]\n",
      "distances:................    [2964]\n",
      "fixed:....................      [86]\n",
      "sid:......................   2472718\n",
      "tags:.....................      [86]\n",
      "y_init:...................    6.2825\n",
      "y_relaxed:................   -0.0256\n",
      "pos_relaxed:..............   [86, 3]\n"
     ]
    }
   ],
   "source": [
    "try:\n",
    "    lmdb_dataset(train_dataset_file_path).describe()\n",
    "except:\n",
    "    pass"
   ]
  },
  {
   "cell_type": "code",
   "execution_count": 10,
   "id": "08e11d7e",
   "metadata": {},
   "outputs": [],
   "source": [
    "#model\n",
    "model = spinconv(None, None, 1, otf_graph=True, regress_forces=False)\n",
    "#model = OCPDataParallel(model, output_device=0, num_gpus=2)\n",
    "model = DataParallel(model)\n",
    "#model = DistributedDataParallel(model, device_ids=[0, 1])\n",
    "#model = torch.load(\"id_all_2021-09-24-17-19-54.pickle\")\n",
    "\n",
    "#optimizer and loss\n",
    "optimizer = optim.AdamW(model.parameters(), lr=lr)\n",
    "criterion = nn.L1Loss()\n",
    "\n",
    "#переносим на куду если она есть\n",
    "model = model.to(device)\n",
    "criterion = criterion.to(device)"
   ]
  },
  {
   "cell_type": "code",
   "execution_count": 11,
   "id": "08e9f8cd",
   "metadata": {},
   "outputs": [
    {
     "name": "stdout",
     "output_type": "stream",
     "text": [
      "2021-09-25-11-23-25\n"
     ]
    }
   ],
   "source": [
    "timestamp = str(datetime.now().strftime(\"%Y-%m-%d-%H-%M-%S\"))\n",
    "\n",
    "print(timestamp)    "
   ]
  },
  {
   "cell_type": "code",
   "execution_count": 12,
   "id": "75080a81",
   "metadata": {},
   "outputs": [],
   "source": [
    "#tensorboard writer, при первом запуске надо руками сделать папку для логов\n",
    "\n",
    "# server\n",
    "#log_folder_path = \"../../ocp_results/logs/tensorboard/out_base_model\"\n",
    "\n",
    "# colab\n",
    "# log_folder_path = \"/content/drive/MyDrive/ocp_results/logs/tensorboard/out_base_model\"\n",
    "\n",
    "# user_specific \n",
    "log_file_path = \"../logs/tensorboard_airi\"\n",
    "\n",
    "writer = SummaryWriter(log_file_path + '/' + timestamp)"
   ]
  },
  {
   "cell_type": "code",
   "execution_count": 13,
   "id": "6028235c",
   "metadata": {},
   "outputs": [
    {
     "name": "stdout",
     "output_type": "stream",
     "text": [
      "no graph\n",
      "CPU times: user 177 µs, sys: 71 µs, total: 248 µs\n",
      "Wall time: 243 µs\n"
     ]
    }
   ],
   "source": [
    "%%time\n",
    "logfile_str = {\n",
    "    \"train_dataset_file_path\": train_dataset_file_path,\n",
    "    \"val_dataset_file_path\": val_dataset_file_path,\n",
    "    \"features_cols\": features_cols,\n",
    "    \"target_col\": target_col,\n",
    "    \"batch_size\": batch_size,\n",
    "    \"num_workers\": num_workers,\n",
    "    \"epochs\": epochs,\n",
    "    \"lr\": lr\n",
    "}\n",
    "\n",
    "#граф модели\n",
    "try:\n",
    "    #trace_system = dict(list(next(iter(training_generator))[0]))\n",
    "    writer.add_graph(model, trace_system)\n",
    "except:\n",
    "    print('no graph')\n",
    "writer.add_text(timestamp, str(logfile_str))"
   ]
  },
  {
   "cell_type": "markdown",
   "id": "9cb5236b",
   "metadata": {},
   "source": [
    "## Training"
   ]
  },
  {
   "cell_type": "code",
   "execution_count": null,
   "id": "eb2fd7bf",
   "metadata": {},
   "outputs": [
    {
     "name": "stdout",
     "output_type": "stream",
     "text": [
      "2021-09-25-11-23-25\n",
      "Start training model DataParallel(\n",
      "  (module): spinconv(\n",
      "    (act): Swish()\n",
      "    (distance_expansion_forces): GaussianSmearing()\n",
      "    (embeddingblock2): EmbeddingBlock(\n",
      "      (act): Swish()\n",
      "      (fc1): Linear(in_features=200, out_features=200, bias=True)\n",
      "      (fc2): Linear(in_features=200, out_features=1600, bias=True)\n",
      "      (fc3): Linear(in_features=200, out_features=32, bias=True)\n",
      "      (source_embedding): Embedding(90, 32)\n",
      "      (target_embedding): Embedding(90, 32)\n",
      "      (embed_fc1): Linear(in_features=64, out_features=8, bias=True)\n",
      "      (softmax): Softmax(dim=1)\n",
      "    )\n",
      "    (distfc1): Linear(in_features=200, out_features=200, bias=True)\n",
      "    (distfc2): Linear(in_features=200, out_features=200, bias=True)\n",
      "    (dist_block): DistanceBlock(\n",
      "      (distance_expansion): GaussianSmearing()\n",
      "      (dist_scalar): Embedding(8100, 1)\n",
      "      (dist_offset): Embedding(8100, 1)\n",
      "      (fc1): Linear(in_features=200, out_features=200, bias=True)\n",
      "    )\n",
      "    (message_blocks): ModuleList(\n",
      "      (0): MessageBlock(\n",
      "        (act): Swish()\n",
      "        (spinconvblock): SpinConvBlock(\n",
      "          (act): Swish()\n",
      "          (ProjectLatLongSphere): ProjectLatLongSphere()\n",
      "          (conv1): Conv1d(480, 200, kernel_size=(9,), stride=(1,), padding=(4,), groups=4, padding_mode=circular)\n",
      "          (pool): AvgPool1d(kernel_size=(9,), stride=(9,), padding=(0,))\n",
      "          (GroupNorm): GroupNorm(4, 200, eps=1e-05, affine=True)\n",
      "        )\n",
      "        (embeddingblock1): EmbeddingBlock(\n",
      "          (act): Swish()\n",
      "          (fc1): Linear(in_features=200, out_features=200, bias=True)\n",
      "          (fc2): Linear(in_features=200, out_features=1600, bias=True)\n",
      "          (fc3): Linear(in_features=200, out_features=200, bias=True)\n",
      "          (source_embedding): Embedding(90, 32)\n",
      "          (target_embedding): Embedding(90, 32)\n",
      "          (embed_fc1): Linear(in_features=64, out_features=8, bias=True)\n",
      "          (softmax): Softmax(dim=1)\n",
      "        )\n",
      "        (embeddingblock2): EmbeddingBlock(\n",
      "          (act): Swish()\n",
      "          (fc1): Linear(in_features=200, out_features=200, bias=True)\n",
      "          (fc2): Linear(in_features=200, out_features=1600, bias=True)\n",
      "          (fc3): Linear(in_features=200, out_features=32, bias=True)\n",
      "          (source_embedding): Embedding(90, 32)\n",
      "          (target_embedding): Embedding(90, 32)\n",
      "          (embed_fc1): Linear(in_features=64, out_features=8, bias=True)\n",
      "          (softmax): Softmax(dim=1)\n",
      "        )\n",
      "        (distfc1): Linear(in_features=200, out_features=200, bias=True)\n",
      "        (distfc2): Linear(in_features=200, out_features=200, bias=True)\n",
      "      )\n",
      "    )\n",
      "    (energyembeddingblock): EmbeddingBlock(\n",
      "      (act): Swish()\n",
      "      (fc1): Linear(in_features=32, out_features=200, bias=True)\n",
      "      (fc2): Linear(in_features=200, out_features=1600, bias=True)\n",
      "      (fc3): Linear(in_features=200, out_features=1, bias=True)\n",
      "      (source_embedding): Embedding(90, 32)\n",
      "      (target_embedding): Embedding(90, 32)\n",
      "      (embed_fc1): Linear(in_features=64, out_features=8, bias=True)\n",
      "      (softmax): Softmax(dim=1)\n",
      "    )\n",
      "    (force_output_block): ForceOutputBlock(\n",
      "      (act): Swish()\n",
      "      (spinconvblock): SpinConvBlock(\n",
      "        (act): Swish()\n",
      "        (ProjectLatLongSphere): ProjectLatLongSphere()\n",
      "        (conv1): Conv1d(480, 200, kernel_size=(9,), stride=(1,), padding=(4,), groups=4, padding_mode=circular)\n",
      "        (pool): AvgPool1d(kernel_size=(9,), stride=(9,), padding=(0,))\n",
      "        (GroupNorm): GroupNorm(4, 200, eps=1e-05, affine=True)\n",
      "      )\n",
      "      (block1): EmbeddingBlock(\n",
      "        (act): Swish()\n",
      "        (fc1): Linear(in_features=200, out_features=200, bias=True)\n",
      "        (fc2): Linear(in_features=200, out_features=1600, bias=True)\n",
      "        (fc3): Linear(in_features=200, out_features=200, bias=True)\n",
      "        (source_embedding): Embedding(90, 32)\n",
      "        (target_embedding): Embedding(90, 32)\n",
      "        (embed_fc1): Linear(in_features=64, out_features=8, bias=True)\n",
      "        (softmax): Softmax(dim=1)\n",
      "      )\n",
      "      (block2): EmbeddingBlock(\n",
      "        (act): Swish()\n",
      "        (fc1): Linear(in_features=200, out_features=200, bias=True)\n",
      "        (fc2): Linear(in_features=200, out_features=1600, bias=True)\n",
      "        (fc3): Linear(in_features=200, out_features=2, bias=True)\n",
      "        (source_embedding): Embedding(90, 32)\n",
      "        (target_embedding): Embedding(90, 32)\n",
      "        (embed_fc1): Linear(in_features=64, out_features=8, bias=True)\n",
      "        (softmax): Softmax(dim=1)\n",
      "      )\n",
      "    )\n",
      "  )\n",
      ")\n",
      "epoch 1\n",
      "ml-test-server-0:55883:55883 [0] NCCL INFO Bootstrap : Using [0]eth0:10.233.122.86<0>\n",
      "ml-test-server-0:55883:55883 [0] NCCL INFO NET/Plugin : No plugin found (libnccl-net.so), using internal implementation\n",
      "ml-test-server-0:55883:55883 [0] NCCL INFO NET/IB : No device found.\n",
      "ml-test-server-0:55883:55883 [0] NCCL INFO NET/Socket : Using [0]eth0:10.233.122.86<0>\n",
      "ml-test-server-0:55883:55883 [0] NCCL INFO Using network Socket\n",
      "NCCL version 2.7.8+cuda10.2\n",
      "ml-test-server-0:55883:55903 [1] NCCL INFO threadThresholds 8/8/64 | 16/8/64 | 8/8/64\n",
      "ml-test-server-0:55883:55903 [1] NCCL INFO Trees [0] -1/-1/-1->1->0|0->1->-1/-1/-1 [1] -1/-1/-1->1->0|0->1->-1/-1/-1 [2] -1/-1/-1->1->0|0->1->-1/-1/-1 [3] 0/-1/-1->1->-1|-1->1->0/-1/-1 [4] 0/-1/-1->1->-1|-1->1->0/-1/-1 [5] 0/-1/-1->1->-1|-1->1->0/-1/-1 [6] -1/-1/-1->1->0|0->1->-1/-1/-1 [7] -1/-1/-1->1->0|0->1->-1/-1/-1 [8] -1/-1/-1->1->0|0->1->-1/-1/-1 [9] 0/-1/-1->1->-1|-1->1->0/-1/-1 [10] 0/-1/-1->1->-1|-1->1->0/-1/-1 [11] 0/-1/-1->1->-1|-1->1->0/-1/-1\n",
      "ml-test-server-0:55883:55902 [0] NCCL INFO Channel 00/12 :    0   1\n",
      "ml-test-server-0:55883:55903 [1] NCCL INFO Setting affinity for GPU 1 to ffffff00,0000ffff,ff000000\n",
      "ml-test-server-0:55883:55902 [0] NCCL INFO Channel 01/12 :    0   1\n",
      "ml-test-server-0:55883:55902 [0] NCCL INFO Channel 02/12 :    0   1\n",
      "ml-test-server-0:55883:55902 [0] NCCL INFO Channel 03/12 :    0   1\n",
      "ml-test-server-0:55883:55902 [0] NCCL INFO Channel 04/12 :    0   1\n",
      "ml-test-server-0:55883:55902 [0] NCCL INFO Channel 05/12 :    0   1\n",
      "ml-test-server-0:55883:55902 [0] NCCL INFO Channel 06/12 :    0   1\n",
      "ml-test-server-0:55883:55902 [0] NCCL INFO Channel 07/12 :    0   1\n",
      "ml-test-server-0:55883:55902 [0] NCCL INFO Channel 08/12 :    0   1\n",
      "ml-test-server-0:55883:55902 [0] NCCL INFO Channel 09/12 :    0   1\n",
      "ml-test-server-0:55883:55902 [0] NCCL INFO Channel 10/12 :    0   1\n",
      "ml-test-server-0:55883:55902 [0] NCCL INFO Channel 11/12 :    0   1\n",
      "ml-test-server-0:55883:55902 [0] NCCL INFO threadThresholds 8/8/64 | 16/8/64 | 8/8/64\n",
      "ml-test-server-0:55883:55902 [0] NCCL INFO Trees [0] 1/-1/-1->0->-1|-1->0->1/-1/-1 [1] 1/-1/-1->0->-1|-1->0->1/-1/-1 [2] 1/-1/-1->0->-1|-1->0->1/-1/-1 [3] -1/-1/-1->0->1|1->0->-1/-1/-1 [4] -1/-1/-1->0->1|1->0->-1/-1/-1 [5] -1/-1/-1->0->1|1->0->-1/-1/-1 [6] 1/-1/-1->0->-1|-1->0->1/-1/-1 [7] 1/-1/-1->0->-1|-1->0->1/-1/-1 [8] 1/-1/-1->0->-1|-1->0->1/-1/-1 [9] -1/-1/-1->0->1|1->0->-1/-1/-1 [10] -1/-1/-1->0->1|1->0->-1/-1/-1 [11] -1/-1/-1->0->1|1->0->-1/-1/-1\n",
      "ml-test-server-0:55883:55902 [0] NCCL INFO Setting affinity for GPU 0 to ff,ffff0000,00ffffff\n",
      "ml-test-server-0:55883:55903 [1] NCCL INFO Channel 00 : 1[bc000] -> 0[57000] via P2P/direct pointer\n",
      "ml-test-server-0:55883:55902 [0] NCCL INFO Channel 00 : 0[57000] -> 1[bc000] via P2P/direct pointer\n",
      "ml-test-server-0:55883:55903 [1] NCCL INFO Channel 01 : 1[bc000] -> 0[57000] via P2P/direct pointer\n",
      "ml-test-server-0:55883:55902 [0] NCCL INFO Channel 01 : 0[57000] -> 1[bc000] via P2P/direct pointer\n",
      "ml-test-server-0:55883:55902 [0] NCCL INFO Channel 02 : 0[57000] -> 1[bc000] via P2P/direct pointer\n",
      "ml-test-server-0:55883:55903 [1] NCCL INFO Channel 02 : 1[bc000] -> 0[57000] via P2P/direct pointer\n",
      "ml-test-server-0:55883:55902 [0] NCCL INFO Channel 03 : 0[57000] -> 1[bc000] via P2P/direct pointer\n",
      "ml-test-server-0:55883:55903 [1] NCCL INFO Channel 03 : 1[bc000] -> 0[57000] via P2P/direct pointer\n",
      "ml-test-server-0:55883:55902 [0] NCCL INFO Channel 04 : 0[57000] -> 1[bc000] via P2P/direct pointer\n",
      "ml-test-server-0:55883:55903 [1] NCCL INFO Channel 04 : 1[bc000] -> 0[57000] via P2P/direct pointer\n",
      "ml-test-server-0:55883:55902 [0] NCCL INFO Channel 05 : 0[57000] -> 1[bc000] via P2P/direct pointer\n",
      "ml-test-server-0:55883:55903 [1] NCCL INFO Channel 05 : 1[bc000] -> 0[57000] via P2P/direct pointer\n",
      "ml-test-server-0:55883:55902 [0] NCCL INFO Channel 06 : 0[57000] -> 1[bc000] via P2P/direct pointer\n",
      "ml-test-server-0:55883:55903 [1] NCCL INFO Channel 06 : 1[bc000] -> 0[57000] via P2P/direct pointer\n",
      "ml-test-server-0:55883:55902 [0] NCCL INFO Channel 07 : 0[57000] -> 1[bc000] via P2P/direct pointer\n",
      "ml-test-server-0:55883:55903 [1] NCCL INFO Channel 07 : 1[bc000] -> 0[57000] via P2P/direct pointer\n",
      "ml-test-server-0:55883:55902 [0] NCCL INFO Channel 08 : 0[57000] -> 1[bc000] via P2P/direct pointer\n",
      "ml-test-server-0:55883:55903 [1] NCCL INFO Channel 08 : 1[bc000] -> 0[57000] via P2P/direct pointer\n",
      "ml-test-server-0:55883:55902 [0] NCCL INFO Channel 09 : 0[57000] -> 1[bc000] via P2P/direct pointer\n",
      "ml-test-server-0:55883:55903 [1] NCCL INFO Channel 09 : 1[bc000] -> 0[57000] via P2P/direct pointer\n",
      "ml-test-server-0:55883:55902 [0] NCCL INFO Channel 10 : 0[57000] -> 1[bc000] via P2P/direct pointer\n",
      "ml-test-server-0:55883:55903 [1] NCCL INFO Channel 10 : 1[bc000] -> 0[57000] via P2P/direct pointer\n"
     ]
    },
    {
     "name": "stdout",
     "output_type": "stream",
     "text": [
      "ml-test-server-0:55883:55903 [1] NCCL INFO Channel 11 : 1[bc000] -> 0[57000] via P2P/direct pointer\n",
      "ml-test-server-0:55883:55902 [0] NCCL INFO Channel 11 : 0[57000] -> 1[bc000] via P2P/direct pointer\n",
      "ml-test-server-0:55883:55902 [0] NCCL INFO 12 coll channels, 16 p2p channels, 16 p2p channels per peer\n",
      "ml-test-server-0:55883:55903 [1] NCCL INFO 12 coll channels, 16 p2p channels, 16 p2p channels per peer\n",
      "ml-test-server-0:55883:55902 [0] NCCL INFO comm 0x7fc09c001060 rank 0 nranks 2 cudaDev 0 busId 57000 - Init COMPLETE\n",
      "ml-test-server-0:55883:55903 [1] NCCL INFO comm 0x7fc098001060 rank 1 nranks 2 cudaDev 1 busId bc000 - Init COMPLETE\n",
      "ml-test-server-0:55883:55883 [0] NCCL INFO Launch mode Group/CGMD\n",
      "step 9 from 5115 at epoch 1\n",
      "Loss: 1.07127046585083\n",
      "step 19 from 5115 at epoch 1\n",
      "Loss: 1.0069358348846436\n",
      "step 29 from 5115 at epoch 1\n",
      "Loss: 0.8561113476753235\n",
      "step 39 from 5115 at epoch 1\n",
      "Loss: 0.9998820424079895\n",
      "step 49 from 5115 at epoch 1\n",
      "Loss: 1.046589732170105\n",
      "step 59 from 5115 at epoch 1\n",
      "Loss: 0.9139935374259949\n"
     ]
    }
   ],
   "source": [
    "%%time\n",
    "loss = []\n",
    "loss_eval = []\n",
    "\n",
    "print(timestamp)\n",
    "print(f'Start training model {str(model)}')\n",
    "\n",
    "with open('SpinConv_identical.txt', 'a') as f:\n",
    "    f.write(f'{timestamp}\\nStart training model {str(model)}\\n' )\n",
    "\n",
    "for i in range(1, epochs):\n",
    "    loss.append(train(model, training_generator, optimizer, criterion, epoch=i, writer=writer, device=device))\n",
    "    loss_eval.append(evaluate(model, valid_generator, criterion, epoch=i, writer=writer, device=device))\n",
    "    with open('SpinConv_identical.txt', 'a') as f:\n",
    "        f.write(f'{loss[-1]}\\n{loss_eval[-1]}\\n')"
   ]
  },
  {
   "cell_type": "code",
   "execution_count": null,
   "id": "5d2af411",
   "metadata": {},
   "outputs": [],
   "source": []
  }
 ],
 "metadata": {
  "kernelspec": {
   "display_name": "ocp_models",
   "language": "python",
   "name": "ocp_models"
  },
  "language_info": {
   "codemirror_mode": {
    "name": "ipython",
    "version": 3
   },
   "file_extension": ".py",
   "mimetype": "text/x-python",
   "name": "python",
   "nbconvert_exporter": "python",
   "pygments_lexer": "ipython3",
   "version": "3.8.12"
  }
 },
 "nbformat": 4,
 "nbformat_minor": 5
}
