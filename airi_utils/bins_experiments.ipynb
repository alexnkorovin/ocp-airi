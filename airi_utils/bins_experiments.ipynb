{
 "cells": [
  {
   "cell_type": "code",
   "execution_count": 2,
   "id": "0d9b33fd",
   "metadata": {},
   "outputs": [],
   "source": [
    "import numpy as np\n",
    "import pandas as pd\n",
    "\n",
    "import torch"
   ]
  },
  {
   "cell_type": "code",
   "execution_count": 3,
   "id": "3561f95a",
   "metadata": {},
   "outputs": [],
   "source": [
    "pi_step = []\n",
    "n_steps = 10\n",
    "for i in range(n_steps+1):\n",
    "    pi_step.append(i*np.pi/n_steps)"
   ]
  },
  {
   "cell_type": "code",
   "execution_count": 4,
   "id": "94cd7a57",
   "metadata": {},
   "outputs": [],
   "source": [
    "def to_bins(array_of_dfs, pi_step=pi_step):\n",
    "    thetas = []\n",
    "\n",
    "    for df in array_of_dfs:\n",
    "        thetas_bins = pd.cut(df['edge_theta'], pi_step)\n",
    "        theta = df.groupby(thetas_bins)['edge_theta'].agg(['count'])\n",
    "        theta = torch.tensor(theta['count']).float()\n",
    "        theta = torch.reshape(theta, (1, theta.shape[0]))\n",
    "        thetas.append(theta)\n",
    "        \n",
    "    thetas = torch.cat(thetas, 0)\n",
    "    \n",
    "    return thetas"
   ]
  },
  {
   "cell_type": "code",
   "execution_count": 5,
   "id": "75a5efe2",
   "metadata": {},
   "outputs": [],
   "source": [
    "def to_bins_np(array_of_dfs, pi_step=pi_step):\n",
    "    thetas = []\n",
    "\n",
    "    for df in array_of_dfs:\n",
    "        thetas_bins = np.histogram(df['edge_theta'], bins=pi_step)[0]\n",
    "        theta = torch.tensor(thetas_bins).float()\n",
    "        theta = torch.reshape(theta, (1, theta.shape[0]))\n",
    "        thetas.append(theta)\n",
    "        \n",
    "    thetas = torch.cat(thetas, 0)\n",
    "    \n",
    "    return thetas"
   ]
  },
  {
   "cell_type": "code",
   "execution_count": 6,
   "id": "4adf4829",
   "metadata": {},
   "outputs": [],
   "source": [
    "def to_bins_torch(array_of_dfs, pi_step=pi_step):\n",
    "    thetas = []\n",
    "\n",
    "    for df in array_of_dfs:\n",
    "        theta = torch.tensor(df['edge_theta'].values)#.to('cpu')\n",
    "        theta = torch.histc(theta, bins=10, min=0, max=np.pi)\n",
    "        theta = torch.reshape(theta, (1, theta.shape[0]))\n",
    "        thetas.append(theta)\n",
    "        \n",
    "    thetas = torch.cat(thetas, 0)\n",
    "    \n",
    "    return thetas"
   ]
  },
  {
   "cell_type": "code",
   "execution_count": null,
   "id": "1d55ec52",
   "metadata": {},
   "outputs": [],
   "source": []
  }
 ],
 "metadata": {
  "kernelspec": {
   "display_name": "ocp-models-env",
   "language": "python",
   "name": "ocp-models"
  },
  "language_info": {
   "codemirror_mode": {
    "name": "ipython",
    "version": 3
   },
   "file_extension": ".py",
   "mimetype": "text/x-python",
   "name": "python",
   "nbconvert_exporter": "python",
   "pygments_lexer": "ipython3",
   "version": "3.8.10"
  }
 },
 "nbformat": 4,
 "nbformat_minor": 5
}
