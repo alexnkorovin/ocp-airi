{
 "cells": [
  {
   "cell_type": "code",
   "execution_count": 1,
   "id": "ddbd6cfb-9497-44ef-9021-6e071723c92b",
   "metadata": {
    "tags": []
   },
   "outputs": [],
   "source": [
    "import os\n",
    "\n",
    "import numpy as np\n",
    "import pandas as pd\n",
    "\n",
    "import torch\n",
    "import torch.nn.functional as F\n",
    "import torch.optim as optim\n",
    "\n",
    "from collections import Counter\n",
    "from datetime import datetime\n",
    "from torch import nn\n",
    "from torch_geometric.data import Data, DataLoader\n",
    "from torch_geometric.nn import MessagePassing, DataParallel\n",
    "from torch_scatter import scatter\n",
    "from torch.utils.tensorboard import SummaryWriter\n",
    "\n",
    "from DataClasses import lmdb_dataset, Dataset, choose_dataloader\n",
    "from ModelFunctions import my_reshape, multigpu_available, predict, train, evaluate, inference\n",
    "\n",
    "import tqdm"
   ]
  },
  {
   "cell_type": "code",
   "execution_count": 2,
   "id": "da48320d-740d-45a4-8461-7c7d48f9308a",
   "metadata": {},
   "outputs": [],
   "source": [
    "import sys\n",
    "sys.path.append(os.path.expanduser('../ocpmodels/models'))\n",
    "sys.path.append(os.path.expanduser('../../ocp_airi'))\n",
    "\n",
    "#from spinconv import spinconv\n",
    "from spinconv_with_embeds_single import spinconv"
   ]
  },
  {
   "cell_type": "code",
   "execution_count": 3,
   "id": "c94d7b71",
   "metadata": {},
   "outputs": [],
   "source": [
    "#вызывается каждый раз, когда датасет отдаёт элемент (систему)\n",
    "#делаем из данных матрицу векторов-атомов, список рёбер (edge_index) и матрицу векторов-рёбер; надо писать свою функцию для каждой сети\n",
    "def preprocessing(system):\n",
    "    keys = ['pos', 'atomic_numbers', 'cell', 'natoms', 'sid', 'y_relaxed']\n",
    "    features_dict = {}\n",
    "    for key in keys:\n",
    "        features_dict[key] = system[key]\n",
    "    return Data(**features_dict)"
   ]
  },
  {
   "cell_type": "code",
   "execution_count": 4,
   "id": "1390549d-96bd-472a-84c2-4987d409a495",
   "metadata": {},
   "outputs": [],
   "source": [
    "m_table = pd.read_csv('https://gist.githubusercontent.com/GoodmanSciences/c2dd862cd38f21b0ad36b8f96b4bf1ee/raw/1d92663004489a5b6926e944c1b3d9ec5c40900e/Periodic%2520Table%2520of%2520Elements.csv')"
   ]
  },
  {
   "cell_type": "code",
   "execution_count": 5,
   "id": "cbf0852c",
   "metadata": {},
   "outputs": [],
   "source": [
    "#config\n",
    "subsample = 'ood_both'\n",
    "batch_size = 63\n",
    "num_workers = 0\n",
    "\n",
    "features_cols = ['feature_1']\n",
    "\n",
    "target_col = 'y_relaxed'\n",
    "lr = 0.001\n",
    "epochs = 30"
   ]
  },
  {
   "cell_type": "code",
   "execution_count": 6,
   "id": "09825276",
   "metadata": {},
   "outputs": [],
   "source": [
    "# #чтобы тензор по умолчанию заводился на куде\n",
    "# if torch.cuda.is_available():\n",
    "#     torch.set_default_tensor_type('torch.cuda.FloatTensor')\n",
    "#     print('cuda')"
   ]
  },
  {
   "cell_type": "code",
   "execution_count": 7,
   "id": "0184751c",
   "metadata": {},
   "outputs": [
    {
     "name": "stdout",
     "output_type": "stream",
     "text": [
      "cuda\n"
     ]
    }
   ],
   "source": [
    "#set device\n",
    "device = torch.device('cuda' if torch.cuda.is_available() else 'cpu')  \n",
    "print(device)"
   ]
  },
  {
   "cell_type": "code",
   "execution_count": 8,
   "id": "2803a8bc",
   "metadata": {},
   "outputs": [],
   "source": [
    "#инициализируем валидационный датасет и валидационный итератор\n",
    "val_dataset_file_path = os.path.expanduser(f\"../../ocp_datasets/data/is2re/all/val_{subsample}/data.lmdb\")\n",
    "\n",
    "valid_set = Dataset(val_dataset_file_path, features_cols, target_col, preprocessing=preprocessing)\n",
    "valid_generator = choose_dataloader(valid_set, batch_size=batch_size, num_workers=num_workers)"
   ]
  },
  {
   "cell_type": "code",
   "execution_count": 9,
   "id": "868049d3",
   "metadata": {},
   "outputs": [],
   "source": [
    "try:\n",
    "    lmdb_dataset(train_dataset_file_path).describe()\n",
    "except:\n",
    "    pass"
   ]
  },
  {
   "cell_type": "code",
   "execution_count": 14,
   "id": "5d789924",
   "metadata": {},
   "outputs": [
    {
     "data": {
      "text/plain": [
       "<All keys matched successfully>"
      ]
     },
     "execution_count": 14,
     "metadata": {},
     "output_type": "execute_result"
    }
   ],
   "source": [
    "#model\n",
    "# model = spinconv(None, None, 1, otf_graph=True, regress_forces=False)\n",
    "model = spinconv(None, None, 1, otf_graph=True, regress_forces=False, custom_embedding_value=[33])\n",
    "# checkpoint = '2021-09-25-11-23-25_epoch_15_.pickle'\n",
    "# model_type = 'id'\n",
    "checkpoint = '2021-10-05-14-31-19_epoch_13_.pickle'\n",
    "model_type = 'electronegativity'\n",
    "folder = '../checkpoints_for_analysis/'\n",
    "model_chp = torch.load(folder + checkpoint,  map_location=device)\n",
    "state_dict = model_chp.module.state_dict()\n",
    "# state_dict = model_chp.state_dict()\n",
    "# new_state_dict = OrderedDict()\n",
    "# for k, v in state_dict.items():\n",
    "#     name = k[7:] # remove `module.`\n",
    "#     new_state_dict[name] = v\n",
    "if multigpu_available():\n",
    "    model = DataParallel(model)\n",
    "\n",
    "#optimizer and loss\n",
    "optimizer = optim.AdamW(model.parameters(), lr=lr)\n",
    "criterion = nn.L1Loss()\n",
    "\n",
    "#переносим на куду если она есть\n",
    "model = model.to(device)\n",
    "criterion = criterion.to(device)\n",
    "\n",
    "# model.load_state_dict(new_state_dict)\n",
    "model.load_state_dict(state_dict)"
   ]
  },
  {
   "cell_type": "code",
   "execution_count": 15,
   "id": "bf75ae15",
   "metadata": {},
   "outputs": [],
   "source": [
    "iterator = valid_generator"
   ]
  },
  {
   "cell_type": "code",
   "execution_count": 16,
   "id": "41870762",
   "metadata": {},
   "outputs": [
    {
     "name": "stderr",
     "output_type": "stream",
     "text": [
      "100%|███████████████████████████████████████████████████████████████████████████████████████████████████████████████████████████████████████████████████████████████████████████████████| 397/397 [02:34<00:00,  2.57it/s]\n"
     ]
    }
   ],
   "source": [
    "result = torch.tensor([]).to(device)\n",
    "\n",
    "multigpu_mode = multigpu_available()\n",
    "\n",
    "model.eval()\n",
    "\n",
    "with torch.no_grad():\n",
    "    for batch in tqdm.tqdm(iterator):\n",
    "        predictions, sids = predict(model, batch, multigpu_mode, device, inference=True)\n",
    "        sids = my_reshape(sids)\n",
    "        predictions = my_reshape(predictions)\n",
    "        y_true = my_reshape(batch['y_relaxed'])\n",
    "        mini_submit = torch.cat((sids, predictions, y_true), dim=1)\n",
    "        result = torch.cat((result, mini_submit))        "
   ]
  },
  {
   "cell_type": "code",
   "execution_count": 17,
   "id": "8608b38b",
   "metadata": {},
   "outputs": [],
   "source": [
    "df = pd.DataFrame(result, columns=['sid', 'pred', 'target'])"
   ]
  },
  {
   "cell_type": "code",
   "execution_count": 18,
   "id": "3fcdb530-caf1-4633-b080-ba40dcc118f3",
   "metadata": {},
   "outputs": [],
   "source": [
    "for column in ['sid', 'pred', 'target']:\n",
    "    df[column] = df[column].apply(lambda x: x.item())\n",
    "    \n",
    "df['sid'] = df['sid'].apply(int)\n",
    "df['index'] = df.index"
   ]
  },
  {
   "cell_type": "code",
   "execution_count": 19,
   "id": "d38f25b6-b2d4-477e-bb8c-2506469c8330",
   "metadata": {},
   "outputs": [],
   "source": [
    "dataset = lmdb_dataset(val_dataset_file_path)"
   ]
  },
  {
   "cell_type": "code",
   "execution_count": 20,
   "id": "68395c7e-64a5-4dd4-bf69-3f4311e387f5",
   "metadata": {},
   "outputs": [],
   "source": [
    "def get_composition(row):\n",
    "    i = int(row['index'])\n",
    "    from_lmdb = dataset[i]\n",
    "    assert(int(from_lmdb['sid']) == int(row['sid']))\n",
    "    atomic_numbers = from_lmdb['atomic_numbers']\n",
    "    counter = Counter(atomic_numbers.long().tolist())\n",
    "    composition = []\n",
    "    for key in counter:\n",
    "        element = m_table.iloc[key-1]['Symbol']\n",
    "        composition.append(element)\n",
    "        composition.append(str(counter[key]))\n",
    "    return '_'.join(composition)"
   ]
  },
  {
   "cell_type": "code",
   "execution_count": 21,
   "id": "56dd3347-dcca-40c2-8f57-157f412ee47a",
   "metadata": {},
   "outputs": [
    {
     "name": "stdout",
     "output_type": "stream",
     "text": [
      "CPU times: user 27.6 s, sys: 244 ms, total: 27.9 s\n",
      "Wall time: 27.8 s\n"
     ]
    }
   ],
   "source": [
    "%%time\n",
    "df['composition'] = df.apply(get_composition, axis=1)"
   ]
  },
  {
   "cell_type": "code",
   "execution_count": 22,
   "id": "5ce9002b-e9a1-4673-859c-e413e27bbe4a",
   "metadata": {},
   "outputs": [
    {
     "data": {
      "text/html": [
       "<div>\n",
       "<style scoped>\n",
       "    .dataframe tbody tr th:only-of-type {\n",
       "        vertical-align: middle;\n",
       "    }\n",
       "\n",
       "    .dataframe tbody tr th {\n",
       "        vertical-align: top;\n",
       "    }\n",
       "\n",
       "    .dataframe thead th {\n",
       "        text-align: right;\n",
       "    }\n",
       "</style>\n",
       "<table border=\"1\" class=\"dataframe\">\n",
       "  <thead>\n",
       "    <tr style=\"text-align: right;\">\n",
       "      <th></th>\n",
       "      <th>sid</th>\n",
       "      <th>pred</th>\n",
       "      <th>target</th>\n",
       "      <th>index</th>\n",
       "      <th>composition</th>\n",
       "    </tr>\n",
       "  </thead>\n",
       "  <tbody>\n",
       "    <tr>\n",
       "      <th>0</th>\n",
       "      <td>2574092</td>\n",
       "      <td>-0.937665</td>\n",
       "      <td>-1.500569</td>\n",
       "      <td>0</td>\n",
       "      <td>Ni_72_Sb_12_Te_24_C_1_H_1_O_1</td>\n",
       "    </tr>\n",
       "    <tr>\n",
       "      <th>1</th>\n",
       "      <td>2522358</td>\n",
       "      <td>-2.405628</td>\n",
       "      <td>-2.846116</td>\n",
       "      <td>1</td>\n",
       "      <td>Hf_40_Re_20_Ru_20_C_1_H_1_O_1</td>\n",
       "    </tr>\n",
       "    <tr>\n",
       "      <th>2</th>\n",
       "      <td>2543745</td>\n",
       "      <td>-8.981351</td>\n",
       "      <td>-1.470944</td>\n",
       "      <td>2</td>\n",
       "      <td>H_32_N_50_P_24_C_2</td>\n",
       "    </tr>\n",
       "    <tr>\n",
       "      <th>3</th>\n",
       "      <td>2573082</td>\n",
       "      <td>-3.981120</td>\n",
       "      <td>-5.303689</td>\n",
       "      <td>3</td>\n",
       "      <td>Nb_24_Co_36_Ge_12_C_2_H_3_O_2</td>\n",
       "    </tr>\n",
       "    <tr>\n",
       "      <th>4</th>\n",
       "      <td>2540810</td>\n",
       "      <td>-0.101637</td>\n",
       "      <td>1.946157</td>\n",
       "      <td>4</td>\n",
       "      <td>Nb_48_Se_72_N_1_H_2</td>\n",
       "    </tr>\n",
       "    <tr>\n",
       "      <th>...</th>\n",
       "      <td>...</td>\n",
       "      <td>...</td>\n",
       "      <td>...</td>\n",
       "      <td>...</td>\n",
       "      <td>...</td>\n",
       "    </tr>\n",
       "    <tr>\n",
       "      <th>24982</th>\n",
       "      <td>2009063</td>\n",
       "      <td>0.018295</td>\n",
       "      <td>-0.577668</td>\n",
       "      <td>24982</td>\n",
       "      <td>Pd_16_Au_48_C_1_H_1_O_1</td>\n",
       "    </tr>\n",
       "    <tr>\n",
       "      <th>24983</th>\n",
       "      <td>2541962</td>\n",
       "      <td>0.082157</td>\n",
       "      <td>0.087245</td>\n",
       "      <td>24983</td>\n",
       "      <td>Al_16_Co_32_Cr_16_C_1_H_1_O_1</td>\n",
       "    </tr>\n",
       "    <tr>\n",
       "      <th>24984</th>\n",
       "      <td>2530077</td>\n",
       "      <td>-1.922614</td>\n",
       "      <td>-1.052784</td>\n",
       "      <td>24984</td>\n",
       "      <td>Co_36_Y_36_C_1_H_1_O_1</td>\n",
       "    </tr>\n",
       "    <tr>\n",
       "      <th>24985</th>\n",
       "      <td>1445329</td>\n",
       "      <td>-5.048871</td>\n",
       "      <td>-4.045752</td>\n",
       "      <td>24985</td>\n",
       "      <td>Fe_72_N_26_C_2_H_8</td>\n",
       "    </tr>\n",
       "    <tr>\n",
       "      <th>24986</th>\n",
       "      <td>2584656</td>\n",
       "      <td>-1.083029</td>\n",
       "      <td>-0.959952</td>\n",
       "      <td>24986</td>\n",
       "      <td>Nb_18_Se_27_N_1_H_2</td>\n",
       "    </tr>\n",
       "  </tbody>\n",
       "</table>\n",
       "<p>24987 rows × 5 columns</p>\n",
       "</div>"
      ],
      "text/plain": [
       "           sid      pred    target  index                    composition\n",
       "0      2574092 -0.937665 -1.500569      0  Ni_72_Sb_12_Te_24_C_1_H_1_O_1\n",
       "1      2522358 -2.405628 -2.846116      1  Hf_40_Re_20_Ru_20_C_1_H_1_O_1\n",
       "2      2543745 -8.981351 -1.470944      2             H_32_N_50_P_24_C_2\n",
       "3      2573082 -3.981120 -5.303689      3  Nb_24_Co_36_Ge_12_C_2_H_3_O_2\n",
       "4      2540810 -0.101637  1.946157      4            Nb_48_Se_72_N_1_H_2\n",
       "...        ...       ...       ...    ...                            ...\n",
       "24982  2009063  0.018295 -0.577668  24982        Pd_16_Au_48_C_1_H_1_O_1\n",
       "24983  2541962  0.082157  0.087245  24983  Al_16_Co_32_Cr_16_C_1_H_1_O_1\n",
       "24984  2530077 -1.922614 -1.052784  24984         Co_36_Y_36_C_1_H_1_O_1\n",
       "24985  1445329 -5.048871 -4.045752  24985             Fe_72_N_26_C_2_H_8\n",
       "24986  2584656 -1.083029 -0.959952  24986            Nb_18_Se_27_N_1_H_2\n",
       "\n",
       "[24987 rows x 5 columns]"
      ]
     },
     "execution_count": 22,
     "metadata": {},
     "output_type": "execute_result"
    }
   ],
   "source": [
    "df"
   ]
  },
  {
   "cell_type": "code",
   "execution_count": 25,
   "id": "2cbeed91-2b28-4871-a373-98e19902256b",
   "metadata": {},
   "outputs": [],
   "source": [
    "df.to_csv(f'../results_csv/{model_type}_val_{subsample}.csv')"
   ]
  },
  {
   "cell_type": "code",
   "execution_count": null,
   "id": "3b947130-6571-4e5c-a963-ea55082dfda9",
   "metadata": {},
   "outputs": [],
   "source": []
  }
 ],
 "metadata": {
  "kernelspec": {
   "display_name": "ocp_models",
   "language": "python",
   "name": "ocp_models"
  },
  "language_info": {
   "codemirror_mode": {
    "name": "ipython",
    "version": 3
   },
   "file_extension": ".py",
   "mimetype": "text/x-python",
   "name": "python",
   "nbconvert_exporter": "python",
   "pygments_lexer": "ipython3",
   "version": "3.8.12"
  }
 },
 "nbformat": 4,
 "nbformat_minor": 5
}
