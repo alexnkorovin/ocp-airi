{
 "cells": [
  {
   "cell_type": "code",
   "execution_count": 1,
   "id": "ddbd6cfb-9497-44ef-9021-6e071723c92b",
   "metadata": {
    "tags": []
   },
   "outputs": [],
   "source": [
    "import os\n",
    "\n",
    "import numpy as np\n",
    "import pandas as pd\n",
    "\n",
    "import torch\n",
    "import torch.nn.functional as F\n",
    "import torch.optim as optim\n",
    "\n",
    "from collections import Counter, OrderedDict, defaultdict\n",
    "from datetime import datetime\n",
    "from torch import nn\n",
    "from torch_geometric.data import Data, DataLoader\n",
    "from torch_geometric.nn import MessagePassing, DataParallel\n",
    "from torch_scatter import scatter\n",
    "from torch.utils.tensorboard import SummaryWriter\n",
    "\n",
    "from DataClasses import lmdb_dataset, Dataset, choose_dataloader\n",
    "from ModelFunctions import my_reshape, multigpu_available, predict, train, evaluate, inference\n",
    "\n",
    "import tqdm"
   ]
  },
  {
   "cell_type": "code",
   "execution_count": 2,
   "id": "da48320d-740d-45a4-8461-7c7d48f9308a",
   "metadata": {},
   "outputs": [],
   "source": [
    "import sys\n",
    "sys.path.append(os.path.expanduser('../ocpmodels/models'))\n",
    "sys.path.append(os.path.expanduser('../../ocp_airi'))"
   ]
  },
  {
   "cell_type": "code",
   "execution_count": 3,
   "id": "c94d7b71",
   "metadata": {},
   "outputs": [],
   "source": [
    "#вызывается каждый раз, когда датасет отдаёт элемент (систему)\n",
    "#делаем из данных матрицу векторов-атомов, список рёбер (edge_index) и матрицу векторов-рёбер; надо писать свою функцию для каждой сети\n",
    "def preprocessing(system):\n",
    "    keys = ['pos', 'atomic_numbers', 'cell', 'natoms', 'sid', 'y_relaxed']\n",
    "    features_dict = {}\n",
    "    for key in keys:\n",
    "        features_dict[key] = system[key]\n",
    "    return Data(**features_dict)"
   ]
  },
  {
   "cell_type": "code",
   "execution_count": 4,
   "id": "bf47a128-daa8-40de-b7a1-6d459bdd010b",
   "metadata": {},
   "outputs": [],
   "source": [
    "#вызывается каждый раз, когда датасет отдаёт элемент (систему)\n",
    "#делаем из данных матрицу векторов-атомов, список рёбер (edge_index) и матрицу векторов-рёбер; надо писать свою функцию для каждой сети\n",
    "def preprocessing(system):\n",
    "    return system"
   ]
  },
  {
   "cell_type": "code",
   "execution_count": 5,
   "id": "1390549d-96bd-472a-84c2-4987d409a495",
   "metadata": {},
   "outputs": [],
   "source": [
    "m_table = pd.read_csv('https://gist.githubusercontent.com/GoodmanSciences/c2dd862cd38f21b0ad36b8f96b4bf1ee/raw/1d92663004489a5b6926e944c1b3d9ec5c40900e/Periodic%2520Table%2520of%2520Elements.csv')"
   ]
  },
  {
   "cell_type": "code",
   "execution_count": 6,
   "id": "52ada4e7-a3bd-4372-bbaa-5366553ab038",
   "metadata": {},
   "outputs": [],
   "source": [
    "# subsample = 'id'\n",
    "# subsample =  'val_' + subsample\n",
    "subsample = 'train'\n",
    "model_type = 'id'   #id, electronegativity, dimenetpp"
   ]
  },
  {
   "cell_type": "code",
   "execution_count": 7,
   "id": "a4e3c48d-9d86-45e8-acb1-e214f428d6df",
   "metadata": {},
   "outputs": [],
   "source": [
    "folder = '../checkpoints_for_analysis/'"
   ]
  },
  {
   "cell_type": "code",
   "execution_count": 8,
   "id": "cbf0852c",
   "metadata": {},
   "outputs": [],
   "source": [
    "#config\n",
    "batch_size = 64\n",
    "num_workers = 0\n",
    "\n",
    "features_cols = ['feature_1']\n",
    "\n",
    "target_col = 'y_relaxed'\n",
    "lr = 0.001\n",
    "epochs = 30"
   ]
  },
  {
   "cell_type": "code",
   "execution_count": 9,
   "id": "09825276",
   "metadata": {},
   "outputs": [],
   "source": [
    "# #чтобы тензор по умолчанию заводился на куде\n",
    "# if torch.cuda.is_available():\n",
    "#     torch.set_default_tensor_type('torch.cuda.FloatTensor')\n",
    "#     print('cuda')"
   ]
  },
  {
   "cell_type": "code",
   "execution_count": 10,
   "id": "0184751c",
   "metadata": {},
   "outputs": [
    {
     "name": "stdout",
     "output_type": "stream",
     "text": [
      "cuda\n"
     ]
    }
   ],
   "source": [
    "#set device\n",
    "device = torch.device('cuda' if torch.cuda.is_available() else 'cpu')  \n",
    "print(device)"
   ]
  },
  {
   "cell_type": "code",
   "execution_count": 11,
   "id": "2803a8bc",
   "metadata": {},
   "outputs": [],
   "source": [
    "#инициализируем валидационный датасет и валидационный итератор\n",
    "# val_dataset_file_path = os.path.expanduser(f\"../../ocp_datasets/data/is2re/all/{subsample}/data.lmdb\")\n",
    "val_dataset_file_path = os.path.expanduser(f\"../../ocp_datasets/data/is2re/all/{subsample}/data.lmdb\")\n",
    "\n",
    "valid_set = Dataset(val_dataset_file_path, features_cols, target_col, preprocessing=preprocessing)\n",
    "valid_generator = choose_dataloader(valid_set, batch_size=batch_size, num_workers=num_workers)"
   ]
  },
  {
   "cell_type": "code",
   "execution_count": 12,
   "id": "868049d3",
   "metadata": {},
   "outputs": [],
   "source": [
    "try:\n",
    "    lmdb_dataset(train_dataset_file_path).describe()\n",
    "except:\n",
    "    pass"
   ]
  },
  {
   "cell_type": "code",
   "execution_count": 13,
   "id": "af72518c-d2f7-421d-a4bd-39f7f49da2fc",
   "metadata": {},
   "outputs": [],
   "source": [
    "#model\n",
    "if model_type == 'id':\n",
    "    from spinconv import spinconv\n",
    "\n",
    "    model = spinconv(None, None, 1, otf_graph=True, regress_forces=False)\n",
    "    checkpoint = '2021-09-25-11-23-25_epoch_15_.pickle'\n",
    "    model_chp = torch.load(folder + checkpoint,  map_location=device)\n",
    "    state_dict = model_chp.module.state_dict()"
   ]
  },
  {
   "cell_type": "code",
   "execution_count": 14,
   "id": "74a532da-4655-470d-8c4b-6e35e7cf62cb",
   "metadata": {},
   "outputs": [],
   "source": [
    "if model_type == 'electronegativity':\n",
    "    from spinconv_with_embeds_single import spinconv\n",
    "    \n",
    "    model = spinconv(None, None, 1, otf_graph=True, regress_forces=False, custom_embedding_value=[33])\n",
    "    checkpoint = '2021-10-05-14-31-19_epoch_13_.pickle'\n",
    "    model_chp = torch.load(folder + checkpoint,  map_location=device)\n",
    "    state_dict = model_chp.module.state_dict()"
   ]
  },
  {
   "cell_type": "code",
   "execution_count": 15,
   "id": "4e45ea85-c812-49b6-aba1-4d8f188e967e",
   "metadata": {},
   "outputs": [],
   "source": [
    "if model_type == 'dimenetpp':\n",
    "    from dimenet_plus_plus import DimeNetPlusPlusWrap\n",
    "    \n",
    "    kwargs = {\n",
    "          'hidden_channels' : 256,\n",
    "          'out_emb_channels': 192,\n",
    "          'num_blocks': 3,\n",
    "          'cutoff': 6.0,\n",
    "          'num_radial': 6,\n",
    "          'num_spherical': 7,\n",
    "          'num_before_skip': 1,\n",
    "          'num_after_skip': 2,\n",
    "          'num_output_layers': 3,\n",
    "          'regress_forces': False,\n",
    "          'use_pbc': True\n",
    "        }\n",
    "    model = DimeNetPlusPlusWrap(None, None, 1, **kwargs, otf_graph=True)\n",
    "    checkpoint = 'dimenetpp_all.pt'\n",
    "    model_chp = torch.load(folder + checkpoint,  map_location=device)\n",
    "    state_dict = model_chp[\"state_dict\"]\n",
    "    new_state_dict = OrderedDict()\n",
    "    for k, v in state_dict.items():\n",
    "        name = k[7+7:] # remove `module.module.`\n",
    "        new_state_dict[name] = v\n",
    "    state_dict = new_state_dict"
   ]
  },
  {
   "cell_type": "code",
   "execution_count": 16,
   "id": "96d06e40-c845-401c-be00-a83f202c107e",
   "metadata": {},
   "outputs": [
    {
     "data": {
      "text/plain": [
       "<All keys matched successfully>"
      ]
     },
     "execution_count": 16,
     "metadata": {},
     "output_type": "execute_result"
    }
   ],
   "source": [
    "if multigpu_available():\n",
    "    model = DataParallel(model)\n",
    "\n",
    "# #optimizer and loss\n",
    "# optimizer = optim.AdamW(model.parameters(), lr=lr)\n",
    "# criterion = nn.L1Loss()\n",
    "\n",
    "#переносим на куду если она есть\n",
    "model = model.to(device)\n",
    "# criterion = criterion.to(device)\n",
    "\n",
    "# model.load_state_dict(new_state_dict)\n",
    "model.load_state_dict(state_dict)"
   ]
  },
  {
   "cell_type": "code",
   "execution_count": 17,
   "id": "bf75ae15",
   "metadata": {},
   "outputs": [],
   "source": [
    "iterator = valid_generator"
   ]
  },
  {
   "cell_type": "code",
   "execution_count": null,
   "id": "41870762",
   "metadata": {},
   "outputs": [
    {
     "name": "stderr",
     "output_type": "stream",
     "text": [
      "  2%|██▉                                                                                                                                                                               | 117/7193 [00:42<42:16,  2.79it/s]"
     ]
    }
   ],
   "source": [
    "result = torch.tensor([]).to(device)\n",
    "\n",
    "multigpu_mode = multigpu_available()\n",
    "\n",
    "model.eval()\n",
    "\n",
    "with torch.no_grad():\n",
    "    for batch in tqdm.tqdm(iterator):\n",
    "        predictions, sids = predict(model, batch, multigpu_mode, device, inference=True)\n",
    "        sids = my_reshape(sids)\n",
    "        predictions = my_reshape(predictions)\n",
    "        y_true = my_reshape(batch['y_relaxed'])\n",
    "        mini_submit = torch.cat((sids, predictions, y_true), dim=1)\n",
    "        result = torch.cat((result, mini_submit))        "
   ]
  },
  {
   "cell_type": "code",
   "execution_count": null,
   "id": "8608b38b",
   "metadata": {},
   "outputs": [],
   "source": [
    "df = pd.DataFrame(result, columns=['sid', 'pred', 'target'])"
   ]
  },
  {
   "cell_type": "code",
   "execution_count": null,
   "id": "3fcdb530-caf1-4633-b080-ba40dcc118f3",
   "metadata": {},
   "outputs": [],
   "source": [
    "for column in ['sid', 'pred', 'target']:\n",
    "    df[column] = df[column].apply(lambda x: x.item())\n",
    "    \n",
    "df['sid'] = df['sid'].apply(int)\n",
    "df['index'] = df.index"
   ]
  },
  {
   "cell_type": "code",
   "execution_count": null,
   "id": "d38f25b6-b2d4-477e-bb8c-2506469c8330",
   "metadata": {},
   "outputs": [],
   "source": [
    "dataset = lmdb_dataset(val_dataset_file_path)"
   ]
  },
  {
   "cell_type": "code",
   "execution_count": null,
   "id": "db12c483-f241-42eb-9e4a-65e8c0494190",
   "metadata": {},
   "outputs": [],
   "source": [
    "dataset.describe()"
   ]
  },
  {
   "cell_type": "code",
   "execution_count": null,
   "id": "d3705871-c993-41a9-8cdb-7669565de37c",
   "metadata": {},
   "outputs": [],
   "source": [
    "def make_composition(composition_dict):\n",
    "    composition = []\n",
    "    for key in composition_dict:\n",
    "        element = m_table.iloc[key-1]['Symbol']\n",
    "        composition.append(element)\n",
    "        composition.append(str(composition_dict[key]))\n",
    "    return composition"
   ]
  },
  {
   "cell_type": "code",
   "execution_count": null,
   "id": "68395c7e-64a5-4dd4-bf69-3f4311e387f5",
   "metadata": {},
   "outputs": [],
   "source": [
    "def get_composition(row):\n",
    "    i = int(row['index'])\n",
    "    from_lmdb = dataset[i]\n",
    "    assert(int(from_lmdb['sid']) == int(row['sid']))\n",
    "    atomic_numbers = from_lmdb['atomic_numbers']\n",
    "    tags = from_lmdb['tags']\n",
    "    cat = defaultdict(int)\n",
    "    ads = defaultdict(int)\n",
    "    for pair in zip(atomic_numbers.long().tolist(), tags.long().tolist()):\n",
    "        number = pair[0]\n",
    "        tag = pair[1]\n",
    "        if tag in [0, 1]:\n",
    "            cat[number] += 1\n",
    "        else:\n",
    "            ads[number] += 1\n",
    "    \n",
    "    cat_composition = '_'.join(make_composition(cat))\n",
    "    ads_composition = '_'.join(make_composition(ads))\n",
    "    return cat_composition + '__' + ads_composition"
   ]
  },
  {
   "cell_type": "code",
   "execution_count": null,
   "id": "014e6664-320c-49b0-a511-f61a06bccfb8",
   "metadata": {},
   "outputs": [],
   "source": [
    "def get_fixed(row):\n",
    "    i = int(row['index'])\n",
    "    from_lmdb = dataset[i]\n",
    "    assert(int(from_lmdb['sid']) == int(row['sid']))\n",
    "    tags = from_lmdb['tags']\n",
    "    counter = Counter(tags.long().tolist())\n",
    "    return counter[0]/len(tags)"
   ]
  },
  {
   "cell_type": "code",
   "execution_count": null,
   "id": "56dd3347-dcca-40c2-8f57-157f412ee47a",
   "metadata": {},
   "outputs": [],
   "source": [
    "%%time\n",
    "df['composition'] = df.apply(get_composition, axis=1)"
   ]
  },
  {
   "cell_type": "code",
   "execution_count": null,
   "id": "3e5847d9-4606-4101-8eae-1ee8eb14f3cd",
   "metadata": {},
   "outputs": [],
   "source": [
    "%%time\n",
    "df['fixed'] = df.apply(get_fixed, axis=1)"
   ]
  },
  {
   "cell_type": "code",
   "execution_count": null,
   "id": "1a58f84f-a05b-4681-82d9-abe482c2cccd",
   "metadata": {},
   "outputs": [],
   "source": [
    "np.mean(abs(df['pred']-df['target']))"
   ]
  },
  {
   "cell_type": "code",
   "execution_count": null,
   "id": "5ce9002b-e9a1-4673-859c-e413e27bbe4a",
   "metadata": {},
   "outputs": [],
   "source": [
    "df"
   ]
  },
  {
   "cell_type": "code",
   "execution_count": null,
   "id": "747073e7-c04b-4d13-b8ca-41436075432f",
   "metadata": {},
   "outputs": [],
   "source": [
    "df.to_csv(f'../results_csv/{model_type}_{subsample}.csv')"
   ]
  },
  {
   "cell_type": "code",
   "execution_count": null,
   "id": "3b947130-6571-4e5c-a963-ea55082dfda9",
   "metadata": {},
   "outputs": [],
   "source": []
  }
 ],
 "metadata": {
  "kernelspec": {
   "display_name": "ocp_models",
   "language": "python",
   "name": "ocp_models"
  },
  "language_info": {
   "codemirror_mode": {
    "name": "ipython",
    "version": 3
   },
   "file_extension": ".py",
   "mimetype": "text/x-python",
   "name": "python",
   "nbconvert_exporter": "python",
   "pygments_lexer": "ipython3",
   "version": "3.8.12"
  }
 },
 "nbformat": 4,
 "nbformat_minor": 5
}
