{
 "cells": [
  {
   "cell_type": "code",
   "execution_count": 6,
   "id": "edc40b1b-ebf6-4c21-9963-dbec9d000616",
   "metadata": {},
   "outputs": [],
   "source": [
    "import os\n",
    "import pickle\n",
    "import time\n",
    "#import torch\n",
    "\n",
    "import matplotlib.pyplot as plt\n",
    "import numpy as np\n",
    "import pandas as pd\n",
    "import seaborn as sns\n",
    "\n",
    "from tqdm import tqdm\n",
    "from DataClasses import lmdb_dataset"
   ]
  },
  {
   "cell_type": "code",
   "execution_count": 2,
   "id": "632ed979-4139-4455-85ab-6a6dfa78f7fb",
   "metadata": {},
   "outputs": [],
   "source": [
    "test_dataset_str = \"~/Documents/GitHub/ocp_datasets/data/is2re_test_challenge_2021/data.lmdb\"\n",
    "test_dataset_path = os.path.expanduser(test_dataset_str)"
   ]
  },
  {
   "cell_type": "code",
   "execution_count": 18,
   "id": "910aa1bc-17f9-4c22-b74c-244750fe96f5",
   "metadata": {},
   "outputs": [
    {
     "data": {
      "text/html": [
       "<div>\n",
       "<style scoped>\n",
       "    .dataframe tbody tr th:only-of-type {\n",
       "        vertical-align: middle;\n",
       "    }\n",
       "\n",
       "    .dataframe tbody tr th {\n",
       "        vertical-align: top;\n",
       "    }\n",
       "\n",
       "    .dataframe thead th {\n",
       "        text-align: right;\n",
       "    }\n",
       "</style>\n",
       "<table border=\"1\" class=\"dataframe\">\n",
       "  <thead>\n",
       "    <tr style=\"text-align: right;\">\n",
       "      <th></th>\n",
       "      <th>natoms</th>\n",
       "      <th>neighbors</th>\n",
       "    </tr>\n",
       "  </thead>\n",
       "  <tbody>\n",
       "    <tr>\n",
       "      <th>0</th>\n",
       "      <td>66</td>\n",
       "      <td>1554</td>\n",
       "    </tr>\n",
       "    <tr>\n",
       "      <th>1</th>\n",
       "      <td>71</td>\n",
       "      <td>2114</td>\n",
       "    </tr>\n",
       "    <tr>\n",
       "      <th>2</th>\n",
       "      <td>66</td>\n",
       "      <td>1856</td>\n",
       "    </tr>\n",
       "    <tr>\n",
       "      <th>3</th>\n",
       "      <td>75</td>\n",
       "      <td>3364</td>\n",
       "    </tr>\n",
       "    <tr>\n",
       "      <th>4</th>\n",
       "      <td>70</td>\n",
       "      <td>2628</td>\n",
       "    </tr>\n",
       "    <tr>\n",
       "      <th>...</th>\n",
       "      <td>...</td>\n",
       "      <td>...</td>\n",
       "    </tr>\n",
       "    <tr>\n",
       "      <th>119995</th>\n",
       "      <td>81</td>\n",
       "      <td>2708</td>\n",
       "    </tr>\n",
       "    <tr>\n",
       "      <th>119996</th>\n",
       "      <td>78</td>\n",
       "      <td>1814</td>\n",
       "    </tr>\n",
       "    <tr>\n",
       "      <th>119997</th>\n",
       "      <td>50</td>\n",
       "      <td>1106</td>\n",
       "    </tr>\n",
       "    <tr>\n",
       "      <th>119998</th>\n",
       "      <td>78</td>\n",
       "      <td>3511</td>\n",
       "    </tr>\n",
       "    <tr>\n",
       "      <th>119999</th>\n",
       "      <td>60</td>\n",
       "      <td>1796</td>\n",
       "    </tr>\n",
       "  </tbody>\n",
       "</table>\n",
       "<p>120000 rows × 2 columns</p>\n",
       "</div>"
      ],
      "text/plain": [
       "        natoms  neighbors\n",
       "0           66       1554\n",
       "1           71       2114\n",
       "2           66       1856\n",
       "3           75       3364\n",
       "4           70       2628\n",
       "...        ...        ...\n",
       "119995      81       2708\n",
       "119996      78       1814\n",
       "119997      50       1106\n",
       "119998      78       3511\n",
       "119999      60       1796\n",
       "\n",
       "[120000 rows x 2 columns]"
      ]
     },
     "execution_count": 18,
     "metadata": {},
     "output_type": "execute_result"
    }
   ],
   "source": [
    "metadata_str = \"~/Documents/GitHub/ocp_datasets/data/is2re_test_challenge_2021/metadata.npz\"\n",
    "metadata_path = os.path.expanduser(metadata_str)\n",
    "metadata_raw = np.load(metadata_path)\n",
    "metadata_raw.files\n",
    "# for item in metadata_raw.files:\n",
    "#     print(f'{item}: {metadata_raw[item]}')\n",
    "metadata = pd.DataFrame.from_dict(metadata_raw, orient='index').T\n",
    "metadata"
   ]
  },
  {
   "cell_type": "code",
   "execution_count": 4,
   "id": "b384179a-062e-4957-87ce-db2b50589c6e",
   "metadata": {},
   "outputs": [],
   "source": [
    "test_dataset = lmdb_dataset(test_dataset_path)"
   ]
  },
  {
   "cell_type": "code",
   "execution_count": 9,
   "id": "e35e24e8-652b-45de-b7a9-2c5dc6c43f02",
   "metadata": {},
   "outputs": [
    {
     "name": "stdout",
     "output_type": "stream",
     "text": [
      "total entries: 120000\n",
      "info for item: 0\n",
      "edge_index:............... [2, 1554]\n",
      "pos:......................   [66, 3]\n",
      "cell:..................... [1, 3, 3]\n",
      "atomic_numbers:...........      [66]\n",
      "natoms:...................        66\n",
      "cell_offsets:............. [1554, 3]\n",
      "distances:................    [1554]\n",
      "fixed:....................      [66]\n",
      "sid:......................         0\n",
      "tags:.....................      [66]\n"
     ]
    }
   ],
   "source": [
    "test_dataset.describe(0)"
   ]
  }
 ],
 "metadata": {
  "kernelspec": {
   "display_name": "ocp_models",
   "language": "python",
   "name": "ocp_models"
  },
  "language_info": {
   "codemirror_mode": {
    "name": "ipython",
    "version": 3
   },
   "file_extension": ".py",
   "mimetype": "text/x-python",
   "name": "python",
   "nbconvert_exporter": "python",
   "pygments_lexer": "ipython3",
   "version": "3.8.10"
  }
 },
 "nbformat": 4,
 "nbformat_minor": 5
}
