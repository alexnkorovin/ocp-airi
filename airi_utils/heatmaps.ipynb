{
 "cells": [
  {
   "cell_type": "code",
   "execution_count": null,
   "id": "22a7a7e4",
   "metadata": {},
   "outputs": [],
   "source": [
    "import os\n",
    "import pickle\n",
    "\n",
    "import numpy as np\n",
    "import matplotlib\n",
    "import matplotlib.pyplot as plt\n",
    "import seaborn as sns"
   ]
  },
  {
   "cell_type": "code",
   "execution_count": null,
   "id": "6790b74d",
   "metadata": {},
   "outputs": [],
   "source": [
    "def numero(filename):\n",
    "    return int(filename.split('.')[0].split('_')[-1])"
   ]
  },
  {
   "cell_type": "code",
   "execution_count": null,
   "id": "e809f6f9",
   "metadata": {},
   "outputs": [],
   "source": [
    "folder = \"../logs/heatmaps\""
   ]
  },
  {
   "cell_type": "code",
   "execution_count": null,
   "id": "4297ea84",
   "metadata": {},
   "outputs": [],
   "source": [
    "filenames = sorted(os.listdir(folder), key=numero)"
   ]
  },
  {
   "cell_type": "code",
   "execution_count": null,
   "id": "3413b5cd",
   "metadata": {},
   "outputs": [],
   "source": [
    "layer = \"module.interactions.0.conv.lin1.weight\" # \"module.lin2.weight\"\n",
    "print(numero(filename))\n",
    "for filename in filenames:\n",
    "    step_number = numero(filename)\n",
    "    if (step_number)%150 == 0:\n",
    "        print(f\"Шаг {step_number}\")\n",
    "        with open(folder + \"/\" + filename, 'rb') as  f:\n",
    "            step = pickle.load(f)\n",
    "        for name, weights in step:\n",
    "            if name == layer:\n",
    "                weights = weights.detach().cpu().numpy()\n",
    "                print(name, weights.shape)\n",
    "                try:\n",
    "                    #plt.imshow(weights, cmap='hot', interpolation='nearest')\n",
    "                    ax = sns.heatmap(weights)\n",
    "                    plt.show()\n",
    "                except:\n",
    "                    print(\"No heatmap\")"
   ]
  }
 ],
 "metadata": {
  "kernelspec": {
   "display_name": "ocp_models",
   "language": "python",
   "name": "ocp_models"
  },
  "language_info": {
   "codemirror_mode": {
    "name": "ipython",
    "version": 3
   },
   "file_extension": ".py",
   "mimetype": "text/x-python",
   "name": "python",
   "nbconvert_exporter": "python",
   "pygments_lexer": "ipython3",
   "version": "3.8.10"
  }
 },
 "nbformat": 4,
 "nbformat_minor": 5
}
