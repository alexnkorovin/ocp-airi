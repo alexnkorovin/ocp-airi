{
 "cells": [
  {
   "cell_type": "markdown",
   "id": "4823d4f8",
   "metadata": {},
   "source": [
    "# Загрузка модели и подготовка сабмита"
   ]
  },
  {
   "cell_type": "code",
   "execution_count": 1,
   "id": "be6b01c0",
   "metadata": {},
   "outputs": [],
   "source": [
    "import os\n",
    "\n",
    "import numpy as np\n",
    "import pandas as pd\n",
    "from tqdm import tqdm\n",
    "\n",
    "import torch\n",
    "import torch.nn.functional as F\n",
    "import torch.optim as optim\n",
    "\n",
    "\n",
    "from datetime import datetime\n",
    "from torch import nn\n",
    "from torch_geometric.data import Data, DataLoader\n",
    "from torch_geometric.nn import MessagePassing, DataParallel\n",
    "from torch_scatter import scatter\n",
    "from torch.utils.tensorboard import SummaryWriter\n",
    "\n",
    "from DataClasses import lmdb_dataset, Dataset, DataListLoader"
   ]
  },
  {
   "cell_type": "markdown",
   "id": "84296d62",
   "metadata": {},
   "source": [
    "В зависимости от модели в этой клетке будут разные импорты"
   ]
  },
  {
   "cell_type": "code",
   "execution_count": 2,
   "id": "942c03a0",
   "metadata": {},
   "outputs": [],
   "source": [
    "import sys\n",
    "sys.path.append(os.path.expanduser('/home/jovyan/ocp-airi/ocpmodels/models'))\n",
    "sys.path.append(os.path.expanduser('/home/jovyan/ocp-airi/'))\n",
    "\n",
    "from spinconv import spinconv"
   ]
  },
  {
   "cell_type": "markdown",
   "id": "9094b480",
   "metadata": {},
   "source": [
    "Для каждой модели надо написать свою фукнцию preproceccing(), но обязательно, чтобы в массиве keys был элемент 'sid'"
   ]
  },
  {
   "cell_type": "code",
   "execution_count": 3,
   "id": "815cf92b",
   "metadata": {},
   "outputs": [],
   "source": [
    "def preprocessing(system):\n",
    "    keys = ['sid', 'pos', 'atomic_numbers', 'cell', 'natoms']\n",
    "    features_dict = {}\n",
    "    for key in keys:\n",
    "        features_dict[key] = system[key]\n",
    "    return Data(**features_dict)"
   ]
  },
  {
   "cell_type": "markdown",
   "id": "7073aef2",
   "metadata": {},
   "source": [
    "Функция, которая расчитывает сабмит"
   ]
  },
  {
   "cell_type": "code",
   "execution_count": 4,
   "id": "b2c8b1c9",
   "metadata": {},
   "outputs": [],
   "source": [
    "def inference(model, iterator):\n",
    "    y = torch.tensor([])\n",
    "    model.eval()\n",
    "\n",
    "    with torch.no_grad():\n",
    "        for index, data_list in enumerate(tqdm(iterator)):\n",
    "            sids = torch.tensor([[data.sid] for data in data_list])\n",
    "            predictions = model(data_list).squeeze()\n",
    "            predictions = predictions.reshape((predictions.shape[0], 1)) \n",
    "\n",
    "            mini_submit = torch.cat((sids, predictions.to('cpu')), dim=1)\n",
    "            y = torch.cat((y, mini_submit))\n",
    "\n",
    "    return y"
   ]
  },
  {
   "cell_type": "code",
   "execution_count": 6,
   "id": "4bc312a5",
   "metadata": {},
   "outputs": [],
   "source": [
    "batch_size = 4\n",
    "num_workers = -1\n",
    "\n",
    "target_col = 'y_relaxed'\n",
    "features_cols = ['feature_1']"
   ]
  },
  {
   "cell_type": "code",
   "execution_count": 7,
   "id": "78d95eb1",
   "metadata": {},
   "outputs": [
    {
     "name": "stdout",
     "output_type": "stream",
     "text": [
      "cuda\n"
     ]
    }
   ],
   "source": [
    "device = torch.device('cuda' if torch.cuda.is_available() else 'cpu')  \n",
    "print(device)"
   ]
  },
  {
   "cell_type": "markdown",
   "id": "9005b766",
   "metadata": {},
   "source": [
    "Здесь мы задаем адрес чекпоинта модели, надо вставить адрес чекпоинта"
   ]
  },
  {
   "cell_type": "code",
   "execution_count": 17,
   "id": "4217192c",
   "metadata": {},
   "outputs": [],
   "source": [
    "# адрес датасета\n",
    "test_dataset_path = \"../../ocp_datasets/data/is2re_test_challenge_2021/data.lmdb\"\n",
    "# адрес чекпоинта модели\n",
    "model_adress = \"/home/jovyan/ocp-airi/airi_utils/2021-09-25-11-23-25_epoch_15_.pickle\""
   ]
  },
  {
   "cell_type": "markdown",
   "id": "03d2de5e",
   "metadata": {},
   "source": [
    "В этой клетке надо раскомментить первую строчку и закомментить вторую"
   ]
  },
  {
   "cell_type": "code",
   "execution_count": 18,
   "id": "881337ed",
   "metadata": {},
   "outputs": [],
   "source": [
    "train_dataset_file_path= os.path.expanduser(test_dataset_path)\n",
    "\n",
    "training_set = Dataset(train_dataset_file_path, features_cols, target_col, preprocessing=preprocessing)\n",
    "training_generator = DataListLoader(training_set, batch_size=batch_size)"
   ]
  },
  {
   "cell_type": "markdown",
   "id": "3ca980db",
   "metadata": {},
   "source": [
    "В этой клетке надо раскомментить первую строчку и закомментить вторую"
   ]
  },
  {
   "cell_type": "code",
   "execution_count": 10,
   "id": "7e605d86",
   "metadata": {},
   "outputs": [],
   "source": [
    "# если модель сохраняется через state_dict, то процедура загрузки модели отличается\n",
    "# https://pytorch.org/tutorials/beginner/saving_loading_models.html\n",
    "model = torch.load(model_adress)\n",
    "# model = spinconv(None, None, 1, otf_graph=True, regress_forces=False)\n",
    "\n",
    "#переносим на куду если она есть\n",
    "model = model.to(device)"
   ]
  },
  {
   "cell_type": "code",
   "execution_count": 11,
   "id": "de97c9de",
   "metadata": {},
   "outputs": [
    {
     "name": "stderr",
     "output_type": "stream",
     "text": [
      "  0%|          | 0/2500 [00:00<?, ?it/s]"
     ]
    },
    {
     "name": "stdout",
     "output_type": "stream",
     "text": [
      "ml-test-server-0:18580:18580 [0] NCCL INFO Bootstrap : Using [0]eth0:10.233.122.86<0>\n",
      "ml-test-server-0:18580:18580 [0] NCCL INFO NET/Plugin : No plugin found (libnccl-net.so), using internal implementation\n",
      "ml-test-server-0:18580:18580 [0] NCCL INFO NET/IB : No device found.\n",
      "ml-test-server-0:18580:18580 [0] NCCL INFO NET/Socket : Using [0]eth0:10.233.122.86<0>\n",
      "ml-test-server-0:18580:18580 [0] NCCL INFO Using network Socket\n",
      "NCCL version 2.7.8+cuda10.2\n",
      "ml-test-server-0:18580:18603 [0] NCCL INFO Channel 00/12 :    0   1\n",
      "ml-test-server-0:18580:18603 [0] NCCL INFO Channel 01/12 :    0   1\n",
      "ml-test-server-0:18580:18603 [0] NCCL INFO Channel 02/12 :    0   1\n",
      "ml-test-server-0:18580:18603 [0] NCCL INFO Channel 03/12 :    0   1\n",
      "ml-test-server-0:18580:18603 [0] NCCL INFO Channel 04/12 :    0   1\n",
      "ml-test-server-0:18580:18603 [0] NCCL INFO Channel 05/12 :    0   1\n",
      "ml-test-server-0:18580:18603 [0] NCCL INFO Channel 06/12 :    0   1\n",
      "ml-test-server-0:18580:18603 [0] NCCL INFO Channel 07/12 :    0   1\n",
      "ml-test-server-0:18580:18603 [0] NCCL INFO Channel 08/12 :    0   1\n",
      "ml-test-server-0:18580:18603 [0] NCCL INFO Channel 09/12 :    0   1\n",
      "ml-test-server-0:18580:18603 [0] NCCL INFO Channel 10/12 :    0   1\n",
      "ml-test-server-0:18580:18603 [0] NCCL INFO Channel 11/12 :    0   1\n",
      "ml-test-server-0:18580:18604 [1] NCCL INFO threadThresholds 8/8/64 | 16/8/64 | 8/8/64\n",
      "ml-test-server-0:18580:18604 [1] NCCL INFO Trees [0] -1/-1/-1->1->0|0->1->-1/-1/-1 [1] -1/-1/-1->1->0|0->1->-1/-1/-1 [2] -1/-1/-1->1->0|0->1->-1/-1/-1 [3] 0/-1/-1->1->-1|-1->1->0/-1/-1 [4] 0/-1/-1->1->-1|-1->1->0/-1/-1 [5] 0/-1/-1->1->-1|-1->1->0/-1/-1 [6] -1/-1/-1->1->0|0->1->-1/-1/-1 [7] -1/-1/-1->1->0|0->1->-1/-1/-1 [8] -1/-1/-1->1->0|0->1->-1/-1/-1 [9] 0/-1/-1->1->-1|-1->1->0/-1/-1 [10] 0/-1/-1->1->-1|-1->1->0/-1/-1 [11] 0/-1/-1->1->-1|-1->1->0/-1/-1\n",
      "ml-test-server-0:18580:18604 [1] NCCL INFO Setting affinity for GPU 1 to ffffff00,0000ffff,ff000000\n",
      "ml-test-server-0:18580:18603 [0] NCCL INFO threadThresholds 8/8/64 | 16/8/64 | 8/8/64\n",
      "ml-test-server-0:18580:18603 [0] NCCL INFO Trees [0] 1/-1/-1->0->-1|-1->0->1/-1/-1 [1] 1/-1/-1->0->-1|-1->0->1/-1/-1 [2] 1/-1/-1->0->-1|-1->0->1/-1/-1 [3] -1/-1/-1->0->1|1->0->-1/-1/-1 [4] -1/-1/-1->0->1|1->0->-1/-1/-1 [5] -1/-1/-1->0->1|1->0->-1/-1/-1 [6] 1/-1/-1->0->-1|-1->0->1/-1/-1 [7] 1/-1/-1->0->-1|-1->0->1/-1/-1 [8] 1/-1/-1->0->-1|-1->0->1/-1/-1 [9] -1/-1/-1->0->1|1->0->-1/-1/-1 [10] -1/-1/-1->0->1|1->0->-1/-1/-1 [11] -1/-1/-1->0->1|1->0->-1/-1/-1\n",
      "ml-test-server-0:18580:18603 [0] NCCL INFO Setting affinity for GPU 0 to ff,ffff0000,00ffffff\n",
      "ml-test-server-0:18580:18604 [1] NCCL INFO Channel 00 : 1[bc000] -> 0[57000] via P2P/direct pointer\n",
      "ml-test-server-0:18580:18603 [0] NCCL INFO Channel 00 : 0[57000] -> 1[bc000] via P2P/direct pointer\n",
      "ml-test-server-0:18580:18604 [1] NCCL INFO Channel 01 : 1[bc000] -> 0[57000] via P2P/direct pointer\n",
      "ml-test-server-0:18580:18603 [0] NCCL INFO Channel 01 : 0[57000] -> 1[bc000] via P2P/direct pointer\n",
      "ml-test-server-0:18580:18603 [0] NCCL INFO Channel 02 : 0[57000] -> 1[bc000] via P2P/direct pointer\n",
      "ml-test-server-0:18580:18604 [1] NCCL INFO Channel 02 : 1[bc000] -> 0[57000] via P2P/direct pointer\n",
      "ml-test-server-0:18580:18604 [1] NCCL INFO Channel 03 : 1[bc000] -> 0[57000] via P2P/direct pointer\n",
      "ml-test-server-0:18580:18603 [0] NCCL INFO Channel 03 : 0[57000] -> 1[bc000] via P2P/direct pointer\n",
      "ml-test-server-0:18580:18603 [0] NCCL INFO Channel 04 : 0[57000] -> 1[bc000] via P2P/direct pointer\n",
      "ml-test-server-0:18580:18604 [1] NCCL INFO Channel 04 : 1[bc000] -> 0[57000] via P2P/direct pointer\n",
      "ml-test-server-0:18580:18603 [0] NCCL INFO Channel 05 : 0[57000] -> 1[bc000] via P2P/direct pointer\n",
      "ml-test-server-0:18580:18604 [1] NCCL INFO Channel 05 : 1[bc000] -> 0[57000] via P2P/direct pointer\n",
      "ml-test-server-0:18580:18603 [0] NCCL INFO Channel 06 : 0[57000] -> 1[bc000] via P2P/direct pointer\n",
      "ml-test-server-0:18580:18604 [1] NCCL INFO Channel 06 : 1[bc000] -> 0[57000] via P2P/direct pointer\n",
      "ml-test-server-0:18580:18603 [0] NCCL INFO Channel 07 : 0[57000] -> 1[bc000] via P2P/direct pointer\n",
      "ml-test-server-0:18580:18604 [1] NCCL INFO Channel 07 : 1[bc000] -> 0[57000] via P2P/direct pointer\n",
      "ml-test-server-0:18580:18604 [1] NCCL INFO Channel 08 : 1[bc000] -> 0[57000] via P2P/direct pointer\n",
      "ml-test-server-0:18580:18603 [0] NCCL INFO Channel 08 : 0[57000] -> 1[bc000] via P2P/direct pointer\n",
      "ml-test-server-0:18580:18603 [0] NCCL INFO Channel 09 : 0[57000] -> 1[bc000] via P2P/direct pointer\n",
      "ml-test-server-0:18580:18604 [1] NCCL INFO Channel 09 : 1[bc000] -> 0[57000] via P2P/direct pointer\n",
      "ml-test-server-0:18580:18603 [0] NCCL INFO Channel 10 : 0[57000] -> 1[bc000] via P2P/direct pointer\n",
      "ml-test-server-0:18580:18604 [1] NCCL INFO Channel 10 : 1[bc000] -> 0[57000] via P2P/direct pointer\n",
      "ml-test-server-0:18580:18603 [0] NCCL INFO Channel 11 : 0[57000] -> 1[bc000] via P2P/direct pointer\n",
      "ml-test-server-0:18580:18604 [1] NCCL INFO Channel 11 : 1[bc000] -> 0[57000] via P2P/direct pointer\n",
      "ml-test-server-0:18580:18603 [0] NCCL INFO 12 coll channels, 16 p2p channels, 16 p2p channels per peer\n",
      "ml-test-server-0:18580:18604 [1] NCCL INFO 12 coll channels, 16 p2p channels, 16 p2p channels per peer\n",
      "ml-test-server-0:18580:18603 [0] NCCL INFO comm 0x7f0010001060 rank 0 nranks 2 cudaDev 0 busId 57000 - Init COMPLETE\n",
      "ml-test-server-0:18580:18604 [1] NCCL INFO comm 0x7f0014001060 rank 1 nranks 2 cudaDev 1 busId bc000 - Init COMPLETE\n",
      "ml-test-server-0:18580:18580 [0] NCCL INFO Launch mode Group/CGMD\n"
     ]
    },
    {
     "name": "stderr",
     "output_type": "stream",
     "text": [
      "100%|██████████| 2500/2500 [11:56<00:00,  3.49it/s]"
     ]
    },
    {
     "name": "stdout",
     "output_type": "stream",
     "text": [
      "CPU times: user 3min 25s, sys: 43.8 s, total: 4min 9s\n",
      "Wall time: 11min 56s\n"
     ]
    },
    {
     "name": "stderr",
     "output_type": "stream",
     "text": [
      "\n"
     ]
    }
   ],
   "source": [
    "%%time\n",
    "\n",
    "# print(f'Start training model {str(model)}')\n",
    "submission = inference(model, training_generator)"
   ]
  },
  {
   "cell_type": "code",
   "execution_count": 13,
   "id": "4b5a49db",
   "metadata": {},
   "outputs": [
    {
     "data": {
      "text/plain": [
       "tensor([[2472718.0000,     -0.5258],\n",
       "        [1747243.0000,     -1.2762],\n",
       "        [1824821.0000,     -0.0377],\n",
       "        ...,\n",
       "        [1314291.0000,     -1.3288],\n",
       "        [1972741.0000,     -3.7513],\n",
       "        [1189586.0000,     -3.9547]])"
      ]
     },
     "execution_count": 13,
     "metadata": {},
     "output_type": "execute_result"
    }
   ],
   "source": [
    "# submission = np.random.randn(2, 5)\n",
    "submission"
   ]
  },
  {
   "cell_type": "code",
   "execution_count": 14,
   "id": "22924711",
   "metadata": {},
   "outputs": [],
   "source": [
    "np.savez(\"submission.npz\", challenge_ids=submission[:, 0].int(), challenge_energy=submission[:, 1])"
   ]
  },
  {
   "cell_type": "code",
   "execution_count": 15,
   "id": "2ec6022d",
   "metadata": {},
   "outputs": [
    {
     "data": {
      "text/plain": [
       "array([2472718, 1747243, 1824821, ..., 1314291, 1972741, 1189586],\n",
       "      dtype=int32)"
      ]
     },
     "execution_count": 15,
     "metadata": {},
     "output_type": "execute_result"
    }
   ],
   "source": [
    "sub = np.load(\"submission.npz\")\n",
    "sub['challenge_ids']"
   ]
  },
  {
   "cell_type": "code",
   "execution_count": 16,
   "id": "2539be87",
   "metadata": {},
   "outputs": [
    {
     "data": {
      "text/plain": [
       "array([-0.5258029 , -1.2762375 , -0.03772031, ..., -1.3288329 ,\n",
       "       -3.7513304 , -3.9547446 ], dtype=float32)"
      ]
     },
     "execution_count": 16,
     "metadata": {},
     "output_type": "execute_result"
    }
   ],
   "source": [
    "sub['challenge_energy']"
   ]
  },
  {
   "cell_type": "code",
   "execution_count": null,
   "id": "34e49f07",
   "metadata": {},
   "outputs": [],
   "source": []
  }
 ],
 "metadata": {
  "kernelspec": {
   "display_name": "ocp_models",
   "language": "python",
   "name": "ocp_models"
  },
  "language_info": {
   "codemirror_mode": {
    "name": "ipython",
    "version": 3
   },
   "file_extension": ".py",
   "mimetype": "text/x-python",
   "name": "python",
   "nbconvert_exporter": "python",
   "pygments_lexer": "ipython3",
   "version": "3.8.12"
  }
 },
 "nbformat": 4,
 "nbformat_minor": 5
}
