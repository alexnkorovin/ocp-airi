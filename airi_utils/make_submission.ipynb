{
 "cells": [
  {
   "cell_type": "markdown",
   "id": "4823d4f8",
   "metadata": {},
   "source": [
    "# Загрузка модели и подготовка сабмита"
   ]
  },
  {
   "cell_type": "code",
   "execution_count": 1,
   "id": "be6b01c0",
   "metadata": {},
   "outputs": [],
   "source": [
    "import os\n",
    "\n",
    "import numpy as np\n",
    "import pandas as pd\n",
    "from tqdm import tqdm\n",
    "\n",
    "import torch\n",
    "import torch.nn.functional as F\n",
    "import torch.optim as optim\n",
    "\n",
    "\n",
    "from datetime import datetime\n",
    "from torch import nn\n",
    "from torch_geometric.data import Data, DataLoader\n",
    "from torch_geometric.nn import MessagePassing, DataParallel\n",
    "from torch_scatter import scatter\n",
    "from torch.utils.tensorboard import SummaryWriter\n",
    "\n",
    "from DataClasses import lmdb_dataset, Dataset, DataListLoader"
   ]
  },
  {
   "cell_type": "markdown",
   "id": "84296d62",
   "metadata": {},
   "source": [
    "В зависимости от модели в этой клетке будут разные импорты"
   ]
  },
  {
   "cell_type": "code",
   "execution_count": 2,
   "id": "9d5bb311-e577-4fec-aa38-0ea9ceebd9c9",
   "metadata": {},
   "outputs": [],
   "source": [
    "import sys\n",
    "sys.path.append(os.path.expanduser('../../ocp_airi/ocpmodels/models'))\n",
    "sys.path.append(os.path.expanduser('../../ocp_airi/'))\n",
    "\n",
    "#from spinconv_with_solid_angles import spinconv\n",
    "from spinconv_with_embeds_single import spinconv"
   ]
  },
  {
   "cell_type": "markdown",
   "id": "9094b480",
   "metadata": {},
   "source": [
    "Для каждой модели надо написать свою фукнцию preproceccing(), но обязательно, чтобы в массиве keys был элемент 'sid'"
   ]
  },
  {
   "cell_type": "code",
   "execution_count": 3,
   "id": "815cf92b",
   "metadata": {},
   "outputs": [],
   "source": [
    "#вызывается каждый раз, когда датасет отдаёт элемент (систему)\n",
    "#делаем из данных матрицу векторов-атомов, список рёбер (edge_index) и матрицу векторов-рёбер; надо писать свою функцию для каждой сети\n",
    "def preprocessing(system):\n",
    "    # keys = ['sid', 'pos', 'atomic_numbers', 'cell', 'natoms']\n",
    "    # features_dict = {}\n",
    "    # for key in keys:\n",
    "    #     features_dict[key] = system[key]\n",
    "    return system"
   ]
  },
  {
   "cell_type": "markdown",
   "id": "7073aef2",
   "metadata": {},
   "source": [
    "Функция, которая расчитывает сабмит"
   ]
  },
  {
   "cell_type": "code",
   "execution_count": 4,
   "id": "b2c8b1c9",
   "metadata": {},
   "outputs": [],
   "source": [
    "def inference(model, iterator):\n",
    "    y = torch.tensor([])\n",
    "    model.eval()\n",
    "\n",
    "    with torch.no_grad():\n",
    "        for index, data_list in enumerate(tqdm(iterator)):\n",
    "            sids = torch.tensor([[data.sid] for data in data_list])\n",
    "            predictions = model(data_list).squeeze()\n",
    "            predictions = predictions.reshape((predictions.shape[0], 1)) \n",
    "\n",
    "            mini_submit = torch.cat((sids, predictions.to('cpu')), dim=1)\n",
    "            y = torch.cat((y, mini_submit))\n",
    "\n",
    "    return y"
   ]
  },
  {
   "cell_type": "code",
   "execution_count": 5,
   "id": "4bc312a5",
   "metadata": {},
   "outputs": [],
   "source": [
    "batch_size = 40\n",
    "num_workers = -1\n",
    "\n",
    "target_col = 'y_relaxed'\n",
    "features_cols = ['feature_1']"
   ]
  },
  {
   "cell_type": "code",
   "execution_count": 6,
   "id": "78d95eb1",
   "metadata": {},
   "outputs": [
    {
     "name": "stdout",
     "output_type": "stream",
     "text": [
      "cuda\n"
     ]
    }
   ],
   "source": [
    "device = torch.device('cuda' if torch.cuda.is_available() else 'cpu')  \n",
    "print(device)"
   ]
  },
  {
   "cell_type": "markdown",
   "id": "9005b766",
   "metadata": {},
   "source": [
    "Здесь мы задаем адрес чекпоинта модели, надо вставить адрес чекпоинта"
   ]
  },
  {
   "cell_type": "code",
   "execution_count": 14,
   "id": "b993d711-3a29-48e9-b533-46c7905a52d0",
   "metadata": {},
   "outputs": [],
   "source": [
    "# адрес датасета\n",
    "test_dataset_path = \"../../ocp_datasets/data/is2re_test_challenge_2021/data.lmdb\"\n",
    "# test_dataset_path = \"../../ocp_datasets/data/is2re_test_challenge_2021/data_mod1.lmdbz\"\n",
    "# test_dataset_path = \"../../ocp_datasets/data/is2re/10k/train/data_mod1.lmdbz\"\n",
    "\n",
    "# адрес чекпоинта модели\n",
    "model_adress = \"2021-10-05-14-31-19_epoch_8_.pickle\""
   ]
  },
  {
   "cell_type": "raw",
   "id": "93792d79-bff6-421c-a7b4-847a31c8dfb4",
   "metadata": {},
   "source": [
    "# адрес датасета\n",
    "test_dataset_path = \"../../ocp_datasets/data/is2re_test_challenge_2021/data.lmdb\"\n",
    "# test_dataset_path = \"../../ocp_datasets/data/is2re/10k/train/data_mod1.lmdbz\"\n",
    "\n",
    "# адрес чекпоинта модели\n",
    "model_adress = \"../../ocp_airi/checkpoints/2021-10-05-14-31-19_epoch_6_.pickle\""
   ]
  },
  {
   "cell_type": "markdown",
   "id": "03d2de5e",
   "metadata": {},
   "source": [
    "В этой клетке надо раскомментить первую строчку и закомментить вторую"
   ]
  },
  {
   "cell_type": "code",
   "execution_count": 15,
   "id": "6413368b-adb4-4afe-bf85-0477d0ae5e38",
   "metadata": {},
   "outputs": [],
   "source": [
    "train_dataset_file_path = os.path.expanduser(test_dataset_path)"
   ]
  },
  {
   "cell_type": "code",
   "execution_count": 16,
   "id": "14498238-2dba-4543-9933-ab803a0bb108",
   "metadata": {},
   "outputs": [
    {
     "data": {
      "text/plain": [
       "120000"
      ]
     },
     "execution_count": 16,
     "metadata": {},
     "output_type": "execute_result"
    }
   ],
   "source": [
    "train_dataset_file = lmdb_dataset(train_dataset_file_path)\n",
    "# train_dataset_file.iloc(64509, 64517)\n",
    "len(train_dataset_file)"
   ]
  },
  {
   "cell_type": "code",
   "execution_count": 17,
   "id": "fc0f5b1f-2527-4a68-83e7-5a8efcab6c96",
   "metadata": {},
   "outputs": [
    {
     "name": "stdout",
     "output_type": "stream",
     "text": [
      "total entries: 120000\n",
      "info for item: 5\n",
      "edge_index:...............<class 'torch.Tensor'>..... [2, 3368]\n",
      "pos:......................<class 'torch.Tensor'>.....   [78, 3]\n",
      "cell:.....................<class 'torch.Tensor'>..... [1, 3, 3]\n",
      "atomic_numbers:...........<class 'torch.Tensor'>.....      [78]\n",
      "natoms:...................       <class 'int'>.....        78\n",
      "cell_offsets:.............<class 'torch.Tensor'>..... [3368, 3]\n",
      "distances:................<class 'torch.Tensor'>.....    [3368]\n",
      "fixed:....................<class 'torch.Tensor'>.....      [78]\n",
      "sid:......................       <class 'int'>.....     10039\n",
      "tags:.....................<class 'torch.Tensor'>.....      [78]\n"
     ]
    }
   ],
   "source": [
    "train_dataset_file.describe(5)"
   ]
  },
  {
   "cell_type": "code",
   "execution_count": 18,
   "id": "b29f411a-64cc-4b93-af58-e6f52f6a9497",
   "metadata": {},
   "outputs": [],
   "source": [
    "training_set = Dataset(train_dataset_file, features_cols, target_col, preprocessing=preprocessing, type_='test')\n",
    "training_generator = DataListLoader(training_set, batch_size=batch_size)"
   ]
  },
  {
   "cell_type": "markdown",
   "id": "3ca980db",
   "metadata": {},
   "source": [
    "В этой клетке надо раскомментить первую строчку и закомментить вторую"
   ]
  },
  {
   "cell_type": "code",
   "execution_count": 19,
   "id": "7e605d86",
   "metadata": {},
   "outputs": [],
   "source": [
    "# если модель сохраняется через state_dict, то процедура загрузки модели отличается\n",
    "# https://pytorch.org/tutorials/beginner/saving_loading_models.html\n",
    "model = torch.load(model_adress)\n",
    "# model = spinconv(None, None, 1, otf_graph=True, regress_forces=False)\n",
    "\n",
    "#переносим на куду если она есть\n",
    "model = model.to(device)"
   ]
  },
  {
   "cell_type": "code",
   "execution_count": 20,
   "id": "de97c9de",
   "metadata": {},
   "outputs": [
    {
     "name": "stderr",
     "output_type": "stream",
     "text": [
      "100%|█████████████████████████████████████████████████████████████████████████████████████████████████████████████████████████████████████████████████████████████████████████████████| 3000/3000 [23:24<00:00,  2.14it/s]"
     ]
    },
    {
     "name": "stdout",
     "output_type": "stream",
     "text": [
      "CPU times: user 5h 31min 10s, sys: 3h 45min 36s, total: 9h 16min 47s\n",
      "Wall time: 23min 24s\n"
     ]
    },
    {
     "name": "stderr",
     "output_type": "stream",
     "text": [
      "\n"
     ]
    }
   ],
   "source": [
    "%%time\n",
    "\n",
    "# print(f'Start training model {str(model)}')\n",
    "submission = inference(model, training_generator)"
   ]
  },
  {
   "cell_type": "code",
   "execution_count": 21,
   "id": "4b5a49db",
   "metadata": {},
   "outputs": [
    {
     "data": {
      "text/plain": [
       "tensor([ 1.0000, -1.0484])"
      ]
     },
     "execution_count": 21,
     "metadata": {},
     "output_type": "execute_result"
    }
   ],
   "source": [
    "# submission = np.random.randn(2, 5)\n",
    "submission[1]"
   ]
  },
  {
   "cell_type": "code",
   "execution_count": null,
   "id": "b9c9157f-cbf1-4138-9b8d-95f80055d801",
   "metadata": {},
   "outputs": [],
   "source": []
  },
  {
   "cell_type": "code",
   "execution_count": 22,
   "id": "22924711",
   "metadata": {},
   "outputs": [],
   "source": [
    "np.savez(\"2021-10-05-14-31-19_epoch_8_.npz\", challenge_ids=submission[:, 0].int(), challenge_energy=submission[:, 1])"
   ]
  },
  {
   "cell_type": "code",
   "execution_count": null,
   "id": "2ec6022d",
   "metadata": {},
   "outputs": [],
   "source": [
    "sub = np.load(\"2021-10-03-20-12-13_SpinConv_SolidAngles_submission.npz\")\n",
    "sub['challenge_ids'][1]"
   ]
  },
  {
   "cell_type": "code",
   "execution_count": null,
   "id": "2539be87",
   "metadata": {},
   "outputs": [],
   "source": [
    "sub['challenge_energy'][1]"
   ]
  },
  {
   "cell_type": "code",
   "execution_count": null,
   "id": "34e49f07",
   "metadata": {},
   "outputs": [],
   "source": []
  }
 ],
 "metadata": {
  "kernelspec": {
   "display_name": "ocp_models",
   "language": "python",
   "name": "ocp_models"
  },
  "language_info": {
   "codemirror_mode": {
    "name": "ipython",
    "version": 3
   },
   "file_extension": ".py",
   "mimetype": "text/x-python",
   "name": "python",
   "nbconvert_exporter": "python",
   "pygments_lexer": "ipython3",
   "version": "3.8.12"
  }
 },
 "nbformat": 4,
 "nbformat_minor": 5
}
