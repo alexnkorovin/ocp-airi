{
 "cells": [
  {
   "cell_type": "markdown",
   "id": "9c4e1e7e",
   "metadata": {},
   "source": [
    "# Загрузка модели и подготовка сабмита"
   ]
  },
  {
   "cell_type": "code",
   "execution_count": 8,
   "id": "85d8609a",
   "metadata": {},
   "outputs": [],
   "source": [
    "import os\n",
    "\n",
    "import numpy as np\n",
    "import pandas as pd\n",
    "from tqdm import tqdm\n",
    "\n",
    "import torch\n",
    "import torch.nn.functional as F\n",
    "import torch.optim as optim\n",
    "\n",
    "\n",
    "from datetime import datetime\n",
    "from torch import nn\n",
    "from torch_geometric.data import Data, DataLoader\n",
    "from torch_geometric.nn import MessagePassing, DataParallel\n",
    "from torch_scatter import scatter\n",
    "from torch.utils.tensorboard import SummaryWriter\n",
    "\n",
    "from DataClasses import lmdb_dataset, Dataset, DataListLoader"
   ]
  },
  {
   "cell_type": "code",
   "execution_count": 9,
   "id": "f9da36e0",
   "metadata": {},
   "outputs": [],
   "source": [
    "import sys\n",
    "sys.path.append(os.path.expanduser('/home/jovyan/ocp-airi/ocpmodels/models'))\n",
    "sys.path.append(os.path.expanduser('/home/jovyan/ocp-airi/'))\n",
    "\n",
    "from spinconv import spinconv"
   ]
  },
  {
   "cell_type": "markdown",
   "id": "a1cd15fe",
   "metadata": {},
   "source": [
    "Для каждой модели надо написать свою фукнцию preproceccing(), но в обязательно, чтобы в массиве keys был элемент 'sid'"
   ]
  },
  {
   "cell_type": "code",
   "execution_count": 10,
   "id": "c355b7e3",
   "metadata": {},
   "outputs": [],
   "source": [
    "def preprocessing(system):\n",
    "    keys = ['sid','pos', 'atomic_numbers', 'cell', 'natoms']\n",
    "    features_dict = {}\n",
    "    for key in keys:\n",
    "        features_dict[key] = system[key]\n",
    "    return Data(**features_dict)"
   ]
  },
  {
   "cell_type": "code",
   "execution_count": 11,
   "id": "8d021d21",
   "metadata": {},
   "outputs": [],
   "source": [
    "def inference(model, iterator):\n",
    "    y = torch.tensor([])\n",
    "    model.eval()\n",
    "\n",
    "    with torch.no_grad():\n",
    "        for index, data_list in enumerate(tqdm(iterator)):\n",
    "            sids = torch.tensor([[data.sid] for data in data_list])\n",
    "            predictions = model(data_list).squeeze()\n",
    "            predictions = predictions.reshape((predictions.shape[0], 1)) \n",
    "\n",
    "            mini_submit = torch.cat((sids, predictions.to('cpu')), dim=1)\n",
    "            y = torch.cat((y, mini_submit))\n",
    "\n",
    "    return y"
   ]
  },
  {
   "cell_type": "code",
   "execution_count": 12,
   "id": "bfc44616",
   "metadata": {},
   "outputs": [],
   "source": [
    "batch_size = 2\n",
    "num_workers = -1\n",
    "\n",
    "target_col = 'y_relaxed'\n",
    "features_cols = ['feature_1']"
   ]
  },
  {
   "cell_type": "code",
   "execution_count": 13,
   "id": "ad1a2c6a",
   "metadata": {},
   "outputs": [
    {
     "name": "stdout",
     "output_type": "stream",
     "text": [
      "cuda\n"
     ]
    }
   ],
   "source": [
    "device = torch.device('cuda' if torch.cuda.is_available() else 'cpu')  \n",
    "print(device)"
   ]
  },
  {
   "cell_type": "markdown",
   "id": "250051af",
   "metadata": {},
   "source": [
    "Здесь мы задаем адрес чекпоинта модели и адрес датасета. Надо вставить их адреса"
   ]
  },
  {
   "cell_type": "code",
   "execution_count": 16,
   "id": "8a0ef535",
   "metadata": {},
   "outputs": [],
   "source": [
    "test_dataset_link = \"dataset_adress\"\n",
    "model_adress = \"your_model_adress\""
   ]
  },
  {
   "cell_type": "markdown",
   "id": "99c8c31a",
   "metadata": {},
   "source": [
    "В этой клетке надо раскомментить первую строчку и закомментить вторую"
   ]
  },
  {
   "cell_type": "code",
   "execution_count": 17,
   "id": "b48ee32b",
   "metadata": {},
   "outputs": [],
   "source": [
    "# train_dataset_file_path= os.path.expanduser(test_dataset_link)\n",
    "train_dataset_file_path= os.path.expanduser(\"../../ocp_datasets/data/is2re/10k/train/data_mod2.lmdbz\")\n",
    "\n",
    "training_set = Dataset(train_dataset_file_path, features_cols, target_col, preprocessing=preprocessing)\n",
    "training_generator = DataListLoader(training_set, batch_size=batch_size)"
   ]
  },
  {
   "cell_type": "markdown",
   "id": "b6d95140",
   "metadata": {},
   "source": [
    "В этой клетке надо раскомментить первую строчку и закомментить вторую"
   ]
  },
  {
   "cell_type": "code",
   "execution_count": 18,
   "id": "a24b901c",
   "metadata": {},
   "outputs": [],
   "source": [
    "# model = torch.load(model_adress)\n",
    "model = spinconv(None, None, 1, otf_graph=True, regress_forces=False)\n",
    "model = DataParallel(model)\n",
    "\n",
    "#переносим на куду если она есть\n",
    "model = model.to(device)"
   ]
  },
  {
   "cell_type": "code",
   "execution_count": 19,
   "id": "45d43649",
   "metadata": {},
   "outputs": [
    {
     "name": "stderr",
     "output_type": "stream",
     "text": [
      "  0%|          | 0/5000 [00:00<?, ?it/s]"
     ]
    },
    {
     "name": "stdout",
     "output_type": "stream",
     "text": [
      "ml-test-server-0:78871:78871 [0] NCCL INFO Bootstrap : Using [0]eth0:10.233.122.86<0>\n",
      "ml-test-server-0:78871:78871 [0] NCCL INFO NET/Plugin : No plugin found (libnccl-net.so), using internal implementation\n",
      "ml-test-server-0:78871:78871 [0] NCCL INFO NET/IB : No device found.\n",
      "ml-test-server-0:78871:78871 [0] NCCL INFO NET/Socket : Using [0]eth0:10.233.122.86<0>\n",
      "ml-test-server-0:78871:78871 [0] NCCL INFO Using network Socket\n",
      "NCCL version 2.7.8+cuda10.2\n",
      "ml-test-server-0:78871:78947 [1] NCCL INFO threadThresholds 8/8/64 | 16/8/64 | 8/8/64\n",
      "ml-test-server-0:78871:78947 [1] NCCL INFO Trees [0] -1/-1/-1->1->0|0->1->-1/-1/-1 [1] -1/-1/-1->1->0|0->1->-1/-1/-1 [2] -1/-1/-1->1->0|0->1->-1/-1/-1 [3] 0/-1/-1->1->-1|-1->1->0/-1/-1 [4] 0/-1/-1->1->-1|-1->1->0/-1/-1 [5] 0/-1/-1->1->-1|-1->1->0/-1/-1 [6] -1/-1/-1->1->0|0->1->-1/-1/-1 [7] -1/-1/-1->1->0|0->1->-1/-1/-1 [8] -1/-1/-1->1->0|0->1->-1/-1/-1 [9] 0/-1/-1->1->-1|-1->1->0/-1/-1 [10] 0/-1/-1->1->-1|-1->1->0/-1/-1 [11] 0/-1/-1->1->-1|-1->1->0/-1/-1\n",
      "ml-test-server-0:78871:78947 [1] NCCL INFO Setting affinity for GPU 1 to ffffff00,0000ffff,ff000000\n",
      "ml-test-server-0:78871:78946 [0] NCCL INFO Channel 00/12 :    0   1\n",
      "ml-test-server-0:78871:78946 [0] NCCL INFO Channel 01/12 :    0   1\n",
      "ml-test-server-0:78871:78946 [0] NCCL INFO Channel 02/12 :    0   1\n",
      "ml-test-server-0:78871:78946 [0] NCCL INFO Channel 03/12 :    0   1\n",
      "ml-test-server-0:78871:78946 [0] NCCL INFO Channel 04/12 :    0   1\n",
      "ml-test-server-0:78871:78946 [0] NCCL INFO Channel 05/12 :    0   1\n",
      "ml-test-server-0:78871:78946 [0] NCCL INFO Channel 06/12 :    0   1\n",
      "ml-test-server-0:78871:78946 [0] NCCL INFO Channel 07/12 :    0   1\n",
      "ml-test-server-0:78871:78946 [0] NCCL INFO Channel 08/12 :    0   1\n",
      "ml-test-server-0:78871:78946 [0] NCCL INFO Channel 09/12 :    0   1\n",
      "ml-test-server-0:78871:78946 [0] NCCL INFO Channel 10/12 :    0   1\n",
      "ml-test-server-0:78871:78946 [0] NCCL INFO Channel 11/12 :    0   1\n",
      "ml-test-server-0:78871:78946 [0] NCCL INFO threadThresholds 8/8/64 | 16/8/64 | 8/8/64\n",
      "ml-test-server-0:78871:78946 [0] NCCL INFO Trees [0] 1/-1/-1->0->-1|-1->0->1/-1/-1 [1] 1/-1/-1->0->-1|-1->0->1/-1/-1 [2] 1/-1/-1->0->-1|-1->0->1/-1/-1 [3] -1/-1/-1->0->1|1->0->-1/-1/-1 [4] -1/-1/-1->0->1|1->0->-1/-1/-1 [5] -1/-1/-1->0->1|1->0->-1/-1/-1 [6] 1/-1/-1->0->-1|-1->0->1/-1/-1 [7] 1/-1/-1->0->-1|-1->0->1/-1/-1 [8] 1/-1/-1->0->-1|-1->0->1/-1/-1 [9] -1/-1/-1->0->1|1->0->-1/-1/-1 [10] -1/-1/-1->0->1|1->0->-1/-1/-1 [11] -1/-1/-1->0->1|1->0->-1/-1/-1\n",
      "ml-test-server-0:78871:78946 [0] NCCL INFO Setting affinity for GPU 0 to ff,ffff0000,00ffffff\n",
      "ml-test-server-0:78871:78947 [1] NCCL INFO Channel 00 : 1[bc000] -> 0[57000] via P2P/direct pointer\n",
      "ml-test-server-0:78871:78946 [0] NCCL INFO Channel 00 : 0[57000] -> 1[bc000] via P2P/direct pointer\n",
      "ml-test-server-0:78871:78947 [1] NCCL INFO Channel 01 : 1[bc000] -> 0[57000] via P2P/direct pointer\n",
      "ml-test-server-0:78871:78946 [0] NCCL INFO Channel 01 : 0[57000] -> 1[bc000] via P2P/direct pointer\n",
      "ml-test-server-0:78871:78947 [1] NCCL INFO Channel 02 : 1[bc000] -> 0[57000] via P2P/direct pointer\n",
      "ml-test-server-0:78871:78946 [0] NCCL INFO Channel 02 : 0[57000] -> 1[bc000] via P2P/direct pointer\n",
      "ml-test-server-0:78871:78947 [1] NCCL INFO Channel 03 : 1[bc000] -> 0[57000] via P2P/direct pointer\n",
      "ml-test-server-0:78871:78946 [0] NCCL INFO Channel 03 : 0[57000] -> 1[bc000] via P2P/direct pointer\n",
      "ml-test-server-0:78871:78946 [0] NCCL INFO Channel 04 : 0[57000] -> 1[bc000] via P2P/direct pointer\n",
      "ml-test-server-0:78871:78947 [1] NCCL INFO Channel 04 : 1[bc000] -> 0[57000] via P2P/direct pointer\n",
      "ml-test-server-0:78871:78946 [0] NCCL INFO Channel 05 : 0[57000] -> 1[bc000] via P2P/direct pointer\n",
      "ml-test-server-0:78871:78947 [1] NCCL INFO Channel 05 : 1[bc000] -> 0[57000] via P2P/direct pointer\n",
      "ml-test-server-0:78871:78947 [1] NCCL INFO Channel 06 : 1[bc000] -> 0[57000] via P2P/direct pointer\n",
      "ml-test-server-0:78871:78946 [0] NCCL INFO Channel 06 : 0[57000] -> 1[bc000] via P2P/direct pointer\n",
      "ml-test-server-0:78871:78947 [1] NCCL INFO Channel 07 : 1[bc000] -> 0[57000] via P2P/direct pointer\n",
      "ml-test-server-0:78871:78946 [0] NCCL INFO Channel 07 : 0[57000] -> 1[bc000] via P2P/direct pointer\n",
      "ml-test-server-0:78871:78947 [1] NCCL INFO Channel 08 : 1[bc000] -> 0[57000] via P2P/direct pointer\n",
      "ml-test-server-0:78871:78946 [0] NCCL INFO Channel 08 : 0[57000] -> 1[bc000] via P2P/direct pointer\n",
      "ml-test-server-0:78871:78947 [1] NCCL INFO Channel 09 : 1[bc000] -> 0[57000] via P2P/direct pointer\n",
      "ml-test-server-0:78871:78946 [0] NCCL INFO Channel 09 : 0[57000] -> 1[bc000] via P2P/direct pointer\n",
      "ml-test-server-0:78871:78947 [1] NCCL INFO Channel 10 : 1[bc000] -> 0[57000] via P2P/direct pointer\n",
      "ml-test-server-0:78871:78946 [0] NCCL INFO Channel 10 : 0[57000] -> 1[bc000] via P2P/direct pointer\n",
      "ml-test-server-0:78871:78946 [0] NCCL INFO Channel 11 : 0[57000] -> 1[bc000] via P2P/direct pointer\n",
      "ml-test-server-0:78871:78947 [1] NCCL INFO Channel 11 : 1[bc000] -> 0[57000] via P2P/direct pointer\n",
      "ml-test-server-0:78871:78947 [1] NCCL INFO 12 coll channels, 16 p2p channels, 16 p2p channels per peer\n",
      "ml-test-server-0:78871:78946 [0] NCCL INFO 12 coll channels, 16 p2p channels, 16 p2p channels per peer\n",
      "ml-test-server-0:78871:78947 [1] NCCL INFO comm 0x7fb438001060 rank 1 nranks 2 cudaDev 1 busId bc000 - Init COMPLETE\n",
      "ml-test-server-0:78871:78946 [0] NCCL INFO comm 0x7fb504001060 rank 0 nranks 2 cudaDev 0 busId 57000 - Init COMPLETE\n",
      "ml-test-server-0:78871:78871 [0] NCCL INFO Launch mode Group/CGMD\n"
     ]
    },
    {
     "name": "stderr",
     "output_type": "stream",
     "text": [
      "100%|██████████| 5000/5000 [13:07<00:00,  6.35it/s]"
     ]
    },
    {
     "name": "stdout",
     "output_type": "stream",
     "text": [
      "CPU times: user 15min 31s, sys: 4min, total: 19min 32s\n",
      "Wall time: 13min 7s\n"
     ]
    },
    {
     "name": "stderr",
     "output_type": "stream",
     "text": [
      "\n"
     ]
    }
   ],
   "source": [
    "%%time\n",
    "\n",
    "# print(f'Start training model {str(model)}')\n",
    "submission = inference(model, training_generator)"
   ]
  },
  {
   "cell_type": "code",
   "execution_count": 20,
   "id": "ae6d3c3d",
   "metadata": {},
   "outputs": [
    {
     "data": {
      "text/plain": [
       "tensor([[2472718.0000,     3.3918],\n",
       "        [1747243.0000,     3.3450],\n",
       "        [1824821.0000,     2.6289],\n",
       "        ...,\n",
       "        [1314291.0000,     3.1283],\n",
       "        [1972741.0000,     3.8214],\n",
       "        [1189586.0000,     4.4791]])"
      ]
     },
     "execution_count": 20,
     "metadata": {},
     "output_type": "execute_result"
    }
   ],
   "source": [
    "# submission = np.random.randn(2, 5)\n",
    "submission"
   ]
  },
  {
   "cell_type": "code",
   "execution_count": 29,
   "id": "feaff3b4",
   "metadata": {},
   "outputs": [],
   "source": [
    "np.savez(\"submission.npz\", challenge_ids=submission[:, 0].int(), challenge_energy=submission[:, 1])"
   ]
  },
  {
   "cell_type": "code",
   "execution_count": 30,
   "id": "740b4676",
   "metadata": {},
   "outputs": [
    {
     "data": {
      "text/plain": [
       "array([2472718, 1747243, 1824821, ..., 1314291, 1972741, 1189586],\n",
       "      dtype=int32)"
      ]
     },
     "execution_count": 30,
     "metadata": {},
     "output_type": "execute_result"
    }
   ],
   "source": [
    "sub = np.load(\"submission.npz\")\n",
    "sub['challenge_ids']"
   ]
  },
  {
   "cell_type": "code",
   "execution_count": 31,
   "id": "fbada7d3",
   "metadata": {},
   "outputs": [
    {
     "data": {
      "text/plain": [
       "array([3.3918228, 3.3449738, 2.6289148, ..., 3.128327 , 3.8213568,\n",
       "       4.479097 ], dtype=float32)"
      ]
     },
     "execution_count": 31,
     "metadata": {},
     "output_type": "execute_result"
    }
   ],
   "source": [
    "sub['challenge_energy']"
   ]
  },
  {
   "cell_type": "code",
   "execution_count": null,
   "id": "d20a3b25",
   "metadata": {},
   "outputs": [],
   "source": []
  }
 ],
 "metadata": {
  "kernelspec": {
   "display_name": "ocp_models",
   "language": "python",
   "name": "ocp_models"
  },
  "language_info": {
   "codemirror_mode": {
    "name": "ipython",
    "version": 3
   },
   "file_extension": ".py",
   "mimetype": "text/x-python",
   "name": "python",
   "nbconvert_exporter": "python",
   "pygments_lexer": "ipython3",
   "version": "3.8.12"
  }
 },
 "nbformat": 4,
 "nbformat_minor": 5
}
