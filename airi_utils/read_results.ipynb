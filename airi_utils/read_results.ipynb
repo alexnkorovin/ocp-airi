{
 "cells": [
  {
   "cell_type": "code",
   "execution_count": null,
   "id": "b7392d79-cea9-4abb-b730-6773d86ff982",
   "metadata": {},
   "outputs": [],
   "source": [
    "import numpy as np"
   ]
  },
  {
   "cell_type": "code",
   "execution_count": null,
   "id": "d52d24fe-5dcd-4034-9bc6-3de9cb8832a0",
   "metadata": {},
   "outputs": [],
   "source": [
    "filenames = [r\"/Users/korovin/Documents/GitHub/ocp/results/2021-08-13-17-26-08/is2re_predictions_id.npz\",\n",
    "                r\"/Users/korovin/Documents/GitHub/ocp/results/2021-08-13-17-56-00/is2re_predictions_ood_ads.npz\",\n",
    "            r\"/Users/korovin/Documents/GitHub/ocp/results/is2re_10k_test_evalai_submission.npz\"]"
   ]
  },
  {
   "cell_type": "code",
   "execution_count": null,
   "id": "2e5a98d5-b5e4-4343-8528-87e382c5dce0",
   "metadata": {},
   "outputs": [],
   "source": [
    "for filename in filenames:\n",
    "    result = np.load(filename, allow_pickle=True)\n",
    "    print(f\"file: {filename.split('_')[-1].split('.')[0]}\")\n",
    "    for file in result.files:\n",
    "        print(file)\n",
    "        print(result[file])\n",
    "        print(result[file].shape)"
   ]
  },
  {
   "cell_type": "code",
   "execution_count": null,
   "id": "9eaea7b0-2e44-40cf-a56d-29a80740edbc",
   "metadata": {
    "tags": []
   },
   "outputs": [],
   "source": [
    "result"
   ]
  }
 ],
 "metadata": {
  "kernelspec": {
   "display_name": "Python 3 (ipykernel)",
   "language": "python",
   "name": "python3"
  },
  "language_info": {
   "codemirror_mode": {
    "name": "ipython",
    "version": 3
   },
   "file_extension": ".py",
   "mimetype": "text/x-python",
   "name": "python",
   "nbconvert_exporter": "python",
   "pygments_lexer": "ipython3",
   "version": "3.8.10"
  }
 },
 "nbformat": 4,
 "nbformat_minor": 5
}
