{
 "cells": [
  {
   "cell_type": "code",
   "execution_count": 1,
   "id": "b7392d79-cea9-4abb-b730-6773d86ff982",
   "metadata": {},
   "outputs": [],
   "source": [
    "import numpy as np"
   ]
  },
  {
   "cell_type": "code",
   "execution_count": 29,
   "id": "d52d24fe-5dcd-4034-9bc6-3de9cb8832a0",
   "metadata": {},
   "outputs": [],
   "source": [
    "filenames = [r\"/Users/korovin/Documents/GitHub/ocp/results/2021-08-13-17-26-08/is2re_predictions_id.npz\",\n",
    "                r\"/Users/korovin/Documents/GitHub/ocp/results/2021-08-13-17-56-00/is2re_predictions_ood_ads.npz\",\n",
    "            r\"/Users/korovin/Documents/GitHub/ocp/results/is2re_10k_test_evalai_submission.npz\"]"
   ]
  },
  {
   "cell_type": "code",
   "execution_count": 32,
   "id": "2e5a98d5-b5e4-4343-8528-87e382c5dce0",
   "metadata": {},
   "outputs": [
    {
     "name": "stdout",
     "output_type": "stream",
     "text": [
      "file: id\n",
      "ids\n",
      "['1000076' '1000159' '1000215' ... '999439' '999452' '999463']\n",
      "(24948,)\n",
      "energy\n",
      "[-3.46598387  1.6902585  -0.70973957 ...  1.71099496  2.55326056\n",
      " -2.8093164 ]\n",
      "(24948,)\n",
      "file: ads\n",
      "ids\n",
      "['1000350' '1000415' '1000455' ... '999840' '999865' '999975']\n",
      "(24930,)\n",
      "energy\n",
      "[-2.8592062  -1.5279212  -0.7281118  ... -1.70772767 -0.63690758\n",
      " -2.14076853]\n",
      "(24930,)\n",
      "file: submission\n",
      "id_ids\n",
      "['1000076' '1000159' '1000215' ... '999439' '999452' '999463']\n",
      "(24948,)\n",
      "id_energy\n",
      "[-3.46598387  1.6902585  -0.70973957 ...  1.71099496  2.55326056\n",
      " -2.8093164 ]\n",
      "(24948,)\n",
      "ood_ads_ids\n",
      "['1000350' '1000415' '1000455' ... '999840' '999865' '999975']\n",
      "(24930,)\n",
      "ood_ads_energy\n",
      "[-2.8592062  -1.5279212  -0.7281118  ... -1.70772767 -0.63690758\n",
      " -2.14076853]\n",
      "(24930,)\n",
      "ood_cat_ids\n",
      "['1000034' '1000156' '1000327' ... '999719' '999749' '999933']\n",
      "(24965,)\n",
      "ood_cat_energy\n",
      "[-0.93146676 -1.01761794 -3.05762696 ... -1.81385994 -0.50651419\n",
      " -1.18150961]\n",
      "(24965,)\n",
      "ood_both_ids\n",
      "['1000389' '1001546' '1001825' ... '997367' '997779' '998430']\n",
      "(24985,)\n",
      "ood_both_energy\n",
      "[-2.24828339 -2.72243738 -1.5336293  ... -2.12520003  3.48724389\n",
      " -3.64208341]\n",
      "(24985,)\n"
     ]
    }
   ],
   "source": [
    "for filename in filenames:\n",
    "    result = np.load(filename, allow_pickle=True)\n",
    "    print(f\"file: {filename.split('_')[-1].split('.')[0]}\")\n",
    "    for file in result.files:\n",
    "        print(file)\n",
    "        print(result[file])\n",
    "        print(result[file].shape)"
   ]
  },
  {
   "cell_type": "code",
   "execution_count": 26,
   "id": "9eaea7b0-2e44-40cf-a56d-29a80740edbc",
   "metadata": {},
   "outputs": [
    {
     "data": {
      "text/plain": [
       "<numpy.lib.npyio.NpzFile at 0x7fbb00391790>"
      ]
     },
     "execution_count": 26,
     "metadata": {},
     "output_type": "execute_result"
    }
   ],
   "source": [
    "result"
   ]
  },
  {
   "cell_type": "code",
   "execution_count": 28,
   "id": "a13469ce-bf7b-4e04-8734-8db43322a538",
   "metadata": {},
   "outputs": [
    {
     "ename": "AttributeError",
     "evalue": "'NpzFile' object has no attribute 'to_csv'",
     "output_type": "error",
     "traceback": [
      "\u001b[0;31m---------------------------------------------------------------------------\u001b[0m",
      "\u001b[0;31mAttributeError\u001b[0m                            Traceback (most recent call last)",
      "\u001b[0;32m/var/folders/r0/sh_xx3ms6_j0__w1_7f87p540000gq/T/ipykernel_11529/2934993851.py\u001b[0m in \u001b[0;36m<module>\u001b[0;34m\u001b[0m\n\u001b[0;32m----> 1\u001b[0;31m \u001b[0mresult\u001b[0m\u001b[0;34m.\u001b[0m\u001b[0mto_csv\u001b[0m\u001b[0;34m(\u001b[0m\u001b[0;34m)\u001b[0m\u001b[0;34m\u001b[0m\u001b[0;34m\u001b[0m\u001b[0m\n\u001b[0m",
      "\u001b[0;31mAttributeError\u001b[0m: 'NpzFile' object has no attribute 'to_csv'"
     ]
    }
   ],
   "source": []
  },
  {
   "cell_type": "code",
   "execution_count": null,
   "id": "13145537-22d2-44a3-ac65-3f4260096c3e",
   "metadata": {},
   "outputs": [],
   "source": []
  }
 ],
 "metadata": {
  "kernelspec": {
   "display_name": "Python 3 (ipykernel)",
   "language": "python",
   "name": "python3"
  },
  "language_info": {
   "codemirror_mode": {
    "name": "ipython",
    "version": 3
   },
   "file_extension": ".py",
   "mimetype": "text/x-python",
   "name": "python",
   "nbconvert_exporter": "python",
   "pygments_lexer": "ipython3",
   "version": "3.8.10"
  }
 },
 "nbformat": 4,
 "nbformat_minor": 5
}
