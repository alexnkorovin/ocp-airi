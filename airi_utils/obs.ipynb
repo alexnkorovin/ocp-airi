{
 "cells": [
  {
   "cell_type": "markdown",
   "id": "7d783d2f-1093-4908-9d44-e26822067260",
   "metadata": {
    "tags": []
   },
   "source": [
    "## Transfer files to OBS (Storage) from Server (Jupyter Server)"
   ]
  },
  {
   "cell_type": "markdown",
   "id": "dd694f9e-420c-40a2-9ce8-41a0658a6d10",
   "metadata": {},
   "source": [
    "### install obsutil (run once to configure machine!)"
   ]
  },
  {
   "cell_type": "raw",
   "id": "e07e174d-b2a0-4c23-8454-1d0bf5d154bd",
   "metadata": {},
   "source": [
    "%%bash\n",
    "cd /share\n",
    "wget https://obs-community-intl.obs.ap-southeast-1.myhuaweicloud.com/obsutil/current/obsutil_linux_amd64.tar.gz\n",
    "mkdir obsutil\n",
    "tar -xf obsutil_linux_amd64.tar.gz -C obsutil --strip-components 1\n",
    "# mv obsutil_linux_amd64_5.3.4 obsutil\n",
    "chmod 755 obsutil\n",
    "./obsutil config -i=MC7LTB2GBOAUHPJAE4WW -k=8tGqKPCduUAkFdeHQhltEqGSRlTaQ0dQBS1NKuAc -e=obs.ru-moscow-1.hc.sbercloud.ru\n",
    "\n",
    "if grep -q \"obsutil config\" ~/.bashrc; then\n",
    "    echo -e \"# obsutil config \\nalias obsutil=\\\"/share/obsutil/obsutil\\\"\"\n",
    "fi"
   ]
  },
  {
   "cell_type": "markdown",
   "id": "03c271bb-d5a9-4977-a961-7dee67d83455",
   "metadata": {},
   "source": [
    "### datasets to copy"
   ]
  },
  {
   "cell_type": "code",
   "execution_count": null,
   "id": "0527c460-b4a8-4598-92e2-99c4738ca46e",
   "metadata": {},
   "outputs": [],
   "source": [
    "import subprocess"
   ]
  },
  {
   "cell_type": "code",
   "execution_count": 33,
   "id": "92e5e584-5a21-437a-9225-6e9b0e456c92",
   "metadata": {},
   "outputs": [],
   "source": [
    "home_dir = \"../../ocp_datasets/data/\"\n",
    "obs_dir = \"obs://esg-korovin/ocp_datasets/data/\"\n",
    "task = 'is2re/'\n",
    "\n",
    "file = 'data_mod1.lmdbz'\n",
    "datasets = {\n",
    "    \n",
    "    'train_10k':     '10k/train/',\n",
    "    'train_100k':    '100k/train/',\n",
    "    'train_all':     'all/train/',\n",
    "\n",
    "    'val_id':        'all/val_id/',\n",
    "    'val_ood_ads':   'all/val_ood_ads/',\n",
    "    'val_ood_cat':   'all/val_ood_cat/',\n",
    "    'val_ood_both':  'all/val_ood_both/',\n",
    "\n",
    "    'test_id':       'all/test_id/',\n",
    "    'test_ood_ads':  'all/test_ood_ads/',\n",
    "    'test_ood_cat':  'all/test_ood_cat/',\n",
    "    'test_ood_both': 'all/test_ood_both/'\n",
    "}\n",
    "datasets_home = {k:(home_dir + task + v) for k, v in datasets.items()}\n",
    "datasets_obs = {k:(obs_dir + task + v) for k, v in datasets.items()}"
   ]
  },
  {
   "cell_type": "code",
   "execution_count": 34,
   "id": "156f4440-71b6-4ba9-9170-c60cc60d8987",
   "metadata": {},
   "outputs": [
    {
     "data": {
      "text/plain": [
       "{'train_10k': '../../ocp_datasets/data/is2re/10k/train/',\n",
       " 'train_100k': '../../ocp_datasets/data/is2re/100k/train/',\n",
       " 'train_all': '../../ocp_datasets/data/is2re/all/train/',\n",
       " 'val_id': '../../ocp_datasets/data/is2re/all/val_id/',\n",
       " 'val_ood_ads': '../../ocp_datasets/data/is2re/all/val_ood_ads/',\n",
       " 'val_ood_cat': '../../ocp_datasets/data/is2re/all/val_ood_cat/',\n",
       " 'val_ood_both': '../../ocp_datasets/data/is2re/all/val_ood_both/',\n",
       " 'test_id': '../../ocp_datasets/data/is2re/all/test_id/',\n",
       " 'test_ood_ads': '../../ocp_datasets/data/is2re/all/test_ood_ads/',\n",
       " 'test_ood_cat': '../../ocp_datasets/data/is2re/all/test_ood_cat/',\n",
       " 'test_ood_both': '../../ocp_datasets/data/is2re/all/test_ood_both/'}"
      ]
     },
     "execution_count": 34,
     "metadata": {},
     "output_type": "execute_result"
    }
   ],
   "source": [
    "datasets_home"
   ]
  },
  {
   "cell_type": "code",
   "execution_count": 35,
   "id": "d6808ba6-559e-4dfe-b374-1f0511129cc6",
   "metadata": {},
   "outputs": [],
   "source": [
    "datasets_to_copy = (\n",
    "\n",
    "    'val_id', 'val_ood_ads', 'val_ood_cat', 'val_ood_both',\n",
    "    'test_id', 'test_ood_ads', 'test_ood_cat', 'test_ood_both'\n",
    ")"
   ]
  },
  {
   "cell_type": "code",
   "execution_count": 36,
   "id": "0741ee4c-5f13-4fc1-b4cc-af41131e1104",
   "metadata": {},
   "outputs": [
    {
     "data": {
      "text/plain": [
       "('val_id',\n",
       " 'val_ood_ads',\n",
       " 'val_ood_cat',\n",
       " 'val_ood_both',\n",
       " 'test_id',\n",
       " 'test_ood_ads',\n",
       " 'test_ood_cat',\n",
       " 'test_ood_both')"
      ]
     },
     "execution_count": 36,
     "metadata": {},
     "output_type": "execute_result"
    }
   ],
   "source": [
    "datasets_to_copy"
   ]
  },
  {
   "cell_type": "markdown",
   "id": "f1803559-d72a-4d79-acda-b3315cc113f2",
   "metadata": {},
   "source": [
    "#### copy to obs"
   ]
  },
  {
   "cell_type": "code",
   "execution_count": 39,
   "id": "d52f34ed-a551-4fcd-aae9-5207c6bdd54e",
   "metadata": {},
   "outputs": [
    {
     "name": "stdout",
     "output_type": "stream",
     "text": [
      "Start at 2021-10-07 14:22:57.148480204 +0000 UTC\n",
      "\n",
      "Listing objects .\n",
      "\n",
      "Folder list:\n",
      "obs://esg-korovin/ocp_datasets/data/\n",
      "obs://esg-korovin/ocp_datasets/data/is2re/\n",
      "obs://esg-korovin/ocp_datasets/data/is2re/100k/\n",
      "obs://esg-korovin/ocp_datasets/data/is2re/100k/train/\n",
      "obs://esg-korovin/ocp_datasets/data/is2re/10k/\n",
      "obs://esg-korovin/ocp_datasets/data/is2re/10k/train/\n",
      "obs://esg-korovin/ocp_datasets/data/is2re/all/\n",
      "obs://esg-korovin/ocp_datasets/data/is2re/all/test_id/\n",
      "obs://esg-korovin/ocp_datasets/data/is2re/all/test_ood_ads/\n",
      "obs://esg-korovin/ocp_datasets/data/is2re/all/test_ood_both/\n",
      "obs://esg-korovin/ocp_datasets/data/is2re/all/test_ood_cat/\n",
      "obs://esg-korovin/ocp_datasets/data/is2re/all/train/\n",
      "obs://esg-korovin/ocp_datasets/data/is2re/all/val_id/\n",
      "obs://esg-korovin/ocp_datasets/data/is2re/all/val_ood_ads/\n",
      "obs://esg-korovin/ocp_datasets/data/is2re/all/val_ood_both/\n",
      "obs://esg-korovin/ocp_datasets/data/is2re/all/val_ood_cat/\n",
      "obs://esg-korovin/ocp_datasets/data/is2re_test_challenge_2021/\n",
      "\n",
      "Object list:\n",
      "obs://esg-korovin/ocp_datasets/data/is2re/100k/train/data.lmdb\n",
      "obs://esg-korovin/ocp_datasets/data/is2re/10k/train/data.lmdb\n",
      "obs://esg-korovin/ocp_datasets/data/is2re/10k/train/data_mod.lmdb\n",
      "obs://esg-korovin/ocp_datasets/data/is2re/10k/train/data_mod1.lmdbz\n",
      "obs://esg-korovin/ocp_datasets/data/is2re/10k/train/data_mod2_0.lmdbz\n",
      "obs://esg-korovin/ocp_datasets/data/is2re/all/test_id/data.lmdb\n",
      "obs://esg-korovin/ocp_datasets/data/is2re/all/test_id/data_mod1.lmdbz\n",
      "obs://esg-korovin/ocp_datasets/data/is2re/all/test_ood_ads/data.lmdb\n",
      "obs://esg-korovin/ocp_datasets/data/is2re/all/test_ood_ads/data_mod1.lmdbz\n",
      "obs://esg-korovin/ocp_datasets/data/is2re/all/test_ood_both/data.lmdb\n",
      "obs://esg-korovin/ocp_datasets/data/is2re/all/test_ood_both/data_mod1.lmdbz\n",
      "obs://esg-korovin/ocp_datasets/data/is2re/all/test_ood_cat/data.lmdb\n",
      "obs://esg-korovin/ocp_datasets/data/is2re/all/test_ood_cat/data_mod1.lmdbz\n",
      "obs://esg-korovin/ocp_datasets/data/is2re/all/train/data.lmdb\n",
      "obs://esg-korovin/ocp_datasets/data/is2re/all/train/data_mod1.lmdbz\n",
      "obs://esg-korovin/ocp_datasets/data/is2re/all/val_id/data.lmdb\n",
      "obs://esg-korovin/ocp_datasets/data/is2re/all/val_id/data_mod1.lmdbz\n",
      "obs://esg-korovin/ocp_datasets/data/is2re/all/val_ood_ads/data.lmdb\n",
      "obs://esg-korovin/ocp_datasets/data/is2re/all/val_ood_ads/data_mod1.lmdbz\n",
      "obs://esg-korovin/ocp_datasets/data/is2re/all/val_ood_both/data.lmdb\n",
      "obs://esg-korovin/ocp_datasets/data/is2re/all/val_ood_both/data_mod1.lmdbz\n",
      "obs://esg-korovin/ocp_datasets/data/is2re/all/val_ood_both/data_mod2_0.lmdbz\n",
      "obs://esg-korovin/ocp_datasets/data/is2re/all/val_ood_cat/data.lmdb\n",
      "obs://esg-korovin/ocp_datasets/data/is2re/all/val_ood_cat/data_mod1.lmdbz\n",
      "obs://esg-korovin/ocp_datasets/data/is2re_test_challenge_2021.tar.gz\n",
      "obs://esg-korovin/ocp_datasets/data/is2re_test_challenge_2021/data_mod1.lmdbz\n",
      "\n",
      "Total size of prefix [ocp_datasets/data/] is: 136.89GB\n",
      "Folder number is: 17\n",
      "File number is: 26\n"
     ]
    },
    {
     "data": {
      "text/plain": [
       "CompletedProcess(args=['/share/obsutil/obsutil', 'ls', '-s', 'obs://esg-korovin/ocp_datasets/data/'], returncode=0)"
      ]
     },
     "execution_count": 39,
     "metadata": {},
     "output_type": "execute_result"
    }
   ],
   "source": [
    "subprocess.run(['/share/obsutil/obsutil', 'ls', '-s', obs_dir])"
   ]
  },
  {
   "cell_type": "code",
   "execution_count": null,
   "id": "850441bc-e99c-45ba-b8e0-c54aab1a2c63",
   "metadata": {},
   "outputs": [],
   "source": [
    "for i in datasets_to_copy:\n",
    "    subprocess.run(['/share/obsutil/obsutil', 'cp', datasets_home[i] + file, datasets_obs[i]])"
   ]
  },
  {
   "cell_type": "code",
   "execution_count": null,
   "id": "5cfb8115-9a55-4615-aed9-6fa6af75ec67",
   "metadata": {},
   "outputs": [],
   "source": []
  }
 ],
 "metadata": {
  "kernelspec": {
   "display_name": "Python 3 (ipykernel)",
   "language": "python",
   "name": "python3"
  },
  "language_info": {
   "codemirror_mode": {
    "name": "ipython",
    "version": 3
   },
   "file_extension": ".py",
   "mimetype": "text/x-python",
   "name": "python",
   "nbconvert_exporter": "python",
   "pygments_lexer": "ipython3",
   "version": "3.8.12"
  }
 },
 "nbformat": 4,
 "nbformat_minor": 5
}
