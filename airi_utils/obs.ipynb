{
 "cells": [
  {
   "cell_type": "markdown",
   "id": "7d783d2f-1093-4908-9d44-e26822067260",
   "metadata": {
    "tags": []
   },
   "source": [
    "## Transfer files to OBS (Storage) from Server (Jupyter Server)"
   ]
  },
  {
   "cell_type": "markdown",
   "id": "dd694f9e-420c-40a2-9ce8-41a0658a6d10",
   "metadata": {},
   "source": [
    "### install obsutil (run once to configure machine!)"
   ]
  },
  {
   "cell_type": "markdown",
   "id": "73be1c77-50ee-40e3-8013-0322bc609ea8",
   "metadata": {},
   "source": [
    "Ubuntu"
   ]
  },
  {
   "cell_type": "raw",
   "id": "e07e174d-b2a0-4c23-8454-1d0bf5d154bd",
   "metadata": {},
   "source": [
    "%%bash\n",
    "cd /share\n",
    "wget https://obs-community-intl.obs.ap-southeast-1.myhuaweicloud.com/obsutil/current/obsutil_linux_amd64.tar.gz\n",
    "mkdir obsutil\n",
    "tar -xf obsutil_linux_amd64.tar.gz -C obsutil --strip-components 1\n",
    "# mv obsutil_linux_amd64_5.3.4 obsutil\n",
    "chmod 755 obsutil\n",
    "obsutil/obsutil config -i=MC7LTB2GBOAUHPJAE4WW -k=8tGqKPCduUAkFdeHQhltEqGSRlTaQ0dQBS1NKuAc -e=obs.ru-moscow-1.hc.sbercloud.ru\n",
    "\n",
    "if grep -q \"obsutil config\" ~/.bashrc; then\n",
    "    echo -e \"# obsutil config \\nalias obsutil=\\\"/share/obsutil/obsutil\\\"\"\n",
    "fi"
   ]
  },
  {
   "cell_type": "markdown",
   "id": "9b9f2f8d-b37e-486a-a198-a8502386d755",
   "metadata": {},
   "source": [
    "MacOS"
   ]
  },
  {
   "cell_type": "raw",
   "id": "f5dcccd9-aae3-4026-a1f8-95981a352a21",
   "metadata": {
    "tags": []
   },
   "source": [
    "%%bash\n",
    "cd ~/Documents\n",
    "wget https://obs-community-intl.obs.ap-southeast-1.myhuaweicloud.com/obsutil/current/obsutil_darwin_amd64.tar.gz\n",
    "mkdir obsutil\n",
    "tar -xf obsutil_darwin_amd64.tar.gz -C obsutil --strip-components 1\n",
    "# mv obsutil_darwin_amd64.tar.gz obsutil\n",
    "chmod 755 obsutil\n",
    "obsutil/obsutil config -i=MC7LTB2GBOAUHPJAE4WW -k=8tGqKPCduUAkFdeHQhltEqGSRlTaQ0dQBS1NKuAc -e=obs.ru-moscow-1.hc.sbercloud.ru\n",
    "\n",
    "if grep -q \"obsutil config\" ~/.bashrc; then\n",
    "    echo -e \"# obsutil config \\nalias obsutil=\\\"~/Documents/obsutil/obsutil\\\"\"\n",
    "fi"
   ]
  },
  {
   "cell_type": "markdown",
   "id": "7ff6f874-6327-4ee4-9399-5ed4fcfae26e",
   "metadata": {},
   "source": [
    "Windows"
   ]
  },
  {
   "cell_type": "markdown",
   "id": "03c271bb-d5a9-4977-a961-7dee67d83455",
   "metadata": {
    "jp-MarkdownHeadingCollapsed": true,
    "tags": []
   },
   "source": [
    "### datasets to copy"
   ]
  },
  {
   "cell_type": "code",
   "execution_count": null,
   "id": "0527c460-b4a8-4598-92e2-99c4738ca46e",
   "metadata": {},
   "outputs": [],
   "source": [
    "import subprocess"
   ]
  },
  {
   "cell_type": "code",
   "execution_count": null,
   "id": "92e5e584-5a21-437a-9225-6e9b0e456c92",
   "metadata": {},
   "outputs": [],
   "source": [
    "home_dir = \"../../ocp_datasets/data/\"\n",
    "obs_dir = \"obs://esg-korovin/ocp_datasets/data/\"\n",
    "task = 'is2re/'\n",
    "\n",
    "file = 'data_mod1.lmdbz'\n",
    "datasets = {\n",
    "    \n",
    "    'train_10k':     '10k/train/',\n",
    "    'train_100k':    '100k/train/',\n",
    "    'train_all':     'all/train/',\n",
    "\n",
    "    'val_id':        'all/val_id/',\n",
    "    'val_ood_ads':   'all/val_ood_ads/',\n",
    "    'val_ood_cat':   'all/val_ood_cat/',\n",
    "    'val_ood_both':  'all/val_ood_both/',\n",
    "\n",
    "    'test_id':       'all/test_id/',\n",
    "    'test_ood_ads':  'all/test_ood_ads/',\n",
    "    'test_ood_cat':  'all/test_ood_cat/',\n",
    "    'test_ood_both': 'all/test_ood_both/'\n",
    "}\n",
    "datasets_home = {k:(home_dir + task + v) for k, v in datasets.items()}\n",
    "datasets_obs = {k:(obs_dir + task + v) for k, v in datasets.items()}"
   ]
  },
  {
   "cell_type": "code",
   "execution_count": null,
   "id": "156f4440-71b6-4ba9-9170-c60cc60d8987",
   "metadata": {},
   "outputs": [],
   "source": [
    "datasets_home"
   ]
  },
  {
   "cell_type": "code",
   "execution_count": null,
   "id": "d6808ba6-559e-4dfe-b374-1f0511129cc6",
   "metadata": {},
   "outputs": [],
   "source": [
    "datasets_to_copy = (\n",
    "\n",
    "    'val_id', 'val_ood_ads', 'val_ood_cat', 'val_ood_both',\n",
    "    'test_id', 'test_ood_ads', 'test_ood_cat', 'test_ood_both'\n",
    ")"
   ]
  },
  {
   "cell_type": "code",
   "execution_count": null,
   "id": "0741ee4c-5f13-4fc1-b4cc-af41131e1104",
   "metadata": {},
   "outputs": [],
   "source": [
    "datasets_to_copy"
   ]
  },
  {
   "cell_type": "markdown",
   "id": "f1803559-d72a-4d79-acda-b3315cc113f2",
   "metadata": {},
   "source": [
    "#### copy to obs"
   ]
  },
  {
   "cell_type": "code",
   "execution_count": null,
   "id": "d52f34ed-a551-4fcd-aae9-5207c6bdd54e",
   "metadata": {},
   "outputs": [],
   "source": [
    "subprocess.run(['/share/obsutil/obsutil', 'ls', '-s', obs_dir])"
   ]
  },
  {
   "cell_type": "code",
   "execution_count": null,
   "id": "850441bc-e99c-45ba-b8e0-c54aab1a2c63",
   "metadata": {},
   "outputs": [],
   "source": [
    "for i in datasets_to_copy:\n",
    "    subprocess.run(['/share/obsutil/obsutil', 'cp', datasets_home[i] + file, datasets_obs[i]])"
   ]
  },
  {
   "cell_type": "markdown",
   "id": "88f1ee06-7541-449c-9c46-110f35d8e587",
   "metadata": {
    "tags": []
   },
   "source": [
    "### logs to copy"
   ]
  },
  {
   "cell_type": "code",
   "execution_count": 8,
   "id": "d16608ee-278e-4958-8a52-5992308ea33a",
   "metadata": {},
   "outputs": [],
   "source": [
    "import subprocess\n",
    "import os"
   ]
  },
  {
   "cell_type": "code",
   "execution_count": 9,
   "id": "1d6da808-5e21-48f6-bfd4-786fdf0d024e",
   "metadata": {},
   "outputs": [
    {
     "name": "stdout",
     "output_type": "stream",
     "text": [
      "/share/obsutil/obsutil\n"
     ]
    }
   ],
   "source": [
    "if os.path.isfile(os.path.expanduser('~/Documents/obsutil/obsutil')):\n",
    "    obsutil = os.path.expanduser('~/Documents/obsutil/obsutil')\n",
    "elif os.path.isfile(os.path.expanduser('/Applications/obsutil/obsutil')):\n",
    "    obsutil = os.path.expanduser('/Applications/obsutil/obsutil')\n",
    "else:\n",
    "    obsutil = '/share/obsutil/obsutil'\n",
    "print(obsutil)"
   ]
  },
  {
   "cell_type": "code",
   "execution_count": 11,
   "id": "2ebdc836-7564-4d48-9f75-4ff367bf5924",
   "metadata": {},
   "outputs": [],
   "source": [
    "home_dir = \"../../ocp_logs/\"\n",
    "obs_dir = \"obs://esg-korovin/ocp_logs/\"\n",
    "task = 'is2re/'\n",
    "\n",
    "file = 'logs.tar.gz'\n",
    "\n",
    "logs = ['adv1', 'adv2', 'azure1', 'azure2', 'mlspace']\n",
    "\n",
    "datasets_home = [f'{home_dir}{v}/' for v in logs]\n",
    "datasets_obs = [f'{obs_dir}{v}/' for v in logs]\n",
    "datasets_to_copy = list(zip(datasets_home, datasets_obs))"
   ]
  },
  {
   "cell_type": "code",
   "execution_count": 16,
   "id": "24c622cb-ed52-42da-b420-55a85021cec3",
   "metadata": {},
   "outputs": [
    {
     "data": {
      "text/plain": [
       "[('../../ocp_logs/adv1/', 'obs://esg-korovin/ocp_logs/adv1/'),\n",
       " ('../../ocp_logs/adv2/', 'obs://esg-korovin/ocp_logs/adv2/'),\n",
       " ('../../ocp_logs/azure1/', 'obs://esg-korovin/ocp_logs/azure1/'),\n",
       " ('../../ocp_logs/azure2/', 'obs://esg-korovin/ocp_logs/azure2/'),\n",
       " ('../../ocp_logs/mlspace/', 'obs://esg-korovin/ocp_logs/mlspace/')]"
      ]
     },
     "execution_count": 16,
     "metadata": {},
     "output_type": "execute_result"
    }
   ],
   "source": [
    "datasets_to_copy"
   ]
  },
  {
   "cell_type": "markdown",
   "id": "b3b7419b-77a1-43c4-9a0b-f2303c426bf1",
   "metadata": {},
   "source": [
    "#### copy from obs"
   ]
  },
  {
   "cell_type": "code",
   "execution_count": null,
   "id": "2aa82bc7-5fca-4d03-a7c5-c66be502ff7c",
   "metadata": {},
   "outputs": [],
   "source": [
    "subprocess.run([obsutil, 'ls', '-s', obs_dir])"
   ]
  },
  {
   "cell_type": "code",
   "execution_count": null,
   "id": "66c78620-4cd5-472a-bb75-e6946d534319",
   "metadata": {},
   "outputs": [],
   "source": [
    "for item in datasets_to_copy:\n",
    "    subprocess.run([obsutil, 'cp', item[1] + file, item[0]])"
   ]
  },
  {
   "cell_type": "code",
   "execution_count": null,
   "id": "f097a898-44bf-46ba-bad6-6d8a6e829172",
   "metadata": {},
   "outputs": [],
   "source": [
    "for item in datasets_to_copy:\n",
    "    if item[0].split('/')[-2] == 'mlspace':\n",
    "        subprocess.run([obsutil, 'cp', item[1] + file, item[0]])"
   ]
  },
  {
   "cell_type": "code",
   "execution_count": null,
   "id": "eba98b1a-1664-41e4-8a26-559708911151",
   "metadata": {},
   "outputs": [],
   "source": [
    "for item in datasets_to_copy:\n",
    "    if item[0].split('/')[-2] == 'mlspace':\n",
    "        subprocess.run(['tar', '-xvf', item[0] + file, '-C', '/share/catalyst/ocp_logs/'])"
   ]
  },
  {
   "cell_type": "code",
   "execution_count": null,
   "id": "fced2b80-e7d1-4a81-99ae-3be5b6296a91",
   "metadata": {},
   "outputs": [],
   "source": []
  }
 ],
 "metadata": {
  "kernelspec": {
   "display_name": "Python 3 (ipykernel)",
   "language": "python",
   "name": "python3"
  },
  "language_info": {
   "codemirror_mode": {
    "name": "ipython",
    "version": 3
   },
   "file_extension": ".py",
   "mimetype": "text/x-python",
   "name": "python",
   "nbconvert_exporter": "python",
   "pygments_lexer": "ipython3",
   "version": "3.9.5"
  }
 },
 "nbformat": 4,
 "nbformat_minor": 5
}
