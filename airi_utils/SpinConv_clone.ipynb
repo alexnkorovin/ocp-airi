{
 "cells": [
  {
   "cell_type": "code",
   "execution_count": 1,
   "source": [
    "import os\r\n",
    "\r\n",
    "import numpy as np\r\n",
    "import pandas as pd\r\n",
    "\r\n",
    "import torch\r\n",
    "import torch.nn.functional as F\r\n",
    "import torch.optim as optim\r\n",
    "\r\n",
    "\r\n",
    "from datetime import datetime\r\n",
    "from torch import nn\r\n",
    "from torch_geometric.data import Data, DataLoader\r\n",
    "from torch_geometric.nn import MessagePassing\r\n",
    "from torch_scatter import scatter\r\n",
    "from torch.utils.tensorboard import SummaryWriter\r\n",
    "\r\n",
    "from DataClasses import lmdb_dataset, Dataset\r\n",
    "from ModelFunctions import train, evaluate, inference"
   ],
   "outputs": [],
   "metadata": {
    "tags": []
   }
  },
  {
   "cell_type": "code",
   "execution_count": 2,
   "source": [
    "#вызывается каждый раз, когда датасет отдаёт элемент (систему)\r\n",
    "#делаем из данных матрицу векторов-атомов, список рёбер (edge_index) и матрицу векторов-рёбер; надо писать свою функцию для каждой сети\r\n",
    "def preprocessing(system):\r\n",
    "    \r\n",
    "    atom_embeds = torch.cat(atom_features, 1)\r\n",
    "    \r\n",
    "    edge_index = system['edge_index_new'].long()\r\n",
    "\r\n",
    "    edges_embeds = torch.cat(edge_features, 1)\r\n",
    "    \r\n",
    "    return Data(x=atom_embeds.to(device), edge_index=edge_index.to(device), edge_attr=edges_embeds.to(device))"
   ],
   "outputs": [],
   "metadata": {}
  },
  {
   "cell_type": "markdown",
   "source": [
    "$$\r\n",
    "\\mathbf{x}_i^{(k)} = \\gamma^{(k)} \\left( \\mathbf{x}_i^{(k-1)}, \\square_{j \\in \\mathcal{N}(i)} \\, \\phi^{(k)}\\left(\\mathbf{x}_i^{(k-1)}, \\mathbf{x}_j^{(k-1)},\\mathbf{e}_{j,i}\\right) \\right)\r\n",
    "$$\r\n",
    "\r\n",
    "Гамма лежит в апдейт, квадратик в aggr, а фи в месседж; в этом примере квадратик -- суммирование"
   ],
   "metadata": {}
  },
  {
   "cell_type": "code",
   "execution_count": null,
   "source": [
    "class EmbeddingBlock(torch.nn.Module):\r\n",
    "    def __init__(self, embedding_dim, embedded_hidden, element_number, fc1_input,  fc1_to_fc2_hidden, fc2_embedded_hidden, fc3_out, activation):\r\n",
    "        super().__init__()\r\n",
    "        self.max_number_of_elements = element_number\r\n",
    "        \r\n",
    "        self.embeding = nn.Embedding(num_embeddings=self.max_number_of_elements, embedding_dim=embedding_dim)\r\n",
    "\r\n",
    "        nn.init.uniform_(self.source_embed.weight.data, -0.0001, 0.0001)\r\n",
    "        nn.init.uniform_(self.target_embed.weight.data, -0.0001, 0.0001)\r\n",
    "\r\n",
    "        self.embedding_dim = embedding_dim\r\n",
    "        self.fc_embedding = nn.Linear(2 * self.embedding_dim, embedded_hidden)\r\n",
    "        \r\n",
    "        self.fc1 = nn.Linear(fc1_input, fc1_to_fc2_hidden)\r\n",
    "        self.fc2 = nn.Linear(fc1_to_fc2_hidden, fc2_embedded_hidden*self.embedding_dim)\r\n",
    "\r\n",
    "        self.fc3 = nn.Linear(fc2_embedded_hidden, fc3_out)\r\n",
    "\r\n",
    "        self.softmax = nn.Softmax(dim=1)\r\n",
    "\r\n",
    "        self.activation = activation\r\n",
    "\r\n",
    "    # def buildEmbed(x, connectivity):\r\n",
    "    #     for i in \r\n",
    "\r\n",
    "    def forward(self, batch):\r\n",
    "        \r\n",
    "        x = torch.tensor(batch['x'], dtype=torch.long)\r\n",
    "        edge_index = torch.tensor(batch['edge_index'], dtype=torch.long)\r\n",
    "        edge_attr = torch.tensor(batch['edge_attr'], dtype=torch.long)\r\n",
    "\r\n",
    "        source_embedding = self.embeding(x[edge_index[0]])\r\n",
    "        target_embedding = self.embeding(x[edge_index[1]])\r\n",
    "\r\n",
    "        x = self.fc1(x)\r\n",
    "        x = self.activation(x)\r\n",
    "        x = self.fc2(x)\r\n",
    "        x = self.activation(x)\r\n",
    "        x = (x.view(-1, self.num_embedding_basis, self.mid_hidden_channels)\r\n",
    "        ) * (embedding.view(-1, self.num_embedding_basis, 1))\r\n",
    "        x = torch.sum(x, dim=1)\r\n",
    "        x = self.fc3(x)"
   ],
   "outputs": [],
   "metadata": {}
  },
  {
   "cell_type": "code",
   "execution_count": null,
   "source": [
    "\r\n",
    "#model\r\n",
    "model = ConvNN(dim_atom=training_set[0][0]['x'].shape[1], dim_edge=training_set[0][0]['edge_attr'].shape[1])\r\n",
    "\r\n",
    "#optimizer and loss\r\n",
    "optimizer = optim.AdamW(model.parameters(), lr=lr)\r\n",
    "criterion = nn.L1Loss()\r\n",
    "\r\n",
    "#переносим на куду если она есть\r\n",
    "model = model.to('cpu')\r\n",
    "criterion = criterion.to('cpu')\r\n",
    "\r\n",
    "logfile_str = {\r\n",
    "    \"lr\": \"0.001\",\r\n",
    "    \"smearing\" : \"smearing\"\r\n",
    "}\r\n",
    "\r\n",
    "#граф модели\r\n",
    "trace_system = dict(list(next(iter(training_generator))[0]))\r\n",
    "writer.add_graph(model, trace_system)\r\n",
    "writer.add_text(timestamp, str(logfile_str))"
   ],
   "outputs": [],
   "metadata": {}
  },
  {
   "cell_type": "code",
   "execution_count": 3,
   "source": [
    "class GConv(MessagePassing):\r\n",
    "    def __init__(self):\r\n",
    "        super(GConv, self).__init__(aggr='add')  # \"Add\" aggregation\r\n",
    "\r\n",
    "    def forward(self, batch):\r\n",
    "        x = batch['x']\r\n",
    "        edge_index = batch['edge_index']\r\n",
    "        edge_attr = batch['edge_attr']\r\n",
    "        \r\n",
    "        # x has shape [N -- количество атомов в системе(батче), in_channels -- размерность вектора-атома]\r\n",
    "        # edge_index has shape [2, E] -- каждое ребро задаётся парой вершин\r\n",
    "\r\n",
    "        # Start propagating messages. \r\n",
    "    \r\n",
    "        return self.propagate(edge_index, x=x, edge_attr=edge_attr, size=None)\r\n",
    "\r\n",
    "    def message(self, x, x_i, x_j, edge_attr):\r\n",
    "        # your function\r\n",
    "        pass\r\n",
    "        \r\n",
    "    def update(self, aggr_out, x, edge_attr, edge_index):        \r\n",
    "        #your function\r\n",
    "        pass"
   ],
   "outputs": [],
   "metadata": {
    "tags": []
   }
  },
  {
   "cell_type": "code",
   "execution_count": 4,
   "source": [
    "class ConvNN(nn.Module):\r\n",
    "    \r\n",
    "    def __init__(self):\r\n",
    "        \r\n",
    "        super().__init__()          \r\n",
    "        self.conv = GConv()\r\n",
    "        \r\n",
    "    def forward(self, batch):\r\n",
    "        #your function\r\n",
    "        pass"
   ],
   "outputs": [],
   "metadata": {
    "tags": []
   }
  },
  {
   "cell_type": "code",
   "execution_count": 5,
   "source": [
    "#config\r\n",
    "batch_size = 50\r\n",
    "num_workers = 0\r\n",
    "\r\n",
    "features_cols = ['atomic_numbers', 'edge_index_new', 'distances_new', \r\n",
    "                 'contact_solid_angles', 'tags', 'voronoi_volumes', 'spherical_domain_radii']\r\n",
    "\r\n",
    "target_col = 'y_relaxed'\r\n",
    "lr = 0.001\r\n",
    "epochs = 20"
   ],
   "outputs": [],
   "metadata": {}
  },
  {
   "cell_type": "code",
   "execution_count": 6,
   "source": [
    "#чтобы тензор по умолчанию заводился на куде\r\n",
    "if torch.cuda.is_available():\r\n",
    "    torch.set_default_tensor_type('torch.cuda.FloatTensor')\r\n",
    "    print('cuda')"
   ],
   "outputs": [],
   "metadata": {}
  },
  {
   "cell_type": "code",
   "execution_count": 7,
   "source": [
    "#set device\r\n",
    "device = torch.device('cuda' if torch.cuda.is_available() else 'cpu')  \r\n",
    "print(device)"
   ],
   "outputs": [
    {
     "output_type": "stream",
     "name": "stdout",
     "text": [
      "cpu\n"
     ]
    }
   ],
   "metadata": {}
  },
  {
   "cell_type": "code",
   "execution_count": 8,
   "source": [
    "#инициализируем тренировочный датасети и тренировочный итератор\r\n",
    "train_dataset_file_path= os.path.expanduser(\"../../ocp_datasets/data/is2re/10k/train/data_mod2.lmdb\")\r\n",
    "\r\n",
    "training_set = Dataset(train_dataset_file_path, features_cols, target_col, preprocessing=preprocessing)\r\n",
    "training_generator = DataLoader(training_set, batch_size=batch_size, num_workers=num_workers)"
   ],
   "outputs": [],
   "metadata": {}
  },
  {
   "cell_type": "code",
   "execution_count": 9,
   "source": [
    "#инициализируем валидационный датасет и валидационный итератор\r\n",
    "val_dataset_file_path = os.path.expanduser(\"../../ocp_datasets/data/is2re/all/val_ood_both/data_mod2.lmdb\")\r\n",
    "\r\n",
    "valid_set = Dataset(val_dataset_file_path, features_cols, target_col, preprocessing=preprocessing)\r\n",
    "valid_generator = DataLoader(valid_set, batch_size=batch_size, num_workers=num_workers)"
   ],
   "outputs": [],
   "metadata": {}
  },
  {
   "cell_type": "code",
   "execution_count": 10,
   "source": [
    "try:\r\n",
    "    lmdb_dataset(train_dataset_file_path).describe()\r\n",
    "except:\r\n",
    "    pass"
   ],
   "outputs": [
    {
     "output_type": "stream",
     "name": "stdout",
     "text": [
      "item: 0\n",
      "edge_index:............... [2, 2964]\n",
      "pos:......................   [86, 3]\n",
      "cell:..................... [1, 3, 3]\n",
      "atomic_numbers:...........      [86]\n",
      "natoms:...................        86\n",
      "cell_offsets:............. [2964, 3]\n",
      "force:....................   [86, 3]\n",
      "distances:................    [2964]\n",
      "fixed:....................      [86]\n",
      "sid:......................   2472718\n",
      "tags:.....................      [86]\n",
      "y_init:...................    6.2825\n",
      "y_relaxed:................   -0.0256\n",
      "pos_relaxed:..............   [86, 3]\n",
      "voronoi_volumes:..........      [86]\n",
      "voronoi_surface_areas:....      [86]\n",
      "spherical_domain_radii:...      [86]\n",
      "cell_offsets_new:......... [1214, 3]\n",
      "distances_new:............    [1214]\n",
      "contact_solid_angles:.....    [1214]\n",
      "direct_neighbor:..........    [1214]\n",
      "edge_index_new:........... [2, 1214]\n"
     ]
    }
   ],
   "metadata": {}
  },
  {
   "cell_type": "code",
   "execution_count": 12,
   "source": [
    "#model\r\n",
    "model = ConvNN(dim_atom=training_set[0][0]['x'].shape[1], dim_edge=training_set[0][0]['edge_attr'].shape[1])\r\n",
    "\r\n",
    "#optimizer and loss\r\n",
    "optimizer = optim.AdamW(model.parameters(), lr=lr)\r\n",
    "criterion = nn.L1Loss()\r\n",
    "\r\n",
    "#переносим на куду если она есть\r\n",
    "model = model.to(device)\r\n",
    "criterion = criterion.to(device)"
   ],
   "outputs": [
    {
     "output_type": "error",
     "ename": "ValueError",
     "evalue": "optimizer got an empty parameter list",
     "traceback": [
      "\u001b[0;31m---------------------------------------------------------------------------\u001b[0m",
      "\u001b[0;31mValueError\u001b[0m                                Traceback (most recent call last)",
      "\u001b[0;32m<ipython-input-12-7229c63c6e1d>\u001b[0m in \u001b[0;36m<module>\u001b[0;34m\u001b[0m\n\u001b[1;32m      3\u001b[0m \u001b[0;34m\u001b[0m\u001b[0m\n\u001b[1;32m      4\u001b[0m \u001b[0;31m#optimizer and loss\u001b[0m\u001b[0;34m\u001b[0m\u001b[0;34m\u001b[0m\u001b[0;34m\u001b[0m\u001b[0m\n\u001b[0;32m----> 5\u001b[0;31m \u001b[0moptimizer\u001b[0m \u001b[0;34m=\u001b[0m \u001b[0moptim\u001b[0m\u001b[0;34m.\u001b[0m\u001b[0mAdamW\u001b[0m\u001b[0;34m(\u001b[0m\u001b[0mmodel\u001b[0m\u001b[0;34m.\u001b[0m\u001b[0mparameters\u001b[0m\u001b[0;34m(\u001b[0m\u001b[0;34m)\u001b[0m\u001b[0;34m,\u001b[0m \u001b[0mlr\u001b[0m\u001b[0;34m=\u001b[0m\u001b[0mlr\u001b[0m\u001b[0;34m)\u001b[0m\u001b[0;34m\u001b[0m\u001b[0;34m\u001b[0m\u001b[0m\n\u001b[0m\u001b[1;32m      6\u001b[0m \u001b[0mcriterion\u001b[0m \u001b[0;34m=\u001b[0m \u001b[0mnn\u001b[0m\u001b[0;34m.\u001b[0m\u001b[0mL1Loss\u001b[0m\u001b[0;34m(\u001b[0m\u001b[0;34m)\u001b[0m\u001b[0;34m\u001b[0m\u001b[0;34m\u001b[0m\u001b[0m\n\u001b[1;32m      7\u001b[0m \u001b[0;34m\u001b[0m\u001b[0m\n",
      "\u001b[0;32m~/opt/anaconda3/envs/ocp-models/lib/python3.8/site-packages/torch/optim/adamw.py\u001b[0m in \u001b[0;36m__init__\u001b[0;34m(self, params, lr, betas, eps, weight_decay, amsgrad)\u001b[0m\n\u001b[1;32m     45\u001b[0m         defaults = dict(lr=lr, betas=betas, eps=eps,\n\u001b[1;32m     46\u001b[0m                         weight_decay=weight_decay, amsgrad=amsgrad)\n\u001b[0;32m---> 47\u001b[0;31m         \u001b[0msuper\u001b[0m\u001b[0;34m(\u001b[0m\u001b[0mAdamW\u001b[0m\u001b[0;34m,\u001b[0m \u001b[0mself\u001b[0m\u001b[0;34m)\u001b[0m\u001b[0;34m.\u001b[0m\u001b[0m__init__\u001b[0m\u001b[0;34m(\u001b[0m\u001b[0mparams\u001b[0m\u001b[0;34m,\u001b[0m \u001b[0mdefaults\u001b[0m\u001b[0;34m)\u001b[0m\u001b[0;34m\u001b[0m\u001b[0;34m\u001b[0m\u001b[0m\n\u001b[0m\u001b[1;32m     48\u001b[0m \u001b[0;34m\u001b[0m\u001b[0m\n\u001b[1;32m     49\u001b[0m     \u001b[0;32mdef\u001b[0m \u001b[0m__setstate__\u001b[0m\u001b[0;34m(\u001b[0m\u001b[0mself\u001b[0m\u001b[0;34m,\u001b[0m \u001b[0mstate\u001b[0m\u001b[0;34m)\u001b[0m\u001b[0;34m:\u001b[0m\u001b[0;34m\u001b[0m\u001b[0;34m\u001b[0m\u001b[0m\n",
      "\u001b[0;32m~/opt/anaconda3/envs/ocp-models/lib/python3.8/site-packages/torch/optim/optimizer.py\u001b[0m in \u001b[0;36m__init__\u001b[0;34m(self, params, defaults)\u001b[0m\n\u001b[1;32m     48\u001b[0m         \u001b[0mparam_groups\u001b[0m \u001b[0;34m=\u001b[0m \u001b[0mlist\u001b[0m\u001b[0;34m(\u001b[0m\u001b[0mparams\u001b[0m\u001b[0;34m)\u001b[0m\u001b[0;34m\u001b[0m\u001b[0;34m\u001b[0m\u001b[0m\n\u001b[1;32m     49\u001b[0m         \u001b[0;32mif\u001b[0m \u001b[0mlen\u001b[0m\u001b[0;34m(\u001b[0m\u001b[0mparam_groups\u001b[0m\u001b[0;34m)\u001b[0m \u001b[0;34m==\u001b[0m \u001b[0;36m0\u001b[0m\u001b[0;34m:\u001b[0m\u001b[0;34m\u001b[0m\u001b[0;34m\u001b[0m\u001b[0m\n\u001b[0;32m---> 50\u001b[0;31m             \u001b[0;32mraise\u001b[0m \u001b[0mValueError\u001b[0m\u001b[0;34m(\u001b[0m\u001b[0;34m\"optimizer got an empty parameter list\"\u001b[0m\u001b[0;34m)\u001b[0m\u001b[0;34m\u001b[0m\u001b[0;34m\u001b[0m\u001b[0m\n\u001b[0m\u001b[1;32m     51\u001b[0m         \u001b[0;32mif\u001b[0m \u001b[0;32mnot\u001b[0m \u001b[0misinstance\u001b[0m\u001b[0;34m(\u001b[0m\u001b[0mparam_groups\u001b[0m\u001b[0;34m[\u001b[0m\u001b[0;36m0\u001b[0m\u001b[0;34m]\u001b[0m\u001b[0;34m,\u001b[0m \u001b[0mdict\u001b[0m\u001b[0;34m)\u001b[0m\u001b[0;34m:\u001b[0m\u001b[0;34m\u001b[0m\u001b[0;34m\u001b[0m\u001b[0m\n\u001b[1;32m     52\u001b[0m             \u001b[0mparam_groups\u001b[0m \u001b[0;34m=\u001b[0m \u001b[0;34m[\u001b[0m\u001b[0;34m{\u001b[0m\u001b[0;34m'params'\u001b[0m\u001b[0;34m:\u001b[0m \u001b[0mparam_groups\u001b[0m\u001b[0;34m}\u001b[0m\u001b[0;34m]\u001b[0m\u001b[0;34m\u001b[0m\u001b[0;34m\u001b[0m\u001b[0m\n",
      "\u001b[0;31mValueError\u001b[0m: optimizer got an empty parameter list"
     ]
    }
   ],
   "metadata": {}
  },
  {
   "cell_type": "code",
   "execution_count": 13,
   "source": [
    "timestamp = str(datetime.now().strftime(\"%Y-%m-%d-%H-%M-%S\"))\r\n",
    "\r\n",
    "print(timestamp)"
   ],
   "outputs": [
    {
     "output_type": "stream",
     "name": "stdout",
     "text": [
      "2021-09-14-12-17-59\n"
     ]
    }
   ],
   "metadata": {}
  },
  {
   "cell_type": "code",
   "execution_count": null,
   "source": [
    "#tensorboard writer, при первом запуске надо руками сделать папку для логов\r\n",
    "\r\n",
    "# server\r\n",
    "#log_folder_path = \"../../ocp_results/logs/tensorboard/out_base_model\"\r\n",
    "\r\n",
    "# colab\r\n",
    "# log_folder_path = \"/content/drive/MyDrive/ocp_results/logs/tensorboard/out_base_model\"\r\n",
    "\r\n",
    "# user_specific \r\n",
    "log_file_path = \"../logs/tensorboard_airi\"\r\n",
    "\r\n",
    "writer = SummaryWriter(log_file_path + '/' + timestamp)"
   ],
   "outputs": [],
   "metadata": {}
  },
  {
   "cell_type": "code",
   "execution_count": null,
   "source": [
    "%%time\r\n",
    "logfile_str = {\r\n",
    "    \"train_dataset_file_path\": train_dataset_file_path,\r\n",
    "    \"val_dataset_file_path\": val_dataset_file_path,\r\n",
    "    \"features_cols\": features_cols,\r\n",
    "    \"target_col\": target_col,\r\n",
    "    \"batch_size\": batch_size,\r\n",
    "    \"num_workers\": num_workers,\r\n",
    "    \"epochs\": epochs,\r\n",
    "    \"lr\": lr\r\n",
    "}\r\n",
    "\r\n",
    "#граф модели\r\n",
    "trace_system = dict(list(next(iter(training_generator))[0]))\r\n",
    "writer.add_graph(model, trace_system)\r\n",
    "writer.add_text(timestamp, str(logfile_str))"
   ],
   "outputs": [],
   "metadata": {}
  },
  {
   "cell_type": "markdown",
   "source": [
    "## Training"
   ],
   "metadata": {}
  },
  {
   "cell_type": "code",
   "execution_count": null,
   "source": [
    "%%time\r\n",
    "loss = []\r\n",
    "loss_eval = []\r\n",
    "\r\n",
    "print(timestamp)\r\n",
    "print(f'Start training model {str(model)}')\r\n",
    "for i in range(epochs):\r\n",
    "    loss.append(train(model, training_generator, optimizer, criterion, epoch=i, writer=writer, device=device))\r\n",
    "    loss_eval.append(evaluate(model, valid_generator, criterion, epoch=i, writer=writer, device=device))"
   ],
   "outputs": [],
   "metadata": {}
  },
  {
   "cell_type": "code",
   "execution_count": null,
   "source": [],
   "outputs": [],
   "metadata": {}
  }
 ],
 "metadata": {
  "kernelspec": {
   "display_name": "ocp-models-env",
   "language": "python",
   "name": "ocp-models"
  },
  "language_info": {
   "codemirror_mode": {
    "name": "ipython",
    "version": 3
   },
   "file_extension": ".py",
   "mimetype": "text/x-python",
   "name": "python",
   "nbconvert_exporter": "python",
   "pygments_lexer": "ipython3",
   "version": "3.8.10"
  }
 },
 "nbformat": 4,
 "nbformat_minor": 5
}